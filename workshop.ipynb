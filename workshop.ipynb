{
 "cells": [
  {
   "cell_type": "markdown",
   "metadata": {},
   "source": [
    "# Notes:\n",
    "\n",
    "You are banned from using loops (`for` or `while` or any other) for this entire workshop!\n",
    "\n",
    "You shouldn't be using loops almost ever with pandas in any case, so break out of the habit now.\n",
    "\n",
    "## 1. DataFrame basics\n",
    "\n",
    "\n",
    "Consider the following Python dictionary `data` and Python list `labels`:\n",
    "\n",
    "``` python\n",
    "data = {'animal': ['cat', 'cat', 'snake', 'dog', 'dog', 'cat', 'snake', 'cat', 'dog', 'dog'],\n",
    "        'age': [2.5, 3, 0.5, np.nan, 5, 2, 4.5, np.nan, 7, 3],\n",
    "        'visits': [1, 3, 2, 3, 2, 3, 1, 1, 2, 1],\n",
    "        'priority': ['yes', 'yes', 'no', 'yes', 'no', 'no', 'no', 'yes', 'no', 'no']}\n",
    "\n",
    "labels = ['a', 'b', 'c', 'd', 'e', 'f', 'g', 'h', 'i', 'j']\n",
    "```\n",
    "(This is just some meaningless data I made up with the theme of animals and trips to a vet.)\n",
    "\n",
    "**1.** Create a DataFrame `df` from this dictionary `data` which has the index `labels`.\n",
    "\n",
    "**2.** Select only the rows where visits are 3 or more. Which types of animals are these?\n",
    "\n",
    "**3.** Select the rows where visists are 3 and the animal is a cat\n",
    "\n",
    "**4.** Calculate the sum of all visits in `df` (i.e. the total number of visits).\n",
    "\n",
    "**5.** Calculate the mean age for each different animal in `df`.\n",
    "\n",
    "**6.** Append a new row 'k' to `df` with your choice of values for each column. Then delete that row to return the original DataFrame.\n",
    "\n"
   ]
  },
  {
   "cell_type": "code",
   "execution_count": 37,
   "metadata": {},
   "outputs": [
    {
     "output_type": "stream",
     "name": "stdout",
     "text": [
      "  animal  age  visits priority\na    cat  2.5       1      yes\nb    cat  3.0       3      yes\nc  snake  0.5       2       no\nd    dog  NaN       3      yes\ne    dog  5.0       2       no\nf    cat  2.0       3       no\ng  snake  4.5       1       no\nh    cat  NaN       1      yes\ni    dog  7.0       2       no\nj    dog  3.0       1       no\n#2 animals that visited the vet 3\n   animal  age  visits priority\nb    cat  3.0       3      yes\nd    dog  NaN       3      yes\nf    cat  2.0       3       no\n#3 cats that visited the vet 3\n   animal  age  visits priority\nb    cat  3.0       3      yes\nf    cat  2.0       3       no\n#4 sum of all visits\n 19\n#5 mean of age of animals animal\ncat      2.5\ndog      5.0\nsnake    2.5\nName: age, dtype: float64\n"
     ]
    }
   ],
   "source": [
    "import pandas as pd \n",
    "import numpy as np \n",
    "\n",
    "data = {'animal': ['cat', 'cat', 'snake', 'dog', 'dog', 'cat', 'snake', 'cat', 'dog', 'dog'],\n",
    "        'age': [2.5, 3, 0.5, np.nan, 5, 2, 4.5, np.nan, 7, 3],\n",
    "        'visits': [1, 3, 2, 3, 2, 3, 1, 1, 2, 1],\n",
    "        'priority': ['yes', 'yes', 'no', 'yes', 'no', 'no', 'no', 'yes', 'no', 'no']}\n",
    "\n",
    "\n",
    "labels = ['a', 'b', 'c', 'd', 'e', 'f', 'g', 'h', 'i', 'j']\n",
    "\n",
    "# 1\n",
    "df = pd.DataFrame(data, index=labels)\n",
    "print(df)\n",
    "# 2\n",
    "print('#2 animals that visited the vet 3\\n', df.loc[df['visits'] >= 3]) \n",
    "\n",
    "# 3\n",
    "print('#3 cats that visited the vet 3\\n', df.loc[ (df['animal'] == 'cat') & (df['visits'] >= 3) ]) \n",
    "\n",
    "# 4\n",
    "print('#4 sum of all visits\\n', df['visits'].sum())\n",
    "\n",
    "# 5\n",
    "print('#5 mean of age of animals', (df.groupby(['animal', 'age'], as_index=False).mean().groupby('animal')['age'].mean()))\n",
    "\n",
    "# 6\n",
    "df['k'] = df['animal'] + df['priority']\n",
    "df = df.drop(columns=['k'])"
   ]
  },
  {
   "cell_type": "markdown",
   "metadata": {},
   "source": [
    "# 2.1 Shifty problem\n",
    "\n",
    "You have a DataFrame `df` with a column 'A' of integers. For example:\n",
    "```python\n",
    "df = pd.DataFrame({'A': [1, 2, 2, 3, 4, 5, 5, 5, 6, 7, 7]})\n",
    "```\n",
    "\n",
    "How do you filter out rows which contain the same integer as the row immediately above?\n",
    "\n",
    "You should be left with a column containing the following values:\n",
    "\n",
    "```python\n",
    "1, 2, 3, 4, 5, 6, 7\n",
    "```\n",
    "\n",
    "### Hint: use the `shift()` method"
   ]
  },
  {
   "cell_type": "code",
   "execution_count": 44,
   "metadata": {},
   "outputs": [
    {
     "output_type": "execute_result",
     "data": {
      "text/plain": [
       "   A\n",
       "0  1\n",
       "1  2\n",
       "3  3\n",
       "4  4\n",
       "5  5\n",
       "8  6\n",
       "9  7"
      ],
      "text/html": "<div>\n<style scoped>\n    .dataframe tbody tr th:only-of-type {\n        vertical-align: middle;\n    }\n\n    .dataframe tbody tr th {\n        vertical-align: top;\n    }\n\n    .dataframe thead th {\n        text-align: right;\n    }\n</style>\n<table border=\"1\" class=\"dataframe\">\n  <thead>\n    <tr style=\"text-align: right;\">\n      <th></th>\n      <th>A</th>\n    </tr>\n  </thead>\n  <tbody>\n    <tr>\n      <th>0</th>\n      <td>1</td>\n    </tr>\n    <tr>\n      <th>1</th>\n      <td>2</td>\n    </tr>\n    <tr>\n      <th>3</th>\n      <td>3</td>\n    </tr>\n    <tr>\n      <th>4</th>\n      <td>4</td>\n    </tr>\n    <tr>\n      <th>5</th>\n      <td>5</td>\n    </tr>\n    <tr>\n      <th>8</th>\n      <td>6</td>\n    </tr>\n    <tr>\n      <th>9</th>\n      <td>7</td>\n    </tr>\n  </tbody>\n</table>\n</div>"
     },
     "metadata": {},
     "execution_count": 44
    }
   ],
   "source": [
    "df = pd.DataFrame({'A': [1, 2, 2, 3, 4, 5, 5, 5, 6, 7, 7]})\n",
    "\n",
    "df.loc[df['A'].shift() != df['A']]"
   ]
  },
  {
   "source": [
    "\n",
    "2.2 columns sum min\n",
    "\n",
    "Suppose you have DataFrame with 10 columns of real numbers, for example:\n",
    "\n",
    "df = pd.DataFrame(np.random.random(size=(5, 10)), columns=list('abcdefghij'))\n",
    "\n",
    "Which column of numbers has the smallest sum? Return that column's label.\n"
   ],
   "cell_type": "markdown",
   "metadata": {}
  },
  {
   "cell_type": "code",
   "execution_count": 52,
   "metadata": {},
   "outputs": [
    {
     "output_type": "execute_result",
     "data": {
      "text/plain": [
       "1.8611435691479783"
      ]
     },
     "metadata": {},
     "execution_count": 52
    }
   ],
   "source": [
    "pd.DataFrame(np.random.random(size=(5, 10)), columns=list('abcdefghij')).sum(axis=0).min()"
   ]
  },
  {
   "cell_type": "markdown",
   "metadata": {},
   "source": [
    "# 2.3 Duplicates\n",
    "\n",
    "How do you count how many unique rows a DataFrame has (i.e. ignore all rows that are duplicates)?\n",
    "\n",
    "**hint:** There's a method for to find duplicate rows for you"
   ]
  },
  {
   "cell_type": "code",
   "execution_count": 56,
   "metadata": {},
   "outputs": [
    {
     "output_type": "execute_result",
     "data": {
      "text/plain": [
       "7"
      ]
     },
     "metadata": {},
     "execution_count": 56
    }
   ],
   "source": [
    "len(pd.DataFrame({'A': [1, 2, 2, 3, 4, 5, 5, 5, 6, 7, 7]}).drop_duplicates())"
   ]
  },
  {
   "cell_type": "markdown",
   "metadata": {},
   "source": [
    "# 2.4 Group Values\n",
    "\n",
    "A DataFrame has a column of groups 'grps' and and column of integer values 'vals': \n",
    "\n",
    "```python\n",
    "df = pd.DataFrame({'grps': list('aaabbcaabcccbbc'), \n",
    "                   'vals': [12,345,3,1,45,14,4,52,54,23,235,21,57,3,87]})\n",
    "```\n",
    "For each *group*, find the sum of the three greatest values.  You should end up with the answer as follows:\n",
    "```\n",
    "grps\n",
    "a    409\n",
    "b    156\n",
    "c    345\n",
    "```"
   ]
  },
  {
   "cell_type": "code",
   "execution_count": 69,
   "metadata": {},
   "outputs": [
    {
     "output_type": "execute_result",
     "data": {
      "text/plain": [
       "      vals\n",
       "grps      \n",
       "a      416\n",
       "b      160\n",
       "c      380"
      ],
      "text/html": "<div>\n<style scoped>\n    .dataframe tbody tr th:only-of-type {\n        vertical-align: middle;\n    }\n\n    .dataframe tbody tr th {\n        vertical-align: top;\n    }\n\n    .dataframe thead th {\n        text-align: right;\n    }\n</style>\n<table border=\"1\" class=\"dataframe\">\n  <thead>\n    <tr style=\"text-align: right;\">\n      <th></th>\n      <th>vals</th>\n    </tr>\n    <tr>\n      <th>grps</th>\n      <th></th>\n    </tr>\n  </thead>\n  <tbody>\n    <tr>\n      <th>a</th>\n      <td>416</td>\n    </tr>\n    <tr>\n      <th>b</th>\n      <td>160</td>\n    </tr>\n    <tr>\n      <th>c</th>\n      <td>380</td>\n    </tr>\n  </tbody>\n</table>\n</div>"
     },
     "metadata": {},
     "execution_count": 69
    }
   ],
   "source": [
    "df = pd.DataFrame({'grps': list('aaabbcaabcccbbc'), \n",
    "                   'vals': [12,345,3,1,45,14,4,52,54,23,235,21,57,3,87]})\n",
    "df.groupby(['grps']).sum().sort_values(by='grps')"
   ]
  },
  {
   "cell_type": "markdown",
   "metadata": {},
   "source": [
    "# 3. Cleaning Data\n",
    "\n",
    "### Making a DataFrame easier to work with\n",
    "\n",
    "It happens all the time: someone gives you data containing malformed strings, Python, lists and missing data. How do you tidy it up so you can get on with the analysis?\n",
    "\n",
    "Take this monstrosity as the DataFrame to use in the following puzzles:\n",
    "\n",
    "```python\n",
    "df = pd.DataFrame({'From_To': ['LoNDon_paris', 'MAdrid_miLAN', 'londON_StockhOlm', \n",
    "                               'Budapest_PaRis', 'Brussels_londOn'],\n",
    "              'FlightNumber': [10045, np.nan, 10065, np.nan, 10085],\n",
    "              'RecentDelays': [[23, 47], [], [24, 43, 87], [13], [67, 32]],\n",
    "                   'Airline': ['KLM(!)', '<Air France> (12)', '(British Airways. )', \n",
    "                               '12. Air France', '\"Swiss Air\"']})\n",
    "```\n",
    "\n",
    "Formatted, it looks like this:\n",
    "\n",
    "```\n",
    "            From_To  FlightNumber  RecentDelays              Airline\n",
    "0      LoNDon_paris       10045.0      [23, 47]               KLM(!)\n",
    "1      MAdrid_miLAN           NaN            []    <Air France> (12)\n",
    "2  londON_StockhOlm       10065.0  [24, 43, 87]  (British Airways. )\n",
    "3    Budapest_PaRis           NaN          [13]       12. Air France\n",
    "4   Brussels_londOn       10085.0      [67, 32]          \"Swiss Air\"\n",
    "```\n",
    "\n",
    "**1.** Some values in the the **FlightNumber** column are missing (they are `NaN`). These numbers are meant to increase by 10 with each row so 10055 and 10075 need to be put in place. Modify `df` to fill in these missing numbers and make the column an integer column (instead of a float column)."
   ]
  },
  {
   "cell_type": "code",
   "execution_count": 88,
   "metadata": {},
   "outputs": [
    {
     "output_type": "execute_result",
     "data": {
      "text/plain": [
       "            From_To  FlightNumber  RecentDelays              Airline\n",
       "0      LoNDon_paris         10045      [23, 47]               KLM(!)\n",
       "1      MAdrid_miLAN         10055            []    <Air France> (12)\n",
       "2  londON_StockhOlm         10065  [24, 43, 87]  (British Airways. )\n",
       "3    Budapest_PaRis         10075          [13]       12. Air France\n",
       "4   Brussels_londOn         10085      [67, 32]          \"Swiss Air\""
      ],
      "text/html": "<div>\n<style scoped>\n    .dataframe tbody tr th:only-of-type {\n        vertical-align: middle;\n    }\n\n    .dataframe tbody tr th {\n        vertical-align: top;\n    }\n\n    .dataframe thead th {\n        text-align: right;\n    }\n</style>\n<table border=\"1\" class=\"dataframe\">\n  <thead>\n    <tr style=\"text-align: right;\">\n      <th></th>\n      <th>From_To</th>\n      <th>FlightNumber</th>\n      <th>RecentDelays</th>\n      <th>Airline</th>\n    </tr>\n  </thead>\n  <tbody>\n    <tr>\n      <th>0</th>\n      <td>LoNDon_paris</td>\n      <td>10045</td>\n      <td>[23, 47]</td>\n      <td>KLM(!)</td>\n    </tr>\n    <tr>\n      <th>1</th>\n      <td>MAdrid_miLAN</td>\n      <td>10055</td>\n      <td>[]</td>\n      <td>&lt;Air France&gt; (12)</td>\n    </tr>\n    <tr>\n      <th>2</th>\n      <td>londON_StockhOlm</td>\n      <td>10065</td>\n      <td>[24, 43, 87]</td>\n      <td>(British Airways. )</td>\n    </tr>\n    <tr>\n      <th>3</th>\n      <td>Budapest_PaRis</td>\n      <td>10075</td>\n      <td>[13]</td>\n      <td>12. Air France</td>\n    </tr>\n    <tr>\n      <th>4</th>\n      <td>Brussels_londOn</td>\n      <td>10085</td>\n      <td>[67, 32]</td>\n      <td>\"Swiss Air\"</td>\n    </tr>\n  </tbody>\n</table>\n</div>"
     },
     "metadata": {},
     "execution_count": 88
    }
   ],
   "source": [
    "df = pd.DataFrame({'From_To': ['LoNDon_paris', 'MAdrid_miLAN', 'londON_StockhOlm', \n",
    "                               'Budapest_PaRis', 'Brussels_londOn'],\n",
    "              'FlightNumber': [10045, np.nan, 10065, np.nan, 10085],\n",
    "              'RecentDelays': [[23, 47], [], [24, 43, 87], [13], [67, 32]],\n",
    "                   'Airline': ['KLM(!)', '<Air France> (12)', '(British Airways. )', \n",
    "                               '12. Air France', '\"Swiss Air\"']})\n",
    "\n",
    "df['FlightNumber'] = [i for i in range(int(df['FlightNumber'][0]), int(df['FlightNumber'].iloc[-1] + 1), 10)]"
   ]
  },
  {
   "cell_type": "markdown",
   "metadata": {},
   "source": [
    "# 3.2 column splitting\n",
    "\n",
    "The **From\\_To** column would be better as two separate columns! Split each string on the underscore delimiter `_` to make two new columns `From` and `To` to your dataframe."
   ]
  },
  {
   "cell_type": "code",
   "execution_count": 93,
   "metadata": {},
   "outputs": [
    {
     "output_type": "execute_result",
     "data": {
      "text/plain": [
       "   FlightNumber  RecentDelays              Airline      From         To\n",
       "0         10045      [23, 47]               KLM(!)    LoNDon      paris\n",
       "1         10055            []    <Air France> (12)    MAdrid      miLAN\n",
       "2         10065  [24, 43, 87]  (British Airways. )    londON  StockhOlm\n",
       "3         10075          [13]       12. Air France  Budapest      PaRis\n",
       "4         10085      [67, 32]          \"Swiss Air\"  Brussels     londOn"
      ],
      "text/html": "<div>\n<style scoped>\n    .dataframe tbody tr th:only-of-type {\n        vertical-align: middle;\n    }\n\n    .dataframe tbody tr th {\n        vertical-align: top;\n    }\n\n    .dataframe thead th {\n        text-align: right;\n    }\n</style>\n<table border=\"1\" class=\"dataframe\">\n  <thead>\n    <tr style=\"text-align: right;\">\n      <th></th>\n      <th>FlightNumber</th>\n      <th>RecentDelays</th>\n      <th>Airline</th>\n      <th>From</th>\n      <th>To</th>\n    </tr>\n  </thead>\n  <tbody>\n    <tr>\n      <th>0</th>\n      <td>10045</td>\n      <td>[23, 47]</td>\n      <td>KLM(!)</td>\n      <td>LoNDon</td>\n      <td>paris</td>\n    </tr>\n    <tr>\n      <th>1</th>\n      <td>10055</td>\n      <td>[]</td>\n      <td>&lt;Air France&gt; (12)</td>\n      <td>MAdrid</td>\n      <td>miLAN</td>\n    </tr>\n    <tr>\n      <th>2</th>\n      <td>10065</td>\n      <td>[24, 43, 87]</td>\n      <td>(British Airways. )</td>\n      <td>londON</td>\n      <td>StockhOlm</td>\n    </tr>\n    <tr>\n      <th>3</th>\n      <td>10075</td>\n      <td>[13]</td>\n      <td>12. Air France</td>\n      <td>Budapest</td>\n      <td>PaRis</td>\n    </tr>\n    <tr>\n      <th>4</th>\n      <td>10085</td>\n      <td>[67, 32]</td>\n      <td>\"Swiss Air\"</td>\n      <td>Brussels</td>\n      <td>londOn</td>\n    </tr>\n  </tbody>\n</table>\n</div>"
     },
     "metadata": {},
     "execution_count": 93
    }
   ],
   "source": [
    "df[['From', 'To']] = (df['From_To'].str.split('_', expand=True))\n",
    "df = df.drop(columns='From_To')\n",
    "df"
   ]
  },
  {
   "cell_type": "markdown",
   "metadata": {},
   "source": [
    "# 3.3 Clean Text\n",
    "\n",
    "Make the text in your dataframe:\n",
    "\n",
    "- From and To columns should be lowercase with only first letter capitalized\n",
    "\n",
    "- In the **Airline** column, you can see some extra puctuation and symbols have appeared around the airline names. Pull out just the airline name. E.g. `'(British Airways. )'` should become `'British Airways'`."
   ]
  },
  {
   "cell_type": "code",
   "execution_count": 104,
   "metadata": {},
   "outputs": [
    {
     "output_type": "execute_result",
     "data": {
      "text/plain": [
       "   FlightNumber  RecentDelays         Airline      From         To\n",
       "0         10045      [23, 47]             KLM    LoNDon      paris\n",
       "1         10055            []       AirFrance    MAdrid      miLAN\n",
       "2         10065  [24, 43, 87]  BritishAirways    londON  StockhOlm\n",
       "3         10075          [13]       AirFrance  Budapest      PaRis\n",
       "4         10085      [67, 32]        SwissAir  Brussels     londOn"
      ],
      "text/html": "<div>\n<style scoped>\n    .dataframe tbody tr th:only-of-type {\n        vertical-align: middle;\n    }\n\n    .dataframe tbody tr th {\n        vertical-align: top;\n    }\n\n    .dataframe thead th {\n        text-align: right;\n    }\n</style>\n<table border=\"1\" class=\"dataframe\">\n  <thead>\n    <tr style=\"text-align: right;\">\n      <th></th>\n      <th>FlightNumber</th>\n      <th>RecentDelays</th>\n      <th>Airline</th>\n      <th>From</th>\n      <th>To</th>\n    </tr>\n  </thead>\n  <tbody>\n    <tr>\n      <th>0</th>\n      <td>10045</td>\n      <td>[23, 47]</td>\n      <td>KLM</td>\n      <td>LoNDon</td>\n      <td>paris</td>\n    </tr>\n    <tr>\n      <th>1</th>\n      <td>10055</td>\n      <td>[]</td>\n      <td>AirFrance</td>\n      <td>MAdrid</td>\n      <td>miLAN</td>\n    </tr>\n    <tr>\n      <th>2</th>\n      <td>10065</td>\n      <td>[24, 43, 87]</td>\n      <td>BritishAirways</td>\n      <td>londON</td>\n      <td>StockhOlm</td>\n    </tr>\n    <tr>\n      <th>3</th>\n      <td>10075</td>\n      <td>[13]</td>\n      <td>AirFrance</td>\n      <td>Budapest</td>\n      <td>PaRis</td>\n    </tr>\n    <tr>\n      <th>4</th>\n      <td>10085</td>\n      <td>[67, 32]</td>\n      <td>SwissAir</td>\n      <td>Brussels</td>\n      <td>londOn</td>\n    </tr>\n  </tbody>\n</table>\n</div>"
     },
     "metadata": {},
     "execution_count": 104
    }
   ],
   "source": [
    "df['Airline'] = df['Airline'].str.replace('[ ](?=[ ])|[^-_,A-Za-z ]+', '')\n",
    "df"
   ]
  },
  {
   "cell_type": "markdown",
   "metadata": {},
   "source": [
    "# Exercise 4.1: Column Splitting\n",
    "\n",
    "Given the unemployment data in `data/country_total.csv`, split the `month` column into two new columns: a `year` column and a `month` column, both integers"
   ]
  },
  {
   "cell_type": "code",
   "execution_count": 108,
   "metadata": {},
   "outputs": [
    {
     "output_type": "execute_result",
     "data": {
      "text/plain": [
       "      country seasonality  month  unemployment  unemployment_rate  year\n",
       "19597      tr         nsa      2       2240000               10.6  2006\n",
       "5215       es         nsa      5       1852000               10.3  2001\n",
       "16962      pt       trend     10        439000                7.9  2007\n",
       "3702       dk         nsa      7        209000                7.4  1991\n",
       "2145       bg       trend     10        411000               12.6  2003\n",
       "3797       dk         nsa      6        131000                4.6  1999\n",
       "17334      ro       trend      4        700000                7.1  2003\n",
       "3190       de          sa     11       3288000                8.2  1995\n",
       "8791       hu         nsa     11        438000               10.4  2009\n",
       "549        at       trend     10        163000                4.2  2002"
      ],
      "text/html": "<div>\n<style scoped>\n    .dataframe tbody tr th:only-of-type {\n        vertical-align: middle;\n    }\n\n    .dataframe tbody tr th {\n        vertical-align: top;\n    }\n\n    .dataframe thead th {\n        text-align: right;\n    }\n</style>\n<table border=\"1\" class=\"dataframe\">\n  <thead>\n    <tr style=\"text-align: right;\">\n      <th></th>\n      <th>country</th>\n      <th>seasonality</th>\n      <th>month</th>\n      <th>unemployment</th>\n      <th>unemployment_rate</th>\n      <th>year</th>\n    </tr>\n  </thead>\n  <tbody>\n    <tr>\n      <th>19597</th>\n      <td>tr</td>\n      <td>nsa</td>\n      <td>2</td>\n      <td>2240000</td>\n      <td>10.6</td>\n      <td>2006</td>\n    </tr>\n    <tr>\n      <th>5215</th>\n      <td>es</td>\n      <td>nsa</td>\n      <td>5</td>\n      <td>1852000</td>\n      <td>10.3</td>\n      <td>2001</td>\n    </tr>\n    <tr>\n      <th>16962</th>\n      <td>pt</td>\n      <td>trend</td>\n      <td>10</td>\n      <td>439000</td>\n      <td>7.9</td>\n      <td>2007</td>\n    </tr>\n    <tr>\n      <th>3702</th>\n      <td>dk</td>\n      <td>nsa</td>\n      <td>7</td>\n      <td>209000</td>\n      <td>7.4</td>\n      <td>1991</td>\n    </tr>\n    <tr>\n      <th>2145</th>\n      <td>bg</td>\n      <td>trend</td>\n      <td>10</td>\n      <td>411000</td>\n      <td>12.6</td>\n      <td>2003</td>\n    </tr>\n    <tr>\n      <th>3797</th>\n      <td>dk</td>\n      <td>nsa</td>\n      <td>6</td>\n      <td>131000</td>\n      <td>4.6</td>\n      <td>1999</td>\n    </tr>\n    <tr>\n      <th>17334</th>\n      <td>ro</td>\n      <td>trend</td>\n      <td>4</td>\n      <td>700000</td>\n      <td>7.1</td>\n      <td>2003</td>\n    </tr>\n    <tr>\n      <th>3190</th>\n      <td>de</td>\n      <td>sa</td>\n      <td>11</td>\n      <td>3288000</td>\n      <td>8.2</td>\n      <td>1995</td>\n    </tr>\n    <tr>\n      <th>8791</th>\n      <td>hu</td>\n      <td>nsa</td>\n      <td>11</td>\n      <td>438000</td>\n      <td>10.4</td>\n      <td>2009</td>\n    </tr>\n    <tr>\n      <th>549</th>\n      <td>at</td>\n      <td>trend</td>\n      <td>10</td>\n      <td>163000</td>\n      <td>4.2</td>\n      <td>2002</td>\n    </tr>\n  </tbody>\n</table>\n</div>"
     },
     "metadata": {},
     "execution_count": 108
    }
   ],
   "source": [
    "df = pd.read_csv('data/country_total.csv', parse_dates=['month'])\n",
    "df['year'] = df['month'].dt.year\n",
    "df['month'] = df['month'].dt.month\n",
    "df.sample(10)"
   ]
  },
  {
   "cell_type": "markdown",
   "metadata": {},
   "source": [
    "# 4.2 Group Statistics\n",
    "\n",
    "Given the unemployment data in `data/country_sex_age.csv`, give the average unemployment rate for:\n",
    "\n",
    "- Each gender\n",
    "- Each Age Group\n",
    "- Both Together\n",
    "\n",
    "**HINT:** The `seasonality` column makes it such that the data is repeated for each method of calculating unemployment (`nsa`, `trend`, etc.). Can you ignore this and group over it? Or should you take the average for each?"
   ]
  },
  {
   "cell_type": "code",
   "execution_count": 119,
   "metadata": {},
   "outputs": [
    {
     "output_type": "stream",
     "name": "stdout",
     "text": [
      "                                 month   unemployment  unemployment_rate\nseasonality sex age_group                                               \nnsa         f   y25-74     1999.433879  244200.087758           7.539839\n                y_lt25     1999.433879  111623.665350          18.818593\n            m   y25-74     1999.433879  267525.815416           6.201653\n                y_lt25     1999.433879  121616.937253          17.215211\nsa          f   y25-74     1999.424416  275348.154482           7.579982\n                y_lt25     1999.424416  114021.946701          18.323837\n            m   y25-74     1999.424416  302136.810603           6.256909\n                y_lt25     1999.424416  125866.182129          17.067671\ntrend       f   y25-74     1999.336505  270308.535179           7.579934\n                y_lt25     1999.336505  112878.171857          18.231025\n            m   y25-74     1999.336505  298051.182238           6.272703\n                y_lt25     1999.336505  124500.720877          17.013327\n"
     ]
    }
   ],
   "source": [
    "df = pd.read_csv('data/country_sex_age.csv')\n",
    "\n",
    "print(df.groupby(['seasonality', 'sex', 'age_group']).mean())"
   ]
  },
  {
   "cell_type": "markdown",
   "metadata": {},
   "source": [
    "# 4.3 Estimating group size\n",
    "\n",
    "Given that we have the unemployment **rate** as a % of total population, and the number of total unemployed, we can estimate the total population.\n",
    "\n",
    "Give an estimate of the total population for men and women in each age group.\n",
    "\n",
    "Does this change depending on the unemployment seasonality calculation method?"
   ]
  },
  {
   "cell_type": "code",
   "execution_count": 120,
   "metadata": {},
   "outputs": [
    {
     "output_type": "stream",
     "name": "stdout",
     "text": [
      "too lazy for now.\n"
     ]
    }
   ],
   "source": [
    "print('too lazy for now.')"
   ]
  },
  {
   "cell_type": "markdown",
   "metadata": {},
   "source": [
    "# 5.1 Tennis\n",
    "\n",
    "In `data/tennis.csv` you have games that Roger Federer played against various opponents. Questions:\n",
    "\n",
    "1. How many games did Federer win?\n",
    "\n",
    "2. What is Federer's win/loss ratio?\n",
    "\n",
    "3. Who were Federer's top 5 opponents?"
   ]
  },
  {
   "cell_type": "code",
   "execution_count": 168,
   "metadata": {},
   "outputs": [
    {
     "output_type": "stream",
     "name": "stdout",
     "text": [
      "Federer won 972 games\nFederer win ratio is 0.8244274809160306\nFederer top opponents Novak Djokovic       29\nRafael Nadal         28\nLleyton Hewitt       26\nAndy Roddick         24\nNikolay Davydenko    19\nName: player2 name, dtype: int64\n"
     ]
    }
   ],
   "source": [
    "import math\n",
    "df = pd.read_csv('data/tennis.csv')\n",
    "\n",
    "# keep only games where Federer played\n",
    "df = df.loc[(df['player1 name'] == 'Roger Federer') | (df['player2 name'] == 'Roger Federer')]\n",
    "num_of_federer_wins = len(df.loc[df['winner'] == 'Roger Federer'])\n",
    "top_opponents = df['player2 name'].value_counts()[1:6]\n",
    "\n",
    "\n",
    "\n",
    "# new column fed won/lost\n",
    "# filter on loss\n",
    "# value_count() on opponents [0:4]\n",
    "\n",
    "\n",
    "\n",
    "# 1 \n",
    "print('Federer won', num_of_federer_wins, 'games')\n",
    "\n",
    "# 2\n",
    "print(f'Federer win ratio is {num_of_federer_wins / len(df)}')\n",
    "\n",
    "# 3 \n",
    "print(f\"Federer top opponents {top_opponents}\")\n"
   ]
  },
  {
   "cell_type": "markdown",
   "metadata": {},
   "source": [
    "# 5.2 Over time\n",
    "\n",
    "1. What was Federer's best year? In terms of money, and then in terms of number of wins\n",
    "\n",
    "2. Did Federer get better or worse over time?"
   ]
  },
  {
   "cell_type": "code",
   "execution_count": 242,
   "metadata": {},
   "outputs": [
    {
     "output_type": "stream",
     "name": "stdout",
     "text": [
      "Federer best years for tourmanent prize mone were 2010 and 2011\nFederer's best year was 2006 with 96\nFederer was better towards the second half of the data frame\n"
     ]
    },
    {
     "output_type": "display_data",
     "data": {
      "text/plain": "<Figure size 432x288 with 1 Axes>",
      "image/svg+xml": "<?xml version=\"1.0\" encoding=\"utf-8\" standalone=\"no\"?>\n<!DOCTYPE svg PUBLIC \"-//W3C//DTD SVG 1.1//EN\"\n  \"http://www.w3.org/Graphics/SVG/1.1/DTD/svg11.dtd\">\n<!-- Created with matplotlib (https://matplotlib.org/) -->\n<svg height=\"264.523438pt\" version=\"1.1\" viewBox=\"0 0 407.198011 264.523438\" width=\"407.198011pt\" xmlns=\"http://www.w3.org/2000/svg\" xmlns:xlink=\"http://www.w3.org/1999/xlink\">\n <defs>\n  <style type=\"text/css\">\n*{stroke-linecap:butt;stroke-linejoin:round;}\n  </style>\n </defs>\n <g id=\"figure_1\">\n  <g id=\"patch_1\">\n   <path d=\"M 0 264.523438 \nL 407.198011 264.523438 \nL 407.198011 0 \nL 0 0 \nz\n\" style=\"fill:none;\"/>\n  </g>\n  <g id=\"axes_1\">\n   <g id=\"patch_2\">\n    <path d=\"M 36.199006 226.967188 \nL 370.999006 226.967188 \nL 370.999006 9.527188 \nL 36.199006 9.527188 \nz\n\" style=\"fill:#ffffff;\"/>\n   </g>\n   <g id=\"matplotlib.axis_1\">\n    <g id=\"xtick_1\">\n     <g id=\"line2d_1\">\n      <defs>\n       <path d=\"M 0 0 \nL 0 3.5 \n\" id=\"m5a5456276d\" style=\"stroke:#000000;stroke-width:0.8;\"/>\n      </defs>\n      <g>\n       <use style=\"stroke:#000000;stroke-width:0.8;\" x=\"51.417187\" xlink:href=\"#m5a5456276d\" y=\"226.967188\"/>\n      </g>\n     </g>\n     <g id=\"text_1\">\n      <!-- (1998, True, True) -->\n      <defs>\n       <path d=\"M 31 75.875 \nQ 24.46875 64.65625 21.28125 53.65625 \nQ 18.109375 42.671875 18.109375 31.390625 \nQ 18.109375 20.125 21.3125 9.0625 \nQ 24.515625 -2 31 -13.1875 \nL 23.1875 -13.1875 \nQ 15.875 -1.703125 12.234375 9.375 \nQ 8.59375 20.453125 8.59375 31.390625 \nQ 8.59375 42.28125 12.203125 53.3125 \nQ 15.828125 64.359375 23.1875 75.875 \nz\n\" id=\"DejaVuSans-40\"/>\n       <path d=\"M 12.40625 8.296875 \nL 28.515625 8.296875 \nL 28.515625 63.921875 \nL 10.984375 60.40625 \nL 10.984375 69.390625 \nL 28.421875 72.90625 \nL 38.28125 72.90625 \nL 38.28125 8.296875 \nL 54.390625 8.296875 \nL 54.390625 0 \nL 12.40625 0 \nz\n\" id=\"DejaVuSans-49\"/>\n       <path d=\"M 10.984375 1.515625 \nL 10.984375 10.5 \nQ 14.703125 8.734375 18.5 7.8125 \nQ 22.3125 6.890625 25.984375 6.890625 \nQ 35.75 6.890625 40.890625 13.453125 \nQ 46.046875 20.015625 46.78125 33.40625 \nQ 43.953125 29.203125 39.59375 26.953125 \nQ 35.25 24.703125 29.984375 24.703125 \nQ 19.046875 24.703125 12.671875 31.3125 \nQ 6.296875 37.9375 6.296875 49.421875 \nQ 6.296875 60.640625 12.9375 67.421875 \nQ 19.578125 74.21875 30.609375 74.21875 \nQ 43.265625 74.21875 49.921875 64.515625 \nQ 56.59375 54.828125 56.59375 36.375 \nQ 56.59375 19.140625 48.40625 8.859375 \nQ 40.234375 -1.421875 26.421875 -1.421875 \nQ 22.703125 -1.421875 18.890625 -0.6875 \nQ 15.09375 0.046875 10.984375 1.515625 \nz\nM 30.609375 32.421875 \nQ 37.25 32.421875 41.125 36.953125 \nQ 45.015625 41.5 45.015625 49.421875 \nQ 45.015625 57.28125 41.125 61.84375 \nQ 37.25 66.40625 30.609375 66.40625 \nQ 23.96875 66.40625 20.09375 61.84375 \nQ 16.21875 57.28125 16.21875 49.421875 \nQ 16.21875 41.5 20.09375 36.953125 \nQ 23.96875 32.421875 30.609375 32.421875 \nz\n\" id=\"DejaVuSans-57\"/>\n       <path d=\"M 31.78125 34.625 \nQ 24.75 34.625 20.71875 30.859375 \nQ 16.703125 27.09375 16.703125 20.515625 \nQ 16.703125 13.921875 20.71875 10.15625 \nQ 24.75 6.390625 31.78125 6.390625 \nQ 38.8125 6.390625 42.859375 10.171875 \nQ 46.921875 13.96875 46.921875 20.515625 \nQ 46.921875 27.09375 42.890625 30.859375 \nQ 38.875 34.625 31.78125 34.625 \nz\nM 21.921875 38.8125 \nQ 15.578125 40.375 12.03125 44.71875 \nQ 8.5 49.078125 8.5 55.328125 \nQ 8.5 64.0625 14.71875 69.140625 \nQ 20.953125 74.21875 31.78125 74.21875 \nQ 42.671875 74.21875 48.875 69.140625 \nQ 55.078125 64.0625 55.078125 55.328125 \nQ 55.078125 49.078125 51.53125 44.71875 \nQ 48 40.375 41.703125 38.8125 \nQ 48.828125 37.15625 52.796875 32.3125 \nQ 56.78125 27.484375 56.78125 20.515625 \nQ 56.78125 9.90625 50.3125 4.234375 \nQ 43.84375 -1.421875 31.78125 -1.421875 \nQ 19.734375 -1.421875 13.25 4.234375 \nQ 6.78125 9.90625 6.78125 20.515625 \nQ 6.78125 27.484375 10.78125 32.3125 \nQ 14.796875 37.15625 21.921875 38.8125 \nz\nM 18.3125 54.390625 \nQ 18.3125 48.734375 21.84375 45.5625 \nQ 25.390625 42.390625 31.78125 42.390625 \nQ 38.140625 42.390625 41.71875 45.5625 \nQ 45.3125 48.734375 45.3125 54.390625 \nQ 45.3125 60.0625 41.71875 63.234375 \nQ 38.140625 66.40625 31.78125 66.40625 \nQ 25.390625 66.40625 21.84375 63.234375 \nQ 18.3125 60.0625 18.3125 54.390625 \nz\n\" id=\"DejaVuSans-56\"/>\n       <path d=\"M 11.71875 12.40625 \nL 22.015625 12.40625 \nL 22.015625 4 \nL 14.015625 -11.625 \nL 7.71875 -11.625 \nL 11.71875 4 \nz\n\" id=\"DejaVuSans-44\"/>\n       <path id=\"DejaVuSans-32\"/>\n       <path d=\"M -0.296875 72.90625 \nL 61.375 72.90625 \nL 61.375 64.59375 \nL 35.5 64.59375 \nL 35.5 0 \nL 25.59375 0 \nL 25.59375 64.59375 \nL -0.296875 64.59375 \nz\n\" id=\"DejaVuSans-84\"/>\n       <path d=\"M 41.109375 46.296875 \nQ 39.59375 47.171875 37.8125 47.578125 \nQ 36.03125 48 33.890625 48 \nQ 26.265625 48 22.1875 43.046875 \nQ 18.109375 38.09375 18.109375 28.8125 \nL 18.109375 0 \nL 9.078125 0 \nL 9.078125 54.6875 \nL 18.109375 54.6875 \nL 18.109375 46.1875 \nQ 20.953125 51.171875 25.484375 53.578125 \nQ 30.03125 56 36.53125 56 \nQ 37.453125 56 38.578125 55.875 \nQ 39.703125 55.765625 41.0625 55.515625 \nz\n\" id=\"DejaVuSans-114\"/>\n       <path d=\"M 8.5 21.578125 \nL 8.5 54.6875 \nL 17.484375 54.6875 \nL 17.484375 21.921875 \nQ 17.484375 14.15625 20.5 10.265625 \nQ 23.53125 6.390625 29.59375 6.390625 \nQ 36.859375 6.390625 41.078125 11.03125 \nQ 45.3125 15.671875 45.3125 23.6875 \nL 45.3125 54.6875 \nL 54.296875 54.6875 \nL 54.296875 0 \nL 45.3125 0 \nL 45.3125 8.40625 \nQ 42.046875 3.421875 37.71875 1 \nQ 33.40625 -1.421875 27.6875 -1.421875 \nQ 18.265625 -1.421875 13.375 4.4375 \nQ 8.5 10.296875 8.5 21.578125 \nz\nM 31.109375 56 \nz\n\" id=\"DejaVuSans-117\"/>\n       <path d=\"M 56.203125 29.59375 \nL 56.203125 25.203125 \nL 14.890625 25.203125 \nQ 15.484375 15.921875 20.484375 11.0625 \nQ 25.484375 6.203125 34.421875 6.203125 \nQ 39.59375 6.203125 44.453125 7.46875 \nQ 49.3125 8.734375 54.109375 11.28125 \nL 54.109375 2.78125 \nQ 49.265625 0.734375 44.1875 -0.34375 \nQ 39.109375 -1.421875 33.890625 -1.421875 \nQ 20.796875 -1.421875 13.15625 6.1875 \nQ 5.515625 13.8125 5.515625 26.8125 \nQ 5.515625 40.234375 12.765625 48.109375 \nQ 20.015625 56 32.328125 56 \nQ 43.359375 56 49.78125 48.890625 \nQ 56.203125 41.796875 56.203125 29.59375 \nz\nM 47.21875 32.234375 \nQ 47.125 39.59375 43.09375 43.984375 \nQ 39.0625 48.390625 32.421875 48.390625 \nQ 24.90625 48.390625 20.390625 44.140625 \nQ 15.875 39.890625 15.1875 32.171875 \nz\n\" id=\"DejaVuSans-101\"/>\n       <path d=\"M 8.015625 75.875 \nL 15.828125 75.875 \nQ 23.140625 64.359375 26.78125 53.3125 \nQ 30.421875 42.28125 30.421875 31.390625 \nQ 30.421875 20.453125 26.78125 9.375 \nQ 23.140625 -1.703125 15.828125 -13.1875 \nL 8.015625 -13.1875 \nQ 14.5 -2 17.703125 9.0625 \nQ 20.90625 20.125 20.90625 31.390625 \nQ 20.90625 42.671875 17.703125 53.65625 \nQ 14.5 64.65625 8.015625 75.875 \nz\n\" id=\"DejaVuSans-41\"/>\n      </defs>\n      <g transform=\"translate(7.2 241.565625)scale(0.1 -0.1)\">\n       <use xlink:href=\"#DejaVuSans-40\"/>\n       <use x=\"39.013672\" xlink:href=\"#DejaVuSans-49\"/>\n       <use x=\"102.636719\" xlink:href=\"#DejaVuSans-57\"/>\n       <use x=\"166.259766\" xlink:href=\"#DejaVuSans-57\"/>\n       <use x=\"229.882812\" xlink:href=\"#DejaVuSans-56\"/>\n       <use x=\"293.505859\" xlink:href=\"#DejaVuSans-44\"/>\n       <use x=\"325.292969\" xlink:href=\"#DejaVuSans-32\"/>\n       <use x=\"357.080078\" xlink:href=\"#DejaVuSans-84\"/>\n       <use x=\"403.414062\" xlink:href=\"#DejaVuSans-114\"/>\n       <use x=\"444.527344\" xlink:href=\"#DejaVuSans-117\"/>\n       <use x=\"507.90625\" xlink:href=\"#DejaVuSans-101\"/>\n       <use x=\"569.429688\" xlink:href=\"#DejaVuSans-44\"/>\n       <use x=\"601.216797\" xlink:href=\"#DejaVuSans-32\"/>\n       <use x=\"633.003906\" xlink:href=\"#DejaVuSans-84\"/>\n       <use x=\"679.337891\" xlink:href=\"#DejaVuSans-114\"/>\n       <use x=\"720.451172\" xlink:href=\"#DejaVuSans-117\"/>\n       <use x=\"783.830078\" xlink:href=\"#DejaVuSans-101\"/>\n       <use x=\"845.353516\" xlink:href=\"#DejaVuSans-41\"/>\n      </g>\n     </g>\n    </g>\n    <g id=\"xtick_2\">\n     <g id=\"line2d_2\">\n      <g>\n       <use style=\"stroke:#000000;stroke-width:0.8;\" x=\"94.897707\" xlink:href=\"#m5a5456276d\" y=\"226.967188\"/>\n      </g>\n     </g>\n     <g id=\"text_2\">\n      <!-- (2000, True, True) -->\n      <defs>\n       <path d=\"M 19.1875 8.296875 \nL 53.609375 8.296875 \nL 53.609375 0 \nL 7.328125 0 \nL 7.328125 8.296875 \nQ 12.9375 14.109375 22.625 23.890625 \nQ 32.328125 33.6875 34.8125 36.53125 \nQ 39.546875 41.84375 41.421875 45.53125 \nQ 43.3125 49.21875 43.3125 52.78125 \nQ 43.3125 58.59375 39.234375 62.25 \nQ 35.15625 65.921875 28.609375 65.921875 \nQ 23.96875 65.921875 18.8125 64.3125 \nQ 13.671875 62.703125 7.8125 59.421875 \nL 7.8125 69.390625 \nQ 13.765625 71.78125 18.9375 73 \nQ 24.125 74.21875 28.421875 74.21875 \nQ 39.75 74.21875 46.484375 68.546875 \nQ 53.21875 62.890625 53.21875 53.421875 \nQ 53.21875 48.921875 51.53125 44.890625 \nQ 49.859375 40.875 45.40625 35.40625 \nQ 44.1875 33.984375 37.640625 27.21875 \nQ 31.109375 20.453125 19.1875 8.296875 \nz\n\" id=\"DejaVuSans-50\"/>\n       <path d=\"M 31.78125 66.40625 \nQ 24.171875 66.40625 20.328125 58.90625 \nQ 16.5 51.421875 16.5 36.375 \nQ 16.5 21.390625 20.328125 13.890625 \nQ 24.171875 6.390625 31.78125 6.390625 \nQ 39.453125 6.390625 43.28125 13.890625 \nQ 47.125 21.390625 47.125 36.375 \nQ 47.125 51.421875 43.28125 58.90625 \nQ 39.453125 66.40625 31.78125 66.40625 \nz\nM 31.78125 74.21875 \nQ 44.046875 74.21875 50.515625 64.515625 \nQ 56.984375 54.828125 56.984375 36.375 \nQ 56.984375 17.96875 50.515625 8.265625 \nQ 44.046875 -1.421875 31.78125 -1.421875 \nQ 19.53125 -1.421875 13.0625 8.265625 \nQ 6.59375 17.96875 6.59375 36.375 \nQ 6.59375 54.828125 13.0625 64.515625 \nQ 19.53125 74.21875 31.78125 74.21875 \nz\n\" id=\"DejaVuSans-48\"/>\n      </defs>\n      <g transform=\"translate(50.680519 241.565625)scale(0.1 -0.1)\">\n       <use xlink:href=\"#DejaVuSans-40\"/>\n       <use x=\"39.013672\" xlink:href=\"#DejaVuSans-50\"/>\n       <use x=\"102.636719\" xlink:href=\"#DejaVuSans-48\"/>\n       <use x=\"166.259766\" xlink:href=\"#DejaVuSans-48\"/>\n       <use x=\"229.882812\" xlink:href=\"#DejaVuSans-48\"/>\n       <use x=\"293.505859\" xlink:href=\"#DejaVuSans-44\"/>\n       <use x=\"325.292969\" xlink:href=\"#DejaVuSans-32\"/>\n       <use x=\"357.080078\" xlink:href=\"#DejaVuSans-84\"/>\n       <use x=\"403.414062\" xlink:href=\"#DejaVuSans-114\"/>\n       <use x=\"444.527344\" xlink:href=\"#DejaVuSans-117\"/>\n       <use x=\"507.90625\" xlink:href=\"#DejaVuSans-101\"/>\n       <use x=\"569.429688\" xlink:href=\"#DejaVuSans-44\"/>\n       <use x=\"601.216797\" xlink:href=\"#DejaVuSans-32\"/>\n       <use x=\"633.003906\" xlink:href=\"#DejaVuSans-84\"/>\n       <use x=\"679.337891\" xlink:href=\"#DejaVuSans-114\"/>\n       <use x=\"720.451172\" xlink:href=\"#DejaVuSans-117\"/>\n       <use x=\"783.830078\" xlink:href=\"#DejaVuSans-101\"/>\n       <use x=\"845.353516\" xlink:href=\"#DejaVuSans-41\"/>\n      </g>\n     </g>\n    </g>\n    <g id=\"xtick_3\">\n     <g id=\"line2d_3\">\n      <g>\n       <use style=\"stroke:#000000;stroke-width:0.8;\" x=\"138.378226\" xlink:href=\"#m5a5456276d\" y=\"226.967188\"/>\n      </g>\n     </g>\n     <g id=\"text_3\">\n      <!-- (2002, True, True) -->\n      <g transform=\"translate(94.161039 241.565625)scale(0.1 -0.1)\">\n       <use xlink:href=\"#DejaVuSans-40\"/>\n       <use x=\"39.013672\" xlink:href=\"#DejaVuSans-50\"/>\n       <use x=\"102.636719\" xlink:href=\"#DejaVuSans-48\"/>\n       <use x=\"166.259766\" xlink:href=\"#DejaVuSans-48\"/>\n       <use x=\"229.882812\" xlink:href=\"#DejaVuSans-50\"/>\n       <use x=\"293.505859\" xlink:href=\"#DejaVuSans-44\"/>\n       <use x=\"325.292969\" xlink:href=\"#DejaVuSans-32\"/>\n       <use x=\"357.080078\" xlink:href=\"#DejaVuSans-84\"/>\n       <use x=\"403.414062\" xlink:href=\"#DejaVuSans-114\"/>\n       <use x=\"444.527344\" xlink:href=\"#DejaVuSans-117\"/>\n       <use x=\"507.90625\" xlink:href=\"#DejaVuSans-101\"/>\n       <use x=\"569.429688\" xlink:href=\"#DejaVuSans-44\"/>\n       <use x=\"601.216797\" xlink:href=\"#DejaVuSans-32\"/>\n       <use x=\"633.003906\" xlink:href=\"#DejaVuSans-84\"/>\n       <use x=\"679.337891\" xlink:href=\"#DejaVuSans-114\"/>\n       <use x=\"720.451172\" xlink:href=\"#DejaVuSans-117\"/>\n       <use x=\"783.830078\" xlink:href=\"#DejaVuSans-101\"/>\n       <use x=\"845.353516\" xlink:href=\"#DejaVuSans-41\"/>\n      </g>\n     </g>\n    </g>\n    <g id=\"xtick_4\">\n     <g id=\"line2d_4\">\n      <g>\n       <use style=\"stroke:#000000;stroke-width:0.8;\" x=\"181.858746\" xlink:href=\"#m5a5456276d\" y=\"226.967188\"/>\n      </g>\n     </g>\n     <g id=\"text_4\">\n      <!-- (2004, True, True) -->\n      <defs>\n       <path d=\"M 37.796875 64.3125 \nL 12.890625 25.390625 \nL 37.796875 25.390625 \nz\nM 35.203125 72.90625 \nL 47.609375 72.90625 \nL 47.609375 25.390625 \nL 58.015625 25.390625 \nL 58.015625 17.1875 \nL 47.609375 17.1875 \nL 47.609375 0 \nL 37.796875 0 \nL 37.796875 17.1875 \nL 4.890625 17.1875 \nL 4.890625 26.703125 \nz\n\" id=\"DejaVuSans-52\"/>\n      </defs>\n      <g transform=\"translate(137.641558 241.565625)scale(0.1 -0.1)\">\n       <use xlink:href=\"#DejaVuSans-40\"/>\n       <use x=\"39.013672\" xlink:href=\"#DejaVuSans-50\"/>\n       <use x=\"102.636719\" xlink:href=\"#DejaVuSans-48\"/>\n       <use x=\"166.259766\" xlink:href=\"#DejaVuSans-48\"/>\n       <use x=\"229.882812\" xlink:href=\"#DejaVuSans-52\"/>\n       <use x=\"293.505859\" xlink:href=\"#DejaVuSans-44\"/>\n       <use x=\"325.292969\" xlink:href=\"#DejaVuSans-32\"/>\n       <use x=\"357.080078\" xlink:href=\"#DejaVuSans-84\"/>\n       <use x=\"403.414062\" xlink:href=\"#DejaVuSans-114\"/>\n       <use x=\"444.527344\" xlink:href=\"#DejaVuSans-117\"/>\n       <use x=\"507.90625\" xlink:href=\"#DejaVuSans-101\"/>\n       <use x=\"569.429688\" xlink:href=\"#DejaVuSans-44\"/>\n       <use x=\"601.216797\" xlink:href=\"#DejaVuSans-32\"/>\n       <use x=\"633.003906\" xlink:href=\"#DejaVuSans-84\"/>\n       <use x=\"679.337891\" xlink:href=\"#DejaVuSans-114\"/>\n       <use x=\"720.451172\" xlink:href=\"#DejaVuSans-117\"/>\n       <use x=\"783.830078\" xlink:href=\"#DejaVuSans-101\"/>\n       <use x=\"845.353516\" xlink:href=\"#DejaVuSans-41\"/>\n      </g>\n     </g>\n    </g>\n    <g id=\"xtick_5\">\n     <g id=\"line2d_5\">\n      <g>\n       <use style=\"stroke:#000000;stroke-width:0.8;\" x=\"225.339265\" xlink:href=\"#m5a5456276d\" y=\"226.967188\"/>\n      </g>\n     </g>\n     <g id=\"text_5\">\n      <!-- (2006, True, True) -->\n      <defs>\n       <path d=\"M 33.015625 40.375 \nQ 26.375 40.375 22.484375 35.828125 \nQ 18.609375 31.296875 18.609375 23.390625 \nQ 18.609375 15.53125 22.484375 10.953125 \nQ 26.375 6.390625 33.015625 6.390625 \nQ 39.65625 6.390625 43.53125 10.953125 \nQ 47.40625 15.53125 47.40625 23.390625 \nQ 47.40625 31.296875 43.53125 35.828125 \nQ 39.65625 40.375 33.015625 40.375 \nz\nM 52.59375 71.296875 \nL 52.59375 62.3125 \nQ 48.875 64.0625 45.09375 64.984375 \nQ 41.3125 65.921875 37.59375 65.921875 \nQ 27.828125 65.921875 22.671875 59.328125 \nQ 17.53125 52.734375 16.796875 39.40625 \nQ 19.671875 43.65625 24.015625 45.921875 \nQ 28.375 48.1875 33.59375 48.1875 \nQ 44.578125 48.1875 50.953125 41.515625 \nQ 57.328125 34.859375 57.328125 23.390625 \nQ 57.328125 12.15625 50.6875 5.359375 \nQ 44.046875 -1.421875 33.015625 -1.421875 \nQ 20.359375 -1.421875 13.671875 8.265625 \nQ 6.984375 17.96875 6.984375 36.375 \nQ 6.984375 53.65625 15.1875 63.9375 \nQ 23.390625 74.21875 37.203125 74.21875 \nQ 40.921875 74.21875 44.703125 73.484375 \nQ 48.484375 72.75 52.59375 71.296875 \nz\n\" id=\"DejaVuSans-54\"/>\n      </defs>\n      <g transform=\"translate(181.122078 241.565625)scale(0.1 -0.1)\">\n       <use xlink:href=\"#DejaVuSans-40\"/>\n       <use x=\"39.013672\" xlink:href=\"#DejaVuSans-50\"/>\n       <use x=\"102.636719\" xlink:href=\"#DejaVuSans-48\"/>\n       <use x=\"166.259766\" xlink:href=\"#DejaVuSans-48\"/>\n       <use x=\"229.882812\" xlink:href=\"#DejaVuSans-54\"/>\n       <use x=\"293.505859\" xlink:href=\"#DejaVuSans-44\"/>\n       <use x=\"325.292969\" xlink:href=\"#DejaVuSans-32\"/>\n       <use x=\"357.080078\" xlink:href=\"#DejaVuSans-84\"/>\n       <use x=\"403.414062\" xlink:href=\"#DejaVuSans-114\"/>\n       <use x=\"444.527344\" xlink:href=\"#DejaVuSans-117\"/>\n       <use x=\"507.90625\" xlink:href=\"#DejaVuSans-101\"/>\n       <use x=\"569.429688\" xlink:href=\"#DejaVuSans-44\"/>\n       <use x=\"601.216797\" xlink:href=\"#DejaVuSans-32\"/>\n       <use x=\"633.003906\" xlink:href=\"#DejaVuSans-84\"/>\n       <use x=\"679.337891\" xlink:href=\"#DejaVuSans-114\"/>\n       <use x=\"720.451172\" xlink:href=\"#DejaVuSans-117\"/>\n       <use x=\"783.830078\" xlink:href=\"#DejaVuSans-101\"/>\n       <use x=\"845.353516\" xlink:href=\"#DejaVuSans-41\"/>\n      </g>\n     </g>\n    </g>\n    <g id=\"xtick_6\">\n     <g id=\"line2d_6\">\n      <g>\n       <use style=\"stroke:#000000;stroke-width:0.8;\" x=\"268.819785\" xlink:href=\"#m5a5456276d\" y=\"226.967188\"/>\n      </g>\n     </g>\n     <g id=\"text_6\">\n      <!-- (2008, True, True) -->\n      <g transform=\"translate(224.602597 241.565625)scale(0.1 -0.1)\">\n       <use xlink:href=\"#DejaVuSans-40\"/>\n       <use x=\"39.013672\" xlink:href=\"#DejaVuSans-50\"/>\n       <use x=\"102.636719\" xlink:href=\"#DejaVuSans-48\"/>\n       <use x=\"166.259766\" xlink:href=\"#DejaVuSans-48\"/>\n       <use x=\"229.882812\" xlink:href=\"#DejaVuSans-56\"/>\n       <use x=\"293.505859\" xlink:href=\"#DejaVuSans-44\"/>\n       <use x=\"325.292969\" xlink:href=\"#DejaVuSans-32\"/>\n       <use x=\"357.080078\" xlink:href=\"#DejaVuSans-84\"/>\n       <use x=\"403.414062\" xlink:href=\"#DejaVuSans-114\"/>\n       <use x=\"444.527344\" xlink:href=\"#DejaVuSans-117\"/>\n       <use x=\"507.90625\" xlink:href=\"#DejaVuSans-101\"/>\n       <use x=\"569.429688\" xlink:href=\"#DejaVuSans-44\"/>\n       <use x=\"601.216797\" xlink:href=\"#DejaVuSans-32\"/>\n       <use x=\"633.003906\" xlink:href=\"#DejaVuSans-84\"/>\n       <use x=\"679.337891\" xlink:href=\"#DejaVuSans-114\"/>\n       <use x=\"720.451172\" xlink:href=\"#DejaVuSans-117\"/>\n       <use x=\"783.830078\" xlink:href=\"#DejaVuSans-101\"/>\n       <use x=\"845.353516\" xlink:href=\"#DejaVuSans-41\"/>\n      </g>\n     </g>\n    </g>\n    <g id=\"xtick_7\">\n     <g id=\"line2d_7\">\n      <g>\n       <use style=\"stroke:#000000;stroke-width:0.8;\" x=\"312.300304\" xlink:href=\"#m5a5456276d\" y=\"226.967188\"/>\n      </g>\n     </g>\n     <g id=\"text_7\">\n      <!-- (2010, True, True) -->\n      <g transform=\"translate(268.083117 241.565625)scale(0.1 -0.1)\">\n       <use xlink:href=\"#DejaVuSans-40\"/>\n       <use x=\"39.013672\" xlink:href=\"#DejaVuSans-50\"/>\n       <use x=\"102.636719\" xlink:href=\"#DejaVuSans-48\"/>\n       <use x=\"166.259766\" xlink:href=\"#DejaVuSans-49\"/>\n       <use x=\"229.882812\" xlink:href=\"#DejaVuSans-48\"/>\n       <use x=\"293.505859\" xlink:href=\"#DejaVuSans-44\"/>\n       <use x=\"325.292969\" xlink:href=\"#DejaVuSans-32\"/>\n       <use x=\"357.080078\" xlink:href=\"#DejaVuSans-84\"/>\n       <use x=\"403.414062\" xlink:href=\"#DejaVuSans-114\"/>\n       <use x=\"444.527344\" xlink:href=\"#DejaVuSans-117\"/>\n       <use x=\"507.90625\" xlink:href=\"#DejaVuSans-101\"/>\n       <use x=\"569.429688\" xlink:href=\"#DejaVuSans-44\"/>\n       <use x=\"601.216797\" xlink:href=\"#DejaVuSans-32\"/>\n       <use x=\"633.003906\" xlink:href=\"#DejaVuSans-84\"/>\n       <use x=\"679.337891\" xlink:href=\"#DejaVuSans-114\"/>\n       <use x=\"720.451172\" xlink:href=\"#DejaVuSans-117\"/>\n       <use x=\"783.830078\" xlink:href=\"#DejaVuSans-101\"/>\n       <use x=\"845.353516\" xlink:href=\"#DejaVuSans-41\"/>\n      </g>\n     </g>\n    </g>\n    <g id=\"xtick_8\">\n     <g id=\"line2d_8\">\n      <g>\n       <use style=\"stroke:#000000;stroke-width:0.8;\" x=\"355.780824\" xlink:href=\"#m5a5456276d\" y=\"226.967188\"/>\n      </g>\n     </g>\n     <g id=\"text_8\">\n      <!-- (2012, True, True) -->\n      <g transform=\"translate(311.563636 241.565625)scale(0.1 -0.1)\">\n       <use xlink:href=\"#DejaVuSans-40\"/>\n       <use x=\"39.013672\" xlink:href=\"#DejaVuSans-50\"/>\n       <use x=\"102.636719\" xlink:href=\"#DejaVuSans-48\"/>\n       <use x=\"166.259766\" xlink:href=\"#DejaVuSans-49\"/>\n       <use x=\"229.882812\" xlink:href=\"#DejaVuSans-50\"/>\n       <use x=\"293.505859\" xlink:href=\"#DejaVuSans-44\"/>\n       <use x=\"325.292969\" xlink:href=\"#DejaVuSans-32\"/>\n       <use x=\"357.080078\" xlink:href=\"#DejaVuSans-84\"/>\n       <use x=\"403.414062\" xlink:href=\"#DejaVuSans-114\"/>\n       <use x=\"444.527344\" xlink:href=\"#DejaVuSans-117\"/>\n       <use x=\"507.90625\" xlink:href=\"#DejaVuSans-101\"/>\n       <use x=\"569.429688\" xlink:href=\"#DejaVuSans-44\"/>\n       <use x=\"601.216797\" xlink:href=\"#DejaVuSans-32\"/>\n       <use x=\"633.003906\" xlink:href=\"#DejaVuSans-84\"/>\n       <use x=\"679.337891\" xlink:href=\"#DejaVuSans-114\"/>\n       <use x=\"720.451172\" xlink:href=\"#DejaVuSans-117\"/>\n       <use x=\"783.830078\" xlink:href=\"#DejaVuSans-101\"/>\n       <use x=\"845.353516\" xlink:href=\"#DejaVuSans-41\"/>\n      </g>\n     </g>\n    </g>\n    <g id=\"text_9\">\n     <!-- year,win,win -->\n     <defs>\n      <path d=\"M 32.171875 -5.078125 \nQ 28.375 -14.84375 24.75 -17.8125 \nQ 21.140625 -20.796875 15.09375 -20.796875 \nL 7.90625 -20.796875 \nL 7.90625 -13.28125 \nL 13.1875 -13.28125 \nQ 16.890625 -13.28125 18.9375 -11.515625 \nQ 21 -9.765625 23.484375 -3.21875 \nL 25.09375 0.875 \nL 2.984375 54.6875 \nL 12.5 54.6875 \nL 29.59375 11.921875 \nL 46.6875 54.6875 \nL 56.203125 54.6875 \nz\n\" id=\"DejaVuSans-121\"/>\n      <path d=\"M 34.28125 27.484375 \nQ 23.390625 27.484375 19.1875 25 \nQ 14.984375 22.515625 14.984375 16.5 \nQ 14.984375 11.71875 18.140625 8.90625 \nQ 21.296875 6.109375 26.703125 6.109375 \nQ 34.1875 6.109375 38.703125 11.40625 \nQ 43.21875 16.703125 43.21875 25.484375 \nL 43.21875 27.484375 \nz\nM 52.203125 31.203125 \nL 52.203125 0 \nL 43.21875 0 \nL 43.21875 8.296875 \nQ 40.140625 3.328125 35.546875 0.953125 \nQ 30.953125 -1.421875 24.3125 -1.421875 \nQ 15.921875 -1.421875 10.953125 3.296875 \nQ 6 8.015625 6 15.921875 \nQ 6 25.140625 12.171875 29.828125 \nQ 18.359375 34.515625 30.609375 34.515625 \nL 43.21875 34.515625 \nL 43.21875 35.40625 \nQ 43.21875 41.609375 39.140625 45 \nQ 35.0625 48.390625 27.6875 48.390625 \nQ 23 48.390625 18.546875 47.265625 \nQ 14.109375 46.140625 10.015625 43.890625 \nL 10.015625 52.203125 \nQ 14.9375 54.109375 19.578125 55.046875 \nQ 24.21875 56 28.609375 56 \nQ 40.484375 56 46.34375 49.84375 \nQ 52.203125 43.703125 52.203125 31.203125 \nz\n\" id=\"DejaVuSans-97\"/>\n      <path d=\"M 4.203125 54.6875 \nL 13.1875 54.6875 \nL 24.421875 12.015625 \nL 35.59375 54.6875 \nL 46.1875 54.6875 \nL 57.421875 12.015625 \nL 68.609375 54.6875 \nL 77.59375 54.6875 \nL 63.28125 0 \nL 52.6875 0 \nL 40.921875 44.828125 \nL 29.109375 0 \nL 18.5 0 \nz\n\" id=\"DejaVuSans-119\"/>\n      <path d=\"M 9.421875 54.6875 \nL 18.40625 54.6875 \nL 18.40625 0 \nL 9.421875 0 \nz\nM 9.421875 75.984375 \nL 18.40625 75.984375 \nL 18.40625 64.59375 \nL 9.421875 64.59375 \nz\n\" id=\"DejaVuSans-105\"/>\n      <path d=\"M 54.890625 33.015625 \nL 54.890625 0 \nL 45.90625 0 \nL 45.90625 32.71875 \nQ 45.90625 40.484375 42.875 44.328125 \nQ 39.84375 48.1875 33.796875 48.1875 \nQ 26.515625 48.1875 22.3125 43.546875 \nQ 18.109375 38.921875 18.109375 30.90625 \nL 18.109375 0 \nL 9.078125 0 \nL 9.078125 54.6875 \nL 18.109375 54.6875 \nL 18.109375 46.1875 \nQ 21.34375 51.125 25.703125 53.5625 \nQ 30.078125 56 35.796875 56 \nQ 45.21875 56 50.046875 50.171875 \nQ 54.890625 44.34375 54.890625 33.015625 \nz\n\" id=\"DejaVuSans-110\"/>\n     </defs>\n     <g transform=\"translate(171.971662 255.24375)scale(0.1 -0.1)\">\n      <use xlink:href=\"#DejaVuSans-121\"/>\n      <use x=\"59.179688\" xlink:href=\"#DejaVuSans-101\"/>\n      <use x=\"120.703125\" xlink:href=\"#DejaVuSans-97\"/>\n      <use x=\"181.982422\" xlink:href=\"#DejaVuSans-114\"/>\n      <use x=\"223.095703\" xlink:href=\"#DejaVuSans-44\"/>\n      <use x=\"254.882812\" xlink:href=\"#DejaVuSans-119\"/>\n      <use x=\"336.669922\" xlink:href=\"#DejaVuSans-105\"/>\n      <use x=\"364.453125\" xlink:href=\"#DejaVuSans-110\"/>\n      <use x=\"427.832031\" xlink:href=\"#DejaVuSans-44\"/>\n      <use x=\"459.619141\" xlink:href=\"#DejaVuSans-119\"/>\n      <use x=\"541.40625\" xlink:href=\"#DejaVuSans-105\"/>\n      <use x=\"569.189453\" xlink:href=\"#DejaVuSans-110\"/>\n     </g>\n    </g>\n   </g>\n   <g id=\"matplotlib.axis_2\">\n    <g id=\"ytick_1\">\n     <g id=\"line2d_9\">\n      <defs>\n       <path d=\"M 0 0 \nL -3.5 0 \n\" id=\"m0f855fe18a\" style=\"stroke:#000000;stroke-width:0.8;\"/>\n      </defs>\n      <g>\n       <use style=\"stroke:#000000;stroke-width:0.8;\" x=\"36.199006\" xlink:href=\"#m0f855fe18a\" y=\"221.289354\"/>\n      </g>\n     </g>\n     <g id=\"text_10\">\n      <!-- 0 -->\n      <g transform=\"translate(22.836506 225.088573)scale(0.1 -0.1)\">\n       <use xlink:href=\"#DejaVuSans-48\"/>\n      </g>\n     </g>\n    </g>\n    <g id=\"ytick_2\">\n     <g id=\"line2d_10\">\n      <g>\n       <use style=\"stroke:#000000;stroke-width:0.8;\" x=\"36.199006\" xlink:href=\"#m0f855fe18a\" y=\"179.231327\"/>\n      </g>\n     </g>\n     <g id=\"text_11\">\n      <!-- 20 -->\n      <g transform=\"translate(16.474006 183.030546)scale(0.1 -0.1)\">\n       <use xlink:href=\"#DejaVuSans-50\"/>\n       <use x=\"63.623047\" xlink:href=\"#DejaVuSans-48\"/>\n      </g>\n     </g>\n    </g>\n    <g id=\"ytick_3\">\n     <g id=\"line2d_11\">\n      <g>\n       <use style=\"stroke:#000000;stroke-width:0.8;\" x=\"36.199006\" xlink:href=\"#m0f855fe18a\" y=\"137.1733\"/>\n      </g>\n     </g>\n     <g id=\"text_12\">\n      <!-- 40 -->\n      <g transform=\"translate(16.474006 140.972519)scale(0.1 -0.1)\">\n       <use xlink:href=\"#DejaVuSans-52\"/>\n       <use x=\"63.623047\" xlink:href=\"#DejaVuSans-48\"/>\n      </g>\n     </g>\n    </g>\n    <g id=\"ytick_4\">\n     <g id=\"line2d_12\">\n      <g>\n       <use style=\"stroke:#000000;stroke-width:0.8;\" x=\"36.199006\" xlink:href=\"#m0f855fe18a\" y=\"95.115273\"/>\n      </g>\n     </g>\n     <g id=\"text_13\">\n      <!-- 60 -->\n      <g transform=\"translate(16.474006 98.914492)scale(0.1 -0.1)\">\n       <use xlink:href=\"#DejaVuSans-54\"/>\n       <use x=\"63.623047\" xlink:href=\"#DejaVuSans-48\"/>\n      </g>\n     </g>\n    </g>\n    <g id=\"ytick_5\">\n     <g id=\"line2d_13\">\n      <g>\n       <use style=\"stroke:#000000;stroke-width:0.8;\" x=\"36.199006\" xlink:href=\"#m0f855fe18a\" y=\"53.057246\"/>\n      </g>\n     </g>\n     <g id=\"text_14\">\n      <!-- 80 -->\n      <g transform=\"translate(16.474006 56.856465)scale(0.1 -0.1)\">\n       <use xlink:href=\"#DejaVuSans-56\"/>\n       <use x=\"63.623047\" xlink:href=\"#DejaVuSans-48\"/>\n      </g>\n     </g>\n    </g>\n    <g id=\"ytick_6\">\n     <g id=\"line2d_14\">\n      <g>\n       <use style=\"stroke:#000000;stroke-width:0.8;\" x=\"36.199006\" xlink:href=\"#m0f855fe18a\" y=\"10.999219\"/>\n      </g>\n     </g>\n     <g id=\"text_15\">\n      <!-- 100 -->\n      <g transform=\"translate(10.111506 14.798437)scale(0.1 -0.1)\">\n       <use xlink:href=\"#DejaVuSans-49\"/>\n       <use x=\"63.623047\" xlink:href=\"#DejaVuSans-48\"/>\n       <use x=\"127.246094\" xlink:href=\"#DejaVuSans-48\"/>\n      </g>\n     </g>\n    </g>\n   </g>\n   <g id=\"line2d_15\">\n    <path clip-path=\"url(#p3c503fbda2)\" d=\"M 51.417187 217.083551 \nL 73.157447 160.305215 \nL 94.897707 145.584905 \nL 116.637967 111.938484 \nL 138.378226 88.806569 \nL 160.118486 48.851443 \nL 181.858746 59.36595 \nL 203.599006 46.748542 \nL 225.339265 19.410824 \nL 247.079525 57.263049 \nL 268.819785 61.468851 \nL 290.560045 76.189161 \nL 312.300304 61.468851 \nL 334.040564 69.880457 \nL 355.780824 50.954344 \n\" style=\"fill:none;stroke:#1f77b4;stroke-linecap:square;stroke-width:1.5;\"/>\n   </g>\n   <g id=\"patch_3\">\n    <path d=\"M 36.199006 226.967188 \nL 36.199006 9.527188 \n\" style=\"fill:none;stroke:#000000;stroke-linecap:square;stroke-linejoin:miter;stroke-width:0.8;\"/>\n   </g>\n   <g id=\"patch_4\">\n    <path d=\"M 370.999006 226.967188 \nL 370.999006 9.527188 \n\" style=\"fill:none;stroke:#000000;stroke-linecap:square;stroke-linejoin:miter;stroke-width:0.8;\"/>\n   </g>\n   <g id=\"patch_5\">\n    <path d=\"M 36.199006 226.967188 \nL 370.999006 226.967188 \n\" style=\"fill:none;stroke:#000000;stroke-linecap:square;stroke-linejoin:miter;stroke-width:0.8;\"/>\n   </g>\n   <g id=\"patch_6\">\n    <path d=\"M 36.199006 9.527188 \nL 370.999006 9.527188 \n\" style=\"fill:none;stroke:#000000;stroke-linecap:square;stroke-linejoin:miter;stroke-width:0.8;\"/>\n   </g>\n  </g>\n </g>\n <defs>\n  <clipPath id=\"p3c503fbda2\">\n   <rect height=\"217.44\" width=\"334.8\" x=\"36.199006\" y=\"9.527188\"/>\n  </clipPath>\n </defs>\n</svg>\n",
      "image/png": "[encoded data removed]"
     },
     "metadata": {
      "needs_background": "light"
     }
    }
   ],
   "source": [
    "year_by_money = df.loc[df['win'] == True].groupby('year', sort=True)\n",
    "\n",
    "# print(year_by_money.first())\n",
    "print('Federer best years for tourmanent prize mone were 2010 and 2011')\n",
    "\n",
    "year_by_wins = df.loc[df['win'] == True].groupby(['year', 'win'], sort=True)['win'].value_counts()\n",
    "print(f\"Federer's best year was {year_by_wins.idxmax()[0]} with {year_by_wins.max()}\")\n",
    "\n",
    "year_by_wins.plot()\n",
    "\n",
    "print('Federer was better towards the second half of the data frame')"
   ]
  },
  {
   "cell_type": "markdown",
   "metadata": {},
   "source": [
    "# 5.3 Total money won\n",
    "\n",
    "In the data, you'll find the `tournament round`, one value of which, `F` indicates the final.\n",
    "\n",
    "Assuming Federer wins the money in the `tournament prize money` if he wins a final in a tournament, how much money has Federer made in tournaments in this dataset?"
   ]
  },
  {
   "cell_type": "code",
   "execution_count": null,
   "metadata": {},
   "outputs": [],
   "source": []
  }
 ],
 "metadata": {
  "kernelspec": {
   "display_name": "Python 3",
   "language": "python",
   "name": "python3"
  },
  "language_info": {
   "codemirror_mode": {
    "name": "ipython",
    "version": 3
   },
   "file_extension": ".py",
   "mimetype": "text/x-python",
   "name": "python",
   "nbconvert_exporter": "python",
   "pygments_lexer": "ipython3",
   "version": "3.8.3-final"
  }
 },
 "nbformat": 4,
 "nbformat_minor": 4
}