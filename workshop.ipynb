{
 "cells": [
  {
   "cell_type": "code",
   "execution_count": 1,
   "metadata": {},
   "outputs": [],
   "source": [
    "# Bruno Ugolini"
   ]
  },
  {
   "cell_type": "markdown",
   "metadata": {},
   "source": [
    "# Notes:\n",
    "\n",
    "You are banned from using loops (`for` or `while` or any other) for this entire workshop!\n",
    "\n",
    "You shouldn't be using loops almost ever with pandas in any case, so break out of the habit now.\n",
    "\n",
    "## 1. DataFrame basics\n",
    "\n",
    "\n",
    "Consider the following Python dictionary `data` and Python list `labels`:\n",
    "\n",
    "``` python\n",
    "data = {'animal': ['cat', 'cat', 'snake', 'dog', 'dog', 'cat', 'snake', 'cat', 'dog', 'dog'],\n",
    "        'age': [2.5, 3, 0.5, np.nan, 5, 2, 4.5, np.nan, 7, 3],\n",
    "        'visits': [1, 3, 2, 3, 2, 3, 1, 1, 2, 1],\n",
    "        'priority': ['yes', 'yes', 'no', 'yes', 'no', 'no', 'no', 'yes', 'no', 'no']}\n",
    "\n",
    "labels = ['a', 'b', 'c', 'd', 'e', 'f', 'g', 'h', 'i', 'j']\n",
    "```\n",
    "(This is just some meaningless data I made up with the theme of animals and trips to a vet.)\n",
    "\n",
    "**1.** Create a DataFrame `df` from this dictionary `data` which has the index `labels`.\n",
    "\n",
    "**2.** Select only the rows where visits are 3 or more. Which types of animals are these?\n",
    "\n",
    "**3.** Select the rows where visists are 3 and the animal is a cat\n",
    "\n",
    "**4.** Calculate the sum of all visits in `df` (i.e. the total number of visits).\n",
    "\n",
    "**5.** Calculate the mean age for each different animal in `df`.\n",
    "\n",
    "**6.** Append a new row 'k' to `df` with your choice of values for each column. Then delete that row to return the original DataFrame.\n",
    "\n"
   ]
  },
  {
   "cell_type": "code",
   "execution_count": 2,
   "metadata": {},
   "outputs": [
    {
     "output_type": "execute_result",
     "data": {
      "text/plain": [
       "  animal  age  visits priority\n",
       "a    cat  2.5       1      yes\n",
       "b    cat  3.0       3      yes\n",
       "c  snake  0.5       2       no\n",
       "d    dog  NaN       3      yes\n",
       "e    dog  5.0       2       no\n",
       "f    cat  2.0       3       no\n",
       "g  snake  4.5       1       no\n",
       "h    cat  NaN       1      yes\n",
       "i    dog  7.0       2       no\n",
       "j    dog  3.0       1       no"
      ],
      "text/html": "<div>\n<style scoped>\n    .dataframe tbody tr th:only-of-type {\n        vertical-align: middle;\n    }\n\n    .dataframe tbody tr th {\n        vertical-align: top;\n    }\n\n    .dataframe thead th {\n        text-align: right;\n    }\n</style>\n<table border=\"1\" class=\"dataframe\">\n  <thead>\n    <tr style=\"text-align: right;\">\n      <th></th>\n      <th>animal</th>\n      <th>age</th>\n      <th>visits</th>\n      <th>priority</th>\n    </tr>\n  </thead>\n  <tbody>\n    <tr>\n      <th>a</th>\n      <td>cat</td>\n      <td>2.5</td>\n      <td>1</td>\n      <td>yes</td>\n    </tr>\n    <tr>\n      <th>b</th>\n      <td>cat</td>\n      <td>3.0</td>\n      <td>3</td>\n      <td>yes</td>\n    </tr>\n    <tr>\n      <th>c</th>\n      <td>snake</td>\n      <td>0.5</td>\n      <td>2</td>\n      <td>no</td>\n    </tr>\n    <tr>\n      <th>d</th>\n      <td>dog</td>\n      <td>NaN</td>\n      <td>3</td>\n      <td>yes</td>\n    </tr>\n    <tr>\n      <th>e</th>\n      <td>dog</td>\n      <td>5.0</td>\n      <td>2</td>\n      <td>no</td>\n    </tr>\n    <tr>\n      <th>f</th>\n      <td>cat</td>\n      <td>2.0</td>\n      <td>3</td>\n      <td>no</td>\n    </tr>\n    <tr>\n      <th>g</th>\n      <td>snake</td>\n      <td>4.5</td>\n      <td>1</td>\n      <td>no</td>\n    </tr>\n    <tr>\n      <th>h</th>\n      <td>cat</td>\n      <td>NaN</td>\n      <td>1</td>\n      <td>yes</td>\n    </tr>\n    <tr>\n      <th>i</th>\n      <td>dog</td>\n      <td>7.0</td>\n      <td>2</td>\n      <td>no</td>\n    </tr>\n    <tr>\n      <th>j</th>\n      <td>dog</td>\n      <td>3.0</td>\n      <td>1</td>\n      <td>no</td>\n    </tr>\n  </tbody>\n</table>\n</div>"
     },
     "metadata": {},
     "execution_count": 2
    }
   ],
   "source": [
    "# 1. Create a DataFrame df from this dictionary data which has the index labels.\n",
    "import numpy as np\n",
    "data = {'animal': ['cat', 'cat', 'snake', 'dog', 'dog', 'cat', 'snake', 'cat', 'dog', 'dog'],\n",
    "        'age': [2.5, 3, 0.5, np.nan, 5, 2, 4.5, np.nan, 7, 3],\n",
    "        'visits': [1, 3, 2, 3, 2, 3, 1, 1, 2, 1],\n",
    "        'priority': ['yes', 'yes', 'no', 'yes', 'no', 'no', 'no', 'yes', 'no', 'no']}\n",
    "labels = ['a', 'b', 'c', 'd', 'e', 'f', 'g', 'h', 'i', 'j']\n",
    "\n",
    "import pandas as pd\n",
    "\n",
    "df = pd.DataFrame(data, index=labels)\n",
    "df"
   ]
  },
  {
   "cell_type": "code",
   "execution_count": 3,
   "metadata": {},
   "outputs": [
    {
     "output_type": "execute_result",
     "data": {
      "text/plain": [
       "b    cat\n",
       "d    dog\n",
       "f    cat\n",
       "Name: animal, dtype: object"
      ]
     },
     "metadata": {},
     "execution_count": 3
    }
   ],
   "source": [
    "# 2. Select only the rows where visits are 3 or more. Which types of animals are these?\n",
    "df.loc[df.visits >= 3].animal"
   ]
  },
  {
   "cell_type": "code",
   "execution_count": 4,
   "metadata": {},
   "outputs": [
    {
     "output_type": "execute_result",
     "data": {
      "text/plain": [
       "  animal  age  visits priority\n",
       "b    cat  3.0       3      yes\n",
       "f    cat  2.0       3       no"
      ],
      "text/html": "<div>\n<style scoped>\n    .dataframe tbody tr th:only-of-type {\n        vertical-align: middle;\n    }\n\n    .dataframe tbody tr th {\n        vertical-align: top;\n    }\n\n    .dataframe thead th {\n        text-align: right;\n    }\n</style>\n<table border=\"1\" class=\"dataframe\">\n  <thead>\n    <tr style=\"text-align: right;\">\n      <th></th>\n      <th>animal</th>\n      <th>age</th>\n      <th>visits</th>\n      <th>priority</th>\n    </tr>\n  </thead>\n  <tbody>\n    <tr>\n      <th>b</th>\n      <td>cat</td>\n      <td>3.0</td>\n      <td>3</td>\n      <td>yes</td>\n    </tr>\n    <tr>\n      <th>f</th>\n      <td>cat</td>\n      <td>2.0</td>\n      <td>3</td>\n      <td>no</td>\n    </tr>\n  </tbody>\n</table>\n</div>"
     },
     "metadata": {},
     "execution_count": 4
    }
   ],
   "source": [
    "# 3. Select the rows where visists are 3 and the animal is a cat\n",
    "df.loc[(df.visits == 3) & (df.animal == 'cat')]"
   ]
  },
  {
   "cell_type": "code",
   "execution_count": 5,
   "metadata": {},
   "outputs": [
    {
     "output_type": "execute_result",
     "data": {
      "text/plain": [
       "19"
      ]
     },
     "metadata": {},
     "execution_count": 5
    }
   ],
   "source": [
    "# 4. Calculate the sum of all visits in df (i.e. the total number of visits).\n",
    "sum(df.visits)"
   ]
  },
  {
   "cell_type": "code",
   "execution_count": 6,
   "metadata": {},
   "outputs": [
    {
     "output_type": "execute_result",
     "data": {
      "text/plain": [
       "animal\n",
       "cat      2.5\n",
       "dog      5.0\n",
       "snake    2.5\n",
       "Name: age, dtype: float64"
      ]
     },
     "metadata": {},
     "execution_count": 6
    }
   ],
   "source": [
    "# 5. Calculate the mean age for each different animal in df.\n",
    "df.groupby(by='animal', ).mean().age"
   ]
  },
  {
   "cell_type": "code",
   "execution_count": 7,
   "metadata": {},
   "outputs": [
    {
     "output_type": "stream",
     "name": "stdout",
     "text": [
      "Modified dataframe:\n   animal  age  visits priority   k\na    cat  2.5       1      yes  52\nb    cat  3.0       3      yes   5\nc  snake  0.5       2       no  59\nd    dog  NaN       3      yes  16\ne    dog  5.0       2       no  31\nf    cat  2.0       3       no  66\ng  snake  4.5       1       no  83\nh    cat  NaN       1      yes  23\ni    dog  7.0       2       no   1\nj    dog  3.0       1       no  92\n\nRetrieved dataframe:\n   animal  age  visits priority\na    cat  2.5       1      yes\nb    cat  3.0       3      yes\nc  snake  0.5       2       no\nd    dog  NaN       3      yes\ne    dog  5.0       2       no\nf    cat  2.0       3       no\ng  snake  4.5       1       no\nh    cat  NaN       1      yes\ni    dog  7.0       2       no\nj    dog  3.0       1       no\n\n"
     ]
    }
   ],
   "source": [
    "# 6. Append a new row 'k' to df with your choice of values for each column. \n",
    "#    Then delete that row to return the original DataFrame.\n",
    "\n",
    "df['k'] = np.random.randint(1, 100, size=len(df))\n",
    "print(f\"Modified dataframe:\\n {df}\\n\")\n",
    "df = df.drop(axis=1, columns=['k'])\n",
    "print(f\"Retrieved dataframe:\\n {df}\\n\")"
   ]
  },
  {
   "cell_type": "markdown",
   "metadata": {},
   "source": [
    "# 2.1 Shifty problem\n",
    "\n",
    "You have a DataFrame `df` with a column 'A' of integers. For example:\n",
    "```python\n",
    "df = pd.DataFrame({'A': [1, 2, 2, 3, 4, 5, 5, 5, 6, 7, 7]})\n",
    "```\n",
    "\n",
    "How do you filter out rows which contain the same integer as the row immediately above?\n",
    "\n",
    "You should be left with a column containing the following values:\n",
    "\n",
    "```python\n",
    "1, 2, 3, 4, 5, 6, 7\n",
    "```\n",
    "\n",
    "### Hint: use the `shift()` method"
   ]
  },
  {
   "cell_type": "code",
   "execution_count": 9,
   "metadata": {},
   "outputs": [
    {
     "output_type": "execute_result",
     "data": {
      "text/plain": [
       "    A\n",
       "0   1\n",
       "2   2\n",
       "3   3\n",
       "4   4\n",
       "7   5\n",
       "8   6\n",
       "10  7"
      ],
      "text/html": "<div>\n<style scoped>\n    .dataframe tbody tr th:only-of-type {\n        vertical-align: middle;\n    }\n\n    .dataframe tbody tr th {\n        vertical-align: top;\n    }\n\n    .dataframe thead th {\n        text-align: right;\n    }\n</style>\n<table border=\"1\" class=\"dataframe\">\n  <thead>\n    <tr style=\"text-align: right;\">\n      <th></th>\n      <th>A</th>\n    </tr>\n  </thead>\n  <tbody>\n    <tr>\n      <th>0</th>\n      <td>1</td>\n    </tr>\n    <tr>\n      <th>2</th>\n      <td>2</td>\n    </tr>\n    <tr>\n      <th>3</th>\n      <td>3</td>\n    </tr>\n    <tr>\n      <th>4</th>\n      <td>4</td>\n    </tr>\n    <tr>\n      <th>7</th>\n      <td>5</td>\n    </tr>\n    <tr>\n      <th>8</th>\n      <td>6</td>\n    </tr>\n    <tr>\n      <th>10</th>\n      <td>7</td>\n    </tr>\n  </tbody>\n</table>\n</div>"
     },
     "metadata": {},
     "execution_count": 9
    }
   ],
   "source": [
    "df = pd.DataFrame({'A': [1, 2, 2, 3, 4, 5, 5, 5, 6, 7, 7]})\n",
    "df = df.loc[(df.values != df.shift(-1).values)]\n",
    "df"
   ]
  },
  {
   "cell_type": "markdown",
   "metadata": {},
   "source": [
    "# 2.2 columns sum min\n",
    "\n",
    "Suppose you have DataFrame with 10 columns of real numbers, for example:\n",
    "\n",
    "```python\n",
    "df = pd.DataFrame(np.random.random(size=(5, 10)), columns=list('abcdefghij'))\n",
    "```\n",
    "Which column of numbers has the smallest sum? Return that column's label."
   ]
  },
  {
   "cell_type": "code",
   "execution_count": 10,
   "metadata": {},
   "outputs": [
    {
     "output_type": "execute_result",
     "data": {
      "text/plain": [
       "          a         b         c         d         e         f         g  \\\n",
       "0  0.828587  0.242942  0.736023  0.701946  0.374808  0.184590  0.936289   \n",
       "1  0.602599  0.175637  0.136118  0.667233  0.247581  0.846010  0.858480   \n",
       "2  0.341336  0.401331  0.705690  0.635393  0.499165  0.234225  0.142697   \n",
       "3  0.564130  0.830626  0.685529  0.469494  0.471063  0.244428  0.705635   \n",
       "4  0.547200  0.618666  0.427588  0.256103  0.994622  0.866747  0.281364   \n",
       "\n",
       "          h         i         j  \n",
       "0  0.944918  0.475904  0.303827  \n",
       "1  0.403255  0.103415  0.742133  \n",
       "2  0.633486  0.978783  0.074464  \n",
       "3  0.025416  0.619467  0.459847  \n",
       "4  0.291785  0.203615  0.395077  "
      ],
      "text/html": "<div>\n<style scoped>\n    .dataframe tbody tr th:only-of-type {\n        vertical-align: middle;\n    }\n\n    .dataframe tbody tr th {\n        vertical-align: top;\n    }\n\n    .dataframe thead th {\n        text-align: right;\n    }\n</style>\n<table border=\"1\" class=\"dataframe\">\n  <thead>\n    <tr style=\"text-align: right;\">\n      <th></th>\n      <th>a</th>\n      <th>b</th>\n      <th>c</th>\n      <th>d</th>\n      <th>e</th>\n      <th>f</th>\n      <th>g</th>\n      <th>h</th>\n      <th>i</th>\n      <th>j</th>\n    </tr>\n  </thead>\n  <tbody>\n    <tr>\n      <th>0</th>\n      <td>0.828587</td>\n      <td>0.242942</td>\n      <td>0.736023</td>\n      <td>0.701946</td>\n      <td>0.374808</td>\n      <td>0.184590</td>\n      <td>0.936289</td>\n      <td>0.944918</td>\n      <td>0.475904</td>\n      <td>0.303827</td>\n    </tr>\n    <tr>\n      <th>1</th>\n      <td>0.602599</td>\n      <td>0.175637</td>\n      <td>0.136118</td>\n      <td>0.667233</td>\n      <td>0.247581</td>\n      <td>0.846010</td>\n      <td>0.858480</td>\n      <td>0.403255</td>\n      <td>0.103415</td>\n      <td>0.742133</td>\n    </tr>\n    <tr>\n      <th>2</th>\n      <td>0.341336</td>\n      <td>0.401331</td>\n      <td>0.705690</td>\n      <td>0.635393</td>\n      <td>0.499165</td>\n      <td>0.234225</td>\n      <td>0.142697</td>\n      <td>0.633486</td>\n      <td>0.978783</td>\n      <td>0.074464</td>\n    </tr>\n    <tr>\n      <th>3</th>\n      <td>0.564130</td>\n      <td>0.830626</td>\n      <td>0.685529</td>\n      <td>0.469494</td>\n      <td>0.471063</td>\n      <td>0.244428</td>\n      <td>0.705635</td>\n      <td>0.025416</td>\n      <td>0.619467</td>\n      <td>0.459847</td>\n    </tr>\n    <tr>\n      <th>4</th>\n      <td>0.547200</td>\n      <td>0.618666</td>\n      <td>0.427588</td>\n      <td>0.256103</td>\n      <td>0.994622</td>\n      <td>0.866747</td>\n      <td>0.281364</td>\n      <td>0.291785</td>\n      <td>0.203615</td>\n      <td>0.395077</td>\n    </tr>\n  </tbody>\n</table>\n</div>"
     },
     "metadata": {},
     "execution_count": 10
    }
   ],
   "source": [
    "df = pd.DataFrame(np.random.random(size=(5, 10)), columns=list('abcdefghij'))\n",
    "df"
   ]
  },
  {
   "cell_type": "code",
   "execution_count": 11,
   "metadata": {},
   "outputs": [
    {
     "output_type": "execute_result",
     "data": {
      "text/plain": [
       "'j'"
      ]
     },
     "metadata": {},
     "execution_count": 11
    }
   ],
   "source": [
    "df.columns[np.argmin(df.sum())]"
   ]
  },
  {
   "cell_type": "markdown",
   "metadata": {},
   "source": [
    "# 2.3 Duplicates\n",
    "\n",
    "How do you count how many unique rows a DataFrame has (i.e. ignore all rows that are duplicates)?\n",
    "\n",
    "**hint:** There's a method for to find duplicate rows for you"
   ]
  },
  {
   "cell_type": "code",
   "execution_count": 12,
   "metadata": {},
   "outputs": [
    {
     "output_type": "execute_result",
     "data": {
      "text/plain": [
       "   a  b  c\n",
       "0  0  1  2\n",
       "1  4  5  6\n",
       "2  7  8  9\n",
       "3  1  2  3\n",
       "4  4  5  6"
      ],
      "text/html": "<div>\n<style scoped>\n    .dataframe tbody tr th:only-of-type {\n        vertical-align: middle;\n    }\n\n    .dataframe tbody tr th {\n        vertical-align: top;\n    }\n\n    .dataframe thead th {\n        text-align: right;\n    }\n</style>\n<table border=\"1\" class=\"dataframe\">\n  <thead>\n    <tr style=\"text-align: right;\">\n      <th></th>\n      <th>a</th>\n      <th>b</th>\n      <th>c</th>\n    </tr>\n  </thead>\n  <tbody>\n    <tr>\n      <th>0</th>\n      <td>0</td>\n      <td>1</td>\n      <td>2</td>\n    </tr>\n    <tr>\n      <th>1</th>\n      <td>4</td>\n      <td>5</td>\n      <td>6</td>\n    </tr>\n    <tr>\n      <th>2</th>\n      <td>7</td>\n      <td>8</td>\n      <td>9</td>\n    </tr>\n    <tr>\n      <th>3</th>\n      <td>1</td>\n      <td>2</td>\n      <td>3</td>\n    </tr>\n    <tr>\n      <th>4</th>\n      <td>4</td>\n      <td>5</td>\n      <td>6</td>\n    </tr>\n  </tbody>\n</table>\n</div>"
     },
     "metadata": {},
     "execution_count": 12
    }
   ],
   "source": [
    "df = pd.DataFrame(data=[[0,1,2],[4,5,6],[7,8,9],[1,2,3],[4,5,6]],columns=['a', 'b', 'c'])\n",
    "df"
   ]
  },
  {
   "cell_type": "code",
   "execution_count": 13,
   "metadata": {},
   "outputs": [
    {
     "output_type": "stream",
     "name": "stdout",
     "text": [
      "The number of duplicated rows is: 1\nThe number of unique rows is: 4\n"
     ]
    }
   ],
   "source": [
    "print(f\"The number of duplicated rows is: {sum(df.duplicated())}\")\n",
    "print(f\"The number of unique rows is: {len(df)-sum(df.duplicated())}\")"
   ]
  },
  {
   "cell_type": "markdown",
   "metadata": {},
   "source": [
    "# 2.4 Group Values\n",
    "\n",
    "A DataFrame has a column of groups 'grps' and and column of integer values 'vals': \n",
    "\n",
    "```python\n",
    "df = pd.DataFrame({'grps': list('aaabbcaabcccbbc'), \n",
    "                   'vals': [12,345,3,1,45,14,4,52,54,23,235,21,57,3,87]})\n",
    "```\n",
    "For each *group*, find the sum of the three greatest values.  You should end up with the answer as follows:\n",
    "```\n",
    "grps\n",
    "a    409\n",
    "b    156\n",
    "c    345\n",
    "```"
   ]
  },
  {
   "cell_type": "code",
   "execution_count": 14,
   "metadata": {},
   "outputs": [
    {
     "output_type": "execute_result",
     "data": {
      "text/plain": [
       "grps\n",
       "a    409\n",
       "b    156\n",
       "c    345\n",
       "Name: vals, dtype: int64"
      ]
     },
     "metadata": {},
     "execution_count": 14
    }
   ],
   "source": [
    "df = pd.DataFrame({'grps': list('aaabbcaabcccbbc'), \n",
    "                   'vals': [12,345,3,1,45,14,4,52,54,23,235,21,57,3,87]})\n",
    "df.groupby(by='grps')['vals'].apply(lambda grp: grp.nlargest(3).sum())"
   ]
  },
  {
   "cell_type": "markdown",
   "metadata": {},
   "source": [
    "# 3. Cleaning Data\n",
    "\n",
    "### Making a DataFrame easier to work with\n",
    "\n",
    "It happens all the time: someone gives you data containing malformed strings, Python, lists and missing data. How do you tidy it up so you can get on with the analysis?\n",
    "\n",
    "Take this monstrosity as the DataFrame to use in the following puzzles:\n",
    "\n",
    "```python\n",
    "df = pd.DataFrame({'From_To': ['LoNDon_paris', 'MAdrid_miLAN', 'londON_StockhOlm', \n",
    "                               'Budapest_PaRis', 'Brussels_londOn'],\n",
    "              'FlightNumber': [10045, np.nan, 10065, np.nan, 10085],\n",
    "              'RecentDelays': [[23, 47], [], [24, 43, 87], [13], [67, 32]],\n",
    "                   'Airline': ['KLM(!)', '<Air France> (12)', '(British Airways. )', \n",
    "                               '12. Air France', '\"Swiss Air\"']})\n",
    "```\n",
    "\n",
    "Formatted, it looks like this:\n",
    "\n",
    "```\n",
    "            From_To  FlightNumber  RecentDelays              Airline\n",
    "0      LoNDon_paris       10045.0      [23, 47]               KLM(!)\n",
    "1      MAdrid_miLAN           NaN            []    <Air France> (12)\n",
    "2  londON_StockhOlm       10065.0  [24, 43, 87]  (British Airways. )\n",
    "3    Budapest_PaRis           NaN          [13]       12. Air France\n",
    "4   Brussels_londOn       10085.0      [67, 32]          \"Swiss Air\"\n",
    "```\n",
    "\n",
    "**1.** Some values in the the **FlightNumber** column are missing (they are `NaN`). These numbers are meant to increase by 10 with each row so 10055 and 10075 need to be put in place. Modify `df` to fill in these missing numbers and make the column an integer column (instead of a float column)."
   ]
  },
  {
   "cell_type": "code",
   "execution_count": 15,
   "metadata": {},
   "outputs": [
    {
     "output_type": "execute_result",
     "data": {
      "text/plain": [
       "            From_To  FlightNumber  RecentDelays              Airline\n",
       "0      LoNDon_paris       10045.0      [23, 47]               KLM(!)\n",
       "1      MAdrid_miLAN           NaN            []    <Air France> (12)\n",
       "2  londON_StockhOlm       10065.0  [24, 43, 87]  (British Airways. )\n",
       "3    Budapest_PaRis           NaN          [13]       12. Air France\n",
       "4   Brussels_londOn       10085.0      [67, 32]          \"Swiss Air\""
      ],
      "text/html": "<div>\n<style scoped>\n    .dataframe tbody tr th:only-of-type {\n        vertical-align: middle;\n    }\n\n    .dataframe tbody tr th {\n        vertical-align: top;\n    }\n\n    .dataframe thead th {\n        text-align: right;\n    }\n</style>\n<table border=\"1\" class=\"dataframe\">\n  <thead>\n    <tr style=\"text-align: right;\">\n      <th></th>\n      <th>From_To</th>\n      <th>FlightNumber</th>\n      <th>RecentDelays</th>\n      <th>Airline</th>\n    </tr>\n  </thead>\n  <tbody>\n    <tr>\n      <th>0</th>\n      <td>LoNDon_paris</td>\n      <td>10045.0</td>\n      <td>[23, 47]</td>\n      <td>KLM(!)</td>\n    </tr>\n    <tr>\n      <th>1</th>\n      <td>MAdrid_miLAN</td>\n      <td>NaN</td>\n      <td>[]</td>\n      <td>&lt;Air France&gt; (12)</td>\n    </tr>\n    <tr>\n      <th>2</th>\n      <td>londON_StockhOlm</td>\n      <td>10065.0</td>\n      <td>[24, 43, 87]</td>\n      <td>(British Airways. )</td>\n    </tr>\n    <tr>\n      <th>3</th>\n      <td>Budapest_PaRis</td>\n      <td>NaN</td>\n      <td>[13]</td>\n      <td>12. Air France</td>\n    </tr>\n    <tr>\n      <th>4</th>\n      <td>Brussels_londOn</td>\n      <td>10085.0</td>\n      <td>[67, 32]</td>\n      <td>\"Swiss Air\"</td>\n    </tr>\n  </tbody>\n</table>\n</div>"
     },
     "metadata": {},
     "execution_count": 15
    }
   ],
   "source": [
    "df = pd.DataFrame({'From_To': ['LoNDon_paris', 'MAdrid_miLAN', 'londON_StockhOlm', \n",
    "                               'Budapest_PaRis', 'Brussels_londOn'],\n",
    "              'FlightNumber': [10045, np.nan, 10065, np.nan, 10085],\n",
    "              'RecentDelays': [[23, 47], [], [24, 43, 87], [13], [67, 32]],\n",
    "                   'Airline': ['KLM(!)', '<Air France> (12)', '(British Airways. )', \n",
    "                               '12. Air France', '\"Swiss Air\"']})\n",
    "df"
   ]
  },
  {
   "cell_type": "code",
   "execution_count": 16,
   "metadata": {},
   "outputs": [
    {
     "output_type": "execute_result",
     "data": {
      "text/plain": [
       "            From_To  FlightNumber  RecentDelays              Airline\n",
       "0      LoNDon_paris       10045.0      [23, 47]               KLM(!)\n",
       "1      MAdrid_miLAN       10055.0            []    <Air France> (12)\n",
       "2  londON_StockhOlm       10065.0  [24, 43, 87]  (British Airways. )\n",
       "3    Budapest_PaRis       10075.0          [13]       12. Air France\n",
       "4   Brussels_londOn       10085.0      [67, 32]          \"Swiss Air\""
      ],
      "text/html": "<div>\n<style scoped>\n    .dataframe tbody tr th:only-of-type {\n        vertical-align: middle;\n    }\n\n    .dataframe tbody tr th {\n        vertical-align: top;\n    }\n\n    .dataframe thead th {\n        text-align: right;\n    }\n</style>\n<table border=\"1\" class=\"dataframe\">\n  <thead>\n    <tr style=\"text-align: right;\">\n      <th></th>\n      <th>From_To</th>\n      <th>FlightNumber</th>\n      <th>RecentDelays</th>\n      <th>Airline</th>\n    </tr>\n  </thead>\n  <tbody>\n    <tr>\n      <th>0</th>\n      <td>LoNDon_paris</td>\n      <td>10045.0</td>\n      <td>[23, 47]</td>\n      <td>KLM(!)</td>\n    </tr>\n    <tr>\n      <th>1</th>\n      <td>MAdrid_miLAN</td>\n      <td>10055.0</td>\n      <td>[]</td>\n      <td>&lt;Air France&gt; (12)</td>\n    </tr>\n    <tr>\n      <th>2</th>\n      <td>londON_StockhOlm</td>\n      <td>10065.0</td>\n      <td>[24, 43, 87]</td>\n      <td>(British Airways. )</td>\n    </tr>\n    <tr>\n      <th>3</th>\n      <td>Budapest_PaRis</td>\n      <td>10075.0</td>\n      <td>[13]</td>\n      <td>12. Air France</td>\n    </tr>\n    <tr>\n      <th>4</th>\n      <td>Brussels_londOn</td>\n      <td>10085.0</td>\n      <td>[67, 32]</td>\n      <td>\"Swiss Air\"</td>\n    </tr>\n  </tbody>\n</table>\n</div>"
     },
     "metadata": {},
     "execution_count": 16
    }
   ],
   "source": [
    "df = df.interpolate()\n",
    "df"
   ]
  },
  {
   "cell_type": "markdown",
   "metadata": {},
   "source": [
    "# 3.2 column splitting\n",
    "\n",
    "The **From\\_To** column would be better as two separate columns! Split each string on the underscore delimiter `_` to make two new columns `From` and `To` to your dataframe."
   ]
  },
  {
   "cell_type": "code",
   "execution_count": 17,
   "metadata": {},
   "outputs": [
    {
     "output_type": "execute_result",
     "data": {
      "text/plain": [
       "   FlightNumber  RecentDelays              Airline      From         To\n",
       "0       10045.0      [23, 47]               KLM(!)    LoNDon      paris\n",
       "1       10055.0            []    <Air France> (12)    MAdrid      miLAN\n",
       "2       10065.0  [24, 43, 87]  (British Airways. )    londON  StockhOlm\n",
       "3       10075.0          [13]       12. Air France  Budapest      PaRis\n",
       "4       10085.0      [67, 32]          \"Swiss Air\"  Brussels     londOn"
      ],
      "text/html": "<div>\n<style scoped>\n    .dataframe tbody tr th:only-of-type {\n        vertical-align: middle;\n    }\n\n    .dataframe tbody tr th {\n        vertical-align: top;\n    }\n\n    .dataframe thead th {\n        text-align: right;\n    }\n</style>\n<table border=\"1\" class=\"dataframe\">\n  <thead>\n    <tr style=\"text-align: right;\">\n      <th></th>\n      <th>FlightNumber</th>\n      <th>RecentDelays</th>\n      <th>Airline</th>\n      <th>From</th>\n      <th>To</th>\n    </tr>\n  </thead>\n  <tbody>\n    <tr>\n      <th>0</th>\n      <td>10045.0</td>\n      <td>[23, 47]</td>\n      <td>KLM(!)</td>\n      <td>LoNDon</td>\n      <td>paris</td>\n    </tr>\n    <tr>\n      <th>1</th>\n      <td>10055.0</td>\n      <td>[]</td>\n      <td>&lt;Air France&gt; (12)</td>\n      <td>MAdrid</td>\n      <td>miLAN</td>\n    </tr>\n    <tr>\n      <th>2</th>\n      <td>10065.0</td>\n      <td>[24, 43, 87]</td>\n      <td>(British Airways. )</td>\n      <td>londON</td>\n      <td>StockhOlm</td>\n    </tr>\n    <tr>\n      <th>3</th>\n      <td>10075.0</td>\n      <td>[13]</td>\n      <td>12. Air France</td>\n      <td>Budapest</td>\n      <td>PaRis</td>\n    </tr>\n    <tr>\n      <th>4</th>\n      <td>10085.0</td>\n      <td>[67, 32]</td>\n      <td>\"Swiss Air\"</td>\n      <td>Brussels</td>\n      <td>londOn</td>\n    </tr>\n  </tbody>\n</table>\n</div>"
     },
     "metadata": {},
     "execution_count": 17
    }
   ],
   "source": [
    "df[['From', 'To']] = df['From_To'].str.split('_', 1, expand=True)\n",
    "df = df.drop('From_To',axis=1)\n",
    "df"
   ]
  },
  {
   "cell_type": "markdown",
   "metadata": {},
   "source": [
    "# 3.3 Clean Text\n",
    "\n",
    "Make the text in your dataframe:\n",
    "\n",
    "- From and To columns should be lowercase with only first letter capitalized\n",
    "\n",
    "- In the **Airline** column, you can see some extra puctuation and symbols have appeared around the airline names. Pull out just the airline name. E.g. `'(British Airways. )'` should become `'British Airways'`."
   ]
  },
  {
   "cell_type": "code",
   "execution_count": 18,
   "metadata": {},
   "outputs": [
    {
     "output_type": "execute_result",
     "data": {
      "text/plain": [
       "   FlightNumber  RecentDelays         Airline      From         To\n",
       "0       10045.0      [23, 47]             KLM    London      Paris\n",
       "1       10055.0            []       AirFrance    Madrid      Milan\n",
       "2       10065.0  [24, 43, 87]  BritishAirways    London  Stockholm\n",
       "3       10075.0          [13]       AirFrance  Budapest      Paris\n",
       "4       10085.0      [67, 32]        SwissAir  Brussels     London"
      ],
      "text/html": "<div>\n<style scoped>\n    .dataframe tbody tr th:only-of-type {\n        vertical-align: middle;\n    }\n\n    .dataframe tbody tr th {\n        vertical-align: top;\n    }\n\n    .dataframe thead th {\n        text-align: right;\n    }\n</style>\n<table border=\"1\" class=\"dataframe\">\n  <thead>\n    <tr style=\"text-align: right;\">\n      <th></th>\n      <th>FlightNumber</th>\n      <th>RecentDelays</th>\n      <th>Airline</th>\n      <th>From</th>\n      <th>To</th>\n    </tr>\n  </thead>\n  <tbody>\n    <tr>\n      <th>0</th>\n      <td>10045.0</td>\n      <td>[23, 47]</td>\n      <td>KLM</td>\n      <td>London</td>\n      <td>Paris</td>\n    </tr>\n    <tr>\n      <th>1</th>\n      <td>10055.0</td>\n      <td>[]</td>\n      <td>AirFrance</td>\n      <td>Madrid</td>\n      <td>Milan</td>\n    </tr>\n    <tr>\n      <th>2</th>\n      <td>10065.0</td>\n      <td>[24, 43, 87]</td>\n      <td>BritishAirways</td>\n      <td>London</td>\n      <td>Stockholm</td>\n    </tr>\n    <tr>\n      <th>3</th>\n      <td>10075.0</td>\n      <td>[13]</td>\n      <td>AirFrance</td>\n      <td>Budapest</td>\n      <td>Paris</td>\n    </tr>\n    <tr>\n      <th>4</th>\n      <td>10085.0</td>\n      <td>[67, 32]</td>\n      <td>SwissAir</td>\n      <td>Brussels</td>\n      <td>London</td>\n    </tr>\n  </tbody>\n</table>\n</div>"
     },
     "metadata": {},
     "execution_count": 18
    }
   ],
   "source": [
    "df['From'] = df['From'].str.capitalize()\n",
    "df['To'] = df['To'].str.capitalize()\n",
    "df['Airline'] = df['Airline'].str.replace('[\\s0-9.()<>!\"]','')\n",
    "df"
   ]
  },
  {
   "cell_type": "markdown",
   "metadata": {},
   "source": [
    "# Exercise 4.1: Column Splitting\n",
    "\n",
    "Given the unemployment data in `data/country_total.csv`, split the `month` column into two new columns: a `year` column and a `month` column, both integers"
   ]
  },
  {
   "cell_type": "code",
   "execution_count": 19,
   "metadata": {},
   "outputs": [
    {
     "output_type": "execute_result",
     "data": {
      "text/plain": [
       "      country seasonality    month  unemployment  unemployment_rate  year\n",
       "0          at         nsa  1993.01        171000                4.5  1993\n",
       "1          at         nsa  1993.02        175000                4.6  1993\n",
       "2          at         nsa  1993.03        166000                4.4  1993\n",
       "3          at         nsa  1993.04        157000                4.1  1993\n",
       "4          at         nsa  1993.05        147000                3.9  1993\n",
       "...       ...         ...      ...           ...                ...   ...\n",
       "20791      uk       trend  2010.06       2429000                7.7  2010\n",
       "20792      uk       trend  2010.07       2422000                7.7  2010\n",
       "20793      uk       trend  2010.08       2429000                7.7  2010\n",
       "20794      uk       trend  2010.09       2447000                7.8  2010\n",
       "20795      uk       trend  2010.10       2455000                7.8  2010\n",
       "\n",
       "[20796 rows x 6 columns]"
      ],
      "text/html": "<div>\n<style scoped>\n    .dataframe tbody tr th:only-of-type {\n        vertical-align: middle;\n    }\n\n    .dataframe tbody tr th {\n        vertical-align: top;\n    }\n\n    .dataframe thead th {\n        text-align: right;\n    }\n</style>\n<table border=\"1\" class=\"dataframe\">\n  <thead>\n    <tr style=\"text-align: right;\">\n      <th></th>\n      <th>country</th>\n      <th>seasonality</th>\n      <th>month</th>\n      <th>unemployment</th>\n      <th>unemployment_rate</th>\n      <th>year</th>\n    </tr>\n  </thead>\n  <tbody>\n    <tr>\n      <th>0</th>\n      <td>at</td>\n      <td>nsa</td>\n      <td>1993.01</td>\n      <td>171000</td>\n      <td>4.5</td>\n      <td>1993</td>\n    </tr>\n    <tr>\n      <th>1</th>\n      <td>at</td>\n      <td>nsa</td>\n      <td>1993.02</td>\n      <td>175000</td>\n      <td>4.6</td>\n      <td>1993</td>\n    </tr>\n    <tr>\n      <th>2</th>\n      <td>at</td>\n      <td>nsa</td>\n      <td>1993.03</td>\n      <td>166000</td>\n      <td>4.4</td>\n      <td>1993</td>\n    </tr>\n    <tr>\n      <th>3</th>\n      <td>at</td>\n      <td>nsa</td>\n      <td>1993.04</td>\n      <td>157000</td>\n      <td>4.1</td>\n      <td>1993</td>\n    </tr>\n    <tr>\n      <th>4</th>\n      <td>at</td>\n      <td>nsa</td>\n      <td>1993.05</td>\n      <td>147000</td>\n      <td>3.9</td>\n      <td>1993</td>\n    </tr>\n    <tr>\n      <th>...</th>\n      <td>...</td>\n      <td>...</td>\n      <td>...</td>\n      <td>...</td>\n      <td>...</td>\n      <td>...</td>\n    </tr>\n    <tr>\n      <th>20791</th>\n      <td>uk</td>\n      <td>trend</td>\n      <td>2010.06</td>\n      <td>2429000</td>\n      <td>7.7</td>\n      <td>2010</td>\n    </tr>\n    <tr>\n      <th>20792</th>\n      <td>uk</td>\n      <td>trend</td>\n      <td>2010.07</td>\n      <td>2422000</td>\n      <td>7.7</td>\n      <td>2010</td>\n    </tr>\n    <tr>\n      <th>20793</th>\n      <td>uk</td>\n      <td>trend</td>\n      <td>2010.08</td>\n      <td>2429000</td>\n      <td>7.7</td>\n      <td>2010</td>\n    </tr>\n    <tr>\n      <th>20794</th>\n      <td>uk</td>\n      <td>trend</td>\n      <td>2010.09</td>\n      <td>2447000</td>\n      <td>7.8</td>\n      <td>2010</td>\n    </tr>\n    <tr>\n      <th>20795</th>\n      <td>uk</td>\n      <td>trend</td>\n      <td>2010.10</td>\n      <td>2455000</td>\n      <td>7.8</td>\n      <td>2010</td>\n    </tr>\n  </tbody>\n</table>\n<p>20796 rows × 6 columns</p>\n</div>"
     },
     "metadata": {},
     "execution_count": 19
    }
   ],
   "source": [
    "df = pd.read_csv('data/country_total.csv')\n",
    "df['year'] = np.int32(df['month'] // 1)\n",
    "df"
   ]
  },
  {
   "cell_type": "code",
   "execution_count": 20,
   "metadata": {},
   "outputs": [
    {
     "output_type": "execute_result",
     "data": {
      "text/plain": [
       "      country seasonality  month  unemployment  unemployment_rate  year\n",
       "0          at         nsa      1        171000                4.5  1993\n",
       "1          at         nsa      2        175000                4.6  1993\n",
       "2          at         nsa      3        166000                4.4  1993\n",
       "3          at         nsa      4        157000                4.1  1993\n",
       "4          at         nsa      5        147000                3.9  1993\n",
       "...       ...         ...    ...           ...                ...   ...\n",
       "20791      uk       trend      6       2429000                7.7  2010\n",
       "20792      uk       trend      7       2422000                7.7  2010\n",
       "20793      uk       trend      8       2429000                7.7  2010\n",
       "20794      uk       trend      9       2447000                7.8  2010\n",
       "20795      uk       trend     10       2455000                7.8  2010\n",
       "\n",
       "[20796 rows x 6 columns]"
      ],
      "text/html": "<div>\n<style scoped>\n    .dataframe tbody tr th:only-of-type {\n        vertical-align: middle;\n    }\n\n    .dataframe tbody tr th {\n        vertical-align: top;\n    }\n\n    .dataframe thead th {\n        text-align: right;\n    }\n</style>\n<table border=\"1\" class=\"dataframe\">\n  <thead>\n    <tr style=\"text-align: right;\">\n      <th></th>\n      <th>country</th>\n      <th>seasonality</th>\n      <th>month</th>\n      <th>unemployment</th>\n      <th>unemployment_rate</th>\n      <th>year</th>\n    </tr>\n  </thead>\n  <tbody>\n    <tr>\n      <th>0</th>\n      <td>at</td>\n      <td>nsa</td>\n      <td>1</td>\n      <td>171000</td>\n      <td>4.5</td>\n      <td>1993</td>\n    </tr>\n    <tr>\n      <th>1</th>\n      <td>at</td>\n      <td>nsa</td>\n      <td>2</td>\n      <td>175000</td>\n      <td>4.6</td>\n      <td>1993</td>\n    </tr>\n    <tr>\n      <th>2</th>\n      <td>at</td>\n      <td>nsa</td>\n      <td>3</td>\n      <td>166000</td>\n      <td>4.4</td>\n      <td>1993</td>\n    </tr>\n    <tr>\n      <th>3</th>\n      <td>at</td>\n      <td>nsa</td>\n      <td>4</td>\n      <td>157000</td>\n      <td>4.1</td>\n      <td>1993</td>\n    </tr>\n    <tr>\n      <th>4</th>\n      <td>at</td>\n      <td>nsa</td>\n      <td>5</td>\n      <td>147000</td>\n      <td>3.9</td>\n      <td>1993</td>\n    </tr>\n    <tr>\n      <th>...</th>\n      <td>...</td>\n      <td>...</td>\n      <td>...</td>\n      <td>...</td>\n      <td>...</td>\n      <td>...</td>\n    </tr>\n    <tr>\n      <th>20791</th>\n      <td>uk</td>\n      <td>trend</td>\n      <td>6</td>\n      <td>2429000</td>\n      <td>7.7</td>\n      <td>2010</td>\n    </tr>\n    <tr>\n      <th>20792</th>\n      <td>uk</td>\n      <td>trend</td>\n      <td>7</td>\n      <td>2422000</td>\n      <td>7.7</td>\n      <td>2010</td>\n    </tr>\n    <tr>\n      <th>20793</th>\n      <td>uk</td>\n      <td>trend</td>\n      <td>8</td>\n      <td>2429000</td>\n      <td>7.7</td>\n      <td>2010</td>\n    </tr>\n    <tr>\n      <th>20794</th>\n      <td>uk</td>\n      <td>trend</td>\n      <td>9</td>\n      <td>2447000</td>\n      <td>7.8</td>\n      <td>2010</td>\n    </tr>\n    <tr>\n      <th>20795</th>\n      <td>uk</td>\n      <td>trend</td>\n      <td>10</td>\n      <td>2455000</td>\n      <td>7.8</td>\n      <td>2010</td>\n    </tr>\n  </tbody>\n</table>\n<p>20796 rows × 6 columns</p>\n</div>"
     },
     "metadata": {},
     "execution_count": 20
    }
   ],
   "source": [
    "df['month'] = np.int32(np.round((df.month - df.year)*100,0))\n",
    "df"
   ]
  },
  {
   "cell_type": "markdown",
   "metadata": {},
   "source": [
    "# 4.2 Group Statistics\n",
    "\n",
    "Given the unemployment data in `data/country_sex_age.csv`, give the average unemployment rate for:\n",
    "\n",
    "- Each gender\n",
    "- Each Age Group\n",
    "- Both Together\n",
    "\n",
    "**HINT:** The `seasonality` column makes it such that the data is repeated for each method of calculating unemployment (`nsa`, `trend`, etc.). Can you ignore this and group over it? Or should you take the average for each?"
   ]
  },
  {
   "cell_type": "code",
   "execution_count": 21,
   "metadata": {},
   "outputs": [
    {
     "output_type": "stream",
     "name": "stdout",
     "text": [
      "['nsa' 'sa' 'trend']\n['at' 'be' 'bg' 'cy' 'cz' 'de' 'dk' 'ee' 'es' 'fi' 'fr' 'gr' 'hr' 'hu'\n 'ie' 'it' 'lt' 'lu' 'lv' 'mt' 'nl' 'no' 'pl' 'pt' 'ro' 'se' 'si' 'sk'\n 'tr' 'uk']\n"
     ]
    },
    {
     "output_type": "execute_result",
     "data": {
      "text/plain": [
       "      country seasonality sex age_group    month  unemployment  \\\n",
       "0          at         nsa   f    y25-74  1993.01         61000   \n",
       "1          at         nsa   f    y25-74  1993.02         62000   \n",
       "2          at         nsa   f    y25-74  1993.03         62000   \n",
       "3          at         nsa   f    y25-74  1993.04         63000   \n",
       "4          at         nsa   f    y25-74  1993.05         63000   \n",
       "...       ...         ...  ..       ...      ...           ...   \n",
       "83155      uk       trend   m    y_lt25  2010.06        518000   \n",
       "83156      uk       trend   m    y_lt25  2010.07        513000   \n",
       "83157      uk       trend   m    y_lt25  2010.08        509000   \n",
       "83158      uk       trend   m    y_lt25  2010.09        513000   \n",
       "83159      uk       trend   m    y_lt25  2010.10        520000   \n",
       "\n",
       "       unemployment_rate  \n",
       "0                    4.5  \n",
       "1                    4.5  \n",
       "2                    4.5  \n",
       "3                    4.6  \n",
       "4                    4.6  \n",
       "...                  ...  \n",
       "83155               21.1  \n",
       "83156               20.8  \n",
       "83157               20.5  \n",
       "83158               20.7  \n",
       "83159               21.1  \n",
       "\n",
       "[83160 rows x 7 columns]"
      ],
      "text/html": "<div>\n<style scoped>\n    .dataframe tbody tr th:only-of-type {\n        vertical-align: middle;\n    }\n\n    .dataframe tbody tr th {\n        vertical-align: top;\n    }\n\n    .dataframe thead th {\n        text-align: right;\n    }\n</style>\n<table border=\"1\" class=\"dataframe\">\n  <thead>\n    <tr style=\"text-align: right;\">\n      <th></th>\n      <th>country</th>\n      <th>seasonality</th>\n      <th>sex</th>\n      <th>age_group</th>\n      <th>month</th>\n      <th>unemployment</th>\n      <th>unemployment_rate</th>\n    </tr>\n  </thead>\n  <tbody>\n    <tr>\n      <th>0</th>\n      <td>at</td>\n      <td>nsa</td>\n      <td>f</td>\n      <td>y25-74</td>\n      <td>1993.01</td>\n      <td>61000</td>\n      <td>4.5</td>\n    </tr>\n    <tr>\n      <th>1</th>\n      <td>at</td>\n      <td>nsa</td>\n      <td>f</td>\n      <td>y25-74</td>\n      <td>1993.02</td>\n      <td>62000</td>\n      <td>4.5</td>\n    </tr>\n    <tr>\n      <th>2</th>\n      <td>at</td>\n      <td>nsa</td>\n      <td>f</td>\n      <td>y25-74</td>\n      <td>1993.03</td>\n      <td>62000</td>\n      <td>4.5</td>\n    </tr>\n    <tr>\n      <th>3</th>\n      <td>at</td>\n      <td>nsa</td>\n      <td>f</td>\n      <td>y25-74</td>\n      <td>1993.04</td>\n      <td>63000</td>\n      <td>4.6</td>\n    </tr>\n    <tr>\n      <th>4</th>\n      <td>at</td>\n      <td>nsa</td>\n      <td>f</td>\n      <td>y25-74</td>\n      <td>1993.05</td>\n      <td>63000</td>\n      <td>4.6</td>\n    </tr>\n    <tr>\n      <th>...</th>\n      <td>...</td>\n      <td>...</td>\n      <td>...</td>\n      <td>...</td>\n      <td>...</td>\n      <td>...</td>\n      <td>...</td>\n    </tr>\n    <tr>\n      <th>83155</th>\n      <td>uk</td>\n      <td>trend</td>\n      <td>m</td>\n      <td>y_lt25</td>\n      <td>2010.06</td>\n      <td>518000</td>\n      <td>21.1</td>\n    </tr>\n    <tr>\n      <th>83156</th>\n      <td>uk</td>\n      <td>trend</td>\n      <td>m</td>\n      <td>y_lt25</td>\n      <td>2010.07</td>\n      <td>513000</td>\n      <td>20.8</td>\n    </tr>\n    <tr>\n      <th>83157</th>\n      <td>uk</td>\n      <td>trend</td>\n      <td>m</td>\n      <td>y_lt25</td>\n      <td>2010.08</td>\n      <td>509000</td>\n      <td>20.5</td>\n    </tr>\n    <tr>\n      <th>83158</th>\n      <td>uk</td>\n      <td>trend</td>\n      <td>m</td>\n      <td>y_lt25</td>\n      <td>2010.09</td>\n      <td>513000</td>\n      <td>20.7</td>\n    </tr>\n    <tr>\n      <th>83159</th>\n      <td>uk</td>\n      <td>trend</td>\n      <td>m</td>\n      <td>y_lt25</td>\n      <td>2010.10</td>\n      <td>520000</td>\n      <td>21.1</td>\n    </tr>\n  </tbody>\n</table>\n<p>83160 rows × 7 columns</p>\n</div>"
     },
     "metadata": {},
     "execution_count": 21
    }
   ],
   "source": [
    "# Have a look at the dataframe first\n",
    "df = pd.read_csv('data/country_sex_age.csv')\n",
    "print(df.seasonality.unique())\n",
    "print(df.country.unique())\n",
    "df"
   ]
  },
  {
   "cell_type": "code",
   "execution_count": 22,
   "metadata": {},
   "outputs": [
    {
     "output_type": "stream",
     "name": "stdout",
     "text": [
      "\tMEAN WHEN GROUPED BY SEASONALITY AND SEX:\n seasonality  sex\nnsa          f      13.179216\n             m      11.708432\nsa           f      12.908743\n             m      11.662290\ntrend        f      12.862163\n             m      11.643015\nName: unemployment_rate, dtype: float64\n\tSTANDARD DEVIATION WHEN GROUPED BY SEASONALITY AND SEX:\n seasonality  sex\nnsa          f      9.389133\n             m      8.536114\nsa           f      9.054295\n             m      8.337948\ntrend        f      9.033729\n             m      8.324966\nName: unemployment_rate, dtype: float64\n"
     ]
    }
   ],
   "source": [
    "#===========================================\n",
    "# unemployment by GENDER\n",
    "#===========================================\n",
    "\n",
    "# compare unemployment by sex grouped by seasonality ...\n",
    "print(f\"\\tMEAN WHEN GROUPED BY SEASONALITY AND SEX:\\n\",\n",
    "      f\"{df.groupby(by=['seasonality', 'sex']).mean().unemployment_rate}\")\n",
    "print(f\"\\tSTANDARD DEVIATION WHEN GROUPED BY SEASONALITY AND SEX:\\n\",\n",
    "      f\"{df.groupby(by=['seasonality', 'sex']).std().unemployment_rate}\")"
   ]
  },
  {
   "cell_type": "code",
   "execution_count": 23,
   "metadata": {},
   "outputs": [
    {
     "output_type": "stream",
     "name": "stdout",
     "text": [
      "\tMEAN WHEN GROUPED BY SEX ALONE:\n sex\nf    12.982629\nm    11.671026\nName: unemployment_rate, dtype: float64\n\tSTANDARD DEVIATION WHEN GROUPED BY SEX ALONE:\n sex\nf    9.160382\nm    8.399140\nName: unemployment_rate, dtype: float64\n"
     ]
    }
   ],
   "source": [
    "# compare unemployment by sex ignoring seasonality.\n",
    "print(f\"\\tMEAN WHEN GROUPED BY SEX ALONE:\\n\",\n",
    "      f\"{df.groupby(by=['sex']).mean().unemployment_rate}\")\n",
    "print(f\"\\tSTANDARD DEVIATION WHEN GROUPED BY SEX ALONE:\\n\",\n",
    "      f\"{df.groupby(by=['sex']).std().unemployment_rate}\")"
   ]
  },
  {
   "cell_type": "code",
   "execution_count": 24,
   "metadata": {},
   "outputs": [],
   "source": [
    "# ANSWER: There does not seem to be any added value to \n",
    "# considering seasonality in the overall averages (over country, over time)"
   ]
  },
  {
   "cell_type": "code",
   "execution_count": null,
   "metadata": {},
   "outputs": [],
   "source": []
  },
  {
   "cell_type": "code",
   "execution_count": 25,
   "metadata": {},
   "outputs": [
    {
     "output_type": "stream",
     "name": "stdout",
     "text": [
      "\tMEAN WHEN GROUPED BY SEASONALITY AND AGE GROUP:\n seasonality  age_group\nnsa          y25-74        6.870746\n             y_lt25       18.016902\nsa           y25-74        6.918446\n             y_lt25       17.690707\ntrend        y25-74        6.926319\n             y_lt25       17.617224\nName: unemployment_rate, dtype: float64\n\tSTANDARD DEVIATION WHEN GROUPED BY SEASONALITY AND AGE GROUP:\n seasonality  age_group\nnsa          y25-74       3.746168\n             y_lt25       9.270700\nsa           y25-74       3.692252\n             y_lt25       8.991146\ntrend        y25-74       3.707739\n             y_lt25       8.998922\nName: unemployment_rate, dtype: float64\n"
     ]
    }
   ],
   "source": [
    "#===========================================\n",
    "# unemployment by AGE GROUP\n",
    "#===========================================\n",
    "\n",
    "# compare unemployment by age group grouped by seasonality ...\n",
    "print(f\"\\tMEAN WHEN GROUPED BY SEASONALITY AND AGE GROUP:\\n\",\n",
    "      f\"{df.groupby(by=['seasonality', 'age_group']).mean().unemployment_rate}\")\n",
    "print(f\"\\tSTANDARD DEVIATION WHEN GROUPED BY SEASONALITY AND AGE GROUP:\\n\",\n",
    "      f\"{df.groupby(by=['seasonality', 'age_group']).std().unemployment_rate}\")"
   ]
  },
  {
   "cell_type": "code",
   "execution_count": 26,
   "metadata": {},
   "outputs": [
    {
     "output_type": "stream",
     "name": "stdout",
     "text": [
      "\tMEAN WHEN GROUPED BY GROUP ALONE:\n age_group\ny25-74     6.905394\ny_lt25    17.774057\nName: unemployment_rate, dtype: float64\n\tSTANDARD DEVIATION WHEN GROUPED BY AGE GROUP ALONE:\n age_group\ny25-74    3.715198\ny_lt25    9.088469\nName: unemployment_rate, dtype: float64\n"
     ]
    }
   ],
   "source": [
    "# compare unemployment by age group alone ...\n",
    "print(f\"\\tMEAN WHEN GROUPED BY GROUP ALONE:\\n\",\n",
    "      f\"{df.groupby(by=['age_group']).mean().unemployment_rate}\")\n",
    "print(f\"\\tSTANDARD DEVIATION WHEN GROUPED BY AGE GROUP ALONE:\\n\",\n",
    "      f\"{df.groupby(by=['age_group']).std().unemployment_rate}\")"
   ]
  },
  {
   "cell_type": "code",
   "execution_count": 27,
   "metadata": {},
   "outputs": [],
   "source": [
    "# ANSWER: There does not seem to be any added value to \n",
    "# considering seasonality in the overall averages (over country, over time)"
   ]
  },
  {
   "cell_type": "code",
   "execution_count": null,
   "metadata": {},
   "outputs": [],
   "source": []
  },
  {
   "cell_type": "code",
   "execution_count": 28,
   "metadata": {},
   "outputs": [
    {
     "output_type": "stream",
     "name": "stdout",
     "text": [
      "\tMEAN WHEN GROUPED BY SEASONALITY, AGE GROUP & GENDER:\n seasonality  age_group  sex\nnsa          y25-74     f       7.539839\n                        m       6.201653\n             y_lt25     f      18.818593\n                        m      17.215211\nsa           y25-74     f       7.579982\n                        m       6.256909\n             y_lt25     f      18.323837\n                        m      17.067671\ntrend        y25-74     f       7.579934\n                        m       6.272703\n             y_lt25     f      18.231025\n                        m      17.013327\nName: unemployment_rate, dtype: float64\n\tSTANDARD DEVIATION WHEN GROUPED BY SEASONALITY, AGE GROUP & GENDER:\n seasonality  age_group  sex\nnsa          y25-74     f      3.824402\n                        m      3.542332\n             y_lt25     f      9.903746\n                        m      8.516748\nsa           y25-74     f      3.766810\n                        m      3.493309\n             y_lt25     f      9.627810\n                        m      8.270725\ntrend        y25-74     f      3.785879\n                        m      3.508459\n             y_lt25     f      9.633621\n                        m      8.283843\nName: unemployment_rate, dtype: float64\n"
     ]
    }
   ],
   "source": [
    "#===========================================\n",
    "# unemployment by AGE GROUP and GENDER\n",
    "#===========================================\n",
    "\n",
    "# compare unemployment by age group grouped by seasonality and gender ...\n",
    "print(f\"\\tMEAN WHEN GROUPED BY SEASONALITY, AGE GROUP & GENDER:\\n\",\n",
    "      f\"{df.groupby(by=['seasonality', 'age_group', 'sex']).mean().unemployment_rate}\")\n",
    "print(f\"\\tSTANDARD DEVIATION WHEN GROUPED BY SEASONALITY, AGE GROUP & GENDER:\\n\",\n",
    "      f\"{df.groupby(by=['seasonality', 'age_group', 'sex']).std().unemployment_rate}\")"
   ]
  },
  {
   "cell_type": "code",
   "execution_count": 29,
   "metadata": {},
   "outputs": [
    {
     "output_type": "stream",
     "name": "stdout",
     "text": [
      "\tMEAN WHEN GROUPED BY AGE GROUP & GENDER:\n age_group  sex\ny25-74     f       7.566771\n           m       6.244016\ny_lt25     f      18.457435\n           m      17.098036\nName: unemployment_rate, dtype: float64\n\tSTANDARD DEVIATION WHEN GROUPED BY AGE GROUP & GENDER:\n age_group  sex\ny25-74     f      3.792036\n           m      3.514493\ny_lt25     f      9.725198\n           m      8.356743\nName: unemployment_rate, dtype: float64\n"
     ]
    }
   ],
   "source": [
    "# compare unemployment by age group grouped by gender ...\n",
    "print(f\"\\tMEAN WHEN GROUPED BY AGE GROUP & GENDER:\\n\",\n",
    "      f\"{df.groupby(by=['age_group', 'sex']).mean().unemployment_rate}\")\n",
    "print(f\"\\tSTANDARD DEVIATION WHEN GROUPED BY AGE GROUP & GENDER:\\n\",\n",
    "      f\"{df.groupby(by=['age_group', 'sex']).std().unemployment_rate}\")"
   ]
  },
  {
   "cell_type": "code",
   "execution_count": 30,
   "metadata": {},
   "outputs": [],
   "source": [
    "# ANSWER: There does not seem to be any added value to \n",
    "# considering seasonality in the overall averages (over country, over time)"
   ]
  },
  {
   "cell_type": "markdown",
   "metadata": {},
   "source": [
    "# 4.3 Estimating group size\n",
    "\n",
    "Given that we have the unemployment **rate** as a % of total population, and the number of total unemployed, we can estimate the total population.\n",
    "\n",
    "Give an estimate of the total population for men and women in each age group.\n",
    "\n",
    "Does this change depending on the unemployment seasonality calculation method?"
   ]
  },
  {
   "cell_type": "code",
   "execution_count": 31,
   "metadata": {},
   "outputs": [
    {
     "output_type": "execute_result",
     "data": {
      "text/plain": [
       "      country seasonality sex age_group    month  unemployment  \\\n",
       "0          at         nsa   f    y25-74  1993.01         61000   \n",
       "1          at         nsa   f    y25-74  1993.02         62000   \n",
       "2          at         nsa   f    y25-74  1993.03         62000   \n",
       "3          at         nsa   f    y25-74  1993.04         63000   \n",
       "4          at         nsa   f    y25-74  1993.05         63000   \n",
       "...       ...         ...  ..       ...      ...           ...   \n",
       "83155      uk       trend   m    y_lt25  2010.06        518000   \n",
       "83156      uk       trend   m    y_lt25  2010.07        513000   \n",
       "83157      uk       trend   m    y_lt25  2010.08        509000   \n",
       "83158      uk       trend   m    y_lt25  2010.09        513000   \n",
       "83159      uk       trend   m    y_lt25  2010.10        520000   \n",
       "\n",
       "       unemployment_rate  population_estimate  \n",
       "0                    4.5         1.355556e+06  \n",
       "1                    4.5         1.377778e+06  \n",
       "2                    4.5         1.377778e+06  \n",
       "3                    4.6         1.369565e+06  \n",
       "4                    4.6         1.369565e+06  \n",
       "...                  ...                  ...  \n",
       "83155               21.1         2.454976e+06  \n",
       "83156               20.8         2.466346e+06  \n",
       "83157               20.5         2.482927e+06  \n",
       "83158               20.7         2.478261e+06  \n",
       "83159               21.1         2.464455e+06  \n",
       "\n",
       "[83160 rows x 8 columns]"
      ],
      "text/html": "<div>\n<style scoped>\n    .dataframe tbody tr th:only-of-type {\n        vertical-align: middle;\n    }\n\n    .dataframe tbody tr th {\n        vertical-align: top;\n    }\n\n    .dataframe thead th {\n        text-align: right;\n    }\n</style>\n<table border=\"1\" class=\"dataframe\">\n  <thead>\n    <tr style=\"text-align: right;\">\n      <th></th>\n      <th>country</th>\n      <th>seasonality</th>\n      <th>sex</th>\n      <th>age_group</th>\n      <th>month</th>\n      <th>unemployment</th>\n      <th>unemployment_rate</th>\n      <th>population_estimate</th>\n    </tr>\n  </thead>\n  <tbody>\n    <tr>\n      <th>0</th>\n      <td>at</td>\n      <td>nsa</td>\n      <td>f</td>\n      <td>y25-74</td>\n      <td>1993.01</td>\n      <td>61000</td>\n      <td>4.5</td>\n      <td>1.355556e+06</td>\n    </tr>\n    <tr>\n      <th>1</th>\n      <td>at</td>\n      <td>nsa</td>\n      <td>f</td>\n      <td>y25-74</td>\n      <td>1993.02</td>\n      <td>62000</td>\n      <td>4.5</td>\n      <td>1.377778e+06</td>\n    </tr>\n    <tr>\n      <th>2</th>\n      <td>at</td>\n      <td>nsa</td>\n      <td>f</td>\n      <td>y25-74</td>\n      <td>1993.03</td>\n      <td>62000</td>\n      <td>4.5</td>\n      <td>1.377778e+06</td>\n    </tr>\n    <tr>\n      <th>3</th>\n      <td>at</td>\n      <td>nsa</td>\n      <td>f</td>\n      <td>y25-74</td>\n      <td>1993.04</td>\n      <td>63000</td>\n      <td>4.6</td>\n      <td>1.369565e+06</td>\n    </tr>\n    <tr>\n      <th>4</th>\n      <td>at</td>\n      <td>nsa</td>\n      <td>f</td>\n      <td>y25-74</td>\n      <td>1993.05</td>\n      <td>63000</td>\n      <td>4.6</td>\n      <td>1.369565e+06</td>\n    </tr>\n    <tr>\n      <th>...</th>\n      <td>...</td>\n      <td>...</td>\n      <td>...</td>\n      <td>...</td>\n      <td>...</td>\n      <td>...</td>\n      <td>...</td>\n      <td>...</td>\n    </tr>\n    <tr>\n      <th>83155</th>\n      <td>uk</td>\n      <td>trend</td>\n      <td>m</td>\n      <td>y_lt25</td>\n      <td>2010.06</td>\n      <td>518000</td>\n      <td>21.1</td>\n      <td>2.454976e+06</td>\n    </tr>\n    <tr>\n      <th>83156</th>\n      <td>uk</td>\n      <td>trend</td>\n      <td>m</td>\n      <td>y_lt25</td>\n      <td>2010.07</td>\n      <td>513000</td>\n      <td>20.8</td>\n      <td>2.466346e+06</td>\n    </tr>\n    <tr>\n      <th>83157</th>\n      <td>uk</td>\n      <td>trend</td>\n      <td>m</td>\n      <td>y_lt25</td>\n      <td>2010.08</td>\n      <td>509000</td>\n      <td>20.5</td>\n      <td>2.482927e+06</td>\n    </tr>\n    <tr>\n      <th>83158</th>\n      <td>uk</td>\n      <td>trend</td>\n      <td>m</td>\n      <td>y_lt25</td>\n      <td>2010.09</td>\n      <td>513000</td>\n      <td>20.7</td>\n      <td>2.478261e+06</td>\n    </tr>\n    <tr>\n      <th>83159</th>\n      <td>uk</td>\n      <td>trend</td>\n      <td>m</td>\n      <td>y_lt25</td>\n      <td>2010.10</td>\n      <td>520000</td>\n      <td>21.1</td>\n      <td>2.464455e+06</td>\n    </tr>\n  </tbody>\n</table>\n<p>83160 rows × 8 columns</p>\n</div>"
     },
     "metadata": {},
     "execution_count": 31
    }
   ],
   "source": [
    "# get population estimate for each group (i.e. each row)\n",
    "df['population_estimate'] = df.unemployment / df.unemployment_rate * 100\n",
    "df"
   ]
  },
  {
   "cell_type": "code",
   "execution_count": 32,
   "metadata": {},
   "outputs": [
    {
     "output_type": "execute_result",
     "data": {
      "text/plain": [
       "age_group  sex\n",
       "y25-74     f      6.460849e+10\n",
       "           m      8.741918e+10\n",
       "y_lt25     f      1.124383e+10\n",
       "           m      1.340040e+10\n",
       "Name: population_estimate, dtype: float64"
      ]
     },
     "metadata": {},
     "execution_count": 32
    }
   ],
   "source": [
    "df.groupby(by=['age_group', 'sex']).sum().population_estimate"
   ]
  },
  {
   "cell_type": "code",
   "execution_count": 33,
   "metadata": {},
   "outputs": [
    {
     "output_type": "execute_result",
     "data": {
      "text/plain": [
       "seasonality  age_group  sex\n",
       "nsa          y25-74     f      1.982670e+10\n",
       "                        m      2.710262e+10\n",
       "             y_lt25     f      3.475112e+09\n",
       "                        m      4.190323e+09\n",
       "sa           y25-74     f      2.276504e+10\n",
       "                        m      3.070791e+10\n",
       "             y_lt25     f      3.917173e+09\n",
       "                        m      4.652162e+09\n",
       "trend        y25-74     f      2.201676e+10\n",
       "                        m      2.960866e+10\n",
       "             y_lt25     f      3.851546e+09\n",
       "                        m      4.557915e+09\n",
       "Name: population_estimate, dtype: float64"
      ]
     },
     "metadata": {},
     "execution_count": 33
    }
   ],
   "source": [
    "df.groupby(by=['seasonality', 'age_group', 'sex']).sum().population_estimate"
   ]
  },
  {
   "cell_type": "code",
   "execution_count": 34,
   "metadata": {},
   "outputs": [],
   "source": [
    "# ANSWER:\n",
    "# For this data (sum of population groups over time, over country)\n",
    "# one should look at the data including seasonality (previous cell)\n",
    "# since ignoring seasonality would give the aggregate sum of all\n",
    "# three datasets together (nsa, sa, trend). i.e. 3x the required\n",
    "# sums."
   ]
  },
  {
   "cell_type": "markdown",
   "metadata": {},
   "source": [
    "# 5.1 Tennis\n",
    "\n",
    "In `data/tennis.csv` you have games that Roger Federer played against various opponents. Questions:\n",
    "\n",
    "1. How many games did Federer win?\n",
    "\n",
    "2. What is Federer's win/loss ratio?\n",
    "\n",
    "3. Who were Federer's top 5 opponents?"
   ]
  },
  {
   "cell_type": "code",
   "execution_count": 35,
   "metadata": {},
   "outputs": [
    {
     "output_type": "stream",
     "name": "stdout",
     "text": [
      "1179\n['Roger Federer']\n"
     ]
    },
    {
     "output_type": "execute_result",
     "data": {
      "text/plain": [
       "False"
      ]
     },
     "metadata": {},
     "execution_count": 35
    }
   ],
   "source": [
    "df = pd.read_csv('data/tennis.csv')\n",
    "print(len(df))\n",
    "print(df['player1 name'].unique())\n",
    "df['player1 name'].unique() in df['player2 name'].unique()"
   ]
  },
  {
   "cell_type": "code",
   "execution_count": 36,
   "metadata": {},
   "outputs": [
    {
     "output_type": "execute_result",
     "data": {
      "text/plain": [
       "Roger Federer    972\n",
       "Name: winner, dtype: int64"
      ]
     },
     "metadata": {},
     "execution_count": 36
    }
   ],
   "source": [
    "df.winner.value_counts().head(1)\n",
    "#  Answer 1: Federer won 972 matches"
   ]
  },
  {
   "cell_type": "code",
   "execution_count": 39,
   "metadata": {},
   "outputs": [
    {
     "output_type": "stream",
     "name": "stdout",
     "text": [
      "2. Federer's win/loss ratio is 972/207 or 4.70\n"
     ]
    }
   ],
   "source": [
    "wins = df.winner.value_counts()[0]\n",
    "losses = len(df.winner) - wins\n",
    "print(f\"2. Federer's win/loss ratio is {wins}/{losses} or {wins/losses:0.2f}\")"
   ]
  },
  {
   "cell_type": "code",
   "execution_count": 40,
   "metadata": {},
   "outputs": [
    {
     "output_type": "execute_result",
     "data": {
      "text/plain": [
       "Rafael Nadal        18\n",
       "Novak Djokovic      13\n",
       "Andy Murray         10\n",
       "David Nalbandian     8\n",
       "Lleyton Hewitt       8\n",
       "Name: winner, dtype: int64"
      ]
     },
     "metadata": {},
     "execution_count": 40
    }
   ],
   "source": [
    "df.winner.value_counts().head(6)[1:]\n",
    "# Federer's top five opponents that beat him were:"
   ]
  },
  {
   "cell_type": "markdown",
   "metadata": {},
   "source": [
    "# 5.2 Over time\n",
    "\n",
    "1. What was Federer's best year? In terms of money, and then in terms of number of wins\n",
    "\n",
    "2. Did Federer get better or worse over time?"
   ]
  },
  {
   "cell_type": "code",
   "execution_count": 41,
   "metadata": {},
   "outputs": [
    {
     "output_type": "execute_result",
     "data": {
      "text/plain": [
       "year\n",
       "2007    7245735.0\n",
       "2006    7221635.0\n",
       "2004    6229377.0\n",
       "2005    4733250.0\n",
       "2010    4561045.0\n",
       "2012    3971120.0\n",
       "2003    3026502.0\n",
       "2009    2938500.0\n",
       "2011    2579000.0\n",
       "2008    1819800.0\n",
       "2002     540600.0\n",
       "2001      54000.0\n",
       "1999      14400.0\n",
       "Name: tournament prize money, dtype: float64"
      ]
     },
     "metadata": {},
     "execution_count": 41
    }
   ],
   "source": [
    "df['tournament prize money'] = df['tournament prize money'].replace('[a-zA-Z\\$,]', '', regex=True).replace('',0).astype(float)\n",
    "df.loc[(df.winner == 'Roger Federer') & (df['tournament round'] == 'F')].groupby(by='year')['tournament prize money'].sum().sort_values(ascending=False)"
   ]
  },
  {
   "cell_type": "code",
   "execution_count": 42,
   "metadata": {},
   "outputs": [],
   "source": [
    "# Answer 1a: Federer's best year for cash winnings was 2007"
   ]
  },
  {
   "cell_type": "code",
   "execution_count": 43,
   "metadata": {},
   "outputs": [
    {
     "output_type": "execute_result",
     "data": {
      "text/plain": [
       "year\n",
       "1999     1\n",
       "2001     1\n",
       "2002     3\n",
       "2003     7\n",
       "2004    11\n",
       "2005    11\n",
       "2006    12\n",
       "2007     8\n",
       "2008     4\n",
       "2009     4\n",
       "2010     5\n",
       "2011     4\n",
       "2012     6\n",
       "Name: tournament, dtype: int64"
      ]
     },
     "metadata": {},
     "execution_count": 43
    }
   ],
   "source": [
    "df.loc[(df.winner == 'Roger Federer') & (df['tournament round'] == 'F')].groupby(by='year').count().tournament"
   ]
  },
  {
   "cell_type": "code",
   "execution_count": 44,
   "metadata": {},
   "outputs": [],
   "source": [
    "# Answer 1b: Federer's best year for number of tournaments won was 2006"
   ]
  },
  {
   "cell_type": "code",
   "execution_count": 45,
   "metadata": {},
   "outputs": [
    {
     "output_type": "execute_result",
     "data": {
      "text/plain": [
       "<matplotlib.axes._subplots.AxesSubplot at 0x7fba4ea53fd0>"
      ]
     },
     "metadata": {},
     "execution_count": 45
    },
    {
     "output_type": "display_data",
     "data": {
      "text/plain": "<Figure size 432x288 with 2 Axes>",
      "image/svg+xml": "<?xml version=\"1.0\" encoding=\"utf-8\" standalone=\"no\"?>\n<!DOCTYPE svg PUBLIC \"-//W3C//DTD SVG 1.1//EN\"\n  \"http://www.w3.org/Graphics/SVG/1.1/DTD/svg11.dtd\">\n<!-- Created with matplotlib (https://matplotlib.org/) -->\n<svg height=\"264.523438pt\" version=\"1.1\" viewBox=\"0 0 422.36875 264.523438\" width=\"422.36875pt\" xmlns=\"http://www.w3.org/2000/svg\" xmlns:xlink=\"http://www.w3.org/1999/xlink\">\n <defs>\n  <style type=\"text/css\">\n*{stroke-linecap:butt;stroke-linejoin:round;}\n  </style>\n </defs>\n <g id=\"figure_1\">\n  <g id=\"patch_1\">\n   <path d=\"M 0 264.523438 \nL 422.36875 264.523438 \nL 422.36875 0 \nL 0 0 \nz\n\" style=\"fill:none;\"/>\n  </g>\n  <g id=\"axes_1\">\n   <g id=\"patch_2\">\n    <path d=\"M 40.603125 226.967188 \nL 375.403125 226.967188 \nL 375.403125 9.527188 \nL 40.603125 9.527188 \nz\n\" style=\"fill:#ffffff;\"/>\n   </g>\n   <g id=\"PathCollection_1\">\n    <defs>\n     <path d=\"M 0 3 \nC 0.795609 3 1.55874 2.683901 2.12132 2.12132 \nC 2.683901 1.55874 3 0.795609 3 0 \nC 3 -0.795609 2.683901 -1.55874 2.12132 -2.12132 \nC 1.55874 -2.683901 0.795609 -3 0 -3 \nC -0.795609 -3 -1.55874 -2.683901 -2.12132 -2.12132 \nC -2.683901 -1.55874 -3 -0.795609 -3 0 \nC -3 0.795609 -2.683901 1.55874 -2.12132 2.12132 \nC -1.55874 2.683901 -0.795609 3 0 3 \nz\n\" id=\"mcb8290dd84\" style=\"stroke:#ffffff;stroke-width:0.75;\"/>\n    </defs>\n    <g clip-path=\"url(#p56dbbadd31)\">\n     <use style=\"fill:#0000ff;stroke:#ffffff;stroke-width:0.75;\" x=\"77.561567\" xlink:href=\"#mcb8290dd84\" y=\"217.083551\"/>\n     <use style=\"fill:#0000ff;stroke:#ffffff;stroke-width:0.75;\" x=\"121.042086\" xlink:href=\"#mcb8290dd84\" y=\"217.083551\"/>\n     <use style=\"fill:#0000ff;stroke:#ffffff;stroke-width:0.75;\" x=\"142.782346\" xlink:href=\"#mcb8290dd84\" y=\"181.143056\"/>\n     <use style=\"fill:#0000ff;stroke:#ffffff;stroke-width:0.75;\" x=\"164.522606\" xlink:href=\"#mcb8290dd84\" y=\"109.262064\"/>\n     <use style=\"fill:#0000ff;stroke:#ffffff;stroke-width:0.75;\" x=\"186.262865\" xlink:href=\"#mcb8290dd84\" y=\"37.381072\"/>\n     <use style=\"fill:#0000ff;stroke:#ffffff;stroke-width:0.75;\" x=\"208.003125\" xlink:href=\"#mcb8290dd84\" y=\"37.381072\"/>\n     <use style=\"fill:#0000ff;stroke:#ffffff;stroke-width:0.75;\" x=\"229.743385\" xlink:href=\"#mcb8290dd84\" y=\"19.410824\"/>\n     <use style=\"fill:#0000ff;stroke:#ffffff;stroke-width:0.75;\" x=\"251.483644\" xlink:href=\"#mcb8290dd84\" y=\"91.291816\"/>\n     <use style=\"fill:#0000ff;stroke:#ffffff;stroke-width:0.75;\" x=\"273.223904\" xlink:href=\"#mcb8290dd84\" y=\"163.172808\"/>\n     <use style=\"fill:#0000ff;stroke:#ffffff;stroke-width:0.75;\" x=\"294.964164\" xlink:href=\"#mcb8290dd84\" y=\"163.172808\"/>\n     <use style=\"fill:#0000ff;stroke:#ffffff;stroke-width:0.75;\" x=\"316.704424\" xlink:href=\"#mcb8290dd84\" y=\"145.20256\"/>\n     <use style=\"fill:#0000ff;stroke:#ffffff;stroke-width:0.75;\" x=\"338.444683\" xlink:href=\"#mcb8290dd84\" y=\"163.172808\"/>\n     <use style=\"fill:#0000ff;stroke:#ffffff;stroke-width:0.75;\" x=\"360.184943\" xlink:href=\"#mcb8290dd84\" y=\"127.232312\"/>\n    </g>\n   </g>\n   <g id=\"matplotlib.axis_1\">\n    <g id=\"xtick_1\">\n     <g id=\"line2d_1\">\n      <defs>\n       <path d=\"M 0 0 \nL 0 3.5 \n\" id=\"m83c1c67cb3\" style=\"stroke:#000000;stroke-width:0.8;\"/>\n      </defs>\n      <g>\n       <use style=\"stroke:#000000;stroke-width:0.8;\" x=\"55.821307\" xlink:href=\"#m83c1c67cb3\" y=\"226.967188\"/>\n      </g>\n     </g>\n     <g id=\"text_1\">\n      <!-- 1998 -->\n      <defs>\n       <path d=\"M 12.40625 8.296875 \nL 28.515625 8.296875 \nL 28.515625 63.921875 \nL 10.984375 60.40625 \nL 10.984375 69.390625 \nL 28.421875 72.90625 \nL 38.28125 72.90625 \nL 38.28125 8.296875 \nL 54.390625 8.296875 \nL 54.390625 0 \nL 12.40625 0 \nz\n\" id=\"DejaVuSans-49\"/>\n       <path d=\"M 10.984375 1.515625 \nL 10.984375 10.5 \nQ 14.703125 8.734375 18.5 7.8125 \nQ 22.3125 6.890625 25.984375 6.890625 \nQ 35.75 6.890625 40.890625 13.453125 \nQ 46.046875 20.015625 46.78125 33.40625 \nQ 43.953125 29.203125 39.59375 26.953125 \nQ 35.25 24.703125 29.984375 24.703125 \nQ 19.046875 24.703125 12.671875 31.3125 \nQ 6.296875 37.9375 6.296875 49.421875 \nQ 6.296875 60.640625 12.9375 67.421875 \nQ 19.578125 74.21875 30.609375 74.21875 \nQ 43.265625 74.21875 49.921875 64.515625 \nQ 56.59375 54.828125 56.59375 36.375 \nQ 56.59375 19.140625 48.40625 8.859375 \nQ 40.234375 -1.421875 26.421875 -1.421875 \nQ 22.703125 -1.421875 18.890625 -0.6875 \nQ 15.09375 0.046875 10.984375 1.515625 \nz\nM 30.609375 32.421875 \nQ 37.25 32.421875 41.125 36.953125 \nQ 45.015625 41.5 45.015625 49.421875 \nQ 45.015625 57.28125 41.125 61.84375 \nQ 37.25 66.40625 30.609375 66.40625 \nQ 23.96875 66.40625 20.09375 61.84375 \nQ 16.21875 57.28125 16.21875 49.421875 \nQ 16.21875 41.5 20.09375 36.953125 \nQ 23.96875 32.421875 30.609375 32.421875 \nz\n\" id=\"DejaVuSans-57\"/>\n       <path d=\"M 31.78125 34.625 \nQ 24.75 34.625 20.71875 30.859375 \nQ 16.703125 27.09375 16.703125 20.515625 \nQ 16.703125 13.921875 20.71875 10.15625 \nQ 24.75 6.390625 31.78125 6.390625 \nQ 38.8125 6.390625 42.859375 10.171875 \nQ 46.921875 13.96875 46.921875 20.515625 \nQ 46.921875 27.09375 42.890625 30.859375 \nQ 38.875 34.625 31.78125 34.625 \nz\nM 21.921875 38.8125 \nQ 15.578125 40.375 12.03125 44.71875 \nQ 8.5 49.078125 8.5 55.328125 \nQ 8.5 64.0625 14.71875 69.140625 \nQ 20.953125 74.21875 31.78125 74.21875 \nQ 42.671875 74.21875 48.875 69.140625 \nQ 55.078125 64.0625 55.078125 55.328125 \nQ 55.078125 49.078125 51.53125 44.71875 \nQ 48 40.375 41.703125 38.8125 \nQ 48.828125 37.15625 52.796875 32.3125 \nQ 56.78125 27.484375 56.78125 20.515625 \nQ 56.78125 9.90625 50.3125 4.234375 \nQ 43.84375 -1.421875 31.78125 -1.421875 \nQ 19.734375 -1.421875 13.25 4.234375 \nQ 6.78125 9.90625 6.78125 20.515625 \nQ 6.78125 27.484375 10.78125 32.3125 \nQ 14.796875 37.15625 21.921875 38.8125 \nz\nM 18.3125 54.390625 \nQ 18.3125 48.734375 21.84375 45.5625 \nQ 25.390625 42.390625 31.78125 42.390625 \nQ 38.140625 42.390625 41.71875 45.5625 \nQ 45.3125 48.734375 45.3125 54.390625 \nQ 45.3125 60.0625 41.71875 63.234375 \nQ 38.140625 66.40625 31.78125 66.40625 \nQ 25.390625 66.40625 21.84375 63.234375 \nQ 18.3125 60.0625 18.3125 54.390625 \nz\n\" id=\"DejaVuSans-56\"/>\n      </defs>\n      <g transform=\"translate(43.096307 241.565625)scale(0.1 -0.1)\">\n       <use xlink:href=\"#DejaVuSans-49\"/>\n       <use x=\"63.623047\" xlink:href=\"#DejaVuSans-57\"/>\n       <use x=\"127.246094\" xlink:href=\"#DejaVuSans-57\"/>\n       <use x=\"190.869141\" xlink:href=\"#DejaVuSans-56\"/>\n      </g>\n     </g>\n    </g>\n    <g id=\"xtick_2\">\n     <g id=\"line2d_2\">\n      <g>\n       <use style=\"stroke:#000000;stroke-width:0.8;\" x=\"99.301826\" xlink:href=\"#m83c1c67cb3\" y=\"226.967188\"/>\n      </g>\n     </g>\n     <g id=\"text_2\">\n      <!-- 2000 -->\n      <defs>\n       <path d=\"M 19.1875 8.296875 \nL 53.609375 8.296875 \nL 53.609375 0 \nL 7.328125 0 \nL 7.328125 8.296875 \nQ 12.9375 14.109375 22.625 23.890625 \nQ 32.328125 33.6875 34.8125 36.53125 \nQ 39.546875 41.84375 41.421875 45.53125 \nQ 43.3125 49.21875 43.3125 52.78125 \nQ 43.3125 58.59375 39.234375 62.25 \nQ 35.15625 65.921875 28.609375 65.921875 \nQ 23.96875 65.921875 18.8125 64.3125 \nQ 13.671875 62.703125 7.8125 59.421875 \nL 7.8125 69.390625 \nQ 13.765625 71.78125 18.9375 73 \nQ 24.125 74.21875 28.421875 74.21875 \nQ 39.75 74.21875 46.484375 68.546875 \nQ 53.21875 62.890625 53.21875 53.421875 \nQ 53.21875 48.921875 51.53125 44.890625 \nQ 49.859375 40.875 45.40625 35.40625 \nQ 44.1875 33.984375 37.640625 27.21875 \nQ 31.109375 20.453125 19.1875 8.296875 \nz\n\" id=\"DejaVuSans-50\"/>\n       <path d=\"M 31.78125 66.40625 \nQ 24.171875 66.40625 20.328125 58.90625 \nQ 16.5 51.421875 16.5 36.375 \nQ 16.5 21.390625 20.328125 13.890625 \nQ 24.171875 6.390625 31.78125 6.390625 \nQ 39.453125 6.390625 43.28125 13.890625 \nQ 47.125 21.390625 47.125 36.375 \nQ 47.125 51.421875 43.28125 58.90625 \nQ 39.453125 66.40625 31.78125 66.40625 \nz\nM 31.78125 74.21875 \nQ 44.046875 74.21875 50.515625 64.515625 \nQ 56.984375 54.828125 56.984375 36.375 \nQ 56.984375 17.96875 50.515625 8.265625 \nQ 44.046875 -1.421875 31.78125 -1.421875 \nQ 19.53125 -1.421875 13.0625 8.265625 \nQ 6.59375 17.96875 6.59375 36.375 \nQ 6.59375 54.828125 13.0625 64.515625 \nQ 19.53125 74.21875 31.78125 74.21875 \nz\n\" id=\"DejaVuSans-48\"/>\n      </defs>\n      <g transform=\"translate(86.576826 241.565625)scale(0.1 -0.1)\">\n       <use xlink:href=\"#DejaVuSans-50\"/>\n       <use x=\"63.623047\" xlink:href=\"#DejaVuSans-48\"/>\n       <use x=\"127.246094\" xlink:href=\"#DejaVuSans-48\"/>\n       <use x=\"190.869141\" xlink:href=\"#DejaVuSans-48\"/>\n      </g>\n     </g>\n    </g>\n    <g id=\"xtick_3\">\n     <g id=\"line2d_3\">\n      <g>\n       <use style=\"stroke:#000000;stroke-width:0.8;\" x=\"142.782346\" xlink:href=\"#m83c1c67cb3\" y=\"226.967188\"/>\n      </g>\n     </g>\n     <g id=\"text_3\">\n      <!-- 2002 -->\n      <g transform=\"translate(130.057346 241.565625)scale(0.1 -0.1)\">\n       <use xlink:href=\"#DejaVuSans-50\"/>\n       <use x=\"63.623047\" xlink:href=\"#DejaVuSans-48\"/>\n       <use x=\"127.246094\" xlink:href=\"#DejaVuSans-48\"/>\n       <use x=\"190.869141\" xlink:href=\"#DejaVuSans-50\"/>\n      </g>\n     </g>\n    </g>\n    <g id=\"xtick_4\">\n     <g id=\"line2d_4\">\n      <g>\n       <use style=\"stroke:#000000;stroke-width:0.8;\" x=\"186.262865\" xlink:href=\"#m83c1c67cb3\" y=\"226.967188\"/>\n      </g>\n     </g>\n     <g id=\"text_4\">\n      <!-- 2004 -->\n      <defs>\n       <path d=\"M 37.796875 64.3125 \nL 12.890625 25.390625 \nL 37.796875 25.390625 \nz\nM 35.203125 72.90625 \nL 47.609375 72.90625 \nL 47.609375 25.390625 \nL 58.015625 25.390625 \nL 58.015625 17.1875 \nL 47.609375 17.1875 \nL 47.609375 0 \nL 37.796875 0 \nL 37.796875 17.1875 \nL 4.890625 17.1875 \nL 4.890625 26.703125 \nz\n\" id=\"DejaVuSans-52\"/>\n      </defs>\n      <g transform=\"translate(173.537865 241.565625)scale(0.1 -0.1)\">\n       <use xlink:href=\"#DejaVuSans-50\"/>\n       <use x=\"63.623047\" xlink:href=\"#DejaVuSans-48\"/>\n       <use x=\"127.246094\" xlink:href=\"#DejaVuSans-48\"/>\n       <use x=\"190.869141\" xlink:href=\"#DejaVuSans-52\"/>\n      </g>\n     </g>\n    </g>\n    <g id=\"xtick_5\">\n     <g id=\"line2d_5\">\n      <g>\n       <use style=\"stroke:#000000;stroke-width:0.8;\" x=\"229.743385\" xlink:href=\"#m83c1c67cb3\" y=\"226.967188\"/>\n      </g>\n     </g>\n     <g id=\"text_5\">\n      <!-- 2006 -->\n      <defs>\n       <path d=\"M 33.015625 40.375 \nQ 26.375 40.375 22.484375 35.828125 \nQ 18.609375 31.296875 18.609375 23.390625 \nQ 18.609375 15.53125 22.484375 10.953125 \nQ 26.375 6.390625 33.015625 6.390625 \nQ 39.65625 6.390625 43.53125 10.953125 \nQ 47.40625 15.53125 47.40625 23.390625 \nQ 47.40625 31.296875 43.53125 35.828125 \nQ 39.65625 40.375 33.015625 40.375 \nz\nM 52.59375 71.296875 \nL 52.59375 62.3125 \nQ 48.875 64.0625 45.09375 64.984375 \nQ 41.3125 65.921875 37.59375 65.921875 \nQ 27.828125 65.921875 22.671875 59.328125 \nQ 17.53125 52.734375 16.796875 39.40625 \nQ 19.671875 43.65625 24.015625 45.921875 \nQ 28.375 48.1875 33.59375 48.1875 \nQ 44.578125 48.1875 50.953125 41.515625 \nQ 57.328125 34.859375 57.328125 23.390625 \nQ 57.328125 12.15625 50.6875 5.359375 \nQ 44.046875 -1.421875 33.015625 -1.421875 \nQ 20.359375 -1.421875 13.671875 8.265625 \nQ 6.984375 17.96875 6.984375 36.375 \nQ 6.984375 53.65625 15.1875 63.9375 \nQ 23.390625 74.21875 37.203125 74.21875 \nQ 40.921875 74.21875 44.703125 73.484375 \nQ 48.484375 72.75 52.59375 71.296875 \nz\n\" id=\"DejaVuSans-54\"/>\n      </defs>\n      <g transform=\"translate(217.018385 241.565625)scale(0.1 -0.1)\">\n       <use xlink:href=\"#DejaVuSans-50\"/>\n       <use x=\"63.623047\" xlink:href=\"#DejaVuSans-48\"/>\n       <use x=\"127.246094\" xlink:href=\"#DejaVuSans-48\"/>\n       <use x=\"190.869141\" xlink:href=\"#DejaVuSans-54\"/>\n      </g>\n     </g>\n    </g>\n    <g id=\"xtick_6\">\n     <g id=\"line2d_6\">\n      <g>\n       <use style=\"stroke:#000000;stroke-width:0.8;\" x=\"273.223904\" xlink:href=\"#m83c1c67cb3\" y=\"226.967188\"/>\n      </g>\n     </g>\n     <g id=\"text_6\">\n      <!-- 2008 -->\n      <g transform=\"translate(260.498904 241.565625)scale(0.1 -0.1)\">\n       <use xlink:href=\"#DejaVuSans-50\"/>\n       <use x=\"63.623047\" xlink:href=\"#DejaVuSans-48\"/>\n       <use x=\"127.246094\" xlink:href=\"#DejaVuSans-48\"/>\n       <use x=\"190.869141\" xlink:href=\"#DejaVuSans-56\"/>\n      </g>\n     </g>\n    </g>\n    <g id=\"xtick_7\">\n     <g id=\"line2d_7\">\n      <g>\n       <use style=\"stroke:#000000;stroke-width:0.8;\" x=\"316.704424\" xlink:href=\"#m83c1c67cb3\" y=\"226.967188\"/>\n      </g>\n     </g>\n     <g id=\"text_7\">\n      <!-- 2010 -->\n      <g transform=\"translate(303.979424 241.565625)scale(0.1 -0.1)\">\n       <use xlink:href=\"#DejaVuSans-50\"/>\n       <use x=\"63.623047\" xlink:href=\"#DejaVuSans-48\"/>\n       <use x=\"127.246094\" xlink:href=\"#DejaVuSans-49\"/>\n       <use x=\"190.869141\" xlink:href=\"#DejaVuSans-48\"/>\n      </g>\n     </g>\n    </g>\n    <g id=\"xtick_8\">\n     <g id=\"line2d_8\">\n      <g>\n       <use style=\"stroke:#000000;stroke-width:0.8;\" x=\"360.184943\" xlink:href=\"#m83c1c67cb3\" y=\"226.967188\"/>\n      </g>\n     </g>\n     <g id=\"text_8\">\n      <!-- 2012 -->\n      <g transform=\"translate(347.459943 241.565625)scale(0.1 -0.1)\">\n       <use xlink:href=\"#DejaVuSans-50\"/>\n       <use x=\"63.623047\" xlink:href=\"#DejaVuSans-48\"/>\n       <use x=\"127.246094\" xlink:href=\"#DejaVuSans-49\"/>\n       <use x=\"190.869141\" xlink:href=\"#DejaVuSans-50\"/>\n      </g>\n     </g>\n    </g>\n    <g id=\"text_9\">\n     <!-- year -->\n     <defs>\n      <path d=\"M 32.171875 -5.078125 \nQ 28.375 -14.84375 24.75 -17.8125 \nQ 21.140625 -20.796875 15.09375 -20.796875 \nL 7.90625 -20.796875 \nL 7.90625 -13.28125 \nL 13.1875 -13.28125 \nQ 16.890625 -13.28125 18.9375 -11.515625 \nQ 21 -9.765625 23.484375 -3.21875 \nL 25.09375 0.875 \nL 2.984375 54.6875 \nL 12.5 54.6875 \nL 29.59375 11.921875 \nL 46.6875 54.6875 \nL 56.203125 54.6875 \nz\n\" id=\"DejaVuSans-121\"/>\n      <path d=\"M 56.203125 29.59375 \nL 56.203125 25.203125 \nL 14.890625 25.203125 \nQ 15.484375 15.921875 20.484375 11.0625 \nQ 25.484375 6.203125 34.421875 6.203125 \nQ 39.59375 6.203125 44.453125 7.46875 \nQ 49.3125 8.734375 54.109375 11.28125 \nL 54.109375 2.78125 \nQ 49.265625 0.734375 44.1875 -0.34375 \nQ 39.109375 -1.421875 33.890625 -1.421875 \nQ 20.796875 -1.421875 13.15625 6.1875 \nQ 5.515625 13.8125 5.515625 26.8125 \nQ 5.515625 40.234375 12.765625 48.109375 \nQ 20.015625 56 32.328125 56 \nQ 43.359375 56 49.78125 48.890625 \nQ 56.203125 41.796875 56.203125 29.59375 \nz\nM 47.21875 32.234375 \nQ 47.125 39.59375 43.09375 43.984375 \nQ 39.0625 48.390625 32.421875 48.390625 \nQ 24.90625 48.390625 20.390625 44.140625 \nQ 15.875 39.890625 15.1875 32.171875 \nz\n\" id=\"DejaVuSans-101\"/>\n      <path d=\"M 34.28125 27.484375 \nQ 23.390625 27.484375 19.1875 25 \nQ 14.984375 22.515625 14.984375 16.5 \nQ 14.984375 11.71875 18.140625 8.90625 \nQ 21.296875 6.109375 26.703125 6.109375 \nQ 34.1875 6.109375 38.703125 11.40625 \nQ 43.21875 16.703125 43.21875 25.484375 \nL 43.21875 27.484375 \nz\nM 52.203125 31.203125 \nL 52.203125 0 \nL 43.21875 0 \nL 43.21875 8.296875 \nQ 40.140625 3.328125 35.546875 0.953125 \nQ 30.953125 -1.421875 24.3125 -1.421875 \nQ 15.921875 -1.421875 10.953125 3.296875 \nQ 6 8.015625 6 15.921875 \nQ 6 25.140625 12.171875 29.828125 \nQ 18.359375 34.515625 30.609375 34.515625 \nL 43.21875 34.515625 \nL 43.21875 35.40625 \nQ 43.21875 41.609375 39.140625 45 \nQ 35.0625 48.390625 27.6875 48.390625 \nQ 23 48.390625 18.546875 47.265625 \nQ 14.109375 46.140625 10.015625 43.890625 \nL 10.015625 52.203125 \nQ 14.9375 54.109375 19.578125 55.046875 \nQ 24.21875 56 28.609375 56 \nQ 40.484375 56 46.34375 49.84375 \nQ 52.203125 43.703125 52.203125 31.203125 \nz\n\" id=\"DejaVuSans-97\"/>\n      <path d=\"M 41.109375 46.296875 \nQ 39.59375 47.171875 37.8125 47.578125 \nQ 36.03125 48 33.890625 48 \nQ 26.265625 48 22.1875 43.046875 \nQ 18.109375 38.09375 18.109375 28.8125 \nL 18.109375 0 \nL 9.078125 0 \nL 9.078125 54.6875 \nL 18.109375 54.6875 \nL 18.109375 46.1875 \nQ 20.953125 51.171875 25.484375 53.578125 \nQ 30.03125 56 36.53125 56 \nQ 37.453125 56 38.578125 55.875 \nQ 39.703125 55.765625 41.0625 55.515625 \nz\n\" id=\"DejaVuSans-114\"/>\n     </defs>\n     <g transform=\"translate(196.847656 255.24375)scale(0.1 -0.1)\">\n      <use xlink:href=\"#DejaVuSans-121\"/>\n      <use x=\"59.179688\" xlink:href=\"#DejaVuSans-101\"/>\n      <use x=\"120.703125\" xlink:href=\"#DejaVuSans-97\"/>\n      <use x=\"181.982422\" xlink:href=\"#DejaVuSans-114\"/>\n     </g>\n    </g>\n   </g>\n   <g id=\"matplotlib.axis_2\">\n    <g id=\"ytick_1\">\n     <g id=\"line2d_9\">\n      <defs>\n       <path d=\"M 0 0 \nL -3.5 0 \n\" id=\"m448361f790\" style=\"stroke:#0000ff;stroke-width:0.8;\"/>\n      </defs>\n      <g>\n       <use style=\"fill:#0000ff;stroke:#0000ff;stroke-width:0.8;\" x=\"40.603125\" xlink:href=\"#m448361f790\" y=\"199.113304\"/>\n      </g>\n     </g>\n     <g id=\"text_10\">\n      <!-- 2 -->\n      <g style=\"fill:#0000ff;\" transform=\"translate(27.240625 202.912522)scale(0.1 -0.1)\">\n       <use xlink:href=\"#DejaVuSans-50\"/>\n      </g>\n     </g>\n    </g>\n    <g id=\"ytick_2\">\n     <g id=\"line2d_10\">\n      <g>\n       <use style=\"fill:#0000ff;stroke:#0000ff;stroke-width:0.8;\" x=\"40.603125\" xlink:href=\"#m448361f790\" y=\"163.172808\"/>\n      </g>\n     </g>\n     <g id=\"text_11\">\n      <!-- 4 -->\n      <g style=\"fill:#0000ff;\" transform=\"translate(27.240625 166.972026)scale(0.1 -0.1)\">\n       <use xlink:href=\"#DejaVuSans-52\"/>\n      </g>\n     </g>\n    </g>\n    <g id=\"ytick_3\">\n     <g id=\"line2d_11\">\n      <g>\n       <use style=\"fill:#0000ff;stroke:#0000ff;stroke-width:0.8;\" x=\"40.603125\" xlink:href=\"#m448361f790\" y=\"127.232312\"/>\n      </g>\n     </g>\n     <g id=\"text_12\">\n      <!-- 6 -->\n      <g style=\"fill:#0000ff;\" transform=\"translate(27.240625 131.031531)scale(0.1 -0.1)\">\n       <use xlink:href=\"#DejaVuSans-54\"/>\n      </g>\n     </g>\n    </g>\n    <g id=\"ytick_4\">\n     <g id=\"line2d_12\">\n      <g>\n       <use style=\"fill:#0000ff;stroke:#0000ff;stroke-width:0.8;\" x=\"40.603125\" xlink:href=\"#m448361f790\" y=\"91.291816\"/>\n      </g>\n     </g>\n     <g id=\"text_13\">\n      <!-- 8 -->\n      <g style=\"fill:#0000ff;\" transform=\"translate(27.240625 95.091035)scale(0.1 -0.1)\">\n       <use xlink:href=\"#DejaVuSans-56\"/>\n      </g>\n     </g>\n    </g>\n    <g id=\"ytick_5\">\n     <g id=\"line2d_13\">\n      <g>\n       <use style=\"fill:#0000ff;stroke:#0000ff;stroke-width:0.8;\" x=\"40.603125\" xlink:href=\"#m448361f790\" y=\"55.35132\"/>\n      </g>\n     </g>\n     <g id=\"text_14\">\n      <!-- 10 -->\n      <g style=\"fill:#0000ff;\" transform=\"translate(20.878125 59.150539)scale(0.1 -0.1)\">\n       <use xlink:href=\"#DejaVuSans-49\"/>\n       <use x=\"63.623047\" xlink:href=\"#DejaVuSans-48\"/>\n      </g>\n     </g>\n    </g>\n    <g id=\"ytick_6\">\n     <g id=\"line2d_14\">\n      <g>\n       <use style=\"fill:#0000ff;stroke:#0000ff;stroke-width:0.8;\" x=\"40.603125\" xlink:href=\"#m448361f790\" y=\"19.410824\"/>\n      </g>\n     </g>\n     <g id=\"text_15\">\n      <!-- 12 -->\n      <g style=\"fill:#0000ff;\" transform=\"translate(20.878125 23.210043)scale(0.1 -0.1)\">\n       <use xlink:href=\"#DejaVuSans-49\"/>\n       <use x=\"63.623047\" xlink:href=\"#DejaVuSans-50\"/>\n      </g>\n     </g>\n    </g>\n    <g id=\"text_16\">\n     <!-- Tournament wins -->\n     <defs>\n      <path d=\"M -0.296875 72.90625 \nL 61.375 72.90625 \nL 61.375 64.59375 \nL 35.5 64.59375 \nL 35.5 0 \nL 25.59375 0 \nL 25.59375 64.59375 \nL -0.296875 64.59375 \nz\n\" id=\"DejaVuSans-84\"/>\n      <path d=\"M 30.609375 48.390625 \nQ 23.390625 48.390625 19.1875 42.75 \nQ 14.984375 37.109375 14.984375 27.296875 \nQ 14.984375 17.484375 19.15625 11.84375 \nQ 23.34375 6.203125 30.609375 6.203125 \nQ 37.796875 6.203125 41.984375 11.859375 \nQ 46.1875 17.53125 46.1875 27.296875 \nQ 46.1875 37.015625 41.984375 42.703125 \nQ 37.796875 48.390625 30.609375 48.390625 \nz\nM 30.609375 56 \nQ 42.328125 56 49.015625 48.375 \nQ 55.71875 40.765625 55.71875 27.296875 \nQ 55.71875 13.875 49.015625 6.21875 \nQ 42.328125 -1.421875 30.609375 -1.421875 \nQ 18.84375 -1.421875 12.171875 6.21875 \nQ 5.515625 13.875 5.515625 27.296875 \nQ 5.515625 40.765625 12.171875 48.375 \nQ 18.84375 56 30.609375 56 \nz\n\" id=\"DejaVuSans-111\"/>\n      <path d=\"M 8.5 21.578125 \nL 8.5 54.6875 \nL 17.484375 54.6875 \nL 17.484375 21.921875 \nQ 17.484375 14.15625 20.5 10.265625 \nQ 23.53125 6.390625 29.59375 6.390625 \nQ 36.859375 6.390625 41.078125 11.03125 \nQ 45.3125 15.671875 45.3125 23.6875 \nL 45.3125 54.6875 \nL 54.296875 54.6875 \nL 54.296875 0 \nL 45.3125 0 \nL 45.3125 8.40625 \nQ 42.046875 3.421875 37.71875 1 \nQ 33.40625 -1.421875 27.6875 -1.421875 \nQ 18.265625 -1.421875 13.375 4.4375 \nQ 8.5 10.296875 8.5 21.578125 \nz\nM 31.109375 56 \nz\n\" id=\"DejaVuSans-117\"/>\n      <path d=\"M 54.890625 33.015625 \nL 54.890625 0 \nL 45.90625 0 \nL 45.90625 32.71875 \nQ 45.90625 40.484375 42.875 44.328125 \nQ 39.84375 48.1875 33.796875 48.1875 \nQ 26.515625 48.1875 22.3125 43.546875 \nQ 18.109375 38.921875 18.109375 30.90625 \nL 18.109375 0 \nL 9.078125 0 \nL 9.078125 54.6875 \nL 18.109375 54.6875 \nL 18.109375 46.1875 \nQ 21.34375 51.125 25.703125 53.5625 \nQ 30.078125 56 35.796875 56 \nQ 45.21875 56 50.046875 50.171875 \nQ 54.890625 44.34375 54.890625 33.015625 \nz\n\" id=\"DejaVuSans-110\"/>\n      <path d=\"M 52 44.1875 \nQ 55.375 50.25 60.0625 53.125 \nQ 64.75 56 71.09375 56 \nQ 79.640625 56 84.28125 50.015625 \nQ 88.921875 44.046875 88.921875 33.015625 \nL 88.921875 0 \nL 79.890625 0 \nL 79.890625 32.71875 \nQ 79.890625 40.578125 77.09375 44.375 \nQ 74.3125 48.1875 68.609375 48.1875 \nQ 61.625 48.1875 57.5625 43.546875 \nQ 53.515625 38.921875 53.515625 30.90625 \nL 53.515625 0 \nL 44.484375 0 \nL 44.484375 32.71875 \nQ 44.484375 40.625 41.703125 44.40625 \nQ 38.921875 48.1875 33.109375 48.1875 \nQ 26.21875 48.1875 22.15625 43.53125 \nQ 18.109375 38.875 18.109375 30.90625 \nL 18.109375 0 \nL 9.078125 0 \nL 9.078125 54.6875 \nL 18.109375 54.6875 \nL 18.109375 46.1875 \nQ 21.1875 51.21875 25.484375 53.609375 \nQ 29.78125 56 35.6875 56 \nQ 41.65625 56 45.828125 52.96875 \nQ 50 49.953125 52 44.1875 \nz\n\" id=\"DejaVuSans-109\"/>\n      <path d=\"M 18.3125 70.21875 \nL 18.3125 54.6875 \nL 36.8125 54.6875 \nL 36.8125 47.703125 \nL 18.3125 47.703125 \nL 18.3125 18.015625 \nQ 18.3125 11.328125 20.140625 9.421875 \nQ 21.96875 7.515625 27.59375 7.515625 \nL 36.8125 7.515625 \nL 36.8125 0 \nL 27.59375 0 \nQ 17.1875 0 13.234375 3.875 \nQ 9.28125 7.765625 9.28125 18.015625 \nL 9.28125 47.703125 \nL 2.6875 47.703125 \nL 2.6875 54.6875 \nL 9.28125 54.6875 \nL 9.28125 70.21875 \nz\n\" id=\"DejaVuSans-116\"/>\n      <path id=\"DejaVuSans-32\"/>\n      <path d=\"M 4.203125 54.6875 \nL 13.1875 54.6875 \nL 24.421875 12.015625 \nL 35.59375 54.6875 \nL 46.1875 54.6875 \nL 57.421875 12.015625 \nL 68.609375 54.6875 \nL 77.59375 54.6875 \nL 63.28125 0 \nL 52.6875 0 \nL 40.921875 44.828125 \nL 29.109375 0 \nL 18.5 0 \nz\n\" id=\"DejaVuSans-119\"/>\n      <path d=\"M 9.421875 54.6875 \nL 18.40625 54.6875 \nL 18.40625 0 \nL 9.421875 0 \nz\nM 9.421875 75.984375 \nL 18.40625 75.984375 \nL 18.40625 64.59375 \nL 9.421875 64.59375 \nz\n\" id=\"DejaVuSans-105\"/>\n      <path d=\"M 44.28125 53.078125 \nL 44.28125 44.578125 \nQ 40.484375 46.53125 36.375 47.5 \nQ 32.28125 48.484375 27.875 48.484375 \nQ 21.1875 48.484375 17.84375 46.4375 \nQ 14.5 44.390625 14.5 40.28125 \nQ 14.5 37.15625 16.890625 35.375 \nQ 19.28125 33.59375 26.515625 31.984375 \nL 29.59375 31.296875 \nQ 39.15625 29.25 43.1875 25.515625 \nQ 47.21875 21.78125 47.21875 15.09375 \nQ 47.21875 7.46875 41.1875 3.015625 \nQ 35.15625 -1.421875 24.609375 -1.421875 \nQ 20.21875 -1.421875 15.453125 -0.5625 \nQ 10.6875 0.296875 5.421875 2 \nL 5.421875 11.28125 \nQ 10.40625 8.6875 15.234375 7.390625 \nQ 20.0625 6.109375 24.8125 6.109375 \nQ 31.15625 6.109375 34.5625 8.28125 \nQ 37.984375 10.453125 37.984375 14.40625 \nQ 37.984375 18.0625 35.515625 20.015625 \nQ 33.0625 21.96875 24.703125 23.78125 \nL 21.578125 24.515625 \nQ 13.234375 26.265625 9.515625 29.90625 \nQ 5.8125 33.546875 5.8125 39.890625 \nQ 5.8125 47.609375 11.28125 51.796875 \nQ 16.75 56 26.8125 56 \nQ 31.78125 56 36.171875 55.265625 \nQ 40.578125 54.546875 44.28125 53.078125 \nz\n\" id=\"DejaVuSans-115\"/>\n     </defs>\n     <g style=\"fill:#0000ff;\" transform=\"translate(14.798438 160.796407)rotate(-90)scale(0.1 -0.1)\">\n      <use xlink:href=\"#DejaVuSans-84\"/>\n      <use x=\"44.083984\" xlink:href=\"#DejaVuSans-111\"/>\n      <use x=\"105.265625\" xlink:href=\"#DejaVuSans-117\"/>\n      <use x=\"168.644531\" xlink:href=\"#DejaVuSans-114\"/>\n      <use x=\"208.007812\" xlink:href=\"#DejaVuSans-110\"/>\n      <use x=\"271.386719\" xlink:href=\"#DejaVuSans-97\"/>\n      <use x=\"332.666016\" xlink:href=\"#DejaVuSans-109\"/>\n      <use x=\"430.078125\" xlink:href=\"#DejaVuSans-101\"/>\n      <use x=\"491.601562\" xlink:href=\"#DejaVuSans-110\"/>\n      <use x=\"554.980469\" xlink:href=\"#DejaVuSans-116\"/>\n      <use x=\"594.189453\" xlink:href=\"#DejaVuSans-32\"/>\n      <use x=\"625.976562\" xlink:href=\"#DejaVuSans-119\"/>\n      <use x=\"707.763672\" xlink:href=\"#DejaVuSans-105\"/>\n      <use x=\"735.546875\" xlink:href=\"#DejaVuSans-110\"/>\n      <use x=\"798.925781\" xlink:href=\"#DejaVuSans-115\"/>\n     </g>\n    </g>\n   </g>\n   <g id=\"patch_3\">\n    <path d=\"M 40.603125 226.967188 \nL 40.603125 9.527188 \n\" style=\"fill:none;stroke:#000000;stroke-linecap:square;stroke-linejoin:miter;stroke-width:0.8;\"/>\n   </g>\n   <g id=\"patch_4\">\n    <path d=\"M 375.403125 226.967188 \nL 375.403125 9.527188 \n\" style=\"fill:none;stroke:#000000;stroke-linecap:square;stroke-linejoin:miter;stroke-width:0.8;\"/>\n   </g>\n   <g id=\"patch_5\">\n    <path d=\"M 40.603125 226.967188 \nL 375.403125 226.967188 \n\" style=\"fill:none;stroke:#000000;stroke-linecap:square;stroke-linejoin:miter;stroke-width:0.8;\"/>\n   </g>\n   <g id=\"patch_6\">\n    <path d=\"M 40.603125 9.527188 \nL 375.403125 9.527188 \n\" style=\"fill:none;stroke:#000000;stroke-linecap:square;stroke-linejoin:miter;stroke-width:0.8;\"/>\n   </g>\n  </g>\n  <g id=\"axes_2\">\n   <g id=\"PathCollection_2\">\n    <defs>\n     <path d=\"M 0 3 \nC 0.795609 3 1.55874 2.683901 2.12132 2.12132 \nC 2.683901 1.55874 3 0.795609 3 0 \nC 3 -0.795609 2.683901 -1.55874 2.12132 -2.12132 \nC 1.55874 -2.683901 0.795609 -3 0 -3 \nC -0.795609 -3 -1.55874 -2.683901 -2.12132 -2.12132 \nC -2.683901 -1.55874 -3 -0.795609 -3 0 \nC -3 0.795609 -2.683901 1.55874 -2.12132 2.12132 \nC -1.55874 2.683901 -0.795609 3 0 3 \nz\n\" id=\"mff0b6419e7\" style=\"stroke:#ffffff;stroke-width:0.75;\"/>\n    </defs>\n    <g clip-path=\"url(#p56dbbadd31)\">\n     <use style=\"fill:#ff0000;stroke:#ffffff;stroke-width:0.75;\" x=\"55.821307\" xlink:href=\"#mff0b6419e7\" y=\"217.083551\"/>\n     <use style=\"fill:#ff0000;stroke:#ffffff;stroke-width:0.75;\" x=\"77.561567\" xlink:href=\"#mff0b6419e7\" y=\"160.305215\"/>\n     <use style=\"fill:#ff0000;stroke:#ffffff;stroke-width:0.75;\" x=\"99.301826\" xlink:href=\"#mff0b6419e7\" y=\"145.584905\"/>\n     <use style=\"fill:#ff0000;stroke:#ffffff;stroke-width:0.75;\" x=\"121.042086\" xlink:href=\"#mff0b6419e7\" y=\"111.938484\"/>\n     <use style=\"fill:#ff0000;stroke:#ffffff;stroke-width:0.75;\" x=\"142.782346\" xlink:href=\"#mff0b6419e7\" y=\"88.806569\"/>\n     <use style=\"fill:#ff0000;stroke:#ffffff;stroke-width:0.75;\" x=\"164.522606\" xlink:href=\"#mff0b6419e7\" y=\"48.851443\"/>\n     <use style=\"fill:#ff0000;stroke:#ffffff;stroke-width:0.75;\" x=\"186.262865\" xlink:href=\"#mff0b6419e7\" y=\"59.36595\"/>\n     <use style=\"fill:#ff0000;stroke:#ffffff;stroke-width:0.75;\" x=\"208.003125\" xlink:href=\"#mff0b6419e7\" y=\"46.748542\"/>\n     <use style=\"fill:#ff0000;stroke:#ffffff;stroke-width:0.75;\" x=\"229.743385\" xlink:href=\"#mff0b6419e7\" y=\"19.410824\"/>\n     <use style=\"fill:#ff0000;stroke:#ffffff;stroke-width:0.75;\" x=\"251.483644\" xlink:href=\"#mff0b6419e7\" y=\"57.263049\"/>\n     <use style=\"fill:#ff0000;stroke:#ffffff;stroke-width:0.75;\" x=\"273.223904\" xlink:href=\"#mff0b6419e7\" y=\"61.468851\"/>\n     <use style=\"fill:#ff0000;stroke:#ffffff;stroke-width:0.75;\" x=\"294.964164\" xlink:href=\"#mff0b6419e7\" y=\"76.189161\"/>\n     <use style=\"fill:#ff0000;stroke:#ffffff;stroke-width:0.75;\" x=\"316.704424\" xlink:href=\"#mff0b6419e7\" y=\"61.468851\"/>\n     <use style=\"fill:#ff0000;stroke:#ffffff;stroke-width:0.75;\" x=\"338.444683\" xlink:href=\"#mff0b6419e7\" y=\"69.880457\"/>\n     <use style=\"fill:#ff0000;stroke:#ffffff;stroke-width:0.75;\" x=\"360.184943\" xlink:href=\"#mff0b6419e7\" y=\"50.954344\"/>\n    </g>\n   </g>\n   <g id=\"matplotlib.axis_3\">\n    <g id=\"ytick_7\">\n     <g id=\"line2d_15\">\n      <defs>\n       <path d=\"M 0 0 \nL 3.5 0 \n\" id=\"mb1866cd2da\" style=\"stroke:#ff0000;stroke-width:0.8;\"/>\n      </defs>\n      <g>\n       <use style=\"fill:#ff0000;stroke:#ff0000;stroke-width:0.8;\" x=\"375.403125\" xlink:href=\"#mb1866cd2da\" y=\"221.289354\"/>\n      </g>\n     </g>\n     <g id=\"text_17\">\n      <!-- 0 -->\n      <g style=\"fill:#ff0000;\" transform=\"translate(382.403125 225.088573)scale(0.1 -0.1)\">\n       <use xlink:href=\"#DejaVuSans-48\"/>\n      </g>\n     </g>\n    </g>\n    <g id=\"ytick_8\">\n     <g id=\"line2d_16\">\n      <g>\n       <use style=\"fill:#ff0000;stroke:#ff0000;stroke-width:0.8;\" x=\"375.403125\" xlink:href=\"#mb1866cd2da\" y=\"179.231327\"/>\n      </g>\n     </g>\n     <g id=\"text_18\">\n      <!-- 20 -->\n      <g style=\"fill:#ff0000;\" transform=\"translate(382.403125 183.030546)scale(0.1 -0.1)\">\n       <use xlink:href=\"#DejaVuSans-50\"/>\n       <use x=\"63.623047\" xlink:href=\"#DejaVuSans-48\"/>\n      </g>\n     </g>\n    </g>\n    <g id=\"ytick_9\">\n     <g id=\"line2d_17\">\n      <g>\n       <use style=\"fill:#ff0000;stroke:#ff0000;stroke-width:0.8;\" x=\"375.403125\" xlink:href=\"#mb1866cd2da\" y=\"137.1733\"/>\n      </g>\n     </g>\n     <g id=\"text_19\">\n      <!-- 40 -->\n      <g style=\"fill:#ff0000;\" transform=\"translate(382.403125 140.972519)scale(0.1 -0.1)\">\n       <use xlink:href=\"#DejaVuSans-52\"/>\n       <use x=\"63.623047\" xlink:href=\"#DejaVuSans-48\"/>\n      </g>\n     </g>\n    </g>\n    <g id=\"ytick_10\">\n     <g id=\"line2d_18\">\n      <g>\n       <use style=\"fill:#ff0000;stroke:#ff0000;stroke-width:0.8;\" x=\"375.403125\" xlink:href=\"#mb1866cd2da\" y=\"95.115273\"/>\n      </g>\n     </g>\n     <g id=\"text_20\">\n      <!-- 60 -->\n      <g style=\"fill:#ff0000;\" transform=\"translate(382.403125 98.914492)scale(0.1 -0.1)\">\n       <use xlink:href=\"#DejaVuSans-54\"/>\n       <use x=\"63.623047\" xlink:href=\"#DejaVuSans-48\"/>\n      </g>\n     </g>\n    </g>\n    <g id=\"ytick_11\">\n     <g id=\"line2d_19\">\n      <g>\n       <use style=\"fill:#ff0000;stroke:#ff0000;stroke-width:0.8;\" x=\"375.403125\" xlink:href=\"#mb1866cd2da\" y=\"53.057246\"/>\n      </g>\n     </g>\n     <g id=\"text_21\">\n      <!-- 80 -->\n      <g style=\"fill:#ff0000;\" transform=\"translate(382.403125 56.856465)scale(0.1 -0.1)\">\n       <use xlink:href=\"#DejaVuSans-56\"/>\n       <use x=\"63.623047\" xlink:href=\"#DejaVuSans-48\"/>\n      </g>\n     </g>\n    </g>\n    <g id=\"ytick_12\">\n     <g id=\"line2d_20\">\n      <g>\n       <use style=\"fill:#ff0000;stroke:#ff0000;stroke-width:0.8;\" x=\"375.403125\" xlink:href=\"#mb1866cd2da\" y=\"10.999219\"/>\n      </g>\n     </g>\n     <g id=\"text_22\">\n      <!-- 100 -->\n      <g style=\"fill:#ff0000;\" transform=\"translate(382.403125 14.798437)scale(0.1 -0.1)\">\n       <use xlink:href=\"#DejaVuSans-49\"/>\n       <use x=\"63.623047\" xlink:href=\"#DejaVuSans-48\"/>\n       <use x=\"127.246094\" xlink:href=\"#DejaVuSans-48\"/>\n      </g>\n     </g>\n    </g>\n    <g id=\"text_23\">\n     <!-- tournament -->\n     <g style=\"fill:#ff0000;\" transform=\"translate(413.089062 147.712032)rotate(-90)scale(0.1 -0.1)\">\n      <use xlink:href=\"#DejaVuSans-116\"/>\n      <use x=\"39.208984\" xlink:href=\"#DejaVuSans-111\"/>\n      <use x=\"100.390625\" xlink:href=\"#DejaVuSans-117\"/>\n      <use x=\"163.769531\" xlink:href=\"#DejaVuSans-114\"/>\n      <use x=\"203.132812\" xlink:href=\"#DejaVuSans-110\"/>\n      <use x=\"266.511719\" xlink:href=\"#DejaVuSans-97\"/>\n      <use x=\"327.791016\" xlink:href=\"#DejaVuSans-109\"/>\n      <use x=\"425.203125\" xlink:href=\"#DejaVuSans-101\"/>\n      <use x=\"486.726562\" xlink:href=\"#DejaVuSans-110\"/>\n      <use x=\"550.105469\" xlink:href=\"#DejaVuSans-116\"/>\n     </g>\n    </g>\n   </g>\n   <g id=\"patch_7\">\n    <path d=\"M 40.603125 226.967188 \nL 40.603125 9.527188 \n\" style=\"fill:none;stroke:#000000;stroke-linecap:square;stroke-linejoin:miter;stroke-width:0.8;\"/>\n   </g>\n   <g id=\"patch_8\">\n    <path d=\"M 375.403125 226.967188 \nL 375.403125 9.527188 \n\" style=\"fill:none;stroke:#000000;stroke-linecap:square;stroke-linejoin:miter;stroke-width:0.8;\"/>\n   </g>\n   <g id=\"patch_9\">\n    <path d=\"M 40.603125 226.967188 \nL 375.403125 226.967188 \n\" style=\"fill:none;stroke:#000000;stroke-linecap:square;stroke-linejoin:miter;stroke-width:0.8;\"/>\n   </g>\n   <g id=\"patch_10\">\n    <path d=\"M 40.603125 9.527188 \nL 375.403125 9.527188 \n\" style=\"fill:none;stroke:#000000;stroke-linecap:square;stroke-linejoin:miter;stroke-width:0.8;\"/>\n   </g>\n  </g>\n </g>\n <defs>\n  <clipPath id=\"p56dbbadd31\">\n   <rect height=\"217.44\" width=\"334.8\" x=\"40.603125\" y=\"9.527188\"/>\n  </clipPath>\n </defs>\n</svg>\n",
      "image/png": "[encoded data removed]"
     },
     "metadata": {
      "needs_background": "light"
     }
    }
   ],
   "source": [
    "import seaborn as sns\n",
    "import matplotlib.pyplot as plt\n",
    "df1 = df.loc[(df.winner == 'Roger Federer') & (df['tournament round'] == 'F')].groupby(by='year').count().tournament\n",
    "df2 = df.loc[(df.winner == 'Roger Federer')].groupby(by='year').count().tournament\n",
    "ax = sns.scatterplot(x=df1.index, y=df1,legend=False,color='blue')\n",
    "ax.set_ylabel('Tournament wins',color='blue')\n",
    "ax.tick_params(axis='y', colors='blue')\n",
    "ax2 = ax.twinx()\n",
    "ax2.set_ylabel('Match wins',color='red')\n",
    "ax2.tick_params(axis='y', colors='red')\n",
    "sns.scatterplot(x=df2.index, y=df2,label='match wins', color='red',ax=ax2,legend=False)"
   ]
  },
  {
   "cell_type": "code",
   "execution_count": 46,
   "metadata": {},
   "outputs": [],
   "source": [
    "# Answer: Federer is winning a consistent number\n",
    "#         of matches per year since 2003 but is\n",
    "#         winning less tournaments since the 2004/\n",
    "#         2005 peak"
   ]
  },
  {
   "cell_type": "markdown",
   "metadata": {},
   "source": [
    "# 5.3 Total money won\n",
    "\n",
    "In the data, you'll find the `tournament round`, one value of which, `F` indicates the final.\n",
    "\n",
    "Assuming Federer wins the money in the `tournament prize money` if he wins a final in a tournament, how much money has Federer made in tournaments in this dataset?"
   ]
  },
  {
   "cell_type": "code",
   "execution_count": 47,
   "metadata": {},
   "outputs": [
    {
     "output_type": "execute_result",
     "data": {
      "text/plain": [
       "44934964.0"
      ]
     },
     "metadata": {},
     "execution_count": 47
    }
   ],
   "source": [
    "df = pd.read_csv('data/tennis.csv')\n",
    "df['tournament prize money'] = df['tournament prize money'].replace('[a-zA-Z\\$,]', '', regex=True).replace('',0).astype(float)\n",
    "df['tournament prize money'].loc[(df['tournament round'] == 'F') & (df['winner'] == 'Roger Federer')].sum()\n",
    "# Federer would have won an astronomical amount of money"
   ]
  },
  {
   "cell_type": "code",
   "execution_count": null,
   "metadata": {},
   "outputs": [],
   "source": []
  }
 ],
 "metadata": {
  "kernelspec": {
   "display_name": "Python 3",
   "language": "python",
   "name": "python3"
  },
  "language_info": {
   "codemirror_mode": {
    "name": "ipython",
    "version": 3
   },
   "file_extension": ".py",
   "mimetype": "text/x-python",
   "name": "python",
   "nbconvert_exporter": "python",
   "pygments_lexer": "ipython3",
   "version": "3.8.3-final"
  }
 },
 "nbformat": 4,
 "nbformat_minor": 4
}