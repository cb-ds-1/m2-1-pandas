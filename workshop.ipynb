{
 "cells": [
  {
   "cell_type": "markdown",
   "metadata": {},
   "source": [
    "# Notes:\n",
    "\n",
    "You are banned from using loops (`for` or `while` or any other) for this entire workshop!\n",
    "\n",
    "You shouldn't be using loops almost ever with pandas in any case, so break out of the habit now.\n",
    "\n",
    "## 1. DataFrame basics\n",
    "\n",
    "\n",
    "Consider the following Python dictionary `data` and Python list `labels`:\n",
    "\n",
    "``` python\n",
    "data = {'animal': ['cat', 'cat', 'snake', 'dog', 'dog', 'cat', 'snake', 'cat', 'dog', 'dog'],\n",
    "        'age': [2.5, 3, 0.5, np.nan, 5, 2, 4.5, np.nan, 7, 3],\n",
    "        'visits': [1, 3, 2, 3, 2, 3, 1, 1, 2, 1],\n",
    "        'priority': ['yes', 'yes', 'no', 'yes', 'no', 'no', 'no', 'yes', 'no', 'no']}\n",
    "\n",
    "labels = ['a', 'b', 'c', 'd', 'e', 'f', 'g', 'h', 'i', 'j']\n",
    "```\n",
    "(This is just some meaningless data I made up with the theme of animals and trips to a vet.)\n",
    "\n",
    "**1.** Create a DataFrame `df` from this dictionary `data` which has the index `labels`.\n",
    "\n",
    "**2.** Select only the rows where visits are 3 or more. Which types of animals are these?\n",
    "\n",
    "**3.** Select the rows where visists are 3 and the animal is a cat\n",
    "\n",
    "**4.** Calculate the sum of all visits in `df` (i.e. the total number of visits).\n",
    "\n",
    "**5.** Calculate the mean age for each different animal in `df`.\n",
    "\n",
    "**6.** Append a new row 'k' to `df` with your choice of values for each column. Then delete that row to return the original DataFrame.\n",
    "\n"
   ]
  },
  {
   "cell_type": "code",
   "execution_count": 56,
   "metadata": {},
   "outputs": [
    {
     "output_type": "stream",
     "name": "stdout",
     "text": [
      "  animal  age  visits priority\na    cat  2.5       1      yes\nb    cat  3.0       3      yes\nc  snake  0.5       2       no\nd    dog  NaN       3      yes\ne    dog  5.0       2       no\nf    cat  2.0       3       no\ng  snake  4.5       1       no\nh    cat  NaN       1      yes\ni    dog  7.0       2       no\nj    dog  3.0       1       no\n  animal  age  visits priority\nb    cat  3.0       3      yes\nd    dog  NaN       3      yes\nf    cat  2.0       3       no\n  animal  age  visits priority\nb    cat  3.0       3      yes\nf    cat  2.0       3       no\n19\n3.4375\n  animal  age visits priority\na    cat  2.5      1      yes\nb    cat    3      3      yes\nc  snake  0.5      2       no\nd    dog  NaN      3      yes\ne    dog    5      2       no\nf    cat    2      3       no\ng  snake  4.5      1       no\nh    cat  NaN      1      yes\ni    dog    7      2       no\nj    dog    3      1       no\nk    cat   30      5      yes\n  animal  age visits priority\na    cat  2.5      1      yes\nb    cat    3      3      yes\nc  snake  0.5      2       no\nd    dog  NaN      3      yes\ne    dog    5      2       no\nf    cat    2      3       no\ng  snake  4.5      1       no\nh    cat  NaN      1      yes\ni    dog    7      2       no\nj    dog    3      1       no\n"
     ]
    }
   ],
   "source": [
    "import pandas as pd \n",
    "import numpy as np\n",
    "import random \n",
    "#1 Create a DataFrame df from this dictionary data which has the index labels\n",
    "data = {'animal': ['cat', 'cat', 'snake', 'dog', 'dog', 'cat', 'snake', 'cat', 'dog', 'dog'],\n",
    "        'age': [2.5, 3, 0.5, np.nan, 5, 2, 4.5, np.nan, 7, 3],\n",
    "        'visits': [1, 3, 2, 3, 2, 3, 1, 1, 2, 1],\n",
    "        'priority': ['yes', 'yes', 'no', 'yes', 'no', 'no', 'no', 'yes', 'no', 'no']}\n",
    "\n",
    "labels = ['a', 'b', 'c', 'd', 'e', 'f', 'g', 'h', 'i', 'j']\n",
    "\n",
    "df = pd.DataFrame(data, index=labels)\n",
    "print(df)\n",
    "\n",
    "#2 Select only the rows where visits are 3 or more. Which types of animals are these?\n",
    "\n",
    "msk = df[df.visits>=3]\n",
    "print(msk)\n",
    "\n",
    "\n",
    "#3. Select the rows where visists are 3 and the animal is a cat\n",
    "msk_2 = df[(df.visits>=3) & (df.animal == 'cat')]\n",
    "print(msk_2)\n",
    "\n",
    "#4 Calculate the sum of all visits in df (i.e. the total number of visits). \n",
    "\n",
    "print(df.visits.sum())\n",
    "\n",
    "#5. Calculate the mean age for each different animal in df.\n",
    "\n",
    "print(df.age.mean())\n",
    "\n",
    "#6 Append a new row 'k' to df with your choice of values for each column. Then delete that row to return the original DataFrame.\n",
    "\n",
    "df.loc['k'] = ['cat', '30', '5','yes']\n",
    "print(df)\n",
    "print(df.drop('k', axis=0))\n"
   ]
  },
  {
   "cell_type": "markdown",
   "metadata": {},
   "source": [
    "# 2.1 Shifty problem\n",
    "\n",
    "You have a DataFrame `df` with a column 'A' of integers. For example:\n",
    "```python\n",
    "df = pd.DataFrame({'A': [1, 2, 2, 3, 4, 5, 5, 5, 6, 7, 7]})\n",
    "```\n",
    "\n",
    "How do you filter out rows which contain the same integer as the row immediately above?\n",
    "\n",
    "You should be left with a column containing the following values:\n",
    "\n",
    "```python\n",
    "1, 2, 3, 4, 5, 6, 7\n",
    "```\n",
    "\n",
    "### Hint: use the `shift()` method"
   ]
  },
  {
   "cell_type": "code",
   "execution_count": 74,
   "metadata": {},
   "outputs": [
    {
     "output_type": "stream",
     "name": "stdout",
     "text": [
      "[1 2 3 4 5 6 7]\n"
     ]
    }
   ],
   "source": [
    "df = pd.DataFrame({'A': [1, 2, 2, 3, 4, 5, 5, 5, 6, 7, 7]})\n",
    "\n",
    "sorted = df['A'].unique()\n",
    "print(sorted)"
   ]
  },
  {
   "cell_type": "markdown",
   "metadata": {},
   "source": [
    "# 2.2 columns sum min\n",
    "\n",
    "Suppose you have DataFrame with 10 columns of real numbers, for example:\n",
    "\n",
    "```python\n",
    "df = pd.DataFrame(np.random.random(size=(5, 10)), columns=list('abcdefghij'))\n",
    "```\n",
    "Which column of numbers has the smallest sum? Return that column's label."
   ]
  },
  {
   "cell_type": "code",
   "execution_count": 98,
   "metadata": {},
   "outputs": [
    {
     "output_type": "stream",
     "name": "stdout",
     "text": [
      "h\n"
     ]
    }
   ],
   "source": [
    "df = pd.DataFrame(np.random.random(size=(5, 10)), columns=list('abcdefghij'))\n",
    "df\n",
    "sums = df.select_dtypes(pd.np.number).sum().rename('total')\n",
    "df = df.append(sums)\n",
    "df\n",
    "print(df.loc['total'].idxmax())\n"
   ]
  },
  {
   "cell_type": "markdown",
   "metadata": {},
   "source": [
    "# 2.3 Duplicates\n",
    "\n",
    "How do you count how many unique rows a DataFrame has (i.e. ignore all rows that are duplicates)?\n",
    "\n",
    "**hint:** There's a method for to find duplicate rows for you"
   ]
  },
  {
   "cell_type": "code",
   "execution_count": 101,
   "metadata": {},
   "outputs": [
    {
     "output_type": "stream",
     "name": "stdout",
     "text": [
      "Empty DataFrame\nColumns: [a, b, c, d, e, f, g, h, i, j]\nIndex: []\n"
     ]
    }
   ],
   "source": [
    "df = pd.DataFrame(np.random.random(size=(5, 10)), columns=list('abcdefghij'))\n",
    "df\n",
    "\n",
    "\n",
    "#find duplicate rows \n",
    "duplicateDFRow = df[df.duplicated()]\n",
    "print(duplicateDFRow)\n",
    "#There is no duplicate row in this DataFrame "
   ]
  },
  {
   "cell_type": "markdown",
   "metadata": {},
   "source": [
    "# 2.4 Group Values\n",
    "\n",
    "A DataFrame has a column of groups 'grps' and and column of integer values 'vals': \n",
    "\n",
    "```python\n",
    "df = pd.DataFrame({'grps': list('aaabbcaabcccbbc'), \n",
    "                   'vals': [12,345,3,1,45,14,4,52,54,23,235,21,57,3,87]})\n",
    "```\n",
    "For each *group*, find the sum of the three greatest values.  You should end up with the answer as follows:\n",
    "```\n",
    "grps\n",
    "a    409\n",
    "b    156\n",
    "c    345\n",
    "```"
   ]
  },
  {
   "cell_type": "code",
   "execution_count": 2,
   "metadata": {},
   "outputs": [
    {
     "output_type": "execute_result",
     "data": {
      "text/plain": [
       "grps\n",
       "a    409\n",
       "b    156\n",
       "c    345\n",
       "Name: vals, dtype: int64"
      ]
     },
     "metadata": {},
     "execution_count": 2
    }
   ],
   "source": [
    "import pandas as pd \n",
    "import numpy as np \n",
    "df = pd.DataFrame({'grps': list('aaabbcaabcccbbc'), \n",
    "                   'vals': [12,345,3,1,45,14,4,52,54,23,235,21,57,3,87]})\n",
    "\n",
    "\n",
    "#df_1 = df.nlargest(3, ['vals'])\n",
    "\n",
    "(df.groupby('grps')['vals']\n",
    "    .nlargest(3)\n",
    "    .groupby('grps')\n",
    "    .sum()\n",
    "\n",
    ")\n"
   ]
  },
  {
   "cell_type": "markdown",
   "metadata": {},
   "source": [
    "# 3. Cleaning Data\n",
    "\n",
    "### Making a DataFrame easier to work with\n",
    "\n",
    "It happens all the time: someone gives you data containing malformed strings, Python, lists and missing data. How do you tidy it up so you can get on with the analysis?\n",
    "\n",
    "Take this monstrosity as the DataFrame to use in the following puzzles:\n",
    "\n",
    "```python\n",
    "df = pd.DataFrame({'From_To': ['LoNDon_paris', 'MAdrid_miLAN', 'londON_StockhOlm', \n",
    "                               'Budapest_PaRis', 'Brussels_londOn'],\n",
    "              'FlightNumber': [10045, np.nan, 10065, np.nan, 10085],\n",
    "              'RecentDelays': [[23, 47], [], [24, 43, 87], [13], [67, 32]],\n",
    "                   'Airline': ['KLM(!)', '<Air France> (12)', '(British Airways. )', \n",
    "                               '12. Air France', '\"Swiss Air\"']})\n",
    "```\n",
    "\n",
    "Formatted, it looks like this:\n",
    "\n",
    "```\n",
    "            From_To  FlightNumber  RecentDelays              Airline\n",
    "0      LoNDon_paris       10045.0      [23, 47]               KLM(!)\n",
    "1      MAdrid_miLAN           NaN            []    <Air France> (12)\n",
    "2  londON_StockhOlm       10065.0  [24, 43, 87]  (British Airways. )\n",
    "3    Budapest_PaRis           NaN          [13]       12. Air France\n",
    "4   Brussels_londOn       10085.0      [67, 32]          \"Swiss Air\"\n",
    "```\n",
    "\n",
    "**1.** Some values in the the **FlightNumber** column are missing (they are `NaN`). These numbers are meant to increase by 10 with each row so 10055 and 10075 need to be put in place. Modify `df` to fill in these missing numbers and make the column an integer column (instead of a float column)."
   ]
  },
  {
   "cell_type": "code",
   "execution_count": 332,
   "metadata": {},
   "outputs": [
    {
     "output_type": "execute_result",
     "data": {
      "text/plain": [
       "            From_To  FlightNumber  RecentDelays              Airline\n",
       "0      London_paris       10045.0      [23, 47]               KLM(!)\n",
       "1      Madrid_milan           NaN            []    <Air France> (12)\n",
       "2  London_stockholm       10065.0  [24, 43, 87]  (British Airways. )\n",
       "3    Budapest_paris           NaN          [13]       12. Air France\n",
       "4   Brussels_london       10085.0      [67, 32]          \"Swiss Air\""
      ],
      "text/html": "<div>\n<style scoped>\n    .dataframe tbody tr th:only-of-type {\n        vertical-align: middle;\n    }\n\n    .dataframe tbody tr th {\n        vertical-align: top;\n    }\n\n    .dataframe thead th {\n        text-align: right;\n    }\n</style>\n<table border=\"1\" class=\"dataframe\">\n  <thead>\n    <tr style=\"text-align: right;\">\n      <th></th>\n      <th>From_To</th>\n      <th>FlightNumber</th>\n      <th>RecentDelays</th>\n      <th>Airline</th>\n    </tr>\n  </thead>\n  <tbody>\n    <tr>\n      <th>0</th>\n      <td>London_paris</td>\n      <td>10045.0</td>\n      <td>[23, 47]</td>\n      <td>KLM(!)</td>\n    </tr>\n    <tr>\n      <th>1</th>\n      <td>Madrid_milan</td>\n      <td>NaN</td>\n      <td>[]</td>\n      <td>&lt;Air France&gt; (12)</td>\n    </tr>\n    <tr>\n      <th>2</th>\n      <td>London_stockholm</td>\n      <td>10065.0</td>\n      <td>[24, 43, 87]</td>\n      <td>(British Airways. )</td>\n    </tr>\n    <tr>\n      <th>3</th>\n      <td>Budapest_paris</td>\n      <td>NaN</td>\n      <td>[13]</td>\n      <td>12. Air France</td>\n    </tr>\n    <tr>\n      <th>4</th>\n      <td>Brussels_london</td>\n      <td>10085.0</td>\n      <td>[67, 32]</td>\n      <td>\"Swiss Air\"</td>\n    </tr>\n  </tbody>\n</table>\n</div>"
     },
     "metadata": {},
     "execution_count": 332
    }
   ],
   "source": [
    "df = pd.DataFrame({'From_To': ['LoNDon_paris', 'MAdrid_miLAN', 'londON_StockhOlm', \n",
    "                               'Budapest_PaRis', 'Brussels_londOn'],\n",
    "              'FlightNumber': [10045, np.nan, 10065, np.nan, 10085],\n",
    "              'RecentDelays': [[23, 47], [], [24, 43, 87], [13], [67, 32]],\n",
    "                   'Airline': ['KLM(!)', '<Air France> (12)', '(British Airways. )', \n",
    "                               '12. Air France', '\"Swiss Air\"']})\n",
    "df['From_To'] = df['From_To'].str.capitalize()\n",
    "df.interpolate(method='linear')\n",
    "df"
   ]
  },
  {
   "cell_type": "code",
   "execution_count": 329,
   "metadata": {},
   "outputs": [
    {
     "output_type": "execute_result",
     "data": {
      "text/plain": [
       "            From_To  FlightNumber  RecentDelays              Airline\n",
       "0      LoNDon_paris       10045.0      [23, 47]               KLM(!)\n",
       "1      MAdrid_miLAN       10055.0            []    <Air France> (12)\n",
       "2  londON_StockhOlm       10065.0  [24, 43, 87]  (British Airways. )\n",
       "3    Budapest_PaRis       10075.0          [13]       12. Air France\n",
       "4   Brussels_londOn       10085.0      [67, 32]          \"Swiss Air\""
      ],
      "text/html": "<div>\n<style scoped>\n    .dataframe tbody tr th:only-of-type {\n        vertical-align: middle;\n    }\n\n    .dataframe tbody tr th {\n        vertical-align: top;\n    }\n\n    .dataframe thead th {\n        text-align: right;\n    }\n</style>\n<table border=\"1\" class=\"dataframe\">\n  <thead>\n    <tr style=\"text-align: right;\">\n      <th></th>\n      <th>From_To</th>\n      <th>FlightNumber</th>\n      <th>RecentDelays</th>\n      <th>Airline</th>\n    </tr>\n  </thead>\n  <tbody>\n    <tr>\n      <th>0</th>\n      <td>LoNDon_paris</td>\n      <td>10045.0</td>\n      <td>[23, 47]</td>\n      <td>KLM(!)</td>\n    </tr>\n    <tr>\n      <th>1</th>\n      <td>MAdrid_miLAN</td>\n      <td>10055.0</td>\n      <td>[]</td>\n      <td>&lt;Air France&gt; (12)</td>\n    </tr>\n    <tr>\n      <th>2</th>\n      <td>londON_StockhOlm</td>\n      <td>10065.0</td>\n      <td>[24, 43, 87]</td>\n      <td>(British Airways. )</td>\n    </tr>\n    <tr>\n      <th>3</th>\n      <td>Budapest_PaRis</td>\n      <td>10075.0</td>\n      <td>[13]</td>\n      <td>12. Air France</td>\n    </tr>\n    <tr>\n      <th>4</th>\n      <td>Brussels_londOn</td>\n      <td>10085.0</td>\n      <td>[67, 32]</td>\n      <td>\"Swiss Air\"</td>\n    </tr>\n  </tbody>\n</table>\n</div>"
     },
     "metadata": {},
     "execution_count": 329
    }
   ],
   "source": [
    "df_123 = pd.DataFrame({'From_To': ['LoNDon_paris', 'MAdrid_miLAN', 'londON_StockhOlm', \n",
    "                               'Budapest_PaRis', 'Brussels_londOn'],\n",
    "              'FlightNumber': [10045, np.nan, 10065, np.nan, 10085],\n",
    "              'RecentDelays': [[23, 47], [], [24, 43, 87], [13], [67, 32]],\n",
    "                   'Airline': ['KLM(!)', '<Air France> (12)', '(British Airways. )', \n",
    "                               '12. Air France', '\"Swiss Air\"']})\n",
    "\n",
    "df_123.interpolate(method='linear')\n"
   ]
  },
  {
   "cell_type": "markdown",
   "metadata": {},
   "source": [
    "# 3.2 column splitting\n",
    "\n",
    "The **From\\_To** column would be better as two separate columns! Split each string on the underscore delimiter `_` to make two new columns `From` and `To` to your dataframe."
   ]
  },
  {
   "cell_type": "code",
   "execution_count": 1,
   "metadata": {},
   "outputs": [
    {
     "output_type": "error",
     "ename": "NameError",
     "evalue": "name 'df' is not defined",
     "traceback": [
      "\u001b[1;31m---------------------------------------------------------------------------\u001b[0m",
      "\u001b[1;31mNameError\u001b[0m                                 Traceback (most recent call last)",
      "\u001b[1;32m<ipython-input-1-c38f17e6291b>\u001b[0m in \u001b[0;36m<module>\u001b[1;34m\u001b[0m\n\u001b[1;32m----> 1\u001b[1;33m \u001b[0mdf_1\u001b[0m \u001b[1;33m=\u001b[0m \u001b[0mdf\u001b[0m\u001b[1;33m[\u001b[0m\u001b[1;34m'From_To'\u001b[0m\u001b[1;33m]\u001b[0m\u001b[1;33m.\u001b[0m\u001b[0mstr\u001b[0m\u001b[1;33m.\u001b[0m\u001b[0msplit\u001b[0m\u001b[1;33m(\u001b[0m\u001b[1;34m'_'\u001b[0m\u001b[1;33m,\u001b[0m \u001b[1;36m1\u001b[0m\u001b[1;33m,\u001b[0m \u001b[0mexpand\u001b[0m\u001b[1;33m=\u001b[0m\u001b[1;32mTrue\u001b[0m\u001b[1;33m)\u001b[0m\u001b[1;33m\u001b[0m\u001b[1;33m\u001b[0m\u001b[0m\n\u001b[0m\u001b[0;32m      2\u001b[0m \u001b[1;33m\u001b[0m\u001b[0m\n\u001b[0;32m      3\u001b[0m \u001b[0mdf_1\u001b[0m\u001b[1;33m\u001b[0m\u001b[1;33m\u001b[0m\u001b[0m\n\u001b[0;32m      4\u001b[0m \u001b[0mdf\u001b[0m\u001b[1;33m[\u001b[0m\u001b[1;34m'From'\u001b[0m\u001b[1;33m]\u001b[0m \u001b[1;33m=\u001b[0m \u001b[0mdf_1\u001b[0m\u001b[1;33m[\u001b[0m\u001b[1;36m0\u001b[0m\u001b[1;33m]\u001b[0m\u001b[1;33m\u001b[0m\u001b[1;33m\u001b[0m\u001b[0m\n\u001b[0;32m      5\u001b[0m \u001b[0mdf\u001b[0m\u001b[1;33m[\u001b[0m\u001b[1;34m'To'\u001b[0m\u001b[1;33m]\u001b[0m \u001b[1;33m=\u001b[0m \u001b[0mdf_1\u001b[0m\u001b[1;33m[\u001b[0m\u001b[1;36m1\u001b[0m\u001b[1;33m]\u001b[0m\u001b[1;33m\u001b[0m\u001b[1;33m\u001b[0m\u001b[0m\n",
      "\u001b[1;31mNameError\u001b[0m: name 'df' is not defined"
     ]
    }
   ],
   "source": [
    "df_1 = df['From_To'].str.split('_', 1, expand=True)\n",
    "\n",
    "df_1\n",
    "df['From'] = df_1[0]\n",
    "df['To'] = df_1[1]\n",
    "del df['From_To']\n",
    "df"
   ]
  },
  {
   "cell_type": "markdown",
   "metadata": {},
   "source": [
    "# 3.3 Clean Text\n",
    "\n",
    "Make the text in your dataframe:\n",
    "\n",
    "- From and To columns should be lowercase with only first letter capitalized\n",
    "\n",
    "- In the **Airline** column, you can see some extra puctuation and symbols have appeared around the airline names. Pull out just the airline name. E.g. `'(British Airways. )'` should become `'British Airways'`."
   ]
  },
  {
   "cell_type": "code",
   "execution_count": 273,
   "metadata": {},
   "outputs": [
    {
     "output_type": "execute_result",
     "data": {
      "text/plain": [
       "   FlightNumber  RecentDelays           Airline      From         To\n",
       "0       10045.0      [23, 47]               KLM    London      Paris\n",
       "1           NaN            []     Air France 12    Madrid      Milan\n",
       "2       10065.0  [24, 43, 87]  British Airways     London  Stockholm\n",
       "3           NaN          [13]     12 Air France  Budapest      Paris\n",
       "4       10085.0      [67, 32]         Swiss Air  Brussels     London"
      ],
      "text/html": "<div>\n<style scoped>\n    .dataframe tbody tr th:only-of-type {\n        vertical-align: middle;\n    }\n\n    .dataframe tbody tr th {\n        vertical-align: top;\n    }\n\n    .dataframe thead th {\n        text-align: right;\n    }\n</style>\n<table border=\"1\" class=\"dataframe\">\n  <thead>\n    <tr style=\"text-align: right;\">\n      <th></th>\n      <th>FlightNumber</th>\n      <th>RecentDelays</th>\n      <th>Airline</th>\n      <th>From</th>\n      <th>To</th>\n    </tr>\n  </thead>\n  <tbody>\n    <tr>\n      <th>0</th>\n      <td>10045.0</td>\n      <td>[23, 47]</td>\n      <td>KLM</td>\n      <td>London</td>\n      <td>Paris</td>\n    </tr>\n    <tr>\n      <th>1</th>\n      <td>NaN</td>\n      <td>[]</td>\n      <td>Air France 12</td>\n      <td>Madrid</td>\n      <td>Milan</td>\n    </tr>\n    <tr>\n      <th>2</th>\n      <td>10065.0</td>\n      <td>[24, 43, 87]</td>\n      <td>British Airways</td>\n      <td>London</td>\n      <td>Stockholm</td>\n    </tr>\n    <tr>\n      <th>3</th>\n      <td>NaN</td>\n      <td>[13]</td>\n      <td>12 Air France</td>\n      <td>Budapest</td>\n      <td>Paris</td>\n    </tr>\n    <tr>\n      <th>4</th>\n      <td>10085.0</td>\n      <td>[67, 32]</td>\n      <td>Swiss Air</td>\n      <td>Brussels</td>\n      <td>London</td>\n    </tr>\n  </tbody>\n</table>\n</div>"
     },
     "metadata": {},
     "execution_count": 273
    }
   ],
   "source": [
    "df['From'] = df['From'].str.capitalize()\n",
    "df['To'] = df['To'].str.capitalize()\n",
    "df['Airline'] = df['Airline'].str.replace('[^\\w\\s]', '')\n",
    "df"
   ]
  },
  {
   "cell_type": "markdown",
   "metadata": {},
   "source": [
    "# Exercise 4.1: Column Splitting\n",
    "\n",
    "Given the unemployment data in `data/country_total.csv`, split the `month` column into two new columns: a `year` column and a `month` column, both integers"
   ]
  },
  {
   "cell_type": "code",
   "execution_count": 281,
   "metadata": {},
   "outputs": [
    {
     "output_type": "execute_result",
     "data": {
      "text/plain": [
       "      country seasonality    month  unemployment  unemployment_rate\n",
       "0          at         nsa  1993.01        171000                4.5\n",
       "1          at         nsa  1993.02        175000                4.6\n",
       "2          at         nsa  1993.03        166000                4.4\n",
       "3          at         nsa  1993.04        157000                4.1\n",
       "4          at         nsa  1993.05        147000                3.9\n",
       "...       ...         ...      ...           ...                ...\n",
       "20791      uk       trend  2010.06       2429000                7.7\n",
       "20792      uk       trend  2010.07       2422000                7.7\n",
       "20793      uk       trend  2010.08       2429000                7.7\n",
       "20794      uk       trend  2010.09       2447000                7.8\n",
       "20795      uk       trend  2010.10       2455000                7.8\n",
       "\n",
       "[20796 rows x 5 columns]"
      ],
      "text/html": "<div>\n<style scoped>\n    .dataframe tbody tr th:only-of-type {\n        vertical-align: middle;\n    }\n\n    .dataframe tbody tr th {\n        vertical-align: top;\n    }\n\n    .dataframe thead th {\n        text-align: right;\n    }\n</style>\n<table border=\"1\" class=\"dataframe\">\n  <thead>\n    <tr style=\"text-align: right;\">\n      <th></th>\n      <th>country</th>\n      <th>seasonality</th>\n      <th>month</th>\n      <th>unemployment</th>\n      <th>unemployment_rate</th>\n    </tr>\n  </thead>\n  <tbody>\n    <tr>\n      <th>0</th>\n      <td>at</td>\n      <td>nsa</td>\n      <td>1993.01</td>\n      <td>171000</td>\n      <td>4.5</td>\n    </tr>\n    <tr>\n      <th>1</th>\n      <td>at</td>\n      <td>nsa</td>\n      <td>1993.02</td>\n      <td>175000</td>\n      <td>4.6</td>\n    </tr>\n    <tr>\n      <th>2</th>\n      <td>at</td>\n      <td>nsa</td>\n      <td>1993.03</td>\n      <td>166000</td>\n      <td>4.4</td>\n    </tr>\n    <tr>\n      <th>3</th>\n      <td>at</td>\n      <td>nsa</td>\n      <td>1993.04</td>\n      <td>157000</td>\n      <td>4.1</td>\n    </tr>\n    <tr>\n      <th>4</th>\n      <td>at</td>\n      <td>nsa</td>\n      <td>1993.05</td>\n      <td>147000</td>\n      <td>3.9</td>\n    </tr>\n    <tr>\n      <th>...</th>\n      <td>...</td>\n      <td>...</td>\n      <td>...</td>\n      <td>...</td>\n      <td>...</td>\n    </tr>\n    <tr>\n      <th>20791</th>\n      <td>uk</td>\n      <td>trend</td>\n      <td>2010.06</td>\n      <td>2429000</td>\n      <td>7.7</td>\n    </tr>\n    <tr>\n      <th>20792</th>\n      <td>uk</td>\n      <td>trend</td>\n      <td>2010.07</td>\n      <td>2422000</td>\n      <td>7.7</td>\n    </tr>\n    <tr>\n      <th>20793</th>\n      <td>uk</td>\n      <td>trend</td>\n      <td>2010.08</td>\n      <td>2429000</td>\n      <td>7.7</td>\n    </tr>\n    <tr>\n      <th>20794</th>\n      <td>uk</td>\n      <td>trend</td>\n      <td>2010.09</td>\n      <td>2447000</td>\n      <td>7.8</td>\n    </tr>\n    <tr>\n      <th>20795</th>\n      <td>uk</td>\n      <td>trend</td>\n      <td>2010.10</td>\n      <td>2455000</td>\n      <td>7.8</td>\n    </tr>\n  </tbody>\n</table>\n<p>20796 rows × 5 columns</p>\n</div>"
     },
     "metadata": {},
     "execution_count": 281
    }
   ],
   "source": [
    "df = pd.read_csv('data/country_total.csv')\n",
    "df"
   ]
  },
  {
   "cell_type": "code",
   "execution_count": 296,
   "metadata": {},
   "outputs": [
    {
     "output_type": "execute_result",
     "data": {
      "text/plain": [
       "      country seasonality  unemployment  unemployment_rate  year  month\n",
       "0          at         nsa        171000                4.5  1993      1\n",
       "1          at         nsa        175000                4.6  1993      2\n",
       "2          at         nsa        166000                4.4  1993      3\n",
       "3          at         nsa        157000                4.1  1993      4\n",
       "4          at         nsa        147000                3.9  1993      5\n",
       "...       ...         ...           ...                ...   ...    ...\n",
       "20791      uk       trend       2429000                7.7  2010      6\n",
       "20792      uk       trend       2422000                7.7  2010      7\n",
       "20793      uk       trend       2429000                7.7  2010      8\n",
       "20794      uk       trend       2447000                7.8  2010      9\n",
       "20795      uk       trend       2455000                7.8  2010     10\n",
       "\n",
       "[20796 rows x 6 columns]"
      ],
      "text/html": "<div>\n<style scoped>\n    .dataframe tbody tr th:only-of-type {\n        vertical-align: middle;\n    }\n\n    .dataframe tbody tr th {\n        vertical-align: top;\n    }\n\n    .dataframe thead th {\n        text-align: right;\n    }\n</style>\n<table border=\"1\" class=\"dataframe\">\n  <thead>\n    <tr style=\"text-align: right;\">\n      <th></th>\n      <th>country</th>\n      <th>seasonality</th>\n      <th>unemployment</th>\n      <th>unemployment_rate</th>\n      <th>year</th>\n      <th>month</th>\n    </tr>\n  </thead>\n  <tbody>\n    <tr>\n      <th>0</th>\n      <td>at</td>\n      <td>nsa</td>\n      <td>171000</td>\n      <td>4.5</td>\n      <td>1993</td>\n      <td>1</td>\n    </tr>\n    <tr>\n      <th>1</th>\n      <td>at</td>\n      <td>nsa</td>\n      <td>175000</td>\n      <td>4.6</td>\n      <td>1993</td>\n      <td>2</td>\n    </tr>\n    <tr>\n      <th>2</th>\n      <td>at</td>\n      <td>nsa</td>\n      <td>166000</td>\n      <td>4.4</td>\n      <td>1993</td>\n      <td>3</td>\n    </tr>\n    <tr>\n      <th>3</th>\n      <td>at</td>\n      <td>nsa</td>\n      <td>157000</td>\n      <td>4.1</td>\n      <td>1993</td>\n      <td>4</td>\n    </tr>\n    <tr>\n      <th>4</th>\n      <td>at</td>\n      <td>nsa</td>\n      <td>147000</td>\n      <td>3.9</td>\n      <td>1993</td>\n      <td>5</td>\n    </tr>\n    <tr>\n      <th>...</th>\n      <td>...</td>\n      <td>...</td>\n      <td>...</td>\n      <td>...</td>\n      <td>...</td>\n      <td>...</td>\n    </tr>\n    <tr>\n      <th>20791</th>\n      <td>uk</td>\n      <td>trend</td>\n      <td>2429000</td>\n      <td>7.7</td>\n      <td>2010</td>\n      <td>6</td>\n    </tr>\n    <tr>\n      <th>20792</th>\n      <td>uk</td>\n      <td>trend</td>\n      <td>2422000</td>\n      <td>7.7</td>\n      <td>2010</td>\n      <td>7</td>\n    </tr>\n    <tr>\n      <th>20793</th>\n      <td>uk</td>\n      <td>trend</td>\n      <td>2429000</td>\n      <td>7.7</td>\n      <td>2010</td>\n      <td>8</td>\n    </tr>\n    <tr>\n      <th>20794</th>\n      <td>uk</td>\n      <td>trend</td>\n      <td>2447000</td>\n      <td>7.8</td>\n      <td>2010</td>\n      <td>9</td>\n    </tr>\n    <tr>\n      <th>20795</th>\n      <td>uk</td>\n      <td>trend</td>\n      <td>2455000</td>\n      <td>7.8</td>\n      <td>2010</td>\n      <td>10</td>\n    </tr>\n  </tbody>\n</table>\n<p>20796 rows × 6 columns</p>\n</div>"
     },
     "metadata": {},
     "execution_count": 296
    }
   ],
   "source": [
    "from datetime import datetime\n",
    "import pandas as pd \n",
    "df = pd.read_csv('data/country_total.csv', parse_dates=['month'])\n",
    "\n",
    "timestamp = '1993-01-01'\n",
    "dt = datetime.strptime(timestamp, '%Y-%m-%d')\n",
    "\n",
    "df['year'] = pd.DatetimeIndex(df['month']).year\n",
    "df['month'] = pd.DatetimeIndex(df['month']).month\n",
    "df = df[['country', 'seasonality', 'unemployment', 'unemployment_rate', 'year', 'month']]\n",
    "df\n"
   ]
  },
  {
   "cell_type": "markdown",
   "metadata": {},
   "source": [
    "# 4.2 Group Statistics\n",
    "\n",
    "Given the unemployment data in `data/country_sex_age.csv`, give the average unemployment rate for:\n",
    "\n",
    "- Each gender\n",
    "- Each Age Group\n",
    "- Both Together\n",
    "\n",
    "**HINT:** The `seasonality` column makes it such that the data is repeated for each method of calculating unemployment (`nsa`, `trend`, etc.). Can you ignore this and group over it? Or should you take the average for each?"
   ]
  },
  {
   "cell_type": "code",
   "execution_count": 310,
   "metadata": {},
   "outputs": [
    {
     "output_type": "execute_result",
     "data": {
      "text/plain": [
       "      country seasonality sex age_group    month  unemployment  \\\n",
       "0          at         nsa   f    y25-74  1993.01         61000   \n",
       "1          at         nsa   f    y25-74  1993.02         62000   \n",
       "2          at         nsa   f    y25-74  1993.03         62000   \n",
       "3          at         nsa   f    y25-74  1993.04         63000   \n",
       "4          at         nsa   f    y25-74  1993.05         63000   \n",
       "...       ...         ...  ..       ...      ...           ...   \n",
       "83155      uk       trend   m    y_lt25  2010.06        518000   \n",
       "83156      uk       trend   m    y_lt25  2010.07        513000   \n",
       "83157      uk       trend   m    y_lt25  2010.08        509000   \n",
       "83158      uk       trend   m    y_lt25  2010.09        513000   \n",
       "83159      uk       trend   m    y_lt25  2010.10        520000   \n",
       "\n",
       "       unemployment_rate  \n",
       "0                    4.5  \n",
       "1                    4.5  \n",
       "2                    4.5  \n",
       "3                    4.6  \n",
       "4                    4.6  \n",
       "...                  ...  \n",
       "83155               21.1  \n",
       "83156               20.8  \n",
       "83157               20.5  \n",
       "83158               20.7  \n",
       "83159               21.1  \n",
       "\n",
       "[83160 rows x 7 columns]"
      ],
      "text/html": "<div>\n<style scoped>\n    .dataframe tbody tr th:only-of-type {\n        vertical-align: middle;\n    }\n\n    .dataframe tbody tr th {\n        vertical-align: top;\n    }\n\n    .dataframe thead th {\n        text-align: right;\n    }\n</style>\n<table border=\"1\" class=\"dataframe\">\n  <thead>\n    <tr style=\"text-align: right;\">\n      <th></th>\n      <th>country</th>\n      <th>seasonality</th>\n      <th>sex</th>\n      <th>age_group</th>\n      <th>month</th>\n      <th>unemployment</th>\n      <th>unemployment_rate</th>\n    </tr>\n  </thead>\n  <tbody>\n    <tr>\n      <th>0</th>\n      <td>at</td>\n      <td>nsa</td>\n      <td>f</td>\n      <td>y25-74</td>\n      <td>1993.01</td>\n      <td>61000</td>\n      <td>4.5</td>\n    </tr>\n    <tr>\n      <th>1</th>\n      <td>at</td>\n      <td>nsa</td>\n      <td>f</td>\n      <td>y25-74</td>\n      <td>1993.02</td>\n      <td>62000</td>\n      <td>4.5</td>\n    </tr>\n    <tr>\n      <th>2</th>\n      <td>at</td>\n      <td>nsa</td>\n      <td>f</td>\n      <td>y25-74</td>\n      <td>1993.03</td>\n      <td>62000</td>\n      <td>4.5</td>\n    </tr>\n    <tr>\n      <th>3</th>\n      <td>at</td>\n      <td>nsa</td>\n      <td>f</td>\n      <td>y25-74</td>\n      <td>1993.04</td>\n      <td>63000</td>\n      <td>4.6</td>\n    </tr>\n    <tr>\n      <th>4</th>\n      <td>at</td>\n      <td>nsa</td>\n      <td>f</td>\n      <td>y25-74</td>\n      <td>1993.05</td>\n      <td>63000</td>\n      <td>4.6</td>\n    </tr>\n    <tr>\n      <th>...</th>\n      <td>...</td>\n      <td>...</td>\n      <td>...</td>\n      <td>...</td>\n      <td>...</td>\n      <td>...</td>\n      <td>...</td>\n    </tr>\n    <tr>\n      <th>83155</th>\n      <td>uk</td>\n      <td>trend</td>\n      <td>m</td>\n      <td>y_lt25</td>\n      <td>2010.06</td>\n      <td>518000</td>\n      <td>21.1</td>\n    </tr>\n    <tr>\n      <th>83156</th>\n      <td>uk</td>\n      <td>trend</td>\n      <td>m</td>\n      <td>y_lt25</td>\n      <td>2010.07</td>\n      <td>513000</td>\n      <td>20.8</td>\n    </tr>\n    <tr>\n      <th>83157</th>\n      <td>uk</td>\n      <td>trend</td>\n      <td>m</td>\n      <td>y_lt25</td>\n      <td>2010.08</td>\n      <td>509000</td>\n      <td>20.5</td>\n    </tr>\n    <tr>\n      <th>83158</th>\n      <td>uk</td>\n      <td>trend</td>\n      <td>m</td>\n      <td>y_lt25</td>\n      <td>2010.09</td>\n      <td>513000</td>\n      <td>20.7</td>\n    </tr>\n    <tr>\n      <th>83159</th>\n      <td>uk</td>\n      <td>trend</td>\n      <td>m</td>\n      <td>y_lt25</td>\n      <td>2010.10</td>\n      <td>520000</td>\n      <td>21.1</td>\n    </tr>\n  </tbody>\n</table>\n<p>83160 rows × 7 columns</p>\n</div>"
     },
     "metadata": {},
     "execution_count": 310
    }
   ],
   "source": [
    "df = pd.read_csv('data/country_sex_age.csv')\n",
    "df"
   ]
  },
  {
   "cell_type": "code",
   "execution_count": 334,
   "metadata": {},
   "outputs": [
    {
     "output_type": "stream",
     "name": "stdout",
     "text": [
      "  sex seasonality  unemployment_rate\n0   f         nsa          13.179216\n1   f          sa          12.908743\n2   f       trend          12.862163\n3   m         nsa          11.708432\n4   m          sa          11.662290\n5   m       trend          11.643015\n  age_group seasonality  unemployment_rate\n0    y25-74         nsa           6.870746\n1    y25-74          sa           6.918446\n2    y25-74       trend           6.926319\n3    y_lt25         nsa          18.016902\n4    y_lt25          sa          17.690707\n5    y_lt25       trend          17.617224\n   sex age_group seasonality   unemployment  unemployment_rate\n0    f    y25-74         nsa  244200.087758           7.539839\n1    f    y25-74          sa  275348.154482           7.579982\n2    f    y25-74       trend  270308.535179           7.579934\n3    f    y_lt25         nsa  111623.665350          18.818593\n4    f    y_lt25          sa  114021.946701          18.323837\n5    f    y_lt25       trend  112878.171857          18.231025\n6    m    y25-74         nsa  267525.815416           6.201653\n7    m    y25-74          sa  302136.810603           6.256909\n8    m    y25-74       trend  298051.182238           6.272703\n9    m    y_lt25         nsa  121616.937253          17.215211\n10   m    y_lt25          sa  125866.182129          17.067671\n11   m    y_lt25       trend  124500.720877          17.013327\n"
     ]
    }
   ],
   "source": [
    "df = pd.read_csv('data/country_sex_age.csv')\n",
    "\n",
    "gender = (\n",
    "    df.groupby(['sex', 'seasonality'], as_index=False)['unemployment_rate'].mean()\n",
    "    )\n",
    "print(gender)\n",
    "age_group = (\n",
    "    df.groupby(['age_group', 'seasonality'], as_index=False)['unemployment_rate'].mean()\n",
    ")\n",
    "print(age_group)\n",
    "\n",
    "both = (\n",
    "    df.groupby(['sex', 'age_group', 'seasonality'], as_index=False)['unemployment', 'unemployment_rate'].mean()\n",
    ")\n",
    "print(both)"
   ]
  },
  {
   "cell_type": "markdown",
   "metadata": {},
   "source": [
    "# 4.3 Estimating group size\n",
    "\n",
    "Given that we have the unemployment **rate** as a % of total population, and the number of total unemployed, we can estimate the total population.\n",
    "\n",
    "Give an estimate of the total population for men and women in each age group.\n",
    "\n",
    "Does this change depending on the unemployment seasonality calculation method?"
   ]
  },
  {
   "cell_type": "code",
   "execution_count": 336,
   "metadata": {},
   "outputs": [
    {
     "output_type": "execute_result",
     "data": {
      "text/plain": [
       "   sex age_group seasonality   unemployment  unemployment_rate     total_pop\n",
       "0    f    y25-74         nsa  244200.087758           7.539839  3.238797e+06\n",
       "1    f    y25-74          sa  275348.154482           7.579982  3.632570e+06\n",
       "2    f    y25-74       trend  270308.535179           7.579934  3.566107e+06\n",
       "3    f    y_lt25         nsa  111623.665350          18.818593  5.931563e+05\n",
       "4    f    y_lt25          sa  114021.946701          18.323837  6.222602e+05\n",
       "5    f    y_lt25       trend  112878.171857          18.231025  6.191543e+05\n",
       "6    m    y25-74         nsa  267525.815416           6.201653  4.313782e+06\n",
       "7    m    y25-74          sa  302136.810603           6.256909  4.828851e+06\n",
       "8    m    y25-74       trend  298051.182238           6.272703  4.751559e+06\n",
       "9    m    y_lt25         nsa  121616.937253          17.215211  7.064505e+05\n",
       "10   m    y_lt25          sa  125866.182129          17.067671  7.374538e+05\n",
       "11   m    y_lt25       trend  124500.720877          17.013327  7.317835e+05"
      ],
      "text/html": "<div>\n<style scoped>\n    .dataframe tbody tr th:only-of-type {\n        vertical-align: middle;\n    }\n\n    .dataframe tbody tr th {\n        vertical-align: top;\n    }\n\n    .dataframe thead th {\n        text-align: right;\n    }\n</style>\n<table border=\"1\" class=\"dataframe\">\n  <thead>\n    <tr style=\"text-align: right;\">\n      <th></th>\n      <th>sex</th>\n      <th>age_group</th>\n      <th>seasonality</th>\n      <th>unemployment</th>\n      <th>unemployment_rate</th>\n      <th>total_pop</th>\n    </tr>\n  </thead>\n  <tbody>\n    <tr>\n      <th>0</th>\n      <td>f</td>\n      <td>y25-74</td>\n      <td>nsa</td>\n      <td>244200.087758</td>\n      <td>7.539839</td>\n      <td>3.238797e+06</td>\n    </tr>\n    <tr>\n      <th>1</th>\n      <td>f</td>\n      <td>y25-74</td>\n      <td>sa</td>\n      <td>275348.154482</td>\n      <td>7.579982</td>\n      <td>3.632570e+06</td>\n    </tr>\n    <tr>\n      <th>2</th>\n      <td>f</td>\n      <td>y25-74</td>\n      <td>trend</td>\n      <td>270308.535179</td>\n      <td>7.579934</td>\n      <td>3.566107e+06</td>\n    </tr>\n    <tr>\n      <th>3</th>\n      <td>f</td>\n      <td>y_lt25</td>\n      <td>nsa</td>\n      <td>111623.665350</td>\n      <td>18.818593</td>\n      <td>5.931563e+05</td>\n    </tr>\n    <tr>\n      <th>4</th>\n      <td>f</td>\n      <td>y_lt25</td>\n      <td>sa</td>\n      <td>114021.946701</td>\n      <td>18.323837</td>\n      <td>6.222602e+05</td>\n    </tr>\n    <tr>\n      <th>5</th>\n      <td>f</td>\n      <td>y_lt25</td>\n      <td>trend</td>\n      <td>112878.171857</td>\n      <td>18.231025</td>\n      <td>6.191543e+05</td>\n    </tr>\n    <tr>\n      <th>6</th>\n      <td>m</td>\n      <td>y25-74</td>\n      <td>nsa</td>\n      <td>267525.815416</td>\n      <td>6.201653</td>\n      <td>4.313782e+06</td>\n    </tr>\n    <tr>\n      <th>7</th>\n      <td>m</td>\n      <td>y25-74</td>\n      <td>sa</td>\n      <td>302136.810603</td>\n      <td>6.256909</td>\n      <td>4.828851e+06</td>\n    </tr>\n    <tr>\n      <th>8</th>\n      <td>m</td>\n      <td>y25-74</td>\n      <td>trend</td>\n      <td>298051.182238</td>\n      <td>6.272703</td>\n      <td>4.751559e+06</td>\n    </tr>\n    <tr>\n      <th>9</th>\n      <td>m</td>\n      <td>y_lt25</td>\n      <td>nsa</td>\n      <td>121616.937253</td>\n      <td>17.215211</td>\n      <td>7.064505e+05</td>\n    </tr>\n    <tr>\n      <th>10</th>\n      <td>m</td>\n      <td>y_lt25</td>\n      <td>sa</td>\n      <td>125866.182129</td>\n      <td>17.067671</td>\n      <td>7.374538e+05</td>\n    </tr>\n    <tr>\n      <th>11</th>\n      <td>m</td>\n      <td>y_lt25</td>\n      <td>trend</td>\n      <td>124500.720877</td>\n      <td>17.013327</td>\n      <td>7.317835e+05</td>\n    </tr>\n  </tbody>\n</table>\n</div>"
     },
     "metadata": {},
     "execution_count": 336
    }
   ],
   "source": [
    "both['total_pop'] = (both['unemployment'] / both['unemployment_rate']) * 100\n",
    "both"
   ]
  },
  {
   "cell_type": "markdown",
   "metadata": {},
   "source": [
    "# 5.1 Tennis\n",
    "\n",
    "In `data/tennis.csv` you have games that Roger Federer played against various opponents. Questions:\n",
    "\n",
    "1. How many games did Federer win?\n",
    "\n",
    "2. What is Federer's win/loss ratio?\n",
    "\n",
    "3. Who were Federer's top 5 opponents?"
   ]
  },
  {
   "cell_type": "code",
   "execution_count": 3,
   "metadata": {},
   "outputs": [
    {
     "output_type": "execute_result",
     "data": {
      "text/plain": [
       "      year                  tournament  start date type        surface  \\\n",
       "0     1998          Basel, Switzerland  1998-10-05   WS   Indoor: Hard   \n",
       "1     1998            Toulouse, France  1998-09-28   WS   Indoor: Hard   \n",
       "2     1998            Toulouse, France  1998-09-28   WS   Indoor: Hard   \n",
       "3     1998            Toulouse, France  1998-09-28   WS   Indoor: Hard   \n",
       "4     1998         Geneva, Switzerland  1998-08-24   CH  Outdoor: Clay   \n",
       "...    ...                         ...         ...  ...            ...   \n",
       "1174  2012  Australian Open, Australia  2012-01-16   GS  Outdoor: Hard   \n",
       "1175  2012                 Doha, Qatar  2012-01-02  250  Outdoor: Hard   \n",
       "1176  2012                 Doha, Qatar  2012-01-02  250  Outdoor: Hard   \n",
       "1177  2012                 Doha, Qatar  2012-01-02  250  Outdoor: Hard   \n",
       "1178  2012                 Doha, Qatar  2012-01-02  250  Outdoor: Hard   \n",
       "\n",
       "           draw atp points  atp ranking tournament prize money round  ...  \\\n",
       "0      Draw: 32          1        396.0                 $9,800   R32  ...   \n",
       "1      Draw: 32         59        878.0                $10,800   R32  ...   \n",
       "2      Draw: 32         59        878.0                $10,800   R16  ...   \n",
       "3      Draw: 32         59        878.0                $10,800     Q  ...   \n",
       "4      Draw: 32          1        680.0                   $520   R32  ...   \n",
       "...         ...        ...          ...                    ...   ...  ...   \n",
       "1174  Draw: 128        720          3.0              A$437,000     S  ...   \n",
       "1175   Draw: 32         90          3.0                $50,030   R32  ...   \n",
       "1176   Draw: 32         90          3.0                $50,030   R16  ...   \n",
       "1177   Draw: 32         90          3.0                $50,030     Q  ...   \n",
       "1178   Draw: 32         90          3.0                $50,030     S  ...   \n",
       "\n",
       "     player2 break points converted won player2 break points converted total  \\\n",
       "0                                   4.0                                  8.0   \n",
       "1                                   0.0                                  1.0   \n",
       "2                                   0.0                                  4.0   \n",
       "3                                   3.0                                 10.0   \n",
       "4                                   NaN                                  NaN   \n",
       "...                                 ...                                  ...   \n",
       "1174                                6.0                                 16.0   \n",
       "1175                                0.0                                  0.0   \n",
       "1176                                0.0                                  2.0   \n",
       "1177                                4.0                                  9.0   \n",
       "1178                                NaN                                  NaN   \n",
       "\n",
       "     player2 return games played player2 total service points won  \\\n",
       "0                            8.0                             36.0   \n",
       "1                            8.0                             33.0   \n",
       "2                           10.0                             46.0   \n",
       "3                           10.0                             44.0   \n",
       "4                            NaN                              NaN   \n",
       "...                          ...                              ...   \n",
       "1174                        21.0                             95.0   \n",
       "1175                         8.0                             22.0   \n",
       "1176                         9.0                             28.0   \n",
       "1177                        16.0                             47.0   \n",
       "1178                         NaN                              NaN   \n",
       "\n",
       "     player2 total service points total player2 total return points won  \\\n",
       "0                                  50.0                            26.0   \n",
       "1                                  65.0                             8.0   \n",
       "2                                  75.0                            23.0   \n",
       "3                                  63.0                            26.0   \n",
       "4                                   NaN                             NaN   \n",
       "...                                 ...                             ...   \n",
       "1174                              141.0                            51.0   \n",
       "1175                               45.0                             9.0   \n",
       "1176                               50.0                            11.0   \n",
       "1177                               78.0                            34.0   \n",
       "1178                                NaN                             NaN   \n",
       "\n",
       "      player2 total return points total player2 total points won  \\\n",
       "0                                  53.0                     62.0   \n",
       "1                                  41.0                     41.0   \n",
       "2                                  73.0                     69.0   \n",
       "3                                  67.0                     70.0   \n",
       "4                                   NaN                      NaN   \n",
       "...                                 ...                      ...   \n",
       "1174                              135.0                    146.0   \n",
       "1175                               41.0                     31.0   \n",
       "1176                               49.0                     39.0   \n",
       "1177                               95.0                     81.0   \n",
       "1178                                NaN                      NaN   \n",
       "\n",
       "     player2 total points total    win  \n",
       "0                         103.0  False  \n",
       "1                         106.0   True  \n",
       "2                         148.0   True  \n",
       "3                         130.0  False  \n",
       "4                           NaN  False  \n",
       "...                         ...    ...  \n",
       "1174                      276.0  False  \n",
       "1175                       86.0   True  \n",
       "1176                       99.0   True  \n",
       "1177                      173.0   True  \n",
       "1178                        NaN  False  \n",
       "\n",
       "[1179 rows x 71 columns]"
      ],
      "text/html": "<div>\n<style scoped>\n    .dataframe tbody tr th:only-of-type {\n        vertical-align: middle;\n    }\n\n    .dataframe tbody tr th {\n        vertical-align: top;\n    }\n\n    .dataframe thead th {\n        text-align: right;\n    }\n</style>\n<table border=\"1\" class=\"dataframe\">\n  <thead>\n    <tr style=\"text-align: right;\">\n      <th></th>\n      <th>year</th>\n      <th>tournament</th>\n      <th>start date</th>\n      <th>type</th>\n      <th>surface</th>\n      <th>draw</th>\n      <th>atp points</th>\n      <th>atp ranking</th>\n      <th>tournament prize money</th>\n      <th>round</th>\n      <th>...</th>\n      <th>player2 break points converted won</th>\n      <th>player2 break points converted total</th>\n      <th>player2 return games played</th>\n      <th>player2 total service points won</th>\n      <th>player2 total service points total</th>\n      <th>player2 total return points won</th>\n      <th>player2 total return points total</th>\n      <th>player2 total points won</th>\n      <th>player2 total points total</th>\n      <th>win</th>\n    </tr>\n  </thead>\n  <tbody>\n    <tr>\n      <th>0</th>\n      <td>1998</td>\n      <td>Basel, Switzerland</td>\n      <td>1998-10-05</td>\n      <td>WS</td>\n      <td>Indoor: Hard</td>\n      <td>Draw: 32</td>\n      <td>1</td>\n      <td>396.0</td>\n      <td>$9,800</td>\n      <td>R32</td>\n      <td>...</td>\n      <td>4.0</td>\n      <td>8.0</td>\n      <td>8.0</td>\n      <td>36.0</td>\n      <td>50.0</td>\n      <td>26.0</td>\n      <td>53.0</td>\n      <td>62.0</td>\n      <td>103.0</td>\n      <td>False</td>\n    </tr>\n    <tr>\n      <th>1</th>\n      <td>1998</td>\n      <td>Toulouse, France</td>\n      <td>1998-09-28</td>\n      <td>WS</td>\n      <td>Indoor: Hard</td>\n      <td>Draw: 32</td>\n      <td>59</td>\n      <td>878.0</td>\n      <td>$10,800</td>\n      <td>R32</td>\n      <td>...</td>\n      <td>0.0</td>\n      <td>1.0</td>\n      <td>8.0</td>\n      <td>33.0</td>\n      <td>65.0</td>\n      <td>8.0</td>\n      <td>41.0</td>\n      <td>41.0</td>\n      <td>106.0</td>\n      <td>True</td>\n    </tr>\n    <tr>\n      <th>2</th>\n      <td>1998</td>\n      <td>Toulouse, France</td>\n      <td>1998-09-28</td>\n      <td>WS</td>\n      <td>Indoor: Hard</td>\n      <td>Draw: 32</td>\n      <td>59</td>\n      <td>878.0</td>\n      <td>$10,800</td>\n      <td>R16</td>\n      <td>...</td>\n      <td>0.0</td>\n      <td>4.0</td>\n      <td>10.0</td>\n      <td>46.0</td>\n      <td>75.0</td>\n      <td>23.0</td>\n      <td>73.0</td>\n      <td>69.0</td>\n      <td>148.0</td>\n      <td>True</td>\n    </tr>\n    <tr>\n      <th>3</th>\n      <td>1998</td>\n      <td>Toulouse, France</td>\n      <td>1998-09-28</td>\n      <td>WS</td>\n      <td>Indoor: Hard</td>\n      <td>Draw: 32</td>\n      <td>59</td>\n      <td>878.0</td>\n      <td>$10,800</td>\n      <td>Q</td>\n      <td>...</td>\n      <td>3.0</td>\n      <td>10.0</td>\n      <td>10.0</td>\n      <td>44.0</td>\n      <td>63.0</td>\n      <td>26.0</td>\n      <td>67.0</td>\n      <td>70.0</td>\n      <td>130.0</td>\n      <td>False</td>\n    </tr>\n    <tr>\n      <th>4</th>\n      <td>1998</td>\n      <td>Geneva, Switzerland</td>\n      <td>1998-08-24</td>\n      <td>CH</td>\n      <td>Outdoor: Clay</td>\n      <td>Draw: 32</td>\n      <td>1</td>\n      <td>680.0</td>\n      <td>$520</td>\n      <td>R32</td>\n      <td>...</td>\n      <td>NaN</td>\n      <td>NaN</td>\n      <td>NaN</td>\n      <td>NaN</td>\n      <td>NaN</td>\n      <td>NaN</td>\n      <td>NaN</td>\n      <td>NaN</td>\n      <td>NaN</td>\n      <td>False</td>\n    </tr>\n    <tr>\n      <th>...</th>\n      <td>...</td>\n      <td>...</td>\n      <td>...</td>\n      <td>...</td>\n      <td>...</td>\n      <td>...</td>\n      <td>...</td>\n      <td>...</td>\n      <td>...</td>\n      <td>...</td>\n      <td>...</td>\n      <td>...</td>\n      <td>...</td>\n      <td>...</td>\n      <td>...</td>\n      <td>...</td>\n      <td>...</td>\n      <td>...</td>\n      <td>...</td>\n      <td>...</td>\n      <td>...</td>\n    </tr>\n    <tr>\n      <th>1174</th>\n      <td>2012</td>\n      <td>Australian Open, Australia</td>\n      <td>2012-01-16</td>\n      <td>GS</td>\n      <td>Outdoor: Hard</td>\n      <td>Draw: 128</td>\n      <td>720</td>\n      <td>3.0</td>\n      <td>A$437,000</td>\n      <td>S</td>\n      <td>...</td>\n      <td>6.0</td>\n      <td>16.0</td>\n      <td>21.0</td>\n      <td>95.0</td>\n      <td>141.0</td>\n      <td>51.0</td>\n      <td>135.0</td>\n      <td>146.0</td>\n      <td>276.0</td>\n      <td>False</td>\n    </tr>\n    <tr>\n      <th>1175</th>\n      <td>2012</td>\n      <td>Doha, Qatar</td>\n      <td>2012-01-02</td>\n      <td>250</td>\n      <td>Outdoor: Hard</td>\n      <td>Draw: 32</td>\n      <td>90</td>\n      <td>3.0</td>\n      <td>$50,030</td>\n      <td>R32</td>\n      <td>...</td>\n      <td>0.0</td>\n      <td>0.0</td>\n      <td>8.0</td>\n      <td>22.0</td>\n      <td>45.0</td>\n      <td>9.0</td>\n      <td>41.0</td>\n      <td>31.0</td>\n      <td>86.0</td>\n      <td>True</td>\n    </tr>\n    <tr>\n      <th>1176</th>\n      <td>2012</td>\n      <td>Doha, Qatar</td>\n      <td>2012-01-02</td>\n      <td>250</td>\n      <td>Outdoor: Hard</td>\n      <td>Draw: 32</td>\n      <td>90</td>\n      <td>3.0</td>\n      <td>$50,030</td>\n      <td>R16</td>\n      <td>...</td>\n      <td>0.0</td>\n      <td>2.0</td>\n      <td>9.0</td>\n      <td>28.0</td>\n      <td>50.0</td>\n      <td>11.0</td>\n      <td>49.0</td>\n      <td>39.0</td>\n      <td>99.0</td>\n      <td>True</td>\n    </tr>\n    <tr>\n      <th>1177</th>\n      <td>2012</td>\n      <td>Doha, Qatar</td>\n      <td>2012-01-02</td>\n      <td>250</td>\n      <td>Outdoor: Hard</td>\n      <td>Draw: 32</td>\n      <td>90</td>\n      <td>3.0</td>\n      <td>$50,030</td>\n      <td>Q</td>\n      <td>...</td>\n      <td>4.0</td>\n      <td>9.0</td>\n      <td>16.0</td>\n      <td>47.0</td>\n      <td>78.0</td>\n      <td>34.0</td>\n      <td>95.0</td>\n      <td>81.0</td>\n      <td>173.0</td>\n      <td>True</td>\n    </tr>\n    <tr>\n      <th>1178</th>\n      <td>2012</td>\n      <td>Doha, Qatar</td>\n      <td>2012-01-02</td>\n      <td>250</td>\n      <td>Outdoor: Hard</td>\n      <td>Draw: 32</td>\n      <td>90</td>\n      <td>3.0</td>\n      <td>$50,030</td>\n      <td>S</td>\n      <td>...</td>\n      <td>NaN</td>\n      <td>NaN</td>\n      <td>NaN</td>\n      <td>NaN</td>\n      <td>NaN</td>\n      <td>NaN</td>\n      <td>NaN</td>\n      <td>NaN</td>\n      <td>NaN</td>\n      <td>False</td>\n    </tr>\n  </tbody>\n</table>\n<p>1179 rows × 71 columns</p>\n</div>"
     },
     "metadata": {},
     "execution_count": 3
    }
   ],
   "source": [
    "df = pd.read_csv('data/tennis.csv')\n",
    "df\n"
   ]
  },
  {
   "cell_type": "code",
   "execution_count": 362,
   "metadata": {},
   "outputs": [
    {
     "output_type": "stream",
     "name": "stdout",
     "text": [
      "True     972\nFalse    207\nName: win, dtype: int64\n972\n207\n4.695652173913044\n"
     ]
    }
   ],
   "source": [
    "\n",
    "#1\n",
    "print(df.win.value_counts())\n",
    "true_count = df.win.sum()\n",
    "print(true_count)\n",
    "#2 \n",
    "false_count = len(df) - df.win.sum()\n",
    "print(false_count)\n",
    "\n",
    "ratio = true_count / false_count\n",
    "print(ratio)\n",
    "\n",
    "#3 \n"
   ]
  },
  {
   "cell_type": "markdown",
   "metadata": {},
   "source": [
    "# 5.2 Over time\n",
    "\n",
    "1. What was Federer's best year? In terms of money, and then in terms of number of wins\n",
    "\n",
    "2. Did Federer get better or worse over time?"
   ]
  },
  {
   "cell_type": "code",
   "execution_count": null,
   "metadata": {},
   "outputs": [],
   "source": []
  },
  {
   "cell_type": "markdown",
   "metadata": {},
   "source": [
    "# 5.3 Total money won\n",
    "\n",
    "In the data, you'll find the `tournament round`, one value of which, `F` indicates the final.\n",
    "\n",
    "Assuming Federer wins the money in the `tournament prize money` if he wins a final in a tournament, how much money has Federer made in tournaments in this dataset?"
   ]
  },
  {
   "cell_type": "code",
   "execution_count": null,
   "metadata": {},
   "outputs": [],
   "source": []
  }
 ],
 "metadata": {
  "kernelspec": {
   "display_name": "Python 3",
   "language": "python",
   "name": "python3"
  },
  "language_info": {
   "codemirror_mode": {
    "name": "ipython",
    "version": 3
   },
   "file_extension": ".py",
   "mimetype": "text/x-python",
   "name": "python",
   "nbconvert_exporter": "python",
   "pygments_lexer": "ipython3",
   "version": "3.8.3-final"
  }
 },
 "nbformat": 4,
 "nbformat_minor": 4
}