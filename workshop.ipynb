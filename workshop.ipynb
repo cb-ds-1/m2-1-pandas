{
 "cells": [
  {
   "cell_type": "markdown",
   "metadata": {},
   "source": [
    "# Notes:\n",
    "\n",
    "You are banned from using loops (`for` or `while` or any other) for this entire workshop!\n",
    "\n",
    "You shouldn't be using loops almost ever with pandas in any case, so break out of the habit now.\n",
    "\n",
    "## 1. DataFrame basics\n",
    "\n",
    "\n",
    "Consider the following Python dictionary `data` and Python list `labels`:\n",
    "\n",
    "``` python\n",
    "data = {'animal': ['cat', 'cat', 'snake', 'dog', 'dog', 'cat', 'snake', 'cat', 'dog', 'dog'],\n",
    "        'age': [2.5, 3, 0.5, np.nan, 5, 2, 4.5, np.nan, 7, 3],\n",
    "        'visits': [1, 3, 2, 3, 2, 3, 1, 1, 2, 1],\n",
    "        'priority': ['yes', 'yes', 'no', 'yes', 'no', 'no', 'no', 'yes', 'no', 'no']}\n",
    "\n",
    "labels = ['a', 'b', 'c', 'd', 'e', 'f', 'g', 'h', 'i', 'j']\n",
    "```\n",
    "(This is just some meaningless data I made up with the theme of animals and trips to a vet.)\n",
    "\n",
    "**1.** Create a DataFrame `df` from this dictionary `data` which has the index `labels`.\n",
    "\n",
    "**2.** Select only the rows where visits are 3 or more. Which types of animals are these?\n",
    "\n",
    "**3.** Select the rows where visists are 3 and the animal is a cat\n",
    "\n",
    "**4.** Calculate the sum of all visits in `df` (i.e. the total number of visits).\n",
    "\n",
    "**5.** Calculate the mean age for each different animal in `df`.\n",
    "\n",
    "**6.** Append a new row 'k' to `df` with your choice of values for each column. Then delete that row to return the original DataFrame.\n",
    "\n"
   ]
  },
  {
   "cell_type": "code",
   "execution_count": 2,
   "metadata": {},
   "outputs": [
    {
     "output_type": "execute_result",
     "data": {
      "text/plain": [
       "       animal  age  visits priority\n",
       "labels                             \n",
       "a         cat  2.5       1      yes\n",
       "b         cat  3.0       3      yes\n",
       "c       snake  0.5       2       no\n",
       "d         dog  NaN       3      yes\n",
       "e         dog  5.0       2       no\n",
       "f         cat  2.0       3       no\n",
       "g       snake  4.5       1       no\n",
       "h         cat  NaN       1      yes\n",
       "i         dog  7.0       2       no\n",
       "j         dog  3.0       1       no"
      ],
      "text/html": "<div>\n<style scoped>\n    .dataframe tbody tr th:only-of-type {\n        vertical-align: middle;\n    }\n\n    .dataframe tbody tr th {\n        vertical-align: top;\n    }\n\n    .dataframe thead th {\n        text-align: right;\n    }\n</style>\n<table border=\"1\" class=\"dataframe\">\n  <thead>\n    <tr style=\"text-align: right;\">\n      <th></th>\n      <th>animal</th>\n      <th>age</th>\n      <th>visits</th>\n      <th>priority</th>\n    </tr>\n    <tr>\n      <th>labels</th>\n      <th></th>\n      <th></th>\n      <th></th>\n      <th></th>\n    </tr>\n  </thead>\n  <tbody>\n    <tr>\n      <th>a</th>\n      <td>cat</td>\n      <td>2.5</td>\n      <td>1</td>\n      <td>yes</td>\n    </tr>\n    <tr>\n      <th>b</th>\n      <td>cat</td>\n      <td>3.0</td>\n      <td>3</td>\n      <td>yes</td>\n    </tr>\n    <tr>\n      <th>c</th>\n      <td>snake</td>\n      <td>0.5</td>\n      <td>2</td>\n      <td>no</td>\n    </tr>\n    <tr>\n      <th>d</th>\n      <td>dog</td>\n      <td>NaN</td>\n      <td>3</td>\n      <td>yes</td>\n    </tr>\n    <tr>\n      <th>e</th>\n      <td>dog</td>\n      <td>5.0</td>\n      <td>2</td>\n      <td>no</td>\n    </tr>\n    <tr>\n      <th>f</th>\n      <td>cat</td>\n      <td>2.0</td>\n      <td>3</td>\n      <td>no</td>\n    </tr>\n    <tr>\n      <th>g</th>\n      <td>snake</td>\n      <td>4.5</td>\n      <td>1</td>\n      <td>no</td>\n    </tr>\n    <tr>\n      <th>h</th>\n      <td>cat</td>\n      <td>NaN</td>\n      <td>1</td>\n      <td>yes</td>\n    </tr>\n    <tr>\n      <th>i</th>\n      <td>dog</td>\n      <td>7.0</td>\n      <td>2</td>\n      <td>no</td>\n    </tr>\n    <tr>\n      <th>j</th>\n      <td>dog</td>\n      <td>3.0</td>\n      <td>1</td>\n      <td>no</td>\n    </tr>\n  </tbody>\n</table>\n</div>"
     },
     "metadata": {},
     "execution_count": 2
    }
   ],
   "source": [
    "#Question 1.1\n",
    "import pandas as pd\n",
    "import numpy as np\n",
    "\n",
    "data = {'animal': ['cat', 'cat', 'snake', 'dog', 'dog', 'cat', 'snake', 'cat', 'dog', 'dog'],\n",
    "        'age': [2.5, 3, 0.5, np.nan, 5, 2, 4.5, np.nan, 7, 3],\n",
    "        'visits': [1, 3, 2, 3, 2, 3, 1, 1, 2, 1],\n",
    "        'priority': ['yes', 'yes', 'no', 'yes', 'no', 'no', 'no', 'yes', 'no', 'no'],\n",
    "        'labels' : ['a', 'b', 'c', 'd', 'e', 'f', 'g', 'h', 'i', 'j']\n",
    "\n",
    "}\n",
    "\n",
    "df = pd.DataFrame.from_dict(data)\n",
    "df = df.set_index('labels')\n",
    "df"
   ]
  },
  {
   "cell_type": "code",
   "execution_count": 3,
   "metadata": {},
   "outputs": [
    {
     "output_type": "execute_result",
     "data": {
      "text/plain": [
       "       animal  age  visits priority\n",
       "labels                             \n",
       "b         cat  3.0       3      yes\n",
       "d         dog  NaN       3      yes\n",
       "f         cat  2.0       3       no"
      ],
      "text/html": "<div>\n<style scoped>\n    .dataframe tbody tr th:only-of-type {\n        vertical-align: middle;\n    }\n\n    .dataframe tbody tr th {\n        vertical-align: top;\n    }\n\n    .dataframe thead th {\n        text-align: right;\n    }\n</style>\n<table border=\"1\" class=\"dataframe\">\n  <thead>\n    <tr style=\"text-align: right;\">\n      <th></th>\n      <th>animal</th>\n      <th>age</th>\n      <th>visits</th>\n      <th>priority</th>\n    </tr>\n    <tr>\n      <th>labels</th>\n      <th></th>\n      <th></th>\n      <th></th>\n      <th></th>\n    </tr>\n  </thead>\n  <tbody>\n    <tr>\n      <th>b</th>\n      <td>cat</td>\n      <td>3.0</td>\n      <td>3</td>\n      <td>yes</td>\n    </tr>\n    <tr>\n      <th>d</th>\n      <td>dog</td>\n      <td>NaN</td>\n      <td>3</td>\n      <td>yes</td>\n    </tr>\n    <tr>\n      <th>f</th>\n      <td>cat</td>\n      <td>2.0</td>\n      <td>3</td>\n      <td>no</td>\n    </tr>\n  </tbody>\n</table>\n</div>"
     },
     "metadata": {},
     "execution_count": 3
    }
   ],
   "source": [
    "#Question 1.2\n",
    "visits_3_more = df.visits >= 3\n",
    "df.loc[visits_3_more] #Gives 2 cats and a dog"
   ]
  },
  {
   "cell_type": "code",
   "execution_count": 4,
   "metadata": {},
   "outputs": [
    {
     "output_type": "execute_result",
     "data": {
      "text/plain": [
       "       animal  age  visits priority\n",
       "labels                             \n",
       "b         cat  3.0       3      yes\n",
       "f         cat  2.0       3       no"
      ],
      "text/html": "<div>\n<style scoped>\n    .dataframe tbody tr th:only-of-type {\n        vertical-align: middle;\n    }\n\n    .dataframe tbody tr th {\n        vertical-align: top;\n    }\n\n    .dataframe thead th {\n        text-align: right;\n    }\n</style>\n<table border=\"1\" class=\"dataframe\">\n  <thead>\n    <tr style=\"text-align: right;\">\n      <th></th>\n      <th>animal</th>\n      <th>age</th>\n      <th>visits</th>\n      <th>priority</th>\n    </tr>\n    <tr>\n      <th>labels</th>\n      <th></th>\n      <th></th>\n      <th></th>\n      <th></th>\n    </tr>\n  </thead>\n  <tbody>\n    <tr>\n      <th>b</th>\n      <td>cat</td>\n      <td>3.0</td>\n      <td>3</td>\n      <td>yes</td>\n    </tr>\n    <tr>\n      <th>f</th>\n      <td>cat</td>\n      <td>2.0</td>\n      <td>3</td>\n      <td>no</td>\n    </tr>\n  </tbody>\n</table>\n</div>"
     },
     "metadata": {},
     "execution_count": 4
    }
   ],
   "source": [
    "#Question 1.3\n",
    "df.loc[\n",
    "    (df.visits == 3)\n",
    "    & (df.animal == 'cat')]"
   ]
  },
  {
   "cell_type": "code",
   "execution_count": 5,
   "metadata": {},
   "outputs": [
    {
     "output_type": "execute_result",
     "data": {
      "text/plain": [
       "19"
      ]
     },
     "metadata": {},
     "execution_count": 5
    }
   ],
   "source": [
    "#Question 1.4\n",
    "df['visits'].sum()"
   ]
  },
  {
   "cell_type": "code",
   "execution_count": 6,
   "metadata": {},
   "outputs": [
    {
     "output_type": "execute_result",
     "data": {
      "text/plain": [
       "animal\n",
       "cat      2.5\n",
       "dog      5.0\n",
       "snake    2.5\n",
       "Name: age, dtype: float64"
      ]
     },
     "metadata": {},
     "execution_count": 6
    }
   ],
   "source": [
    "#Question 1.5\n",
    "ax = df.dropna()\n",
    "ax.groupby('animal')['age'].mean()"
   ]
  },
  {
   "cell_type": "code",
   "execution_count": 7,
   "metadata": {},
   "outputs": [
    {
     "output_type": "execute_result",
     "data": {
      "text/plain": [
       "       animal  age  visits priority Favorites\n",
       "labels                                       \n",
       "a         cat  2.5       1      yes        no\n",
       "b         cat  3.0       3      yes        no\n",
       "c       snake  0.5       2       no        no\n",
       "d         dog  NaN       3      yes       yes\n",
       "e         dog  5.0       2       no       yes\n",
       "f         cat  2.0       3       no        no\n",
       "g       snake  4.5       1       no        no\n",
       "h         cat  NaN       1      yes        no\n",
       "i         dog  7.0       2       no       yes\n",
       "j         dog  3.0       1       no       yes"
      ],
      "text/html": "<div>\n<style scoped>\n    .dataframe tbody tr th:only-of-type {\n        vertical-align: middle;\n    }\n\n    .dataframe tbody tr th {\n        vertical-align: top;\n    }\n\n    .dataframe thead th {\n        text-align: right;\n    }\n</style>\n<table border=\"1\" class=\"dataframe\">\n  <thead>\n    <tr style=\"text-align: right;\">\n      <th></th>\n      <th>animal</th>\n      <th>age</th>\n      <th>visits</th>\n      <th>priority</th>\n      <th>Favorites</th>\n    </tr>\n    <tr>\n      <th>labels</th>\n      <th></th>\n      <th></th>\n      <th></th>\n      <th></th>\n      <th></th>\n    </tr>\n  </thead>\n  <tbody>\n    <tr>\n      <th>a</th>\n      <td>cat</td>\n      <td>2.5</td>\n      <td>1</td>\n      <td>yes</td>\n      <td>no</td>\n    </tr>\n    <tr>\n      <th>b</th>\n      <td>cat</td>\n      <td>3.0</td>\n      <td>3</td>\n      <td>yes</td>\n      <td>no</td>\n    </tr>\n    <tr>\n      <th>c</th>\n      <td>snake</td>\n      <td>0.5</td>\n      <td>2</td>\n      <td>no</td>\n      <td>no</td>\n    </tr>\n    <tr>\n      <th>d</th>\n      <td>dog</td>\n      <td>NaN</td>\n      <td>3</td>\n      <td>yes</td>\n      <td>yes</td>\n    </tr>\n    <tr>\n      <th>e</th>\n      <td>dog</td>\n      <td>5.0</td>\n      <td>2</td>\n      <td>no</td>\n      <td>yes</td>\n    </tr>\n    <tr>\n      <th>f</th>\n      <td>cat</td>\n      <td>2.0</td>\n      <td>3</td>\n      <td>no</td>\n      <td>no</td>\n    </tr>\n    <tr>\n      <th>g</th>\n      <td>snake</td>\n      <td>4.5</td>\n      <td>1</td>\n      <td>no</td>\n      <td>no</td>\n    </tr>\n    <tr>\n      <th>h</th>\n      <td>cat</td>\n      <td>NaN</td>\n      <td>1</td>\n      <td>yes</td>\n      <td>no</td>\n    </tr>\n    <tr>\n      <th>i</th>\n      <td>dog</td>\n      <td>7.0</td>\n      <td>2</td>\n      <td>no</td>\n      <td>yes</td>\n    </tr>\n    <tr>\n      <th>j</th>\n      <td>dog</td>\n      <td>3.0</td>\n      <td>1</td>\n      <td>no</td>\n      <td>yes</td>\n    </tr>\n  </tbody>\n</table>\n</div>"
     },
     "metadata": {},
     "execution_count": 7
    }
   ],
   "source": [
    "#Question 1.6\n",
    "favorites = ['no', 'no', 'no', 'yes', 'yes', 'no', 'no', 'no', 'yes', 'yes']\n",
    "df['Favorites'] = favorites\n",
    "df"
   ]
  },
  {
   "cell_type": "code",
   "execution_count": 8,
   "metadata": {},
   "outputs": [
    {
     "output_type": "execute_result",
     "data": {
      "text/plain": [
       "       animal  age  visits priority\n",
       "labels                             \n",
       "a         cat  2.5       1      yes\n",
       "b         cat  3.0       3      yes\n",
       "c       snake  0.5       2       no\n",
       "d         dog  NaN       3      yes\n",
       "e         dog  5.0       2       no\n",
       "f         cat  2.0       3       no\n",
       "g       snake  4.5       1       no\n",
       "h         cat  NaN       1      yes\n",
       "i         dog  7.0       2       no\n",
       "j         dog  3.0       1       no"
      ],
      "text/html": "<div>\n<style scoped>\n    .dataframe tbody tr th:only-of-type {\n        vertical-align: middle;\n    }\n\n    .dataframe tbody tr th {\n        vertical-align: top;\n    }\n\n    .dataframe thead th {\n        text-align: right;\n    }\n</style>\n<table border=\"1\" class=\"dataframe\">\n  <thead>\n    <tr style=\"text-align: right;\">\n      <th></th>\n      <th>animal</th>\n      <th>age</th>\n      <th>visits</th>\n      <th>priority</th>\n    </tr>\n    <tr>\n      <th>labels</th>\n      <th></th>\n      <th></th>\n      <th></th>\n      <th></th>\n    </tr>\n  </thead>\n  <tbody>\n    <tr>\n      <th>a</th>\n      <td>cat</td>\n      <td>2.5</td>\n      <td>1</td>\n      <td>yes</td>\n    </tr>\n    <tr>\n      <th>b</th>\n      <td>cat</td>\n      <td>3.0</td>\n      <td>3</td>\n      <td>yes</td>\n    </tr>\n    <tr>\n      <th>c</th>\n      <td>snake</td>\n      <td>0.5</td>\n      <td>2</td>\n      <td>no</td>\n    </tr>\n    <tr>\n      <th>d</th>\n      <td>dog</td>\n      <td>NaN</td>\n      <td>3</td>\n      <td>yes</td>\n    </tr>\n    <tr>\n      <th>e</th>\n      <td>dog</td>\n      <td>5.0</td>\n      <td>2</td>\n      <td>no</td>\n    </tr>\n    <tr>\n      <th>f</th>\n      <td>cat</td>\n      <td>2.0</td>\n      <td>3</td>\n      <td>no</td>\n    </tr>\n    <tr>\n      <th>g</th>\n      <td>snake</td>\n      <td>4.5</td>\n      <td>1</td>\n      <td>no</td>\n    </tr>\n    <tr>\n      <th>h</th>\n      <td>cat</td>\n      <td>NaN</td>\n      <td>1</td>\n      <td>yes</td>\n    </tr>\n    <tr>\n      <th>i</th>\n      <td>dog</td>\n      <td>7.0</td>\n      <td>2</td>\n      <td>no</td>\n    </tr>\n    <tr>\n      <th>j</th>\n      <td>dog</td>\n      <td>3.0</td>\n      <td>1</td>\n      <td>no</td>\n    </tr>\n  </tbody>\n</table>\n</div>"
     },
     "metadata": {},
     "execution_count": 8
    }
   ],
   "source": [
    "df.drop(['Favorites'], axis = 1)"
   ]
  },
  {
   "cell_type": "markdown",
   "metadata": {},
   "source": [
    "# 2.1 Shifty problem\n",
    "\n",
    "You have a DataFrame `df` with a column 'A' of integers. For example:\n",
    "```python\n",
    "df = pd.DataFrame({'A': [1, 2, 2, 3, 4, 5, 5, 5, 6, 7, 7]})\n",
    "```\n",
    "\n",
    "How do you filter out rows which contain the same integer as the row immediately above?\n",
    "\n",
    "You should be left with a column containing the following values:\n",
    "\n",
    "```python\n",
    "1, 2, 3, 4, 5, 6, 7\n",
    "```\n",
    "\n",
    "### Hint: use the `shift()` method"
   ]
  },
  {
   "cell_type": "code",
   "execution_count": 9,
   "metadata": {},
   "outputs": [
    {
     "output_type": "execute_result",
     "data": {
      "text/plain": [
       "   A\n",
       "0  1\n",
       "1  2\n",
       "3  3\n",
       "4  4\n",
       "5  5\n",
       "8  6\n",
       "9  7"
      ],
      "text/html": "<div>\n<style scoped>\n    .dataframe tbody tr th:only-of-type {\n        vertical-align: middle;\n    }\n\n    .dataframe tbody tr th {\n        vertical-align: top;\n    }\n\n    .dataframe thead th {\n        text-align: right;\n    }\n</style>\n<table border=\"1\" class=\"dataframe\">\n  <thead>\n    <tr style=\"text-align: right;\">\n      <th></th>\n      <th>A</th>\n    </tr>\n  </thead>\n  <tbody>\n    <tr>\n      <th>0</th>\n      <td>1</td>\n    </tr>\n    <tr>\n      <th>1</th>\n      <td>2</td>\n    </tr>\n    <tr>\n      <th>3</th>\n      <td>3</td>\n    </tr>\n    <tr>\n      <th>4</th>\n      <td>4</td>\n    </tr>\n    <tr>\n      <th>5</th>\n      <td>5</td>\n    </tr>\n    <tr>\n      <th>8</th>\n      <td>6</td>\n    </tr>\n    <tr>\n      <th>9</th>\n      <td>7</td>\n    </tr>\n  </tbody>\n</table>\n</div>"
     },
     "metadata": {},
     "execution_count": 9
    }
   ],
   "source": [
    "#easy way\n",
    "import pandas as pd\n",
    "\n",
    "df = pd.DataFrame({'A': [1, 2, 2, 3, 4, 5, 5, 5, 6, 7, 7]})\n",
    "drop = df.drop_duplicates()\n",
    "drop"
   ]
  },
  {
   "cell_type": "code",
   "execution_count": 10,
   "metadata": {},
   "outputs": [
    {
     "output_type": "execute_result",
     "data": {
      "text/plain": [
       "    A  repeats\n",
       "0   1    False\n",
       "1   2    False\n",
       "2   2     True\n",
       "3   3    False\n",
       "4   4    False\n",
       "5   5    False\n",
       "6   5     True\n",
       "7   5     True\n",
       "8   6    False\n",
       "9   7    False\n",
       "10  7     True"
      ],
      "text/html": "<div>\n<style scoped>\n    .dataframe tbody tr th:only-of-type {\n        vertical-align: middle;\n    }\n\n    .dataframe tbody tr th {\n        vertical-align: top;\n    }\n\n    .dataframe thead th {\n        text-align: right;\n    }\n</style>\n<table border=\"1\" class=\"dataframe\">\n  <thead>\n    <tr style=\"text-align: right;\">\n      <th></th>\n      <th>A</th>\n      <th>repeats</th>\n    </tr>\n  </thead>\n  <tbody>\n    <tr>\n      <th>0</th>\n      <td>1</td>\n      <td>False</td>\n    </tr>\n    <tr>\n      <th>1</th>\n      <td>2</td>\n      <td>False</td>\n    </tr>\n    <tr>\n      <th>2</th>\n      <td>2</td>\n      <td>True</td>\n    </tr>\n    <tr>\n      <th>3</th>\n      <td>3</td>\n      <td>False</td>\n    </tr>\n    <tr>\n      <th>4</th>\n      <td>4</td>\n      <td>False</td>\n    </tr>\n    <tr>\n      <th>5</th>\n      <td>5</td>\n      <td>False</td>\n    </tr>\n    <tr>\n      <th>6</th>\n      <td>5</td>\n      <td>True</td>\n    </tr>\n    <tr>\n      <th>7</th>\n      <td>5</td>\n      <td>True</td>\n    </tr>\n    <tr>\n      <th>8</th>\n      <td>6</td>\n      <td>False</td>\n    </tr>\n    <tr>\n      <th>9</th>\n      <td>7</td>\n      <td>False</td>\n    </tr>\n    <tr>\n      <th>10</th>\n      <td>7</td>\n      <td>True</td>\n    </tr>\n  </tbody>\n</table>\n</div>"
     },
     "metadata": {},
     "execution_count": 10
    }
   ],
   "source": [
    "#shift() way\n",
    "df['repeats'] = df.shift(1) == df #look for repeating values\n",
    "df"
   ]
  },
  {
   "cell_type": "code",
   "execution_count": 11,
   "metadata": {},
   "outputs": [
    {
     "output_type": "execute_result",
     "data": {
      "text/plain": [
       "   A  repeats\n",
       "0  1    False\n",
       "1  2    False\n",
       "3  3    False\n",
       "4  4    False\n",
       "5  5    False\n",
       "8  6    False\n",
       "9  7    False"
      ],
      "text/html": "<div>\n<style scoped>\n    .dataframe tbody tr th:only-of-type {\n        vertical-align: middle;\n    }\n\n    .dataframe tbody tr th {\n        vertical-align: top;\n    }\n\n    .dataframe thead th {\n        text-align: right;\n    }\n</style>\n<table border=\"1\" class=\"dataframe\">\n  <thead>\n    <tr style=\"text-align: right;\">\n      <th></th>\n      <th>A</th>\n      <th>repeats</th>\n    </tr>\n  </thead>\n  <tbody>\n    <tr>\n      <th>0</th>\n      <td>1</td>\n      <td>False</td>\n    </tr>\n    <tr>\n      <th>1</th>\n      <td>2</td>\n      <td>False</td>\n    </tr>\n    <tr>\n      <th>3</th>\n      <td>3</td>\n      <td>False</td>\n    </tr>\n    <tr>\n      <th>4</th>\n      <td>4</td>\n      <td>False</td>\n    </tr>\n    <tr>\n      <th>5</th>\n      <td>5</td>\n      <td>False</td>\n    </tr>\n    <tr>\n      <th>8</th>\n      <td>6</td>\n      <td>False</td>\n    </tr>\n    <tr>\n      <th>9</th>\n      <td>7</td>\n      <td>False</td>\n    </tr>\n  </tbody>\n</table>\n</div>"
     },
     "metadata": {},
     "execution_count": 11
    }
   ],
   "source": [
    "df_filter = df[df['repeats'] == False] #delete repeating values (True values)\n",
    "df_filter"
   ]
  },
  {
   "cell_type": "code",
   "execution_count": 12,
   "metadata": {},
   "outputs": [
    {
     "output_type": "execute_result",
     "data": {
      "text/plain": [
       "   A\n",
       "0  1\n",
       "1  2\n",
       "3  3\n",
       "4  4\n",
       "5  5\n",
       "8  6\n",
       "9  7"
      ],
      "text/html": "<div>\n<style scoped>\n    .dataframe tbody tr th:only-of-type {\n        vertical-align: middle;\n    }\n\n    .dataframe tbody tr th {\n        vertical-align: top;\n    }\n\n    .dataframe thead th {\n        text-align: right;\n    }\n</style>\n<table border=\"1\" class=\"dataframe\">\n  <thead>\n    <tr style=\"text-align: right;\">\n      <th></th>\n      <th>A</th>\n    </tr>\n  </thead>\n  <tbody>\n    <tr>\n      <th>0</th>\n      <td>1</td>\n    </tr>\n    <tr>\n      <th>1</th>\n      <td>2</td>\n    </tr>\n    <tr>\n      <th>3</th>\n      <td>3</td>\n    </tr>\n    <tr>\n      <th>4</th>\n      <td>4</td>\n    </tr>\n    <tr>\n      <th>5</th>\n      <td>5</td>\n    </tr>\n    <tr>\n      <th>8</th>\n      <td>6</td>\n    </tr>\n    <tr>\n      <th>9</th>\n      <td>7</td>\n    </tr>\n  </tbody>\n</table>\n</div>"
     },
     "metadata": {},
     "execution_count": 12
    }
   ],
   "source": [
    "df_filter.drop(['repeats'], axis = 1) #delete useless repeats column"
   ]
  },
  {
   "cell_type": "markdown",
   "metadata": {},
   "source": [
    "# 2.2 columns sum min\n",
    "\n",
    "Suppose you have DataFrame with 10 columns of real numbers, for example:\n",
    "\n",
    "```python\n",
    "df = pd.DataFrame(np.random.random(size=(5, 10)), columns=list('abcdefghij'))\n",
    "```\n",
    "Which column of numbers has the smallest sum? Return that column's label."
   ]
  },
  {
   "cell_type": "code",
   "execution_count": 13,
   "metadata": {},
   "outputs": [
    {
     "output_type": "execute_result",
     "data": {
      "text/plain": [
       "          a         b         c         d         e         f         g  \\\n",
       "0  0.545836  0.606948  0.096357  0.480048  0.131087  0.101347  0.600561   \n",
       "1  0.621824  0.576517  0.264220  0.390805  0.827957  0.661580  0.196113   \n",
       "2  0.558283  0.867852  0.926982  0.975437  0.330219  0.211817  0.092365   \n",
       "3  0.652838  0.205660  0.616704  0.945271  0.578023  0.823084  0.094506   \n",
       "4  0.714141  0.905723  0.598105  0.801233  0.586906  0.359328  0.923883   \n",
       "\n",
       "          h         i         j  \n",
       "0  0.542289  0.596332  0.730640  \n",
       "1  0.732399  0.212533  0.542927  \n",
       "2  0.332355  0.594377  0.811954  \n",
       "3  0.230106  0.091865  0.864832  \n",
       "4  0.896990  0.562800  0.384959  "
      ],
      "text/html": "<div>\n<style scoped>\n    .dataframe tbody tr th:only-of-type {\n        vertical-align: middle;\n    }\n\n    .dataframe tbody tr th {\n        vertical-align: top;\n    }\n\n    .dataframe thead th {\n        text-align: right;\n    }\n</style>\n<table border=\"1\" class=\"dataframe\">\n  <thead>\n    <tr style=\"text-align: right;\">\n      <th></th>\n      <th>a</th>\n      <th>b</th>\n      <th>c</th>\n      <th>d</th>\n      <th>e</th>\n      <th>f</th>\n      <th>g</th>\n      <th>h</th>\n      <th>i</th>\n      <th>j</th>\n    </tr>\n  </thead>\n  <tbody>\n    <tr>\n      <th>0</th>\n      <td>0.545836</td>\n      <td>0.606948</td>\n      <td>0.096357</td>\n      <td>0.480048</td>\n      <td>0.131087</td>\n      <td>0.101347</td>\n      <td>0.600561</td>\n      <td>0.542289</td>\n      <td>0.596332</td>\n      <td>0.730640</td>\n    </tr>\n    <tr>\n      <th>1</th>\n      <td>0.621824</td>\n      <td>0.576517</td>\n      <td>0.264220</td>\n      <td>0.390805</td>\n      <td>0.827957</td>\n      <td>0.661580</td>\n      <td>0.196113</td>\n      <td>0.732399</td>\n      <td>0.212533</td>\n      <td>0.542927</td>\n    </tr>\n    <tr>\n      <th>2</th>\n      <td>0.558283</td>\n      <td>0.867852</td>\n      <td>0.926982</td>\n      <td>0.975437</td>\n      <td>0.330219</td>\n      <td>0.211817</td>\n      <td>0.092365</td>\n      <td>0.332355</td>\n      <td>0.594377</td>\n      <td>0.811954</td>\n    </tr>\n    <tr>\n      <th>3</th>\n      <td>0.652838</td>\n      <td>0.205660</td>\n      <td>0.616704</td>\n      <td>0.945271</td>\n      <td>0.578023</td>\n      <td>0.823084</td>\n      <td>0.094506</td>\n      <td>0.230106</td>\n      <td>0.091865</td>\n      <td>0.864832</td>\n    </tr>\n    <tr>\n      <th>4</th>\n      <td>0.714141</td>\n      <td>0.905723</td>\n      <td>0.598105</td>\n      <td>0.801233</td>\n      <td>0.586906</td>\n      <td>0.359328</td>\n      <td>0.923883</td>\n      <td>0.896990</td>\n      <td>0.562800</td>\n      <td>0.384959</td>\n    </tr>\n  </tbody>\n</table>\n</div>"
     },
     "metadata": {},
     "execution_count": 13
    }
   ],
   "source": [
    "import pandas as pd\n",
    "import numpy as np\n",
    "\n",
    "df = pd.DataFrame(np.random.random(size=(5, 10)), columns=list('abcdefghij'))\n",
    "df"
   ]
  },
  {
   "cell_type": "code",
   "execution_count": 14,
   "metadata": {},
   "outputs": [
    {
     "output_type": "execute_result",
     "data": {
      "text/plain": [
       "          a         b         c         d         e         f         g  \\\n",
       "0  0.545836  0.606948  0.096357  0.480048  0.131087  0.101347  0.600561   \n",
       "1  0.621824  0.576517  0.264220  0.390805  0.827957  0.661580  0.196113   \n",
       "2  0.558283  0.867852  0.926982  0.975437  0.330219  0.211817  0.092365   \n",
       "3  0.652838  0.205660  0.616704  0.945271  0.578023  0.823084  0.094506   \n",
       "4  0.714141  0.905723  0.598105  0.801233  0.586906  0.359328  0.923883   \n",
       "5  3.092922  3.162700  2.502368  3.592794  2.454191  2.157156  1.907428   \n",
       "\n",
       "          h         i         j  \n",
       "0  0.542289  0.596332  0.730640  \n",
       "1  0.732399  0.212533  0.542927  \n",
       "2  0.332355  0.594377  0.811954  \n",
       "3  0.230106  0.091865  0.864832  \n",
       "4  0.896990  0.562800  0.384959  \n",
       "5  2.734138  2.057907  3.335312  "
      ],
      "text/html": "<div>\n<style scoped>\n    .dataframe tbody tr th:only-of-type {\n        vertical-align: middle;\n    }\n\n    .dataframe tbody tr th {\n        vertical-align: top;\n    }\n\n    .dataframe thead th {\n        text-align: right;\n    }\n</style>\n<table border=\"1\" class=\"dataframe\">\n  <thead>\n    <tr style=\"text-align: right;\">\n      <th></th>\n      <th>a</th>\n      <th>b</th>\n      <th>c</th>\n      <th>d</th>\n      <th>e</th>\n      <th>f</th>\n      <th>g</th>\n      <th>h</th>\n      <th>i</th>\n      <th>j</th>\n    </tr>\n  </thead>\n  <tbody>\n    <tr>\n      <th>0</th>\n      <td>0.545836</td>\n      <td>0.606948</td>\n      <td>0.096357</td>\n      <td>0.480048</td>\n      <td>0.131087</td>\n      <td>0.101347</td>\n      <td>0.600561</td>\n      <td>0.542289</td>\n      <td>0.596332</td>\n      <td>0.730640</td>\n    </tr>\n    <tr>\n      <th>1</th>\n      <td>0.621824</td>\n      <td>0.576517</td>\n      <td>0.264220</td>\n      <td>0.390805</td>\n      <td>0.827957</td>\n      <td>0.661580</td>\n      <td>0.196113</td>\n      <td>0.732399</td>\n      <td>0.212533</td>\n      <td>0.542927</td>\n    </tr>\n    <tr>\n      <th>2</th>\n      <td>0.558283</td>\n      <td>0.867852</td>\n      <td>0.926982</td>\n      <td>0.975437</td>\n      <td>0.330219</td>\n      <td>0.211817</td>\n      <td>0.092365</td>\n      <td>0.332355</td>\n      <td>0.594377</td>\n      <td>0.811954</td>\n    </tr>\n    <tr>\n      <th>3</th>\n      <td>0.652838</td>\n      <td>0.205660</td>\n      <td>0.616704</td>\n      <td>0.945271</td>\n      <td>0.578023</td>\n      <td>0.823084</td>\n      <td>0.094506</td>\n      <td>0.230106</td>\n      <td>0.091865</td>\n      <td>0.864832</td>\n    </tr>\n    <tr>\n      <th>4</th>\n      <td>0.714141</td>\n      <td>0.905723</td>\n      <td>0.598105</td>\n      <td>0.801233</td>\n      <td>0.586906</td>\n      <td>0.359328</td>\n      <td>0.923883</td>\n      <td>0.896990</td>\n      <td>0.562800</td>\n      <td>0.384959</td>\n    </tr>\n    <tr>\n      <th>5</th>\n      <td>3.092922</td>\n      <td>3.162700</td>\n      <td>2.502368</td>\n      <td>3.592794</td>\n      <td>2.454191</td>\n      <td>2.157156</td>\n      <td>1.907428</td>\n      <td>2.734138</td>\n      <td>2.057907</td>\n      <td>3.335312</td>\n    </tr>\n  </tbody>\n</table>\n</div>"
     },
     "metadata": {},
     "execution_count": 14
    }
   ],
   "source": [
    "sums = df.sum(axis = 0) #create new row of sums\n",
    "ax = df.append(sums, ignore_index = True)\n",
    "ax"
   ]
  },
  {
   "cell_type": "code",
   "execution_count": 15,
   "metadata": {},
   "outputs": [
    {
     "output_type": "execute_result",
     "data": {
      "text/plain": [
       "0    c\n",
       "1    g\n",
       "2    g\n",
       "3    i\n",
       "4    f\n",
       "5    g\n",
       "dtype: object"
      ]
     },
     "metadata": {},
     "execution_count": 15
    }
   ],
   "source": [
    "ax.idxmin(axis = 1) #find all minimum values. From sums, min value in row 5"
   ]
  },
  {
   "cell_type": "markdown",
   "metadata": {},
   "source": [
    "# 2.3 Duplicates\n",
    "\n",
    "How do you count how many unique rows a DataFrame has (i.e. ignore all rows that are duplicates)?\n",
    "\n",
    "**hint:** There's a method for to find duplicate rows for you"
   ]
  },
  {
   "cell_type": "code",
   "execution_count": 16,
   "metadata": {},
   "outputs": [
    {
     "output_type": "execute_result",
     "data": {
      "text/plain": [
       "A\n",
       "1    1\n",
       "2    2\n",
       "3    1\n",
       "4    1\n",
       "5    3\n",
       "6    1\n",
       "7    2\n",
       "dtype: int64"
      ]
     },
     "metadata": {},
     "execution_count": 16
    }
   ],
   "source": [
    "#Use df.pivot_table(index = ['column name', 'possible other column name'], aggfunc = 'size'). From the example below, we see how many times each value appears in column A.\n",
    "\n",
    "import pandas as pd\n",
    "\n",
    "df = pd.DataFrame({'A': [1, 2, 2, 3, 4, 5, 5, 5, 6, 7, 7]})\n",
    "dff = df.pivot_table(index = ['A'], aggfunc = 'size')\n",
    "dff"
   ]
  },
  {
   "cell_type": "markdown",
   "metadata": {},
   "source": [
    "# 2.4 Group Values\n",
    "\n",
    "A DataFrame has a column of groups 'grps' and and column of integer values 'vals': \n",
    "\n",
    "```python\n",
    "df = pd.DataFrame({'grps': list('aaabbcaabcccbbc'), \n",
    "                   'vals': [12,345,3,1,45,14,4,52,54,23,235,21,57,3,87]})\n",
    "```\n",
    "For each *group*, find the sum of the three greatest values.  You should end up with the answer as follows:\n",
    "```\n",
    "grps\n",
    "a    409\n",
    "b    156\n",
    "c    345\n",
    "```"
   ]
  },
  {
   "cell_type": "code",
   "execution_count": 17,
   "metadata": {},
   "outputs": [
    {
     "output_type": "execute_result",
     "data": {
      "text/plain": [
       "   grps  vals\n",
       "0     a    12\n",
       "1     a   345\n",
       "2     a     3\n",
       "3     b     1\n",
       "4     b    45\n",
       "5     c    14\n",
       "6     a     4\n",
       "7     a    52\n",
       "8     b    54\n",
       "9     c    23\n",
       "10    c   235\n",
       "11    c    21\n",
       "12    b    57\n",
       "13    b     3\n",
       "14    c    87"
      ],
      "text/html": "<div>\n<style scoped>\n    .dataframe tbody tr th:only-of-type {\n        vertical-align: middle;\n    }\n\n    .dataframe tbody tr th {\n        vertical-align: top;\n    }\n\n    .dataframe thead th {\n        text-align: right;\n    }\n</style>\n<table border=\"1\" class=\"dataframe\">\n  <thead>\n    <tr style=\"text-align: right;\">\n      <th></th>\n      <th>grps</th>\n      <th>vals</th>\n    </tr>\n  </thead>\n  <tbody>\n    <tr>\n      <th>0</th>\n      <td>a</td>\n      <td>12</td>\n    </tr>\n    <tr>\n      <th>1</th>\n      <td>a</td>\n      <td>345</td>\n    </tr>\n    <tr>\n      <th>2</th>\n      <td>a</td>\n      <td>3</td>\n    </tr>\n    <tr>\n      <th>3</th>\n      <td>b</td>\n      <td>1</td>\n    </tr>\n    <tr>\n      <th>4</th>\n      <td>b</td>\n      <td>45</td>\n    </tr>\n    <tr>\n      <th>5</th>\n      <td>c</td>\n      <td>14</td>\n    </tr>\n    <tr>\n      <th>6</th>\n      <td>a</td>\n      <td>4</td>\n    </tr>\n    <tr>\n      <th>7</th>\n      <td>a</td>\n      <td>52</td>\n    </tr>\n    <tr>\n      <th>8</th>\n      <td>b</td>\n      <td>54</td>\n    </tr>\n    <tr>\n      <th>9</th>\n      <td>c</td>\n      <td>23</td>\n    </tr>\n    <tr>\n      <th>10</th>\n      <td>c</td>\n      <td>235</td>\n    </tr>\n    <tr>\n      <th>11</th>\n      <td>c</td>\n      <td>21</td>\n    </tr>\n    <tr>\n      <th>12</th>\n      <td>b</td>\n      <td>57</td>\n    </tr>\n    <tr>\n      <th>13</th>\n      <td>b</td>\n      <td>3</td>\n    </tr>\n    <tr>\n      <th>14</th>\n      <td>c</td>\n      <td>87</td>\n    </tr>\n  </tbody>\n</table>\n</div>"
     },
     "metadata": {},
     "execution_count": 17
    }
   ],
   "source": [
    "import pandas as pd\n",
    "\n",
    "df = pd.DataFrame({'grps': list('aaabbcaabcccbbc'), \n",
    "                   'vals': [12,345,3,1,45,14,4,52,54,23,235,21,57,3,87]})\n",
    "df"
   ]
  },
  {
   "cell_type": "code",
   "execution_count": 18,
   "metadata": {},
   "outputs": [
    {
     "output_type": "execute_result",
     "data": {
      "text/plain": [
       "  grps  vals\n",
       "0    a   416\n",
       "1    b   160\n",
       "2    c   380"
      ],
      "text/html": "<div>\n<style scoped>\n    .dataframe tbody tr th:only-of-type {\n        vertical-align: middle;\n    }\n\n    .dataframe tbody tr th {\n        vertical-align: top;\n    }\n\n    .dataframe thead th {\n        text-align: right;\n    }\n</style>\n<table border=\"1\" class=\"dataframe\">\n  <thead>\n    <tr style=\"text-align: right;\">\n      <th></th>\n      <th>grps</th>\n      <th>vals</th>\n    </tr>\n  </thead>\n  <tbody>\n    <tr>\n      <th>0</th>\n      <td>a</td>\n      <td>416</td>\n    </tr>\n    <tr>\n      <th>1</th>\n      <td>b</td>\n      <td>160</td>\n    </tr>\n    <tr>\n      <th>2</th>\n      <td>c</td>\n      <td>380</td>\n    </tr>\n  </tbody>\n</table>\n</div>"
     },
     "metadata": {},
     "execution_count": 18
    }
   ],
   "source": [
    "#Extra - solved by mistake\n",
    "df.groupby(['grps'], as_index = False)['vals'].sum() #Gets total of each"
   ]
  },
  {
   "cell_type": "code",
   "execution_count": 19,
   "metadata": {},
   "outputs": [
    {
     "output_type": "execute_result",
     "data": {
      "text/plain": [
       "grps    aaa\n",
       "vals    409\n",
       "dtype: object"
      ]
     },
     "metadata": {},
     "execution_count": 19
    }
   ],
   "source": [
    "#Desired answers\n",
    "df.loc[df.grps == 'a'].sort_values(by = 'vals', ascending = False).iloc[ : 3].sum()"
   ]
  },
  {
   "cell_type": "code",
   "execution_count": 20,
   "metadata": {},
   "outputs": [
    {
     "output_type": "execute_result",
     "data": {
      "text/plain": [
       "grps    bbb\n",
       "vals    156\n",
       "dtype: object"
      ]
     },
     "metadata": {},
     "execution_count": 20
    }
   ],
   "source": [
    "df.loc[df.grps == 'b'].sort_values(by = 'vals', ascending = False).iloc[ : 3].sum()"
   ]
  },
  {
   "cell_type": "code",
   "execution_count": 21,
   "metadata": {},
   "outputs": [
    {
     "output_type": "execute_result",
     "data": {
      "text/plain": [
       "grps    ccc\n",
       "vals    345\n",
       "dtype: object"
      ]
     },
     "metadata": {},
     "execution_count": 21
    }
   ],
   "source": [
    "df.loc[df.grps == 'c'].sort_values(by = 'vals', ascending = False).iloc[ : 3].sum()"
   ]
  },
  {
   "cell_type": "markdown",
   "metadata": {},
   "source": [
    "# 3. Cleaning Data\n",
    "\n",
    "### Making a DataFrame easier to work with\n",
    "\n",
    "It happens all the time: someone gives you data containing malformed strings, Python, lists and missing data. How do you tidy it up so you can get on with the analysis?\n",
    "\n",
    "Take this monstrosity as the DataFrame to use in the following puzzles:\n",
    "\n",
    "```python\n",
    "df = pd.DataFrame({'From_To': ['LoNDon_paris', 'MAdrid_miLAN', 'londON_StockhOlm', \n",
    "                               'Budapest_PaRis', 'Brussels_londOn'],\n",
    "              'FlightNumber': [10045, np.nan, 10065, np.nan, 10085],\n",
    "              'RecentDelays': [[23, 47], [], [24, 43, 87], [13], [67, 32]],\n",
    "                   'Airline': ['KLM(!)', '<Air France> (12)', '(British Airways. )', \n",
    "                               '12. Air France', '\"Swiss Air\"']})\n",
    "```\n",
    "\n",
    "Formatted, it looks like this:\n",
    "\n",
    "```\n",
    "            From_To  FlightNumber  RecentDelays              Airline\n",
    "0      LoNDon_paris       10045.0      [23, 47]               KLM(!)\n",
    "1      MAdrid_miLAN           NaN            []    <Air France> (12)\n",
    "2  londON_StockhOlm       10065.0  [24, 43, 87]  (British Airways. )\n",
    "3    Budapest_PaRis           NaN          [13]       12. Air France\n",
    "4   Brussels_londOn       10085.0      [67, 32]          \"Swiss Air\"\n",
    "```\n",
    "\n",
    "**1.** Some values in the the **FlightNumber** column are missing (they are `NaN`). These numbers are meant to increase by 10 with each row so 10055 and 10075 need to be put in place. Modify `df` to fill in these missing numbers and make the column an integer column (instead of a float column)."
   ]
  },
  {
   "cell_type": "code",
   "execution_count": 22,
   "metadata": {},
   "outputs": [
    {
     "output_type": "execute_result",
     "data": {
      "text/plain": [
       "            From_To  FlightNumber  RecentDelays              Airline\n",
       "0      LoNDon_paris       10045.0      [23, 47]               KLM(!)\n",
       "1      MAdrid_miLAN           NaN            []    <Air France> (12)\n",
       "2  londON_StockhOlm       10065.0  [24, 43, 87]  (British Airways. )\n",
       "3    Budapest_PaRis           NaN          [13]       12. Air France\n",
       "4   Brussels_londOn       10085.0      [67, 32]          \"Swiss Air\""
      ],
      "text/html": "<div>\n<style scoped>\n    .dataframe tbody tr th:only-of-type {\n        vertical-align: middle;\n    }\n\n    .dataframe tbody tr th {\n        vertical-align: top;\n    }\n\n    .dataframe thead th {\n        text-align: right;\n    }\n</style>\n<table border=\"1\" class=\"dataframe\">\n  <thead>\n    <tr style=\"text-align: right;\">\n      <th></th>\n      <th>From_To</th>\n      <th>FlightNumber</th>\n      <th>RecentDelays</th>\n      <th>Airline</th>\n    </tr>\n  </thead>\n  <tbody>\n    <tr>\n      <th>0</th>\n      <td>LoNDon_paris</td>\n      <td>10045.0</td>\n      <td>[23, 47]</td>\n      <td>KLM(!)</td>\n    </tr>\n    <tr>\n      <th>1</th>\n      <td>MAdrid_miLAN</td>\n      <td>NaN</td>\n      <td>[]</td>\n      <td>&lt;Air France&gt; (12)</td>\n    </tr>\n    <tr>\n      <th>2</th>\n      <td>londON_StockhOlm</td>\n      <td>10065.0</td>\n      <td>[24, 43, 87]</td>\n      <td>(British Airways. )</td>\n    </tr>\n    <tr>\n      <th>3</th>\n      <td>Budapest_PaRis</td>\n      <td>NaN</td>\n      <td>[13]</td>\n      <td>12. Air France</td>\n    </tr>\n    <tr>\n      <th>4</th>\n      <td>Brussels_londOn</td>\n      <td>10085.0</td>\n      <td>[67, 32]</td>\n      <td>\"Swiss Air\"</td>\n    </tr>\n  </tbody>\n</table>\n</div>"
     },
     "metadata": {},
     "execution_count": 22
    }
   ],
   "source": [
    "import pandas as pd\n",
    "import numpy as np\n",
    "\n",
    "df = pd.DataFrame({'From_To': ['LoNDon_paris', 'MAdrid_miLAN', 'londON_StockhOlm', \n",
    "                               'Budapest_PaRis', 'Brussels_londOn'],\n",
    "              'FlightNumber': [10045, np.nan, 10065, np.nan, 10085],\n",
    "              'RecentDelays': [[23, 47], [], [24, 43, 87], [13], [67, 32]],\n",
    "                   'Airline': ['KLM(!)', '<Air France> (12)', '(British Airways. )', \n",
    "                               '12. Air France', '\"Swiss Air\"']})\n",
    "df"
   ]
  },
  {
   "cell_type": "code",
   "execution_count": 23,
   "metadata": {},
   "outputs": [
    {
     "output_type": "execute_result",
     "data": {
      "text/plain": [
       "            From_To  FlightNumber  RecentDelays              Airline\n",
       "0      LoNDon_paris       10045.0      [23, 47]               KLM(!)\n",
       "1      MAdrid_miLAN       10055.0            []    <Air France> (12)\n",
       "2  londON_StockhOlm       10065.0  [24, 43, 87]  (British Airways. )\n",
       "3    Budapest_PaRis       10075.0          [13]       12. Air France\n",
       "4   Brussels_londOn       10085.0      [67, 32]          \"Swiss Air\""
      ],
      "text/html": "<div>\n<style scoped>\n    .dataframe tbody tr th:only-of-type {\n        vertical-align: middle;\n    }\n\n    .dataframe tbody tr th {\n        vertical-align: top;\n    }\n\n    .dataframe thead th {\n        text-align: right;\n    }\n</style>\n<table border=\"1\" class=\"dataframe\">\n  <thead>\n    <tr style=\"text-align: right;\">\n      <th></th>\n      <th>From_To</th>\n      <th>FlightNumber</th>\n      <th>RecentDelays</th>\n      <th>Airline</th>\n    </tr>\n  </thead>\n  <tbody>\n    <tr>\n      <th>0</th>\n      <td>LoNDon_paris</td>\n      <td>10045.0</td>\n      <td>[23, 47]</td>\n      <td>KLM(!)</td>\n    </tr>\n    <tr>\n      <th>1</th>\n      <td>MAdrid_miLAN</td>\n      <td>10055.0</td>\n      <td>[]</td>\n      <td>&lt;Air France&gt; (12)</td>\n    </tr>\n    <tr>\n      <th>2</th>\n      <td>londON_StockhOlm</td>\n      <td>10065.0</td>\n      <td>[24, 43, 87]</td>\n      <td>(British Airways. )</td>\n    </tr>\n    <tr>\n      <th>3</th>\n      <td>Budapest_PaRis</td>\n      <td>10075.0</td>\n      <td>[13]</td>\n      <td>12. Air France</td>\n    </tr>\n    <tr>\n      <th>4</th>\n      <td>Brussels_londOn</td>\n      <td>10085.0</td>\n      <td>[67, 32]</td>\n      <td>\"Swiss Air\"</td>\n    </tr>\n  </tbody>\n</table>\n</div>"
     },
     "metadata": {},
     "execution_count": 23
    }
   ],
   "source": [
    "#Question 3.1\n",
    "ax = df.interpolate()\n",
    "ax"
   ]
  },
  {
   "cell_type": "markdown",
   "metadata": {},
   "source": [
    "# 3.2 column splitting\n",
    "\n",
    "The **From\\_To** column would be better as two separate columns! Split each string on the underscore delimiter `_` to make two new columns `From` and `To` to your dataframe."
   ]
  },
  {
   "cell_type": "code",
   "execution_count": 24,
   "metadata": {},
   "outputs": [
    {
     "output_type": "execute_result",
     "data": {
      "text/plain": [
       "          To      From              Airline  RecentDelays  FlightNumber\n",
       "0      paris    LoNDon               KLM(!)      [23, 47]       10045.0\n",
       "1      miLAN    MAdrid    <Air France> (12)            []       10055.0\n",
       "2  StockhOlm    londON  (British Airways. )  [24, 43, 87]       10065.0\n",
       "3      PaRis  Budapest       12. Air France          [13]       10075.0\n",
       "4     londOn  Brussels          \"Swiss Air\"      [67, 32]       10085.0"
      ],
      "text/html": "<div>\n<style scoped>\n    .dataframe tbody tr th:only-of-type {\n        vertical-align: middle;\n    }\n\n    .dataframe tbody tr th {\n        vertical-align: top;\n    }\n\n    .dataframe thead th {\n        text-align: right;\n    }\n</style>\n<table border=\"1\" class=\"dataframe\">\n  <thead>\n    <tr style=\"text-align: right;\">\n      <th></th>\n      <th>To</th>\n      <th>From</th>\n      <th>Airline</th>\n      <th>RecentDelays</th>\n      <th>FlightNumber</th>\n    </tr>\n  </thead>\n  <tbody>\n    <tr>\n      <th>0</th>\n      <td>paris</td>\n      <td>LoNDon</td>\n      <td>KLM(!)</td>\n      <td>[23, 47]</td>\n      <td>10045.0</td>\n    </tr>\n    <tr>\n      <th>1</th>\n      <td>miLAN</td>\n      <td>MAdrid</td>\n      <td>&lt;Air France&gt; (12)</td>\n      <td>[]</td>\n      <td>10055.0</td>\n    </tr>\n    <tr>\n      <th>2</th>\n      <td>StockhOlm</td>\n      <td>londON</td>\n      <td>(British Airways. )</td>\n      <td>[24, 43, 87]</td>\n      <td>10065.0</td>\n    </tr>\n    <tr>\n      <th>3</th>\n      <td>PaRis</td>\n      <td>Budapest</td>\n      <td>12. Air France</td>\n      <td>[13]</td>\n      <td>10075.0</td>\n    </tr>\n    <tr>\n      <th>4</th>\n      <td>londOn</td>\n      <td>Brussels</td>\n      <td>\"Swiss Air\"</td>\n      <td>[67, 32]</td>\n      <td>10085.0</td>\n    </tr>\n  </tbody>\n</table>\n</div>"
     },
     "metadata": {},
     "execution_count": 24
    }
   ],
   "source": [
    "ax[['From', 'To']] = ax.From_To.str.split('_', expand = True)\n",
    "ax.drop(['From_To'], axis = 1, inplace = True) #Drop unnecessary column\n",
    "bx = ax[ax.columns[ : : -1]] #reversed it so that it's not ugly\n",
    "bx"
   ]
  },
  {
   "cell_type": "markdown",
   "metadata": {},
   "source": [
    "# 3.3 Clean Text\n",
    "\n",
    "Make the text in your dataframe:\n",
    "\n",
    "- From and To columns should be lowercase with only first letter capitalized\n",
    "\n",
    "- In the **Airline** column, you can see some extra puctuation and symbols have appeared around the airline names. Pull out just the airline name. E.g. `'(British Airways. )'` should become `'British Airways'`."
   ]
  },
  {
   "cell_type": "code",
   "execution_count": 25,
   "metadata": {},
   "outputs": [
    {
     "output_type": "execute_result",
     "data": {
      "text/plain": [
       "            From_To  FlightNumber  RecentDelays              Airline\n",
       "0      LoNDon_paris       10045.0      [23, 47]               KLM(!)\n",
       "1      MAdrid_miLAN           NaN            []    <Air France> (12)\n",
       "2  londON_StockhOlm       10065.0  [24, 43, 87]  (British Airways. )\n",
       "3    Budapest_PaRis           NaN          [13]       12. Air France\n",
       "4   Brussels_londOn       10085.0      [67, 32]          \"Swiss Air\""
      ],
      "text/html": "<div>\n<style scoped>\n    .dataframe tbody tr th:only-of-type {\n        vertical-align: middle;\n    }\n\n    .dataframe tbody tr th {\n        vertical-align: top;\n    }\n\n    .dataframe thead th {\n        text-align: right;\n    }\n</style>\n<table border=\"1\" class=\"dataframe\">\n  <thead>\n    <tr style=\"text-align: right;\">\n      <th></th>\n      <th>From_To</th>\n      <th>FlightNumber</th>\n      <th>RecentDelays</th>\n      <th>Airline</th>\n    </tr>\n  </thead>\n  <tbody>\n    <tr>\n      <th>0</th>\n      <td>LoNDon_paris</td>\n      <td>10045.0</td>\n      <td>[23, 47]</td>\n      <td>KLM(!)</td>\n    </tr>\n    <tr>\n      <th>1</th>\n      <td>MAdrid_miLAN</td>\n      <td>NaN</td>\n      <td>[]</td>\n      <td>&lt;Air France&gt; (12)</td>\n    </tr>\n    <tr>\n      <th>2</th>\n      <td>londON_StockhOlm</td>\n      <td>10065.0</td>\n      <td>[24, 43, 87]</td>\n      <td>(British Airways. )</td>\n    </tr>\n    <tr>\n      <th>3</th>\n      <td>Budapest_PaRis</td>\n      <td>NaN</td>\n      <td>[13]</td>\n      <td>12. Air France</td>\n    </tr>\n    <tr>\n      <th>4</th>\n      <td>Brussels_londOn</td>\n      <td>10085.0</td>\n      <td>[67, 32]</td>\n      <td>\"Swiss Air\"</td>\n    </tr>\n  </tbody>\n</table>\n</div>"
     },
     "metadata": {},
     "execution_count": 25
    }
   ],
   "source": [
    "import pandas as pd\n",
    "import numpy as np\n",
    "\n",
    "df = pd.DataFrame({'From_To': ['LoNDon_paris', 'MAdrid_miLAN', 'londON_StockhOlm', \n",
    "                               'Budapest_PaRis', 'Brussels_londOn'],\n",
    "              'FlightNumber': [10045, np.nan, 10065, np.nan, 10085],\n",
    "              'RecentDelays': [[23, 47], [], [24, 43, 87], [13], [67, 32]],\n",
    "                   'Airline': ['KLM(!)', '<Air France> (12)', '(British Airways. )', \n",
    "                               '12. Air France', '\"Swiss Air\"']})\n",
    "df"
   ]
  },
  {
   "cell_type": "code",
   "execution_count": 26,
   "metadata": {},
   "outputs": [
    {
     "output_type": "execute_result",
     "data": {
      "text/plain": [
       "   FlightNumber  RecentDelays              Airline      From         To\n",
       "0       10045.0      [23, 47]               KLM(!)    LoNDon      paris\n",
       "1           NaN            []    <Air France> (12)    MAdrid      miLAN\n",
       "2       10065.0  [24, 43, 87]  (British Airways. )    londON  StockhOlm\n",
       "3           NaN          [13]       12. Air France  Budapest      PaRis\n",
       "4       10085.0      [67, 32]          \"Swiss Air\"  Brussels     londOn"
      ],
      "text/html": "<div>\n<style scoped>\n    .dataframe tbody tr th:only-of-type {\n        vertical-align: middle;\n    }\n\n    .dataframe tbody tr th {\n        vertical-align: top;\n    }\n\n    .dataframe thead th {\n        text-align: right;\n    }\n</style>\n<table border=\"1\" class=\"dataframe\">\n  <thead>\n    <tr style=\"text-align: right;\">\n      <th></th>\n      <th>FlightNumber</th>\n      <th>RecentDelays</th>\n      <th>Airline</th>\n      <th>From</th>\n      <th>To</th>\n    </tr>\n  </thead>\n  <tbody>\n    <tr>\n      <th>0</th>\n      <td>10045.0</td>\n      <td>[23, 47]</td>\n      <td>KLM(!)</td>\n      <td>LoNDon</td>\n      <td>paris</td>\n    </tr>\n    <tr>\n      <th>1</th>\n      <td>NaN</td>\n      <td>[]</td>\n      <td>&lt;Air France&gt; (12)</td>\n      <td>MAdrid</td>\n      <td>miLAN</td>\n    </tr>\n    <tr>\n      <th>2</th>\n      <td>10065.0</td>\n      <td>[24, 43, 87]</td>\n      <td>(British Airways. )</td>\n      <td>londON</td>\n      <td>StockhOlm</td>\n    </tr>\n    <tr>\n      <th>3</th>\n      <td>NaN</td>\n      <td>[13]</td>\n      <td>12. Air France</td>\n      <td>Budapest</td>\n      <td>PaRis</td>\n    </tr>\n    <tr>\n      <th>4</th>\n      <td>10085.0</td>\n      <td>[67, 32]</td>\n      <td>\"Swiss Air\"</td>\n      <td>Brussels</td>\n      <td>londOn</td>\n    </tr>\n  </tbody>\n</table>\n</div>"
     },
     "metadata": {},
     "execution_count": 26
    }
   ],
   "source": [
    "df[['From', 'To']] = df.From_To.str.split('_', expand = True)\n",
    "df.drop(['From_To'], axis = 1, inplace = True)\n",
    "df"
   ]
  },
  {
   "cell_type": "code",
   "execution_count": 27,
   "metadata": {},
   "outputs": [
    {
     "output_type": "execute_result",
     "data": {
      "text/plain": [
       "   FlightNumber  RecentDelays              Airline     From2        To2\n",
       "0       10045.0      [23, 47]               KLM(!)    London      Paris\n",
       "1           NaN            []    <Air France> (12)    Madrid      Milan\n",
       "2       10065.0  [24, 43, 87]  (British Airways. )    London  Stockholm\n",
       "3           NaN          [13]       12. Air France  Budapest      Paris\n",
       "4       10085.0      [67, 32]          \"Swiss Air\"  Brussels     London"
      ],
      "text/html": "<div>\n<style scoped>\n    .dataframe tbody tr th:only-of-type {\n        vertical-align: middle;\n    }\n\n    .dataframe tbody tr th {\n        vertical-align: top;\n    }\n\n    .dataframe thead th {\n        text-align: right;\n    }\n</style>\n<table border=\"1\" class=\"dataframe\">\n  <thead>\n    <tr style=\"text-align: right;\">\n      <th></th>\n      <th>FlightNumber</th>\n      <th>RecentDelays</th>\n      <th>Airline</th>\n      <th>From2</th>\n      <th>To2</th>\n    </tr>\n  </thead>\n  <tbody>\n    <tr>\n      <th>0</th>\n      <td>10045.0</td>\n      <td>[23, 47]</td>\n      <td>KLM(!)</td>\n      <td>London</td>\n      <td>Paris</td>\n    </tr>\n    <tr>\n      <th>1</th>\n      <td>NaN</td>\n      <td>[]</td>\n      <td>&lt;Air France&gt; (12)</td>\n      <td>Madrid</td>\n      <td>Milan</td>\n    </tr>\n    <tr>\n      <th>2</th>\n      <td>10065.0</td>\n      <td>[24, 43, 87]</td>\n      <td>(British Airways. )</td>\n      <td>London</td>\n      <td>Stockholm</td>\n    </tr>\n    <tr>\n      <th>3</th>\n      <td>NaN</td>\n      <td>[13]</td>\n      <td>12. Air France</td>\n      <td>Budapest</td>\n      <td>Paris</td>\n    </tr>\n    <tr>\n      <th>4</th>\n      <td>10085.0</td>\n      <td>[67, 32]</td>\n      <td>\"Swiss Air\"</td>\n      <td>Brussels</td>\n      <td>London</td>\n    </tr>\n  </tbody>\n</table>\n</div>"
     },
     "metadata": {},
     "execution_count": 27
    }
   ],
   "source": [
    "s1 = pd.Series(df['From']).str.title()\n",
    "s2 = pd.Series(df['To']).str.title()\n",
    "df['From2'] = s1\n",
    "df['To2'] = s2\n",
    "ax = df.drop(['From', 'To'], axis = 1)\n",
    "ax"
   ]
  },
  {
   "cell_type": "code",
   "execution_count": 28,
   "metadata": {},
   "outputs": [
    {
     "output_type": "execute_result",
     "data": {
      "text/plain": [
       "   FlightNumber  RecentDelays              Airline     From2        To2  \\\n",
       "0       10045.0      [23, 47]               KLM(!)    London      Paris   \n",
       "1       10055.0            []    <Air France> (12)    Madrid      Milan   \n",
       "2       10065.0  [24, 43, 87]  (British Airways. )    London  Stockholm   \n",
       "3       10075.0          [13]       12. Air France  Budapest      Paris   \n",
       "4       10085.0      [67, 32]          \"Swiss Air\"  Brussels     London   \n",
       "\n",
       "      Fixed Airline  \n",
       "0               KLM  \n",
       "1       Air France   \n",
       "2  British Airways   \n",
       "3        Air France  \n",
       "4         Swiss Air  "
      ],
      "text/html": "<div>\n<style scoped>\n    .dataframe tbody tr th:only-of-type {\n        vertical-align: middle;\n    }\n\n    .dataframe tbody tr th {\n        vertical-align: top;\n    }\n\n    .dataframe thead th {\n        text-align: right;\n    }\n</style>\n<table border=\"1\" class=\"dataframe\">\n  <thead>\n    <tr style=\"text-align: right;\">\n      <th></th>\n      <th>FlightNumber</th>\n      <th>RecentDelays</th>\n      <th>Airline</th>\n      <th>From2</th>\n      <th>To2</th>\n      <th>Fixed Airline</th>\n    </tr>\n  </thead>\n  <tbody>\n    <tr>\n      <th>0</th>\n      <td>10045.0</td>\n      <td>[23, 47]</td>\n      <td>KLM(!)</td>\n      <td>London</td>\n      <td>Paris</td>\n      <td>KLM</td>\n    </tr>\n    <tr>\n      <th>1</th>\n      <td>10055.0</td>\n      <td>[]</td>\n      <td>&lt;Air France&gt; (12)</td>\n      <td>Madrid</td>\n      <td>Milan</td>\n      <td>Air France</td>\n    </tr>\n    <tr>\n      <th>2</th>\n      <td>10065.0</td>\n      <td>[24, 43, 87]</td>\n      <td>(British Airways. )</td>\n      <td>London</td>\n      <td>Stockholm</td>\n      <td>British Airways</td>\n    </tr>\n    <tr>\n      <th>3</th>\n      <td>10075.0</td>\n      <td>[13]</td>\n      <td>12. Air France</td>\n      <td>Budapest</td>\n      <td>Paris</td>\n      <td>Air France</td>\n    </tr>\n    <tr>\n      <th>4</th>\n      <td>10085.0</td>\n      <td>[67, 32]</td>\n      <td>\"Swiss Air\"</td>\n      <td>Brussels</td>\n      <td>London</td>\n      <td>Swiss Air</td>\n    </tr>\n  </tbody>\n</table>\n</div>"
     },
     "metadata": {},
     "execution_count": 28
    }
   ],
   "source": [
    "bx = ax.interpolate()\n",
    "\n",
    "bx['Fixed Airline'] = bx['Airline'].str.replace(r'[^[\\w\\s]+', '')#wouldn't get rid of the 12 for some reason when d was put in this regex formula\n",
    "bx['Fixed Airline'] = bx['Fixed Airline'].str.replace('\\d+', '')\n",
    "bx"
   ]
  },
  {
   "cell_type": "markdown",
   "metadata": {},
   "source": [
    "# Exercise 4.1: Column Splitting\n",
    "\n",
    "Given the unemployment data in `data/country_total.csv`, split the `month` column into two new columns: a `year` column and a `month` column, both integers"
   ]
  },
  {
   "cell_type": "code",
   "execution_count": 29,
   "metadata": {},
   "outputs": [
    {
     "output_type": "execute_result",
     "data": {
      "text/plain": [
       "      country seasonality  unemployment  unemployment_rate  Year  Month\n",
       "0          at         nsa        171000                4.5  1993      1\n",
       "1          at         nsa        175000                4.6  1993      2\n",
       "2          at         nsa        166000                4.4  1993      3\n",
       "3          at         nsa        157000                4.1  1993      4\n",
       "4          at         nsa        147000                3.9  1993      5\n",
       "...       ...         ...           ...                ...   ...    ...\n",
       "20791      uk       trend       2429000                7.7  2010      6\n",
       "20792      uk       trend       2422000                7.7  2010      7\n",
       "20793      uk       trend       2429000                7.7  2010      8\n",
       "20794      uk       trend       2447000                7.8  2010      9\n",
       "20795      uk       trend       2455000                7.8  2010      1\n",
       "\n",
       "[20796 rows x 6 columns]"
      ],
      "text/html": "<div>\n<style scoped>\n    .dataframe tbody tr th:only-of-type {\n        vertical-align: middle;\n    }\n\n    .dataframe tbody tr th {\n        vertical-align: top;\n    }\n\n    .dataframe thead th {\n        text-align: right;\n    }\n</style>\n<table border=\"1\" class=\"dataframe\">\n  <thead>\n    <tr style=\"text-align: right;\">\n      <th></th>\n      <th>country</th>\n      <th>seasonality</th>\n      <th>unemployment</th>\n      <th>unemployment_rate</th>\n      <th>Year</th>\n      <th>Month</th>\n    </tr>\n  </thead>\n  <tbody>\n    <tr>\n      <th>0</th>\n      <td>at</td>\n      <td>nsa</td>\n      <td>171000</td>\n      <td>4.5</td>\n      <td>1993</td>\n      <td>1</td>\n    </tr>\n    <tr>\n      <th>1</th>\n      <td>at</td>\n      <td>nsa</td>\n      <td>175000</td>\n      <td>4.6</td>\n      <td>1993</td>\n      <td>2</td>\n    </tr>\n    <tr>\n      <th>2</th>\n      <td>at</td>\n      <td>nsa</td>\n      <td>166000</td>\n      <td>4.4</td>\n      <td>1993</td>\n      <td>3</td>\n    </tr>\n    <tr>\n      <th>3</th>\n      <td>at</td>\n      <td>nsa</td>\n      <td>157000</td>\n      <td>4.1</td>\n      <td>1993</td>\n      <td>4</td>\n    </tr>\n    <tr>\n      <th>4</th>\n      <td>at</td>\n      <td>nsa</td>\n      <td>147000</td>\n      <td>3.9</td>\n      <td>1993</td>\n      <td>5</td>\n    </tr>\n    <tr>\n      <th>...</th>\n      <td>...</td>\n      <td>...</td>\n      <td>...</td>\n      <td>...</td>\n      <td>...</td>\n      <td>...</td>\n    </tr>\n    <tr>\n      <th>20791</th>\n      <td>uk</td>\n      <td>trend</td>\n      <td>2429000</td>\n      <td>7.7</td>\n      <td>2010</td>\n      <td>6</td>\n    </tr>\n    <tr>\n      <th>20792</th>\n      <td>uk</td>\n      <td>trend</td>\n      <td>2422000</td>\n      <td>7.7</td>\n      <td>2010</td>\n      <td>7</td>\n    </tr>\n    <tr>\n      <th>20793</th>\n      <td>uk</td>\n      <td>trend</td>\n      <td>2429000</td>\n      <td>7.7</td>\n      <td>2010</td>\n      <td>8</td>\n    </tr>\n    <tr>\n      <th>20794</th>\n      <td>uk</td>\n      <td>trend</td>\n      <td>2447000</td>\n      <td>7.8</td>\n      <td>2010</td>\n      <td>9</td>\n    </tr>\n    <tr>\n      <th>20795</th>\n      <td>uk</td>\n      <td>trend</td>\n      <td>2455000</td>\n      <td>7.8</td>\n      <td>2010</td>\n      <td>1</td>\n    </tr>\n  </tbody>\n</table>\n<p>20796 rows × 6 columns</p>\n</div>"
     },
     "metadata": {},
     "execution_count": 29
    }
   ],
   "source": [
    "import pandas as pd\n",
    "import numpy as np\n",
    "\n",
    "df = pd.read_csv('data/country_total.csv')\n",
    "\n",
    "df['month2'] = df.month.astype(str)\n",
    "df[['Year', 'Month']] = df.month2.str.split('.', expand = True)\n",
    "df.drop(['month2'], axis = 1, inplace = True)\n",
    "df.drop(['month'], axis = 1, inplace = True)\n",
    "df['Year'] = df['Year'].astype(int)\n",
    "df['Month'] = df['Month'].astype(int)\n",
    "df"
   ]
  },
  {
   "cell_type": "markdown",
   "metadata": {},
   "source": [
    "# 4.2 Group Statistics\n",
    "\n",
    "Given the unemployment data in `data/country_sex_age.csv`, give the average unemployment rate for:\n",
    "\n",
    "- Each gender\n",
    "- Each Age Group\n",
    "- Both Together\n",
    "\n",
    "**HINT:** The `seasonality` column makes it such that the data is repeated for each method of calculating unemployment (`nsa`, `trend`, etc.). Can you ignore this and group over it? Or should you take the average for each?"
   ]
  },
  {
   "cell_type": "code",
   "execution_count": 30,
   "metadata": {},
   "outputs": [
    {
     "output_type": "execute_result",
     "data": {
      "text/plain": [
       "      country seasonality sex age_group    month  unemployment  \\\n",
       "0          at         nsa   f    y25-74  1993.01         61000   \n",
       "1          at         nsa   f    y25-74  1993.02         62000   \n",
       "2          at         nsa   f    y25-74  1993.03         62000   \n",
       "3          at         nsa   f    y25-74  1993.04         63000   \n",
       "4          at         nsa   f    y25-74  1993.05         63000   \n",
       "...       ...         ...  ..       ...      ...           ...   \n",
       "83155      uk       trend   m    y_lt25  2010.06        518000   \n",
       "83156      uk       trend   m    y_lt25  2010.07        513000   \n",
       "83157      uk       trend   m    y_lt25  2010.08        509000   \n",
       "83158      uk       trend   m    y_lt25  2010.09        513000   \n",
       "83159      uk       trend   m    y_lt25  2010.10        520000   \n",
       "\n",
       "       unemployment_rate  \n",
       "0                    4.5  \n",
       "1                    4.5  \n",
       "2                    4.5  \n",
       "3                    4.6  \n",
       "4                    4.6  \n",
       "...                  ...  \n",
       "83155               21.1  \n",
       "83156               20.8  \n",
       "83157               20.5  \n",
       "83158               20.7  \n",
       "83159               21.1  \n",
       "\n",
       "[83160 rows x 7 columns]"
      ],
      "text/html": "<div>\n<style scoped>\n    .dataframe tbody tr th:only-of-type {\n        vertical-align: middle;\n    }\n\n    .dataframe tbody tr th {\n        vertical-align: top;\n    }\n\n    .dataframe thead th {\n        text-align: right;\n    }\n</style>\n<table border=\"1\" class=\"dataframe\">\n  <thead>\n    <tr style=\"text-align: right;\">\n      <th></th>\n      <th>country</th>\n      <th>seasonality</th>\n      <th>sex</th>\n      <th>age_group</th>\n      <th>month</th>\n      <th>unemployment</th>\n      <th>unemployment_rate</th>\n    </tr>\n  </thead>\n  <tbody>\n    <tr>\n      <th>0</th>\n      <td>at</td>\n      <td>nsa</td>\n      <td>f</td>\n      <td>y25-74</td>\n      <td>1993.01</td>\n      <td>61000</td>\n      <td>4.5</td>\n    </tr>\n    <tr>\n      <th>1</th>\n      <td>at</td>\n      <td>nsa</td>\n      <td>f</td>\n      <td>y25-74</td>\n      <td>1993.02</td>\n      <td>62000</td>\n      <td>4.5</td>\n    </tr>\n    <tr>\n      <th>2</th>\n      <td>at</td>\n      <td>nsa</td>\n      <td>f</td>\n      <td>y25-74</td>\n      <td>1993.03</td>\n      <td>62000</td>\n      <td>4.5</td>\n    </tr>\n    <tr>\n      <th>3</th>\n      <td>at</td>\n      <td>nsa</td>\n      <td>f</td>\n      <td>y25-74</td>\n      <td>1993.04</td>\n      <td>63000</td>\n      <td>4.6</td>\n    </tr>\n    <tr>\n      <th>4</th>\n      <td>at</td>\n      <td>nsa</td>\n      <td>f</td>\n      <td>y25-74</td>\n      <td>1993.05</td>\n      <td>63000</td>\n      <td>4.6</td>\n    </tr>\n    <tr>\n      <th>...</th>\n      <td>...</td>\n      <td>...</td>\n      <td>...</td>\n      <td>...</td>\n      <td>...</td>\n      <td>...</td>\n      <td>...</td>\n    </tr>\n    <tr>\n      <th>83155</th>\n      <td>uk</td>\n      <td>trend</td>\n      <td>m</td>\n      <td>y_lt25</td>\n      <td>2010.06</td>\n      <td>518000</td>\n      <td>21.1</td>\n    </tr>\n    <tr>\n      <th>83156</th>\n      <td>uk</td>\n      <td>trend</td>\n      <td>m</td>\n      <td>y_lt25</td>\n      <td>2010.07</td>\n      <td>513000</td>\n      <td>20.8</td>\n    </tr>\n    <tr>\n      <th>83157</th>\n      <td>uk</td>\n      <td>trend</td>\n      <td>m</td>\n      <td>y_lt25</td>\n      <td>2010.08</td>\n      <td>509000</td>\n      <td>20.5</td>\n    </tr>\n    <tr>\n      <th>83158</th>\n      <td>uk</td>\n      <td>trend</td>\n      <td>m</td>\n      <td>y_lt25</td>\n      <td>2010.09</td>\n      <td>513000</td>\n      <td>20.7</td>\n    </tr>\n    <tr>\n      <th>83159</th>\n      <td>uk</td>\n      <td>trend</td>\n      <td>m</td>\n      <td>y_lt25</td>\n      <td>2010.10</td>\n      <td>520000</td>\n      <td>21.1</td>\n    </tr>\n  </tbody>\n</table>\n<p>83160 rows × 7 columns</p>\n</div>"
     },
     "metadata": {},
     "execution_count": 30
    }
   ],
   "source": [
    "import pandas as pd\n",
    "import numpy as np\n",
    "\n",
    "df = pd.read_csv('data/country_sex_age.csv')\n",
    "\n",
    "df"
   ]
  },
  {
   "cell_type": "code",
   "execution_count": 31,
   "metadata": {},
   "outputs": [
    {
     "output_type": "execute_result",
     "data": {
      "text/plain": [
       "sex  seasonality\n",
       "f    nsa            13.179216\n",
       "     sa             12.908743\n",
       "     trend          12.862163\n",
       "m    nsa            11.708432\n",
       "     sa             11.662290\n",
       "     trend          11.643015\n",
       "Name: unemployment_rate, dtype: float64"
      ]
     },
     "metadata": {},
     "execution_count": 31
    }
   ],
   "source": [
    "df2 = df.groupby(['sex', 'seasonality'])\n",
    "df2.unemployment_rate.mean()"
   ]
  },
  {
   "cell_type": "code",
   "execution_count": 32,
   "metadata": {},
   "outputs": [
    {
     "output_type": "execute_result",
     "data": {
      "text/plain": [
       "age_group  seasonality\n",
       "y25-74     nsa             6.870746\n",
       "           sa              6.918446\n",
       "           trend           6.926319\n",
       "y_lt25     nsa            18.016902\n",
       "           sa             17.690707\n",
       "           trend          17.617224\n",
       "Name: unemployment_rate, dtype: float64"
      ]
     },
     "metadata": {},
     "execution_count": 32
    }
   ],
   "source": [
    "df3 = df.groupby(['age_group', 'seasonality'])\n",
    "df3.unemployment_rate.mean()"
   ]
  },
  {
   "cell_type": "code",
   "execution_count": 33,
   "metadata": {},
   "outputs": [
    {
     "output_type": "execute_result",
     "data": {
      "text/plain": [
       "sex  age_group  seasonality\n",
       "f    y25-74     nsa             7.539839\n",
       "                sa              7.579982\n",
       "                trend           7.579934\n",
       "     y_lt25     nsa            18.818593\n",
       "                sa             18.323837\n",
       "                trend          18.231025\n",
       "m    y25-74     nsa             6.201653\n",
       "                sa              6.256909\n",
       "                trend           6.272703\n",
       "     y_lt25     nsa            17.215211\n",
       "                sa             17.067671\n",
       "                trend          17.013327\n",
       "Name: unemployment_rate, dtype: float64"
      ]
     },
     "metadata": {},
     "execution_count": 33
    }
   ],
   "source": [
    "df4 = df.groupby(['sex', 'age_group', 'seasonality'])\n",
    "df4.unemployment_rate.mean()"
   ]
  },
  {
   "cell_type": "markdown",
   "metadata": {},
   "source": [
    "# 4.3 Estimating group size\n",
    "\n",
    "Given that we have the unemployment **rate** as a % of total population, and the number of total unemployed, we can estimate the total population.\n",
    "\n",
    "Give an estimate of the total population for men and women in each age group.\n",
    "\n",
    "Does this change depending on the unemployment seasonality calculation method?"
   ]
  },
  {
   "cell_type": "code",
   "execution_count": 34,
   "metadata": {},
   "outputs": [
    {
     "output_type": "execute_result",
     "data": {
      "text/plain": [
       "      country seasonality sex age_group    month  unemployment  \\\n",
       "0          at         nsa   f    y25-74  1993.01         61000   \n",
       "1          at         nsa   f    y25-74  1993.02         62000   \n",
       "2          at         nsa   f    y25-74  1993.03         62000   \n",
       "3          at         nsa   f    y25-74  1993.04         63000   \n",
       "4          at         nsa   f    y25-74  1993.05         63000   \n",
       "...       ...         ...  ..       ...      ...           ...   \n",
       "83155      uk       trend   m    y_lt25  2010.06        518000   \n",
       "83156      uk       trend   m    y_lt25  2010.07        513000   \n",
       "83157      uk       trend   m    y_lt25  2010.08        509000   \n",
       "83158      uk       trend   m    y_lt25  2010.09        513000   \n",
       "83159      uk       trend   m    y_lt25  2010.10        520000   \n",
       "\n",
       "       unemployment_rate  unemployed_pop_size  \n",
       "0                    4.5         13555.555556  \n",
       "1                    4.5         13777.777778  \n",
       "2                    4.5         13777.777778  \n",
       "3                    4.6         13695.652174  \n",
       "4                    4.6         13695.652174  \n",
       "...                  ...                  ...  \n",
       "83155               21.1         24549.763033  \n",
       "83156               20.8         24663.461538  \n",
       "83157               20.5         24829.268293  \n",
       "83158               20.7         24782.608696  \n",
       "83159               21.1         24644.549763  \n",
       "\n",
       "[83160 rows x 8 columns]"
      ],
      "text/html": "<div>\n<style scoped>\n    .dataframe tbody tr th:only-of-type {\n        vertical-align: middle;\n    }\n\n    .dataframe tbody tr th {\n        vertical-align: top;\n    }\n\n    .dataframe thead th {\n        text-align: right;\n    }\n</style>\n<table border=\"1\" class=\"dataframe\">\n  <thead>\n    <tr style=\"text-align: right;\">\n      <th></th>\n      <th>country</th>\n      <th>seasonality</th>\n      <th>sex</th>\n      <th>age_group</th>\n      <th>month</th>\n      <th>unemployment</th>\n      <th>unemployment_rate</th>\n      <th>unemployed_pop_size</th>\n    </tr>\n  </thead>\n  <tbody>\n    <tr>\n      <th>0</th>\n      <td>at</td>\n      <td>nsa</td>\n      <td>f</td>\n      <td>y25-74</td>\n      <td>1993.01</td>\n      <td>61000</td>\n      <td>4.5</td>\n      <td>13555.555556</td>\n    </tr>\n    <tr>\n      <th>1</th>\n      <td>at</td>\n      <td>nsa</td>\n      <td>f</td>\n      <td>y25-74</td>\n      <td>1993.02</td>\n      <td>62000</td>\n      <td>4.5</td>\n      <td>13777.777778</td>\n    </tr>\n    <tr>\n      <th>2</th>\n      <td>at</td>\n      <td>nsa</td>\n      <td>f</td>\n      <td>y25-74</td>\n      <td>1993.03</td>\n      <td>62000</td>\n      <td>4.5</td>\n      <td>13777.777778</td>\n    </tr>\n    <tr>\n      <th>3</th>\n      <td>at</td>\n      <td>nsa</td>\n      <td>f</td>\n      <td>y25-74</td>\n      <td>1993.04</td>\n      <td>63000</td>\n      <td>4.6</td>\n      <td>13695.652174</td>\n    </tr>\n    <tr>\n      <th>4</th>\n      <td>at</td>\n      <td>nsa</td>\n      <td>f</td>\n      <td>y25-74</td>\n      <td>1993.05</td>\n      <td>63000</td>\n      <td>4.6</td>\n      <td>13695.652174</td>\n    </tr>\n    <tr>\n      <th>...</th>\n      <td>...</td>\n      <td>...</td>\n      <td>...</td>\n      <td>...</td>\n      <td>...</td>\n      <td>...</td>\n      <td>...</td>\n      <td>...</td>\n    </tr>\n    <tr>\n      <th>83155</th>\n      <td>uk</td>\n      <td>trend</td>\n      <td>m</td>\n      <td>y_lt25</td>\n      <td>2010.06</td>\n      <td>518000</td>\n      <td>21.1</td>\n      <td>24549.763033</td>\n    </tr>\n    <tr>\n      <th>83156</th>\n      <td>uk</td>\n      <td>trend</td>\n      <td>m</td>\n      <td>y_lt25</td>\n      <td>2010.07</td>\n      <td>513000</td>\n      <td>20.8</td>\n      <td>24663.461538</td>\n    </tr>\n    <tr>\n      <th>83157</th>\n      <td>uk</td>\n      <td>trend</td>\n      <td>m</td>\n      <td>y_lt25</td>\n      <td>2010.08</td>\n      <td>509000</td>\n      <td>20.5</td>\n      <td>24829.268293</td>\n    </tr>\n    <tr>\n      <th>83158</th>\n      <td>uk</td>\n      <td>trend</td>\n      <td>m</td>\n      <td>y_lt25</td>\n      <td>2010.09</td>\n      <td>513000</td>\n      <td>20.7</td>\n      <td>24782.608696</td>\n    </tr>\n    <tr>\n      <th>83159</th>\n      <td>uk</td>\n      <td>trend</td>\n      <td>m</td>\n      <td>y_lt25</td>\n      <td>2010.10</td>\n      <td>520000</td>\n      <td>21.1</td>\n      <td>24644.549763</td>\n    </tr>\n  </tbody>\n</table>\n<p>83160 rows × 8 columns</p>\n</div>"
     },
     "metadata": {},
     "execution_count": 34
    }
   ],
   "source": [
    "df['unemployed_pop_size'] = df['unemployment'] / df['unemployment_rate']\n",
    "df"
   ]
  },
  {
   "cell_type": "code",
   "execution_count": 35,
   "metadata": {},
   "outputs": [
    {
     "output_type": "execute_result",
     "data": {
      "text/plain": [
       "sex  age_group\n",
       "f    y25-74       32206.017729\n",
       "     y_lt25        5665.825758\n",
       "m    y25-74       43576.680612\n",
       "     y_lt25        6679.826296\n",
       "Name: unemployed_pop_size, dtype: float64"
      ]
     },
     "metadata": {},
     "execution_count": 35
    }
   ],
   "source": [
    "mean_factors = df.groupby(['sex', 'age_group'])\n",
    "mean_factors.unemployed_pop_size.mean()"
   ]
  },
  {
   "cell_type": "code",
   "execution_count": 36,
   "metadata": {},
   "outputs": [
    {
     "output_type": "execute_result",
     "data": {
      "text/plain": [
       "sex  age_group  seasonality\n",
       "f    y25-74     nsa            30067.785488\n",
       "                sa             33606.490836\n",
       "                trend          32895.200243\n",
       "     y_lt25     nsa             5270.111609\n",
       "                sa              5876.347541\n",
       "                trend           5848.969402\n",
       "m    y25-74     nsa            41101.938284\n",
       "                sa             45332.013013\n",
       "                trend          44238.241829\n",
       "     y_lt25     nsa             6354.751334\n",
       "                sa              6867.673103\n",
       "                trend           6809.972722\n",
       "Name: unemployed_pop_size, dtype: float64"
      ]
     },
     "metadata": {},
     "execution_count": 36
    }
   ],
   "source": [
    "mean_factors2 = df.groupby(['sex', 'age_group', 'seasonality'])\n",
    "mean_factors2.unemployed_pop_size.mean()"
   ]
  },
  {
   "cell_type": "markdown",
   "metadata": {},
   "source": [
    "# 5.1 Tennis\n",
    "\n",
    "In `data/tennis.csv` you have games that Roger Federer played against various opponents. Questions:\n",
    "\n",
    "1. How many games did Federer win?\n",
    "\n",
    "2. What is Federer's win/loss ratio?\n",
    "\n",
    "3. Who were Federer's top 5 opponents?"
   ]
  },
  {
   "cell_type": "code",
   "execution_count": 37,
   "metadata": {},
   "outputs": [
    {
     "output_type": "execute_result",
     "data": {
      "text/plain": [
       "      year                  tournament  start date type        surface  \\\n",
       "0     1998          Basel, Switzerland  1998-10-05   WS   Indoor: Hard   \n",
       "1     1998            Toulouse, France  1998-09-28   WS   Indoor: Hard   \n",
       "2     1998            Toulouse, France  1998-09-28   WS   Indoor: Hard   \n",
       "3     1998            Toulouse, France  1998-09-28   WS   Indoor: Hard   \n",
       "4     1998         Geneva, Switzerland  1998-08-24   CH  Outdoor: Clay   \n",
       "...    ...                         ...         ...  ...            ...   \n",
       "1174  2012  Australian Open, Australia  2012-01-16   GS  Outdoor: Hard   \n",
       "1175  2012                 Doha, Qatar  2012-01-02  250  Outdoor: Hard   \n",
       "1176  2012                 Doha, Qatar  2012-01-02  250  Outdoor: Hard   \n",
       "1177  2012                 Doha, Qatar  2012-01-02  250  Outdoor: Hard   \n",
       "1178  2012                 Doha, Qatar  2012-01-02  250  Outdoor: Hard   \n",
       "\n",
       "           draw atp points  atp ranking tournament prize money round  ...  \\\n",
       "0      Draw: 32          1        396.0                 $9,800   R32  ...   \n",
       "1      Draw: 32         59        878.0                $10,800   R32  ...   \n",
       "2      Draw: 32         59        878.0                $10,800   R16  ...   \n",
       "3      Draw: 32         59        878.0                $10,800     Q  ...   \n",
       "4      Draw: 32          1        680.0                   $520   R32  ...   \n",
       "...         ...        ...          ...                    ...   ...  ...   \n",
       "1174  Draw: 128        720          3.0              A$437,000     S  ...   \n",
       "1175   Draw: 32         90          3.0                $50,030   R32  ...   \n",
       "1176   Draw: 32         90          3.0                $50,030   R16  ...   \n",
       "1177   Draw: 32         90          3.0                $50,030     Q  ...   \n",
       "1178   Draw: 32         90          3.0                $50,030     S  ...   \n",
       "\n",
       "     player2 break points converted won player2 break points converted total  \\\n",
       "0                                   4.0                                  8.0   \n",
       "1                                   0.0                                  1.0   \n",
       "2                                   0.0                                  4.0   \n",
       "3                                   3.0                                 10.0   \n",
       "4                                   NaN                                  NaN   \n",
       "...                                 ...                                  ...   \n",
       "1174                                6.0                                 16.0   \n",
       "1175                                0.0                                  0.0   \n",
       "1176                                0.0                                  2.0   \n",
       "1177                                4.0                                  9.0   \n",
       "1178                                NaN                                  NaN   \n",
       "\n",
       "     player2 return games played player2 total service points won  \\\n",
       "0                            8.0                             36.0   \n",
       "1                            8.0                             33.0   \n",
       "2                           10.0                             46.0   \n",
       "3                           10.0                             44.0   \n",
       "4                            NaN                              NaN   \n",
       "...                          ...                              ...   \n",
       "1174                        21.0                             95.0   \n",
       "1175                         8.0                             22.0   \n",
       "1176                         9.0                             28.0   \n",
       "1177                        16.0                             47.0   \n",
       "1178                         NaN                              NaN   \n",
       "\n",
       "     player2 total service points total player2 total return points won  \\\n",
       "0                                  50.0                            26.0   \n",
       "1                                  65.0                             8.0   \n",
       "2                                  75.0                            23.0   \n",
       "3                                  63.0                            26.0   \n",
       "4                                   NaN                             NaN   \n",
       "...                                 ...                             ...   \n",
       "1174                              141.0                            51.0   \n",
       "1175                               45.0                             9.0   \n",
       "1176                               50.0                            11.0   \n",
       "1177                               78.0                            34.0   \n",
       "1178                                NaN                             NaN   \n",
       "\n",
       "      player2 total return points total player2 total points won  \\\n",
       "0                                  53.0                     62.0   \n",
       "1                                  41.0                     41.0   \n",
       "2                                  73.0                     69.0   \n",
       "3                                  67.0                     70.0   \n",
       "4                                   NaN                      NaN   \n",
       "...                                 ...                      ...   \n",
       "1174                              135.0                    146.0   \n",
       "1175                               41.0                     31.0   \n",
       "1176                               49.0                     39.0   \n",
       "1177                               95.0                     81.0   \n",
       "1178                                NaN                      NaN   \n",
       "\n",
       "     player2 total points total    win  \n",
       "0                         103.0  False  \n",
       "1                         106.0   True  \n",
       "2                         148.0   True  \n",
       "3                         130.0  False  \n",
       "4                           NaN  False  \n",
       "...                         ...    ...  \n",
       "1174                      276.0  False  \n",
       "1175                       86.0   True  \n",
       "1176                       99.0   True  \n",
       "1177                      173.0   True  \n",
       "1178                        NaN  False  \n",
       "\n",
       "[1179 rows x 71 columns]"
      ],
      "text/html": "<div>\n<style scoped>\n    .dataframe tbody tr th:only-of-type {\n        vertical-align: middle;\n    }\n\n    .dataframe tbody tr th {\n        vertical-align: top;\n    }\n\n    .dataframe thead th {\n        text-align: right;\n    }\n</style>\n<table border=\"1\" class=\"dataframe\">\n  <thead>\n    <tr style=\"text-align: right;\">\n      <th></th>\n      <th>year</th>\n      <th>tournament</th>\n      <th>start date</th>\n      <th>type</th>\n      <th>surface</th>\n      <th>draw</th>\n      <th>atp points</th>\n      <th>atp ranking</th>\n      <th>tournament prize money</th>\n      <th>round</th>\n      <th>...</th>\n      <th>player2 break points converted won</th>\n      <th>player2 break points converted total</th>\n      <th>player2 return games played</th>\n      <th>player2 total service points won</th>\n      <th>player2 total service points total</th>\n      <th>player2 total return points won</th>\n      <th>player2 total return points total</th>\n      <th>player2 total points won</th>\n      <th>player2 total points total</th>\n      <th>win</th>\n    </tr>\n  </thead>\n  <tbody>\n    <tr>\n      <th>0</th>\n      <td>1998</td>\n      <td>Basel, Switzerland</td>\n      <td>1998-10-05</td>\n      <td>WS</td>\n      <td>Indoor: Hard</td>\n      <td>Draw: 32</td>\n      <td>1</td>\n      <td>396.0</td>\n      <td>$9,800</td>\n      <td>R32</td>\n      <td>...</td>\n      <td>4.0</td>\n      <td>8.0</td>\n      <td>8.0</td>\n      <td>36.0</td>\n      <td>50.0</td>\n      <td>26.0</td>\n      <td>53.0</td>\n      <td>62.0</td>\n      <td>103.0</td>\n      <td>False</td>\n    </tr>\n    <tr>\n      <th>1</th>\n      <td>1998</td>\n      <td>Toulouse, France</td>\n      <td>1998-09-28</td>\n      <td>WS</td>\n      <td>Indoor: Hard</td>\n      <td>Draw: 32</td>\n      <td>59</td>\n      <td>878.0</td>\n      <td>$10,800</td>\n      <td>R32</td>\n      <td>...</td>\n      <td>0.0</td>\n      <td>1.0</td>\n      <td>8.0</td>\n      <td>33.0</td>\n      <td>65.0</td>\n      <td>8.0</td>\n      <td>41.0</td>\n      <td>41.0</td>\n      <td>106.0</td>\n      <td>True</td>\n    </tr>\n    <tr>\n      <th>2</th>\n      <td>1998</td>\n      <td>Toulouse, France</td>\n      <td>1998-09-28</td>\n      <td>WS</td>\n      <td>Indoor: Hard</td>\n      <td>Draw: 32</td>\n      <td>59</td>\n      <td>878.0</td>\n      <td>$10,800</td>\n      <td>R16</td>\n      <td>...</td>\n      <td>0.0</td>\n      <td>4.0</td>\n      <td>10.0</td>\n      <td>46.0</td>\n      <td>75.0</td>\n      <td>23.0</td>\n      <td>73.0</td>\n      <td>69.0</td>\n      <td>148.0</td>\n      <td>True</td>\n    </tr>\n    <tr>\n      <th>3</th>\n      <td>1998</td>\n      <td>Toulouse, France</td>\n      <td>1998-09-28</td>\n      <td>WS</td>\n      <td>Indoor: Hard</td>\n      <td>Draw: 32</td>\n      <td>59</td>\n      <td>878.0</td>\n      <td>$10,800</td>\n      <td>Q</td>\n      <td>...</td>\n      <td>3.0</td>\n      <td>10.0</td>\n      <td>10.0</td>\n      <td>44.0</td>\n      <td>63.0</td>\n      <td>26.0</td>\n      <td>67.0</td>\n      <td>70.0</td>\n      <td>130.0</td>\n      <td>False</td>\n    </tr>\n    <tr>\n      <th>4</th>\n      <td>1998</td>\n      <td>Geneva, Switzerland</td>\n      <td>1998-08-24</td>\n      <td>CH</td>\n      <td>Outdoor: Clay</td>\n      <td>Draw: 32</td>\n      <td>1</td>\n      <td>680.0</td>\n      <td>$520</td>\n      <td>R32</td>\n      <td>...</td>\n      <td>NaN</td>\n      <td>NaN</td>\n      <td>NaN</td>\n      <td>NaN</td>\n      <td>NaN</td>\n      <td>NaN</td>\n      <td>NaN</td>\n      <td>NaN</td>\n      <td>NaN</td>\n      <td>False</td>\n    </tr>\n    <tr>\n      <th>...</th>\n      <td>...</td>\n      <td>...</td>\n      <td>...</td>\n      <td>...</td>\n      <td>...</td>\n      <td>...</td>\n      <td>...</td>\n      <td>...</td>\n      <td>...</td>\n      <td>...</td>\n      <td>...</td>\n      <td>...</td>\n      <td>...</td>\n      <td>...</td>\n      <td>...</td>\n      <td>...</td>\n      <td>...</td>\n      <td>...</td>\n      <td>...</td>\n      <td>...</td>\n      <td>...</td>\n    </tr>\n    <tr>\n      <th>1174</th>\n      <td>2012</td>\n      <td>Australian Open, Australia</td>\n      <td>2012-01-16</td>\n      <td>GS</td>\n      <td>Outdoor: Hard</td>\n      <td>Draw: 128</td>\n      <td>720</td>\n      <td>3.0</td>\n      <td>A$437,000</td>\n      <td>S</td>\n      <td>...</td>\n      <td>6.0</td>\n      <td>16.0</td>\n      <td>21.0</td>\n      <td>95.0</td>\n      <td>141.0</td>\n      <td>51.0</td>\n      <td>135.0</td>\n      <td>146.0</td>\n      <td>276.0</td>\n      <td>False</td>\n    </tr>\n    <tr>\n      <th>1175</th>\n      <td>2012</td>\n      <td>Doha, Qatar</td>\n      <td>2012-01-02</td>\n      <td>250</td>\n      <td>Outdoor: Hard</td>\n      <td>Draw: 32</td>\n      <td>90</td>\n      <td>3.0</td>\n      <td>$50,030</td>\n      <td>R32</td>\n      <td>...</td>\n      <td>0.0</td>\n      <td>0.0</td>\n      <td>8.0</td>\n      <td>22.0</td>\n      <td>45.0</td>\n      <td>9.0</td>\n      <td>41.0</td>\n      <td>31.0</td>\n      <td>86.0</td>\n      <td>True</td>\n    </tr>\n    <tr>\n      <th>1176</th>\n      <td>2012</td>\n      <td>Doha, Qatar</td>\n      <td>2012-01-02</td>\n      <td>250</td>\n      <td>Outdoor: Hard</td>\n      <td>Draw: 32</td>\n      <td>90</td>\n      <td>3.0</td>\n      <td>$50,030</td>\n      <td>R16</td>\n      <td>...</td>\n      <td>0.0</td>\n      <td>2.0</td>\n      <td>9.0</td>\n      <td>28.0</td>\n      <td>50.0</td>\n      <td>11.0</td>\n      <td>49.0</td>\n      <td>39.0</td>\n      <td>99.0</td>\n      <td>True</td>\n    </tr>\n    <tr>\n      <th>1177</th>\n      <td>2012</td>\n      <td>Doha, Qatar</td>\n      <td>2012-01-02</td>\n      <td>250</td>\n      <td>Outdoor: Hard</td>\n      <td>Draw: 32</td>\n      <td>90</td>\n      <td>3.0</td>\n      <td>$50,030</td>\n      <td>Q</td>\n      <td>...</td>\n      <td>4.0</td>\n      <td>9.0</td>\n      <td>16.0</td>\n      <td>47.0</td>\n      <td>78.0</td>\n      <td>34.0</td>\n      <td>95.0</td>\n      <td>81.0</td>\n      <td>173.0</td>\n      <td>True</td>\n    </tr>\n    <tr>\n      <th>1178</th>\n      <td>2012</td>\n      <td>Doha, Qatar</td>\n      <td>2012-01-02</td>\n      <td>250</td>\n      <td>Outdoor: Hard</td>\n      <td>Draw: 32</td>\n      <td>90</td>\n      <td>3.0</td>\n      <td>$50,030</td>\n      <td>S</td>\n      <td>...</td>\n      <td>NaN</td>\n      <td>NaN</td>\n      <td>NaN</td>\n      <td>NaN</td>\n      <td>NaN</td>\n      <td>NaN</td>\n      <td>NaN</td>\n      <td>NaN</td>\n      <td>NaN</td>\n      <td>False</td>\n    </tr>\n  </tbody>\n</table>\n<p>1179 rows × 71 columns</p>\n</div>"
     },
     "metadata": {},
     "execution_count": 37
    }
   ],
   "source": [
    "#Question 5.1.1\n",
    "import pandas as pd\n",
    "import numpy as np\n",
    "\n",
    "df = pd.read_csv('data/tennis.csv')\n",
    "df"
   ]
  },
  {
   "cell_type": "code",
   "execution_count": 38,
   "metadata": {},
   "outputs": [
    {
     "output_type": "execute_result",
     "data": {
      "text/plain": [
       "True     972\n",
       "False    207\n",
       "Name: win, dtype: int64"
      ]
     },
     "metadata": {},
     "execution_count": 38
    }
   ],
   "source": [
    "df.win.value_counts() #972 wins"
   ]
  },
  {
   "cell_type": "code",
   "execution_count": 39,
   "metadata": {},
   "outputs": [
    {
     "output_type": "execute_result",
     "data": {
      "text/plain": [
       "True     82.442748\n",
       "False    17.557252\n",
       "Name: win, dtype: float64"
      ]
     },
     "metadata": {},
     "execution_count": 39
    }
   ],
   "source": [
    "#Question 5.1.2\n",
    "df['win'].value_counts(normalize=True) * 100"
   ]
  },
  {
   "cell_type": "code",
   "execution_count": 40,
   "metadata": {},
   "outputs": [
    {
     "output_type": "execute_result",
     "data": {
      "text/plain": [
       "867         Andy Roddick (USA)\n",
       "779         Rafael Nadal (ESP)\n",
       "545          Marat Safin (RUS)\n",
       "95     Michel Kratochvil (SUI)\n",
       "468     David Nalbandian (ARG)\n",
       "Name: opponent, dtype: object"
      ]
     },
     "metadata": {},
     "execution_count": 40
    }
   ],
   "source": [
    "#Question 5.1.3 - take 5 top point values to get top 5 players\n",
    "ax = df.sort_values(by = 'player2 total points total', ascending = False).head(5)\n",
    "ax['opponent']"
   ]
  },
  {
   "cell_type": "markdown",
   "metadata": {},
   "source": [
    "# 5.2 Over time\n",
    "\n",
    "1. What was Federer's best year? In terms of money, and then in terms of number of wins\n",
    "\n",
    "2. Did Federer get better or worse over time?"
   ]
  },
  {
   "cell_type": "code",
   "execution_count": 41,
   "metadata": {},
   "outputs": [
    {
     "output_type": "execute_result",
     "data": {
      "text/plain": [
       "      year                  tournament  start date type        surface  \\\n",
       "0     1998          Basel, Switzerland  1998-10-05   WS   Indoor: Hard   \n",
       "1     1998            Toulouse, France  1998-09-28   WS   Indoor: Hard   \n",
       "2     1998            Toulouse, France  1998-09-28   WS   Indoor: Hard   \n",
       "3     1998            Toulouse, France  1998-09-28   WS   Indoor: Hard   \n",
       "4     1998         Geneva, Switzerland  1998-08-24   CH  Outdoor: Clay   \n",
       "...    ...                         ...         ...  ...            ...   \n",
       "1174  2012  Australian Open, Australia  2012-01-16   GS  Outdoor: Hard   \n",
       "1175  2012                 Doha, Qatar  2012-01-02  250  Outdoor: Hard   \n",
       "1176  2012                 Doha, Qatar  2012-01-02  250  Outdoor: Hard   \n",
       "1177  2012                 Doha, Qatar  2012-01-02  250  Outdoor: Hard   \n",
       "1178  2012                 Doha, Qatar  2012-01-02  250  Outdoor: Hard   \n",
       "\n",
       "           draw atp points  atp ranking tournament prize money round  ...  \\\n",
       "0      Draw: 32          1        396.0                   9800   R32  ...   \n",
       "1      Draw: 32         59        878.0                  10800   R32  ...   \n",
       "2      Draw: 32         59        878.0                  10800   R16  ...   \n",
       "3      Draw: 32         59        878.0                  10800     Q  ...   \n",
       "4      Draw: 32          1        680.0                    520   R32  ...   \n",
       "...         ...        ...          ...                    ...   ...  ...   \n",
       "1174  Draw: 128        720          3.0                 437000     S  ...   \n",
       "1175   Draw: 32         90          3.0                  50030   R32  ...   \n",
       "1176   Draw: 32         90          3.0                  50030   R16  ...   \n",
       "1177   Draw: 32         90          3.0                  50030     Q  ...   \n",
       "1178   Draw: 32         90          3.0                  50030     S  ...   \n",
       "\n",
       "     player2 break points converted won player2 break points converted total  \\\n",
       "0                                   4.0                                  8.0   \n",
       "1                                   0.0                                  1.0   \n",
       "2                                   0.0                                  4.0   \n",
       "3                                   3.0                                 10.0   \n",
       "4                                   NaN                                  NaN   \n",
       "...                                 ...                                  ...   \n",
       "1174                                6.0                                 16.0   \n",
       "1175                                0.0                                  0.0   \n",
       "1176                                0.0                                  2.0   \n",
       "1177                                4.0                                  9.0   \n",
       "1178                                NaN                                  NaN   \n",
       "\n",
       "     player2 return games played player2 total service points won  \\\n",
       "0                            8.0                             36.0   \n",
       "1                            8.0                             33.0   \n",
       "2                           10.0                             46.0   \n",
       "3                           10.0                             44.0   \n",
       "4                            NaN                              NaN   \n",
       "...                          ...                              ...   \n",
       "1174                        21.0                             95.0   \n",
       "1175                         8.0                             22.0   \n",
       "1176                         9.0                             28.0   \n",
       "1177                        16.0                             47.0   \n",
       "1178                         NaN                              NaN   \n",
       "\n",
       "     player2 total service points total player2 total return points won  \\\n",
       "0                                  50.0                            26.0   \n",
       "1                                  65.0                             8.0   \n",
       "2                                  75.0                            23.0   \n",
       "3                                  63.0                            26.0   \n",
       "4                                   NaN                             NaN   \n",
       "...                                 ...                             ...   \n",
       "1174                              141.0                            51.0   \n",
       "1175                               45.0                             9.0   \n",
       "1176                               50.0                            11.0   \n",
       "1177                               78.0                            34.0   \n",
       "1178                                NaN                             NaN   \n",
       "\n",
       "      player2 total return points total player2 total points won  \\\n",
       "0                                  53.0                     62.0   \n",
       "1                                  41.0                     41.0   \n",
       "2                                  73.0                     69.0   \n",
       "3                                  67.0                     70.0   \n",
       "4                                   NaN                      NaN   \n",
       "...                                 ...                      ...   \n",
       "1174                              135.0                    146.0   \n",
       "1175                               41.0                     31.0   \n",
       "1176                               49.0                     39.0   \n",
       "1177                               95.0                     81.0   \n",
       "1178                                NaN                      NaN   \n",
       "\n",
       "     player2 total points total    win  \n",
       "0                         103.0  False  \n",
       "1                         106.0   True  \n",
       "2                         148.0   True  \n",
       "3                         130.0  False  \n",
       "4                           NaN  False  \n",
       "...                         ...    ...  \n",
       "1174                      276.0  False  \n",
       "1175                       86.0   True  \n",
       "1176                       99.0   True  \n",
       "1177                      173.0   True  \n",
       "1178                        NaN  False  \n",
       "\n",
       "[1122 rows x 71 columns]"
      ],
      "text/html": "<div>\n<style scoped>\n    .dataframe tbody tr th:only-of-type {\n        vertical-align: middle;\n    }\n\n    .dataframe tbody tr th {\n        vertical-align: top;\n    }\n\n    .dataframe thead th {\n        text-align: right;\n    }\n</style>\n<table border=\"1\" class=\"dataframe\">\n  <thead>\n    <tr style=\"text-align: right;\">\n      <th></th>\n      <th>year</th>\n      <th>tournament</th>\n      <th>start date</th>\n      <th>type</th>\n      <th>surface</th>\n      <th>draw</th>\n      <th>atp points</th>\n      <th>atp ranking</th>\n      <th>tournament prize money</th>\n      <th>round</th>\n      <th>...</th>\n      <th>player2 break points converted won</th>\n      <th>player2 break points converted total</th>\n      <th>player2 return games played</th>\n      <th>player2 total service points won</th>\n      <th>player2 total service points total</th>\n      <th>player2 total return points won</th>\n      <th>player2 total return points total</th>\n      <th>player2 total points won</th>\n      <th>player2 total points total</th>\n      <th>win</th>\n    </tr>\n  </thead>\n  <tbody>\n    <tr>\n      <th>0</th>\n      <td>1998</td>\n      <td>Basel, Switzerland</td>\n      <td>1998-10-05</td>\n      <td>WS</td>\n      <td>Indoor: Hard</td>\n      <td>Draw: 32</td>\n      <td>1</td>\n      <td>396.0</td>\n      <td>9800</td>\n      <td>R32</td>\n      <td>...</td>\n      <td>4.0</td>\n      <td>8.0</td>\n      <td>8.0</td>\n      <td>36.0</td>\n      <td>50.0</td>\n      <td>26.0</td>\n      <td>53.0</td>\n      <td>62.0</td>\n      <td>103.0</td>\n      <td>False</td>\n    </tr>\n    <tr>\n      <th>1</th>\n      <td>1998</td>\n      <td>Toulouse, France</td>\n      <td>1998-09-28</td>\n      <td>WS</td>\n      <td>Indoor: Hard</td>\n      <td>Draw: 32</td>\n      <td>59</td>\n      <td>878.0</td>\n      <td>10800</td>\n      <td>R32</td>\n      <td>...</td>\n      <td>0.0</td>\n      <td>1.0</td>\n      <td>8.0</td>\n      <td>33.0</td>\n      <td>65.0</td>\n      <td>8.0</td>\n      <td>41.0</td>\n      <td>41.0</td>\n      <td>106.0</td>\n      <td>True</td>\n    </tr>\n    <tr>\n      <th>2</th>\n      <td>1998</td>\n      <td>Toulouse, France</td>\n      <td>1998-09-28</td>\n      <td>WS</td>\n      <td>Indoor: Hard</td>\n      <td>Draw: 32</td>\n      <td>59</td>\n      <td>878.0</td>\n      <td>10800</td>\n      <td>R16</td>\n      <td>...</td>\n      <td>0.0</td>\n      <td>4.0</td>\n      <td>10.0</td>\n      <td>46.0</td>\n      <td>75.0</td>\n      <td>23.0</td>\n      <td>73.0</td>\n      <td>69.0</td>\n      <td>148.0</td>\n      <td>True</td>\n    </tr>\n    <tr>\n      <th>3</th>\n      <td>1998</td>\n      <td>Toulouse, France</td>\n      <td>1998-09-28</td>\n      <td>WS</td>\n      <td>Indoor: Hard</td>\n      <td>Draw: 32</td>\n      <td>59</td>\n      <td>878.0</td>\n      <td>10800</td>\n      <td>Q</td>\n      <td>...</td>\n      <td>3.0</td>\n      <td>10.0</td>\n      <td>10.0</td>\n      <td>44.0</td>\n      <td>63.0</td>\n      <td>26.0</td>\n      <td>67.0</td>\n      <td>70.0</td>\n      <td>130.0</td>\n      <td>False</td>\n    </tr>\n    <tr>\n      <th>4</th>\n      <td>1998</td>\n      <td>Geneva, Switzerland</td>\n      <td>1998-08-24</td>\n      <td>CH</td>\n      <td>Outdoor: Clay</td>\n      <td>Draw: 32</td>\n      <td>1</td>\n      <td>680.0</td>\n      <td>520</td>\n      <td>R32</td>\n      <td>...</td>\n      <td>NaN</td>\n      <td>NaN</td>\n      <td>NaN</td>\n      <td>NaN</td>\n      <td>NaN</td>\n      <td>NaN</td>\n      <td>NaN</td>\n      <td>NaN</td>\n      <td>NaN</td>\n      <td>False</td>\n    </tr>\n    <tr>\n      <th>...</th>\n      <td>...</td>\n      <td>...</td>\n      <td>...</td>\n      <td>...</td>\n      <td>...</td>\n      <td>...</td>\n      <td>...</td>\n      <td>...</td>\n      <td>...</td>\n      <td>...</td>\n      <td>...</td>\n      <td>...</td>\n      <td>...</td>\n      <td>...</td>\n      <td>...</td>\n      <td>...</td>\n      <td>...</td>\n      <td>...</td>\n      <td>...</td>\n      <td>...</td>\n      <td>...</td>\n    </tr>\n    <tr>\n      <th>1174</th>\n      <td>2012</td>\n      <td>Australian Open, Australia</td>\n      <td>2012-01-16</td>\n      <td>GS</td>\n      <td>Outdoor: Hard</td>\n      <td>Draw: 128</td>\n      <td>720</td>\n      <td>3.0</td>\n      <td>437000</td>\n      <td>S</td>\n      <td>...</td>\n      <td>6.0</td>\n      <td>16.0</td>\n      <td>21.0</td>\n      <td>95.0</td>\n      <td>141.0</td>\n      <td>51.0</td>\n      <td>135.0</td>\n      <td>146.0</td>\n      <td>276.0</td>\n      <td>False</td>\n    </tr>\n    <tr>\n      <th>1175</th>\n      <td>2012</td>\n      <td>Doha, Qatar</td>\n      <td>2012-01-02</td>\n      <td>250</td>\n      <td>Outdoor: Hard</td>\n      <td>Draw: 32</td>\n      <td>90</td>\n      <td>3.0</td>\n      <td>50030</td>\n      <td>R32</td>\n      <td>...</td>\n      <td>0.0</td>\n      <td>0.0</td>\n      <td>8.0</td>\n      <td>22.0</td>\n      <td>45.0</td>\n      <td>9.0</td>\n      <td>41.0</td>\n      <td>31.0</td>\n      <td>86.0</td>\n      <td>True</td>\n    </tr>\n    <tr>\n      <th>1176</th>\n      <td>2012</td>\n      <td>Doha, Qatar</td>\n      <td>2012-01-02</td>\n      <td>250</td>\n      <td>Outdoor: Hard</td>\n      <td>Draw: 32</td>\n      <td>90</td>\n      <td>3.0</td>\n      <td>50030</td>\n      <td>R16</td>\n      <td>...</td>\n      <td>0.0</td>\n      <td>2.0</td>\n      <td>9.0</td>\n      <td>28.0</td>\n      <td>50.0</td>\n      <td>11.0</td>\n      <td>49.0</td>\n      <td>39.0</td>\n      <td>99.0</td>\n      <td>True</td>\n    </tr>\n    <tr>\n      <th>1177</th>\n      <td>2012</td>\n      <td>Doha, Qatar</td>\n      <td>2012-01-02</td>\n      <td>250</td>\n      <td>Outdoor: Hard</td>\n      <td>Draw: 32</td>\n      <td>90</td>\n      <td>3.0</td>\n      <td>50030</td>\n      <td>Q</td>\n      <td>...</td>\n      <td>4.0</td>\n      <td>9.0</td>\n      <td>16.0</td>\n      <td>47.0</td>\n      <td>78.0</td>\n      <td>34.0</td>\n      <td>95.0</td>\n      <td>81.0</td>\n      <td>173.0</td>\n      <td>True</td>\n    </tr>\n    <tr>\n      <th>1178</th>\n      <td>2012</td>\n      <td>Doha, Qatar</td>\n      <td>2012-01-02</td>\n      <td>250</td>\n      <td>Outdoor: Hard</td>\n      <td>Draw: 32</td>\n      <td>90</td>\n      <td>3.0</td>\n      <td>50030</td>\n      <td>S</td>\n      <td>...</td>\n      <td>NaN</td>\n      <td>NaN</td>\n      <td>NaN</td>\n      <td>NaN</td>\n      <td>NaN</td>\n      <td>NaN</td>\n      <td>NaN</td>\n      <td>NaN</td>\n      <td>NaN</td>\n      <td>False</td>\n    </tr>\n  </tbody>\n</table>\n<p>1122 rows × 71 columns</p>\n</div>"
     },
     "metadata": {},
     "execution_count": 41
    }
   ],
   "source": [
    "#5.2.1 - help from Pamela\n",
    "df['tournament prize money'] = df['tournament prize money'].str.replace('[a-zA-Z]', '')\n",
    "df['tournament prize money'] = df['tournament prize money'].str.replace('$', '')\n",
    "df['tournament prize money'] = df['tournament prize money'].str.replace(',', '')\n",
    "df = df[df['tournament prize money'] != '']\n",
    "df = df[~df['tournament prize money'].isnull()]\n",
    "df"
   ]
  },
  {
   "cell_type": "code",
   "execution_count": 42,
   "metadata": {},
   "outputs": [
    {
     "output_type": "execute_result",
     "data": {
      "text/plain": [
       "<bound method DataFrame.reset_index of              prizes\n",
       "year win           \n",
       "1998 True     21600\n",
       "1999 True    365975\n",
       "2000 True   1023498\n",
       "2001 True   2543712\n",
       "2002 True   7058200\n",
       "2003 True  20117218\n",
       "2004 True  39034705\n",
       "2005 True  36910840\n",
       "2006 True  51748945\n",
       "2007 True  52680795\n",
       "2008 True  22940000\n",
       "2009 True  33892300\n",
       "2010 True  36160885\n",
       "2011 True  25066780\n",
       "2012 True  34535490>"
      ]
     },
     "metadata": {},
     "execution_count": 42
    }
   ],
   "source": [
    "df['tournament prize money'] = df['tournament prize money'].astype(int)\n",
    "df['year'].astype(str)\n",
    "federer_wins = df[df['winner'].str.contains('Federer')]\n",
    "best_year_money = federer_wins.groupby(['year', 'win']).agg(prizes = ('tournament prize money', 'sum')).reset_index\n",
    "best_year_money #based on money, best year was 2007"
   ]
  },
  {
   "cell_type": "code",
   "execution_count": 43,
   "metadata": {},
   "outputs": [
    {
     "output_type": "execute_result",
     "data": {
      "text/plain": [
       "<bound method DataFrame.reset_index of            prizes\n",
       "year win         \n",
       "1998 True     2.0\n",
       "1999 True    28.0\n",
       "2000 True    30.0\n",
       "2001 True    49.0\n",
       "2002 True    59.0\n",
       "2003 True    77.0\n",
       "2004 True    72.0\n",
       "2005 True    82.0\n",
       "2006 True    94.0\n",
       "2007 True    76.0\n",
       "2008 True    72.0\n",
       "2009 True    67.0\n",
       "2010 True    76.0\n",
       "2011 True    69.0\n",
       "2012 True    74.0>"
      ]
     },
     "metadata": {},
     "execution_count": 43
    }
   ],
   "source": [
    "best_year_wins = federer_wins.groupby(['year', 'win']).agg(prizes = ('win', 'sum')).reset_index\n",
    "best_year_wins #2006 has highest number of wins"
   ]
  },
  {
   "cell_type": "code",
   "execution_count": 44,
   "metadata": {},
   "outputs": [],
   "source": [
    "#Question 5.2.2\n",
    "#He got better with time. He wasn't making as much money after 2007 because he wasn't playing as many games."
   ]
  },
  {
   "cell_type": "markdown",
   "metadata": {},
   "source": [
    "# 5.3 Total money won\n",
    "\n",
    "In the data, you'll find the `tournament round`, one value of which, `F` indicates the final.\n",
    "\n",
    "Assuming Federer wins the money in the `tournament prize money` if he wins a final in a tournament, how much money has Federer made in tournaments in this dataset?"
   ]
  },
  {
   "cell_type": "code",
   "execution_count": 45,
   "metadata": {},
   "outputs": [
    {
     "output_type": "execute_result",
     "data": {
      "text/plain": [
       "      year                                         tournament  start date  \\\n",
       "10    1999                                      Brest, France  1999-10-25   \n",
       "190   2001                                       Milan, Italy  2001-01-29   \n",
       "217   2002                                    Vienna, Austria  2002-10-07   \n",
       "247   2002                ATP Masters Series Hamburg, Germany  2002-05-13   \n",
       "281   2002                                  Sydney, Australia  2002-01-07   \n",
       "...    ...                                                ...         ...   \n",
       "1125  2012                           Wimbledon, Great Britain  2012-06-25   \n",
       "1147  2012          ATP World Tour Masters 1000 Madrid, Spain  2012-05-06   \n",
       "1157  2012  ATP World Tour Masters 1000 Indian Wells, CA, ...  2012-03-08   \n",
       "1162  2012                                      Dubai, U.A.E.  2012-02-27   \n",
       "1167  2012                         Rotterdam, The Netherlands  2012-02-13   \n",
       "\n",
       "      type         surface       draw atp points  atp ranking  \\\n",
       "10      CH    Indoor: Hard   Draw: 32         78         66.0   \n",
       "190     WS  Indoor: Carpet   Draw: 32        175         27.0   \n",
       "217     CS    Indoor: Hard   Draw: 32        250         13.0   \n",
       "247     SU   Outdoor: Clay   Draw: 64        500         14.0   \n",
       "281     WS   Outdoor: Hard   Draw: 32        175         13.0   \n",
       "...    ...             ...        ...        ...          ...   \n",
       "1125    GS  Outdoor: Grass  Draw: 128      2,000          3.0   \n",
       "1147  1000   Outdoor: Clay   Draw: 56      1,000          3.0   \n",
       "1157  1000   Outdoor: Hard   Draw: 96      1,000          3.0   \n",
       "1162   500   Outdoor: Hard   Draw: 32        500          3.0   \n",
       "1167   500    Indoor: Hard   Draw: 32        500          3.0   \n",
       "\n",
       "      tournament prize money round  ... player2 break points converted won  \\\n",
       "10                     14400     W  ...                                NaN   \n",
       "190                    54000     W  ...                                5.0   \n",
       "217                   119750     W  ...                                3.0   \n",
       "247                   372000     W  ...                                3.0   \n",
       "281                    48850     W  ...                                0.0   \n",
       "...                      ...   ...  ...                                ...   \n",
       "1125                 1150000     W  ...                                2.0   \n",
       "1147                  585800     W  ...                                3.0   \n",
       "1157                 1000000     W  ...                                0.0   \n",
       "1162                  409170     W  ...                                1.0   \n",
       "1167                  290550     W  ...                                0.0   \n",
       "\n",
       "     player2 break points converted total player2 return games played  \\\n",
       "10                                    NaN                         NaN   \n",
       "190                                   7.0                        16.0   \n",
       "217                                  10.0                        18.0   \n",
       "247                                   7.0                        13.0   \n",
       "281                                   0.0                         9.0   \n",
       "...                                   ...                         ...   \n",
       "1125                                  7.0                        21.0   \n",
       "1147                                  9.0                        16.0   \n",
       "1157                                  3.0                        10.0   \n",
       "1162                                  3.0                        11.0   \n",
       "1167                                  7.0                         9.0   \n",
       "\n",
       "     player2 total service points won player2 total service points total  \\\n",
       "10                                NaN                                NaN   \n",
       "190                              64.0                              113.0   \n",
       "217                              68.0                              116.0   \n",
       "247                              55.0                              117.0   \n",
       "281                              29.0                               47.0   \n",
       "...                               ...                                ...   \n",
       "1125                             94.0                              157.0   \n",
       "1147                             63.0                              100.0   \n",
       "1157                             46.0                               71.0   \n",
       "1162                             40.0                               66.0   \n",
       "1167                             26.0                               46.0   \n",
       "\n",
       "     player2 total return points won  player2 total return points total  \\\n",
       "10                               NaN                                NaN   \n",
       "190                             37.0                              103.0   \n",
       "217                             41.0                              116.0   \n",
       "247                             32.0                               81.0   \n",
       "281                             10.0                               48.0   \n",
       "...                              ...                                ...   \n",
       "1125                            43.0                              131.0   \n",
       "1147                            38.0                              104.0   \n",
       "1157                             9.0                               56.0   \n",
       "1162                            19.0                               64.0   \n",
       "1167                            24.0                               69.0   \n",
       "\n",
       "     player2 total points won player2 total points total   win  \n",
       "10                        NaN                        NaN  True  \n",
       "190                     101.0                      216.0  True  \n",
       "217                     109.0                      232.0  True  \n",
       "247                      87.0                      198.0  True  \n",
       "281                      39.0                       95.0  True  \n",
       "...                       ...                        ...   ...  \n",
       "1125                    137.0                      288.0  True  \n",
       "1147                    101.0                      204.0  True  \n",
       "1157                     55.0                      127.0  True  \n",
       "1162                     59.0                      130.0  True  \n",
       "1167                     50.0                      115.0  True  \n",
       "\n",
       "[77 rows x 71 columns]"
      ],
      "text/html": "<div>\n<style scoped>\n    .dataframe tbody tr th:only-of-type {\n        vertical-align: middle;\n    }\n\n    .dataframe tbody tr th {\n        vertical-align: top;\n    }\n\n    .dataframe thead th {\n        text-align: right;\n    }\n</style>\n<table border=\"1\" class=\"dataframe\">\n  <thead>\n    <tr style=\"text-align: right;\">\n      <th></th>\n      <th>year</th>\n      <th>tournament</th>\n      <th>start date</th>\n      <th>type</th>\n      <th>surface</th>\n      <th>draw</th>\n      <th>atp points</th>\n      <th>atp ranking</th>\n      <th>tournament prize money</th>\n      <th>round</th>\n      <th>...</th>\n      <th>player2 break points converted won</th>\n      <th>player2 break points converted total</th>\n      <th>player2 return games played</th>\n      <th>player2 total service points won</th>\n      <th>player2 total service points total</th>\n      <th>player2 total return points won</th>\n      <th>player2 total return points total</th>\n      <th>player2 total points won</th>\n      <th>player2 total points total</th>\n      <th>win</th>\n    </tr>\n  </thead>\n  <tbody>\n    <tr>\n      <th>10</th>\n      <td>1999</td>\n      <td>Brest, France</td>\n      <td>1999-10-25</td>\n      <td>CH</td>\n      <td>Indoor: Hard</td>\n      <td>Draw: 32</td>\n      <td>78</td>\n      <td>66.0</td>\n      <td>14400</td>\n      <td>W</td>\n      <td>...</td>\n      <td>NaN</td>\n      <td>NaN</td>\n      <td>NaN</td>\n      <td>NaN</td>\n      <td>NaN</td>\n      <td>NaN</td>\n      <td>NaN</td>\n      <td>NaN</td>\n      <td>NaN</td>\n      <td>True</td>\n    </tr>\n    <tr>\n      <th>190</th>\n      <td>2001</td>\n      <td>Milan, Italy</td>\n      <td>2001-01-29</td>\n      <td>WS</td>\n      <td>Indoor: Carpet</td>\n      <td>Draw: 32</td>\n      <td>175</td>\n      <td>27.0</td>\n      <td>54000</td>\n      <td>W</td>\n      <td>...</td>\n      <td>5.0</td>\n      <td>7.0</td>\n      <td>16.0</td>\n      <td>64.0</td>\n      <td>113.0</td>\n      <td>37.0</td>\n      <td>103.0</td>\n      <td>101.0</td>\n      <td>216.0</td>\n      <td>True</td>\n    </tr>\n    <tr>\n      <th>217</th>\n      <td>2002</td>\n      <td>Vienna, Austria</td>\n      <td>2002-10-07</td>\n      <td>CS</td>\n      <td>Indoor: Hard</td>\n      <td>Draw: 32</td>\n      <td>250</td>\n      <td>13.0</td>\n      <td>119750</td>\n      <td>W</td>\n      <td>...</td>\n      <td>3.0</td>\n      <td>10.0</td>\n      <td>18.0</td>\n      <td>68.0</td>\n      <td>116.0</td>\n      <td>41.0</td>\n      <td>116.0</td>\n      <td>109.0</td>\n      <td>232.0</td>\n      <td>True</td>\n    </tr>\n    <tr>\n      <th>247</th>\n      <td>2002</td>\n      <td>ATP Masters Series Hamburg, Germany</td>\n      <td>2002-05-13</td>\n      <td>SU</td>\n      <td>Outdoor: Clay</td>\n      <td>Draw: 64</td>\n      <td>500</td>\n      <td>14.0</td>\n      <td>372000</td>\n      <td>W</td>\n      <td>...</td>\n      <td>3.0</td>\n      <td>7.0</td>\n      <td>13.0</td>\n      <td>55.0</td>\n      <td>117.0</td>\n      <td>32.0</td>\n      <td>81.0</td>\n      <td>87.0</td>\n      <td>198.0</td>\n      <td>True</td>\n    </tr>\n    <tr>\n      <th>281</th>\n      <td>2002</td>\n      <td>Sydney, Australia</td>\n      <td>2002-01-07</td>\n      <td>WS</td>\n      <td>Outdoor: Hard</td>\n      <td>Draw: 32</td>\n      <td>175</td>\n      <td>13.0</td>\n      <td>48850</td>\n      <td>W</td>\n      <td>...</td>\n      <td>0.0</td>\n      <td>0.0</td>\n      <td>9.0</td>\n      <td>29.0</td>\n      <td>47.0</td>\n      <td>10.0</td>\n      <td>48.0</td>\n      <td>39.0</td>\n      <td>95.0</td>\n      <td>True</td>\n    </tr>\n    <tr>\n      <th>...</th>\n      <td>...</td>\n      <td>...</td>\n      <td>...</td>\n      <td>...</td>\n      <td>...</td>\n      <td>...</td>\n      <td>...</td>\n      <td>...</td>\n      <td>...</td>\n      <td>...</td>\n      <td>...</td>\n      <td>...</td>\n      <td>...</td>\n      <td>...</td>\n      <td>...</td>\n      <td>...</td>\n      <td>...</td>\n      <td>...</td>\n      <td>...</td>\n      <td>...</td>\n      <td>...</td>\n    </tr>\n    <tr>\n      <th>1125</th>\n      <td>2012</td>\n      <td>Wimbledon, Great Britain</td>\n      <td>2012-06-25</td>\n      <td>GS</td>\n      <td>Outdoor: Grass</td>\n      <td>Draw: 128</td>\n      <td>2,000</td>\n      <td>3.0</td>\n      <td>1150000</td>\n      <td>W</td>\n      <td>...</td>\n      <td>2.0</td>\n      <td>7.0</td>\n      <td>21.0</td>\n      <td>94.0</td>\n      <td>157.0</td>\n      <td>43.0</td>\n      <td>131.0</td>\n      <td>137.0</td>\n      <td>288.0</td>\n      <td>True</td>\n    </tr>\n    <tr>\n      <th>1147</th>\n      <td>2012</td>\n      <td>ATP World Tour Masters 1000 Madrid, Spain</td>\n      <td>2012-05-06</td>\n      <td>1000</td>\n      <td>Outdoor: Clay</td>\n      <td>Draw: 56</td>\n      <td>1,000</td>\n      <td>3.0</td>\n      <td>585800</td>\n      <td>W</td>\n      <td>...</td>\n      <td>3.0</td>\n      <td>9.0</td>\n      <td>16.0</td>\n      <td>63.0</td>\n      <td>100.0</td>\n      <td>38.0</td>\n      <td>104.0</td>\n      <td>101.0</td>\n      <td>204.0</td>\n      <td>True</td>\n    </tr>\n    <tr>\n      <th>1157</th>\n      <td>2012</td>\n      <td>ATP World Tour Masters 1000 Indian Wells, CA, ...</td>\n      <td>2012-03-08</td>\n      <td>1000</td>\n      <td>Outdoor: Hard</td>\n      <td>Draw: 96</td>\n      <td>1,000</td>\n      <td>3.0</td>\n      <td>1000000</td>\n      <td>W</td>\n      <td>...</td>\n      <td>0.0</td>\n      <td>3.0</td>\n      <td>10.0</td>\n      <td>46.0</td>\n      <td>71.0</td>\n      <td>9.0</td>\n      <td>56.0</td>\n      <td>55.0</td>\n      <td>127.0</td>\n      <td>True</td>\n    </tr>\n    <tr>\n      <th>1162</th>\n      <td>2012</td>\n      <td>Dubai, U.A.E.</td>\n      <td>2012-02-27</td>\n      <td>500</td>\n      <td>Outdoor: Hard</td>\n      <td>Draw: 32</td>\n      <td>500</td>\n      <td>3.0</td>\n      <td>409170</td>\n      <td>W</td>\n      <td>...</td>\n      <td>1.0</td>\n      <td>3.0</td>\n      <td>11.0</td>\n      <td>40.0</td>\n      <td>66.0</td>\n      <td>19.0</td>\n      <td>64.0</td>\n      <td>59.0</td>\n      <td>130.0</td>\n      <td>True</td>\n    </tr>\n    <tr>\n      <th>1167</th>\n      <td>2012</td>\n      <td>Rotterdam, The Netherlands</td>\n      <td>2012-02-13</td>\n      <td>500</td>\n      <td>Indoor: Hard</td>\n      <td>Draw: 32</td>\n      <td>500</td>\n      <td>3.0</td>\n      <td>290550</td>\n      <td>W</td>\n      <td>...</td>\n      <td>0.0</td>\n      <td>7.0</td>\n      <td>9.0</td>\n      <td>26.0</td>\n      <td>46.0</td>\n      <td>24.0</td>\n      <td>69.0</td>\n      <td>50.0</td>\n      <td>115.0</td>\n      <td>True</td>\n    </tr>\n  </tbody>\n</table>\n<p>77 rows × 71 columns</p>\n</div>"
     },
     "metadata": {},
     "execution_count": 45
    }
   ],
   "source": [
    "finals = df[(df['tournament round'] == 'F') & (df['win'] == True)]\n",
    "finals"
   ]
  },
  {
   "cell_type": "code",
   "execution_count": 46,
   "metadata": {},
   "outputs": [
    {
     "output_type": "execute_result",
     "data": {
      "text/plain": [
       "44934964"
      ]
     },
     "metadata": {},
     "execution_count": 46
    }
   ],
   "source": [
    "tournament_money = finals['tournament prize money']\n",
    "tournament_money.sum(axis = 0) #total prize money from tournament wins"
   ]
  },
  {
   "cell_type": "code",
   "execution_count": null,
   "metadata": {},
   "outputs": [],
   "source": []
  }
 ],
 "metadata": {
  "kernelspec": {
   "display_name": "Python 3",
   "language": "python",
   "name": "python3"
  },
  "language_info": {
   "codemirror_mode": {
    "name": "ipython",
    "version": 3
   },
   "file_extension": ".py",
   "mimetype": "text/x-python",
   "name": "python",
   "nbconvert_exporter": "python",
   "pygments_lexer": "ipython3",
   "version": "3.8.3-final"
  }
 },
 "nbformat": 4,
 "nbformat_minor": 4
}