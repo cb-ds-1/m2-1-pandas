{
 "cells": [
  {
   "cell_type": "markdown",
   "metadata": {},
   "source": [
    "# Notes:\n",
    "\n",
    "You are banned from using loops (`for` or `while` or any other) for this entire workshop!\n",
    "\n",
    "You shouldn't be using loops almost ever with pandas in any case, so break out of the habit now.\n",
    "\n",
    "## 1. DataFrame basics\n",
    "\n",
    "\n",
    "Consider the following Python dictionary `data` and Python list `labels`:\n",
    "\n",
    "``` python\n",
    "data = {'animal': ['cat', 'cat', 'snake', 'dog', 'dog', 'cat', 'snake', 'cat', 'dog', 'dog'],\n",
    "        'age': [2.5, 3, 0.5, np.nan, 5, 2, 4.5, np.nan, 7, 3],\n",
    "        'visits': [1, 3, 2, 3, 2, 3, 1, 1, 2, 1],\n",
    "        'priority': ['yes', 'yes', 'no', 'yes', 'no', 'no', 'no', 'yes', 'no', 'no']}\n",
    "\n",
    "labels = ['a', 'b', 'c', 'd', 'e', 'f', 'g', 'h', 'i', 'j']\n",
    "```\n",
    "(This is just some meaningless data I made up with the theme of animals and trips to a vet.)\n",
    "\n",
    "**1.** Create a DataFrame `df` from this dictionary `data` which has the index `labels`.\n",
    "\n",
    "**2.** Select only the rows where visits are 3 or more. Which types of animals are these?\n",
    "\n",
    "**3.** Select the rows where visists are 3 and the animal is a cat\n",
    "\n",
    "**4.** Calculate the sum of all visits in `df` (i.e. the total number of visits).\n",
    "\n",
    "**5.** Calculate the mean age for each different animal in `df`.\n",
    "\n",
    "**6.** Append a new row 'k' to `df` with your choice of values for each column. Then delete that row to return the original DataFrame.\n",
    "\n"
   ]
  },
  {
   "cell_type": "code",
   "execution_count": 7,
   "metadata": {},
   "outputs": [
    {
     "output_type": "stream",
     "name": "stdout",
     "text": [
      "  animal  age  visits priority\na    cat  2.5       1      yes\nb    cat  3.0       3      yes\nc  snake  0.5       2       no\nd    dog  NaN       3      yes\ne    dog  5.0       2       no\nf    cat  2.0       3       no\ng  snake  4.5       1       no\nh    cat  NaN       1      yes\ni    dog  7.0       2       no\nj    dog  3.0       1       no\n  animal  age  visits priority\nb    cat  3.0       3      yes\nd    dog  NaN       3      yes\nf    cat  2.0       3       no\n  animal  age  visits priority\nb    cat  3.0       3      yes\nf    cat  2.0       3       no\n19\n3.4375\n  animal  age visits priority\na    cat  2.5      1      yes\nb    cat    3      3      yes\nc  snake  0.5      2       no\nd    dog  NaN      3      yes\ne    dog    5      2       no\nf    cat    2      3       no\ng  snake  4.5      1       no\nh    cat  NaN      1      yes\ni    dog    7      2       no\nj    dog    3      1       no\nk    cat   30      5      yes\n  animal  age visits priority\na    cat  2.5      1      yes\nb    cat    3      3      yes\nc  snake  0.5      2       no\nd    dog  NaN      3      yes\ne    dog    5      2       no\nf    cat    2      3       no\ng  snake  4.5      1       no\nh    cat  NaN      1      yes\ni    dog    7      2       no\nj    dog    3      1       no\n"
     ]
    }
   ],
   "source": [
    "import pandas as pd \n",
    "import numpy as np\n",
    "import random \n",
    "#1 Create a DataFrame df from this dictionary data which has the index labels\n",
    "data = {'animal': ['cat', 'cat', 'snake', 'dog', 'dog', 'cat', 'snake', 'cat', 'dog', 'dog'],\n",
    "        'age': [2.5, 3, 0.5, np.nan, 5, 2, 4.5, np.nan, 7, 3],\n",
    "        'visits': [1, 3, 2, 3, 2, 3, 1, 1, 2, 1],\n",
    "        'priority': ['yes', 'yes', 'no', 'yes', 'no', 'no', 'no', 'yes', 'no', 'no']}\n",
    "\n",
    "labels = ['a', 'b', 'c', 'd', 'e', 'f', 'g', 'h', 'i', 'j']\n",
    "\n",
    "df = pd.DataFrame(data, index=labels)\n",
    "print(df)\n",
    "\n",
    "#2 Select only the rows where visits are 3 or more. Which types of animals are these?\n",
    "\n",
    "msk = df[df.visits>=3]\n",
    "print(msk)\n",
    "\n",
    "\n",
    "#3. Select the rows where visists are 3 and the animal is a cat\n",
    "msk_2 = df[(df.visits>=3) & (df.animal == 'cat')]\n",
    "print(msk_2)\n",
    "\n",
    "#4 Calculate the sum of all visits in df (i.e. the total number of visits). \n",
    "\n",
    "print(df.visits.sum())\n",
    "\n",
    "#5. Calculate the mean age for each different animal in df.\n",
    "\n",
    "print(df.age.mean())\n",
    "\n",
    "#6 Append a new row 'k' to df with your choice of values for each column. Then delete that row to return the original DataFrame.\n",
    "\n",
    "df.loc['k'] = ['cat', '30', '5','yes']\n",
    "print(df)\n",
    "print(df.drop('k', axis=0))\n"
   ]
  },
  {
   "cell_type": "markdown",
   "metadata": {},
   "source": [
    "# 2.1 Shifty problem\n",
    "\n",
    "You have a DataFrame `df` with a column 'A' of integers. For example:\n",
    "```python\n",
    "df = pd.DataFrame({'A': [1, 2, 2, 3, 4, 5, 5, 5, 6, 7, 7]})\n",
    "```\n",
    "\n",
    "How do you filter out rows which contain the same integer as the row immediately above?\n",
    "\n",
    "You should be left with a column containing the following values:\n",
    "\n",
    "```python\n",
    "1, 2, 3, 4, 5, 6, 7\n",
    "```\n",
    "\n",
    "### Hint: use the `shift()` method"
   ]
  },
  {
   "cell_type": "code",
   "execution_count": 8,
   "metadata": {},
   "outputs": [
    {
     "output_type": "stream",
     "name": "stdout",
     "text": [
      "[1 2 3 4 5 6 7]\n"
     ]
    }
   ],
   "source": [
    "df = pd.DataFrame({'A': [1, 2, 2, 3, 4, 5, 5, 5, 6, 7, 7]})\n",
    "\n",
    "sorted = df['A'].unique()\n",
    "print(sorted)"
   ]
  },
  {
   "cell_type": "markdown",
   "metadata": {},
   "source": [
    "# 2.2 columns sum min\n",
    "\n",
    "Suppose you have DataFrame with 10 columns of real numbers, for example:\n",
    "\n",
    "```python\n",
    "df = pd.DataFrame(np.random.random(size=(5, 10)), columns=list('abcdefghij'))\n",
    "```\n",
    "Which column of numbers has the smallest sum? Return that column's label."
   ]
  },
  {
   "cell_type": "code",
   "execution_count": 9,
   "metadata": {},
   "outputs": [
    {
     "output_type": "stream",
     "name": "stdout",
     "text": [
      "a\n"
     ]
    }
   ],
   "source": [
    "df = pd.DataFrame(np.random.random(size=(5, 10)), columns=list('abcdefghij'))\n",
    "df\n",
    "sums = df.select_dtypes(pd.np.number).sum().rename('total')\n",
    "df = df.append(sums)\n",
    "df\n",
    "print(df.loc['total'].idxmax())\n"
   ]
  },
  {
   "cell_type": "markdown",
   "metadata": {},
   "source": [
    "# 2.3 Duplicates\n",
    "\n",
    "How do you count how many unique rows a DataFrame has (i.e. ignore all rows that are duplicates)?\n",
    "\n",
    "**hint:** There's a method for to find duplicate rows for you"
   ]
  },
  {
   "cell_type": "code",
   "execution_count": 10,
   "metadata": {},
   "outputs": [
    {
     "output_type": "stream",
     "name": "stdout",
     "text": [
      "Empty DataFrame\nColumns: [a, b, c, d, e, f, g, h, i, j]\nIndex: []\n"
     ]
    }
   ],
   "source": [
    "df = pd.DataFrame(np.random.random(size=(5, 10)), columns=list('abcdefghij'))\n",
    "df\n",
    "\n",
    "\n",
    "#find duplicate rows \n",
    "duplicateDFRow = df[df.duplicated()]\n",
    "print(duplicateDFRow)\n",
    "#There is no duplicate row in this DataFrame "
   ]
  },
  {
   "cell_type": "markdown",
   "metadata": {},
   "source": [
    "# 2.4 Group Values\n",
    "\n",
    "A DataFrame has a column of groups 'grps' and and column of integer values 'vals': \n",
    "\n",
    "```python\n",
    "df = pd.DataFrame({'grps': list('aaabbcaabcccbbc'), \n",
    "                   'vals': [12,345,3,1,45,14,4,52,54,23,235,21,57,3,87]})\n",
    "```\n",
    "For each *group*, find the sum of the three greatest values.  You should end up with the answer as follows:\n",
    "```\n",
    "grps\n",
    "a    409\n",
    "b    156\n",
    "c    345\n",
    "```"
   ]
  },
  {
   "cell_type": "code",
   "execution_count": 11,
   "metadata": {},
   "outputs": [
    {
     "output_type": "execute_result",
     "data": {
      "text/plain": [
       "grps\n",
       "a    409\n",
       "b    156\n",
       "c    345\n",
       "Name: vals, dtype: int64"
      ]
     },
     "metadata": {},
     "execution_count": 11
    }
   ],
   "source": [
    "import pandas as pd \n",
    "import numpy as np \n",
    "df = pd.DataFrame({'grps': list('aaabbcaabcccbbc'), \n",
    "                   'vals': [12,345,3,1,45,14,4,52,54,23,235,21,57,3,87]})\n",
    "\n",
    "\n",
    "#df_1 = df.nlargest(3, ['vals'])\n",
    "\n",
    "(df.groupby('grps')['vals']\n",
    "    .nlargest(3)\n",
    "    .groupby('grps')\n",
    "    .sum()\n",
    "\n",
    ")\n"
   ]
  },
  {
   "cell_type": "markdown",
   "metadata": {},
   "source": [
    "# 3. Cleaning Data\n",
    "\n",
    "### Making a DataFrame easier to work with\n",
    "\n",
    "It happens all the time: someone gives you data containing malformed strings, Python, lists and missing data. How do you tidy it up so you can get on with the analysis?\n",
    "\n",
    "Take this monstrosity as the DataFrame to use in the following puzzles:\n",
    "\n",
    "```python\n",
    "df = pd.DataFrame({'From_To': ['LoNDon_paris', 'MAdrid_miLAN', 'londON_StockhOlm', \n",
    "                               'Budapest_PaRis', 'Brussels_londOn'],\n",
    "              'FlightNumber': [10045, np.nan, 10065, np.nan, 10085],\n",
    "              'RecentDelays': [[23, 47], [], [24, 43, 87], [13], [67, 32]],\n",
    "                   'Airline': ['KLM(!)', '<Air France> (12)', '(British Airways. )', \n",
    "                               '12. Air France', '\"Swiss Air\"']})\n",
    "```\n",
    "\n",
    "Formatted, it looks like this:\n",
    "\n",
    "```\n",
    "            From_To  FlightNumber  RecentDelays              Airline\n",
    "0      LoNDon_paris       10045.0      [23, 47]               KLM(!)\n",
    "1      MAdrid_miLAN           NaN            []    <Air France> (12)\n",
    "2  londON_StockhOlm       10065.0  [24, 43, 87]  (British Airways. )\n",
    "3    Budapest_PaRis           NaN          [13]       12. Air France\n",
    "4   Brussels_londOn       10085.0      [67, 32]          \"Swiss Air\"\n",
    "```\n",
    "\n",
    "**1.** Some values in the the **FlightNumber** column are missing (they are `NaN`). These numbers are meant to increase by 10 with each row so 10055 and 10075 need to be put in place. Modify `df` to fill in these missing numbers and make the column an integer column (instead of a float column)."
   ]
  },
  {
   "cell_type": "code",
   "execution_count": 22,
   "metadata": {},
   "outputs": [
    {
     "output_type": "execute_result",
     "data": {
      "text/plain": [
       "            From_To  FlightNumber  RecentDelays              Airline\n",
       "0      LoNDon_paris       10045.0      [23, 47]               KLM(!)\n",
       "1      MAdrid_miLAN       10055.0            []    <Air France> (12)\n",
       "2  londON_StockhOlm       10065.0  [24, 43, 87]  (British Airways. )\n",
       "3    Budapest_PaRis       10075.0          [13]       12. Air France\n",
       "4   Brussels_londOn       10085.0      [67, 32]          \"Swiss Air\""
      ],
      "text/html": "<div>\n<style scoped>\n    .dataframe tbody tr th:only-of-type {\n        vertical-align: middle;\n    }\n\n    .dataframe tbody tr th {\n        vertical-align: top;\n    }\n\n    .dataframe thead th {\n        text-align: right;\n    }\n</style>\n<table border=\"1\" class=\"dataframe\">\n  <thead>\n    <tr style=\"text-align: right;\">\n      <th></th>\n      <th>From_To</th>\n      <th>FlightNumber</th>\n      <th>RecentDelays</th>\n      <th>Airline</th>\n    </tr>\n  </thead>\n  <tbody>\n    <tr>\n      <th>0</th>\n      <td>LoNDon_paris</td>\n      <td>10045.0</td>\n      <td>[23, 47]</td>\n      <td>KLM(!)</td>\n    </tr>\n    <tr>\n      <th>1</th>\n      <td>MAdrid_miLAN</td>\n      <td>10055.0</td>\n      <td>[]</td>\n      <td>&lt;Air France&gt; (12)</td>\n    </tr>\n    <tr>\n      <th>2</th>\n      <td>londON_StockhOlm</td>\n      <td>10065.0</td>\n      <td>[24, 43, 87]</td>\n      <td>(British Airways. )</td>\n    </tr>\n    <tr>\n      <th>3</th>\n      <td>Budapest_PaRis</td>\n      <td>10075.0</td>\n      <td>[13]</td>\n      <td>12. Air France</td>\n    </tr>\n    <tr>\n      <th>4</th>\n      <td>Brussels_londOn</td>\n      <td>10085.0</td>\n      <td>[67, 32]</td>\n      <td>\"Swiss Air\"</td>\n    </tr>\n  </tbody>\n</table>\n</div>"
     },
     "metadata": {},
     "execution_count": 22
    }
   ],
   "source": [
    "df_123 = pd.DataFrame({'From_To': ['LoNDon_paris', 'MAdrid_miLAN', 'londON_StockhOlm', \n",
    "                               'Budapest_PaRis', 'Brussels_londOn'],\n",
    "              'FlightNumber': [10045, np.nan, 10065, np.nan, 10085],\n",
    "              'RecentDelays': [[23, 47], [], [24, 43, 87], [13], [67, 32]],\n",
    "                   'Airline': ['KLM(!)', '<Air France> (12)', '(British Airways. )', \n",
    "                               '12. Air France', '\"Swiss Air\"']})\n",
    "\n",
    "df = df_123.interpolate(method='linear')\n",
    "df"
   ]
  },
  {
   "cell_type": "markdown",
   "metadata": {},
   "source": [
    "# 3.2 column splitting\n",
    "\n",
    "The **From\\_To** column would be better as two separate columns! Split each string on the underscore delimiter `_` to make two new columns `From` and `To` to your dataframe."
   ]
  },
  {
   "cell_type": "code",
   "execution_count": 39,
   "metadata": {},
   "outputs": [
    {
     "output_type": "stream",
     "name": "stdout",
     "text": [
      "   FlightNumber  RecentDelays              Airline      From         To\n0       10045.0      [23, 47]               KLM(!)    London      Paris\n1       10055.0            []    <Air France> (12)    Madrid      Milan\n2       10065.0  [24, 43, 87]  (British Airways. )    London  Stockholm\n3       10075.0          [13]       12. Air France  Budapest      Paris\n4       10085.0      [67, 32]          \"Swiss Air\"  Brussels     London\n"
     ]
    }
   ],
   "source": [
    "df = pd.DataFrame({'From_To': ['LoNDon_paris', 'MAdrid_miLAN', 'londON_StockhOlm', \n",
    "                               'Budapest_PaRis', 'Brussels_londOn'],\n",
    "              'FlightNumber': [10045, 10055.0, 10065, 10075.0, 10085],\n",
    "              'RecentDelays': [[23, 47], [], [24, 43, 87], [13], [67, 32]],\n",
    "                   'Airline': ['KLM(!)', '<Air France> (12)', '(British Airways. )', \n",
    "                               '12. Air France', '\"Swiss Air\"']})\n",
    "df_1 = df['From_To'].str.split('_', 1, expand=True)\n",
    "\n",
    "#print(df_1)\n",
    "df['From'] = df_1[0].str.capitalize()\n",
    "df['To'] = df_1[1].str.capitalize()\n",
    "del df['From_To']\n",
    "print(df)"
   ]
  },
  {
   "cell_type": "markdown",
   "metadata": {},
   "source": [
    "# 3.3 Clean Text\n",
    "\n",
    "Make the text in your dataframe:\n",
    "\n",
    "- From and To columns should be lowercase with only first letter capitalized\n",
    "\n",
    "- In the **Airline** column, you can see some extra puctuation and symbols have appeared around the airline names. Pull out just the airline name. E.g. `'(British Airways. )'` should become `'British Airways'`."
   ]
  },
  {
   "cell_type": "code",
   "execution_count": 37,
   "metadata": {},
   "outputs": [
    {
     "output_type": "execute_result",
     "data": {
      "text/plain": [
       "   FlightNumber  RecentDelays           Airline      From         To\n",
       "0       10045.0      [23, 47]               KLM    London      Paris\n",
       "1       10055.0            []     Air France 12    Madrid      Milan\n",
       "2       10065.0  [24, 43, 87]  British Airways     London  Stockholm\n",
       "3       10075.0          [13]     12 Air France  Budapest      Paris\n",
       "4       10085.0      [67, 32]         Swiss Air  Brussels     London"
      ],
      "text/html": "<div>\n<style scoped>\n    .dataframe tbody tr th:only-of-type {\n        vertical-align: middle;\n    }\n\n    .dataframe tbody tr th {\n        vertical-align: top;\n    }\n\n    .dataframe thead th {\n        text-align: right;\n    }\n</style>\n<table border=\"1\" class=\"dataframe\">\n  <thead>\n    <tr style=\"text-align: right;\">\n      <th></th>\n      <th>FlightNumber</th>\n      <th>RecentDelays</th>\n      <th>Airline</th>\n      <th>From</th>\n      <th>To</th>\n    </tr>\n  </thead>\n  <tbody>\n    <tr>\n      <th>0</th>\n      <td>10045.0</td>\n      <td>[23, 47]</td>\n      <td>KLM</td>\n      <td>London</td>\n      <td>Paris</td>\n    </tr>\n    <tr>\n      <th>1</th>\n      <td>10055.0</td>\n      <td>[]</td>\n      <td>Air France 12</td>\n      <td>Madrid</td>\n      <td>Milan</td>\n    </tr>\n    <tr>\n      <th>2</th>\n      <td>10065.0</td>\n      <td>[24, 43, 87]</td>\n      <td>British Airways</td>\n      <td>London</td>\n      <td>Stockholm</td>\n    </tr>\n    <tr>\n      <th>3</th>\n      <td>10075.0</td>\n      <td>[13]</td>\n      <td>12 Air France</td>\n      <td>Budapest</td>\n      <td>Paris</td>\n    </tr>\n    <tr>\n      <th>4</th>\n      <td>10085.0</td>\n      <td>[67, 32]</td>\n      <td>Swiss Air</td>\n      <td>Brussels</td>\n      <td>London</td>\n    </tr>\n  </tbody>\n</table>\n</div>"
     },
     "metadata": {},
     "execution_count": 37
    }
   ],
   "source": [
    "df['From'] = df['From'].str.capitalize()\n",
    "df['To'] = df['To'].str.capitalize()\n",
    "df['Airline'] = df['Airline'].str.replace('[^\\w\\s]', '')\n",
    "df"
   ]
  },
  {
   "cell_type": "markdown",
   "metadata": {},
   "source": [
    "# Exercise 4.1: Column Splitting\n",
    "\n",
    "Given the unemployment data in `data/country_total.csv`, split the `month` column into two new columns: a `year` column and a `month` column, both integers"
   ]
  },
  {
   "cell_type": "code",
   "execution_count": 281,
   "metadata": {},
   "outputs": [
    {
     "output_type": "execute_result",
     "data": {
      "text/plain": [
       "      country seasonality    month  unemployment  unemployment_rate\n",
       "0          at         nsa  1993.01        171000                4.5\n",
       "1          at         nsa  1993.02        175000                4.6\n",
       "2          at         nsa  1993.03        166000                4.4\n",
       "3          at         nsa  1993.04        157000                4.1\n",
       "4          at         nsa  1993.05        147000                3.9\n",
       "...       ...         ...      ...           ...                ...\n",
       "20791      uk       trend  2010.06       2429000                7.7\n",
       "20792      uk       trend  2010.07       2422000                7.7\n",
       "20793      uk       trend  2010.08       2429000                7.7\n",
       "20794      uk       trend  2010.09       2447000                7.8\n",
       "20795      uk       trend  2010.10       2455000                7.8\n",
       "\n",
       "[20796 rows x 5 columns]"
      ],
      "text/html": "<div>\n<style scoped>\n    .dataframe tbody tr th:only-of-type {\n        vertical-align: middle;\n    }\n\n    .dataframe tbody tr th {\n        vertical-align: top;\n    }\n\n    .dataframe thead th {\n        text-align: right;\n    }\n</style>\n<table border=\"1\" class=\"dataframe\">\n  <thead>\n    <tr style=\"text-align: right;\">\n      <th></th>\n      <th>country</th>\n      <th>seasonality</th>\n      <th>month</th>\n      <th>unemployment</th>\n      <th>unemployment_rate</th>\n    </tr>\n  </thead>\n  <tbody>\n    <tr>\n      <th>0</th>\n      <td>at</td>\n      <td>nsa</td>\n      <td>1993.01</td>\n      <td>171000</td>\n      <td>4.5</td>\n    </tr>\n    <tr>\n      <th>1</th>\n      <td>at</td>\n      <td>nsa</td>\n      <td>1993.02</td>\n      <td>175000</td>\n      <td>4.6</td>\n    </tr>\n    <tr>\n      <th>2</th>\n      <td>at</td>\n      <td>nsa</td>\n      <td>1993.03</td>\n      <td>166000</td>\n      <td>4.4</td>\n    </tr>\n    <tr>\n      <th>3</th>\n      <td>at</td>\n      <td>nsa</td>\n      <td>1993.04</td>\n      <td>157000</td>\n      <td>4.1</td>\n    </tr>\n    <tr>\n      <th>4</th>\n      <td>at</td>\n      <td>nsa</td>\n      <td>1993.05</td>\n      <td>147000</td>\n      <td>3.9</td>\n    </tr>\n    <tr>\n      <th>...</th>\n      <td>...</td>\n      <td>...</td>\n      <td>...</td>\n      <td>...</td>\n      <td>...</td>\n    </tr>\n    <tr>\n      <th>20791</th>\n      <td>uk</td>\n      <td>trend</td>\n      <td>2010.06</td>\n      <td>2429000</td>\n      <td>7.7</td>\n    </tr>\n    <tr>\n      <th>20792</th>\n      <td>uk</td>\n      <td>trend</td>\n      <td>2010.07</td>\n      <td>2422000</td>\n      <td>7.7</td>\n    </tr>\n    <tr>\n      <th>20793</th>\n      <td>uk</td>\n      <td>trend</td>\n      <td>2010.08</td>\n      <td>2429000</td>\n      <td>7.7</td>\n    </tr>\n    <tr>\n      <th>20794</th>\n      <td>uk</td>\n      <td>trend</td>\n      <td>2010.09</td>\n      <td>2447000</td>\n      <td>7.8</td>\n    </tr>\n    <tr>\n      <th>20795</th>\n      <td>uk</td>\n      <td>trend</td>\n      <td>2010.10</td>\n      <td>2455000</td>\n      <td>7.8</td>\n    </tr>\n  </tbody>\n</table>\n<p>20796 rows × 5 columns</p>\n</div>"
     },
     "metadata": {},
     "execution_count": 281
    }
   ],
   "source": [
    "df = pd.read_csv('data/country_total.csv')\n",
    "df"
   ]
  },
  {
   "cell_type": "code",
   "execution_count": 296,
   "metadata": {},
   "outputs": [
    {
     "output_type": "execute_result",
     "data": {
      "text/plain": [
       "      country seasonality  unemployment  unemployment_rate  year  month\n",
       "0          at         nsa        171000                4.5  1993      1\n",
       "1          at         nsa        175000                4.6  1993      2\n",
       "2          at         nsa        166000                4.4  1993      3\n",
       "3          at         nsa        157000                4.1  1993      4\n",
       "4          at         nsa        147000                3.9  1993      5\n",
       "...       ...         ...           ...                ...   ...    ...\n",
       "20791      uk       trend       2429000                7.7  2010      6\n",
       "20792      uk       trend       2422000                7.7  2010      7\n",
       "20793      uk       trend       2429000                7.7  2010      8\n",
       "20794      uk       trend       2447000                7.8  2010      9\n",
       "20795      uk       trend       2455000                7.8  2010     10\n",
       "\n",
       "[20796 rows x 6 columns]"
      ],
      "text/html": "<div>\n<style scoped>\n    .dataframe tbody tr th:only-of-type {\n        vertical-align: middle;\n    }\n\n    .dataframe tbody tr th {\n        vertical-align: top;\n    }\n\n    .dataframe thead th {\n        text-align: right;\n    }\n</style>\n<table border=\"1\" class=\"dataframe\">\n  <thead>\n    <tr style=\"text-align: right;\">\n      <th></th>\n      <th>country</th>\n      <th>seasonality</th>\n      <th>unemployment</th>\n      <th>unemployment_rate</th>\n      <th>year</th>\n      <th>month</th>\n    </tr>\n  </thead>\n  <tbody>\n    <tr>\n      <th>0</th>\n      <td>at</td>\n      <td>nsa</td>\n      <td>171000</td>\n      <td>4.5</td>\n      <td>1993</td>\n      <td>1</td>\n    </tr>\n    <tr>\n      <th>1</th>\n      <td>at</td>\n      <td>nsa</td>\n      <td>175000</td>\n      <td>4.6</td>\n      <td>1993</td>\n      <td>2</td>\n    </tr>\n    <tr>\n      <th>2</th>\n      <td>at</td>\n      <td>nsa</td>\n      <td>166000</td>\n      <td>4.4</td>\n      <td>1993</td>\n      <td>3</td>\n    </tr>\n    <tr>\n      <th>3</th>\n      <td>at</td>\n      <td>nsa</td>\n      <td>157000</td>\n      <td>4.1</td>\n      <td>1993</td>\n      <td>4</td>\n    </tr>\n    <tr>\n      <th>4</th>\n      <td>at</td>\n      <td>nsa</td>\n      <td>147000</td>\n      <td>3.9</td>\n      <td>1993</td>\n      <td>5</td>\n    </tr>\n    <tr>\n      <th>...</th>\n      <td>...</td>\n      <td>...</td>\n      <td>...</td>\n      <td>...</td>\n      <td>...</td>\n      <td>...</td>\n    </tr>\n    <tr>\n      <th>20791</th>\n      <td>uk</td>\n      <td>trend</td>\n      <td>2429000</td>\n      <td>7.7</td>\n      <td>2010</td>\n      <td>6</td>\n    </tr>\n    <tr>\n      <th>20792</th>\n      <td>uk</td>\n      <td>trend</td>\n      <td>2422000</td>\n      <td>7.7</td>\n      <td>2010</td>\n      <td>7</td>\n    </tr>\n    <tr>\n      <th>20793</th>\n      <td>uk</td>\n      <td>trend</td>\n      <td>2429000</td>\n      <td>7.7</td>\n      <td>2010</td>\n      <td>8</td>\n    </tr>\n    <tr>\n      <th>20794</th>\n      <td>uk</td>\n      <td>trend</td>\n      <td>2447000</td>\n      <td>7.8</td>\n      <td>2010</td>\n      <td>9</td>\n    </tr>\n    <tr>\n      <th>20795</th>\n      <td>uk</td>\n      <td>trend</td>\n      <td>2455000</td>\n      <td>7.8</td>\n      <td>2010</td>\n      <td>10</td>\n    </tr>\n  </tbody>\n</table>\n<p>20796 rows × 6 columns</p>\n</div>"
     },
     "metadata": {},
     "execution_count": 296
    }
   ],
   "source": [
    "from datetime import datetime\n",
    "import pandas as pd \n",
    "df = pd.read_csv('data/country_total.csv', parse_dates=['month'])\n",
    "\n",
    "timestamp = '1993-01-01'\n",
    "dt = datetime.strptime(timestamp, '%Y-%m-%d')\n",
    "\n",
    "df['year'] = pd.DatetimeIndex(df['month']).year\n",
    "df['month'] = pd.DatetimeIndex(df['month']).month\n",
    "df = df[['country', 'seasonality', 'unemployment', 'unemployment_rate', 'year', 'month']]\n",
    "df\n"
   ]
  },
  {
   "cell_type": "markdown",
   "metadata": {},
   "source": [
    "# 4.2 Group Statistics\n",
    "\n",
    "Given the unemployment data in `data/country_sex_age.csv`, give the average unemployment rate for:\n",
    "\n",
    "- Each gender\n",
    "- Each Age Group\n",
    "- Both Together\n",
    "\n",
    "**HINT:** The `seasonality` column makes it such that the data is repeated for each method of calculating unemployment (`nsa`, `trend`, etc.). Can you ignore this and group over it? Or should you take the average for each?"
   ]
  },
  {
   "cell_type": "code",
   "execution_count": 310,
   "metadata": {},
   "outputs": [
    {
     "output_type": "execute_result",
     "data": {
      "text/plain": [
       "      country seasonality sex age_group    month  unemployment  \\\n",
       "0          at         nsa   f    y25-74  1993.01         61000   \n",
       "1          at         nsa   f    y25-74  1993.02         62000   \n",
       "2          at         nsa   f    y25-74  1993.03         62000   \n",
       "3          at         nsa   f    y25-74  1993.04         63000   \n",
       "4          at         nsa   f    y25-74  1993.05         63000   \n",
       "...       ...         ...  ..       ...      ...           ...   \n",
       "83155      uk       trend   m    y_lt25  2010.06        518000   \n",
       "83156      uk       trend   m    y_lt25  2010.07        513000   \n",
       "83157      uk       trend   m    y_lt25  2010.08        509000   \n",
       "83158      uk       trend   m    y_lt25  2010.09        513000   \n",
       "83159      uk       trend   m    y_lt25  2010.10        520000   \n",
       "\n",
       "       unemployment_rate  \n",
       "0                    4.5  \n",
       "1                    4.5  \n",
       "2                    4.5  \n",
       "3                    4.6  \n",
       "4                    4.6  \n",
       "...                  ...  \n",
       "83155               21.1  \n",
       "83156               20.8  \n",
       "83157               20.5  \n",
       "83158               20.7  \n",
       "83159               21.1  \n",
       "\n",
       "[83160 rows x 7 columns]"
      ],
      "text/html": "<div>\n<style scoped>\n    .dataframe tbody tr th:only-of-type {\n        vertical-align: middle;\n    }\n\n    .dataframe tbody tr th {\n        vertical-align: top;\n    }\n\n    .dataframe thead th {\n        text-align: right;\n    }\n</style>\n<table border=\"1\" class=\"dataframe\">\n  <thead>\n    <tr style=\"text-align: right;\">\n      <th></th>\n      <th>country</th>\n      <th>seasonality</th>\n      <th>sex</th>\n      <th>age_group</th>\n      <th>month</th>\n      <th>unemployment</th>\n      <th>unemployment_rate</th>\n    </tr>\n  </thead>\n  <tbody>\n    <tr>\n      <th>0</th>\n      <td>at</td>\n      <td>nsa</td>\n      <td>f</td>\n      <td>y25-74</td>\n      <td>1993.01</td>\n      <td>61000</td>\n      <td>4.5</td>\n    </tr>\n    <tr>\n      <th>1</th>\n      <td>at</td>\n      <td>nsa</td>\n      <td>f</td>\n      <td>y25-74</td>\n      <td>1993.02</td>\n      <td>62000</td>\n      <td>4.5</td>\n    </tr>\n    <tr>\n      <th>2</th>\n      <td>at</td>\n      <td>nsa</td>\n      <td>f</td>\n      <td>y25-74</td>\n      <td>1993.03</td>\n      <td>62000</td>\n      <td>4.5</td>\n    </tr>\n    <tr>\n      <th>3</th>\n      <td>at</td>\n      <td>nsa</td>\n      <td>f</td>\n      <td>y25-74</td>\n      <td>1993.04</td>\n      <td>63000</td>\n      <td>4.6</td>\n    </tr>\n    <tr>\n      <th>4</th>\n      <td>at</td>\n      <td>nsa</td>\n      <td>f</td>\n      <td>y25-74</td>\n      <td>1993.05</td>\n      <td>63000</td>\n      <td>4.6</td>\n    </tr>\n    <tr>\n      <th>...</th>\n      <td>...</td>\n      <td>...</td>\n      <td>...</td>\n      <td>...</td>\n      <td>...</td>\n      <td>...</td>\n      <td>...</td>\n    </tr>\n    <tr>\n      <th>83155</th>\n      <td>uk</td>\n      <td>trend</td>\n      <td>m</td>\n      <td>y_lt25</td>\n      <td>2010.06</td>\n      <td>518000</td>\n      <td>21.1</td>\n    </tr>\n    <tr>\n      <th>83156</th>\n      <td>uk</td>\n      <td>trend</td>\n      <td>m</td>\n      <td>y_lt25</td>\n      <td>2010.07</td>\n      <td>513000</td>\n      <td>20.8</td>\n    </tr>\n    <tr>\n      <th>83157</th>\n      <td>uk</td>\n      <td>trend</td>\n      <td>m</td>\n      <td>y_lt25</td>\n      <td>2010.08</td>\n      <td>509000</td>\n      <td>20.5</td>\n    </tr>\n    <tr>\n      <th>83158</th>\n      <td>uk</td>\n      <td>trend</td>\n      <td>m</td>\n      <td>y_lt25</td>\n      <td>2010.09</td>\n      <td>513000</td>\n      <td>20.7</td>\n    </tr>\n    <tr>\n      <th>83159</th>\n      <td>uk</td>\n      <td>trend</td>\n      <td>m</td>\n      <td>y_lt25</td>\n      <td>2010.10</td>\n      <td>520000</td>\n      <td>21.1</td>\n    </tr>\n  </tbody>\n</table>\n<p>83160 rows × 7 columns</p>\n</div>"
     },
     "metadata": {},
     "execution_count": 310
    }
   ],
   "source": [
    "df = pd.read_csv('data/country_sex_age.csv')\n",
    "df"
   ]
  },
  {
   "cell_type": "code",
   "execution_count": 334,
   "metadata": {},
   "outputs": [
    {
     "output_type": "stream",
     "name": "stdout",
     "text": [
      "  sex seasonality  unemployment_rate\n0   f         nsa          13.179216\n1   f          sa          12.908743\n2   f       trend          12.862163\n3   m         nsa          11.708432\n4   m          sa          11.662290\n5   m       trend          11.643015\n  age_group seasonality  unemployment_rate\n0    y25-74         nsa           6.870746\n1    y25-74          sa           6.918446\n2    y25-74       trend           6.926319\n3    y_lt25         nsa          18.016902\n4    y_lt25          sa          17.690707\n5    y_lt25       trend          17.617224\n   sex age_group seasonality   unemployment  unemployment_rate\n0    f    y25-74         nsa  244200.087758           7.539839\n1    f    y25-74          sa  275348.154482           7.579982\n2    f    y25-74       trend  270308.535179           7.579934\n3    f    y_lt25         nsa  111623.665350          18.818593\n4    f    y_lt25          sa  114021.946701          18.323837\n5    f    y_lt25       trend  112878.171857          18.231025\n6    m    y25-74         nsa  267525.815416           6.201653\n7    m    y25-74          sa  302136.810603           6.256909\n8    m    y25-74       trend  298051.182238           6.272703\n9    m    y_lt25         nsa  121616.937253          17.215211\n10   m    y_lt25          sa  125866.182129          17.067671\n11   m    y_lt25       trend  124500.720877          17.013327\n"
     ]
    }
   ],
   "source": [
    "df = pd.read_csv('data/country_sex_age.csv')\n",
    "\n",
    "gender = (\n",
    "    df.groupby(['sex', 'seasonality'], as_index=False)['unemployment_rate'].mean()\n",
    "    )\n",
    "print(gender)\n",
    "age_group = (\n",
    "    df.groupby(['age_group', 'seasonality'], as_index=False)['unemployment_rate'].mean()\n",
    ")\n",
    "print(age_group)\n",
    "\n",
    "both = (\n",
    "    df.groupby(['sex', 'age_group', 'seasonality'], as_index=False)['unemployment', 'unemployment_rate'].mean()\n",
    ")\n",
    "print(both)"
   ]
  },
  {
   "cell_type": "markdown",
   "metadata": {},
   "source": [
    "# 4.3 Estimating group size\n",
    "\n",
    "Given that we have the unemployment **rate** as a % of total population, and the number of total unemployed, we can estimate the total population.\n",
    "\n",
    "Give an estimate of the total population for men and women in each age group.\n",
    "\n",
    "Does this change depending on the unemployment seasonality calculation method?"
   ]
  },
  {
   "cell_type": "code",
   "execution_count": 336,
   "metadata": {},
   "outputs": [
    {
     "output_type": "execute_result",
     "data": {
      "text/plain": [
       "   sex age_group seasonality   unemployment  unemployment_rate     total_pop\n",
       "0    f    y25-74         nsa  244200.087758           7.539839  3.238797e+06\n",
       "1    f    y25-74          sa  275348.154482           7.579982  3.632570e+06\n",
       "2    f    y25-74       trend  270308.535179           7.579934  3.566107e+06\n",
       "3    f    y_lt25         nsa  111623.665350          18.818593  5.931563e+05\n",
       "4    f    y_lt25          sa  114021.946701          18.323837  6.222602e+05\n",
       "5    f    y_lt25       trend  112878.171857          18.231025  6.191543e+05\n",
       "6    m    y25-74         nsa  267525.815416           6.201653  4.313782e+06\n",
       "7    m    y25-74          sa  302136.810603           6.256909  4.828851e+06\n",
       "8    m    y25-74       trend  298051.182238           6.272703  4.751559e+06\n",
       "9    m    y_lt25         nsa  121616.937253          17.215211  7.064505e+05\n",
       "10   m    y_lt25          sa  125866.182129          17.067671  7.374538e+05\n",
       "11   m    y_lt25       trend  124500.720877          17.013327  7.317835e+05"
      ],
      "text/html": "<div>\n<style scoped>\n    .dataframe tbody tr th:only-of-type {\n        vertical-align: middle;\n    }\n\n    .dataframe tbody tr th {\n        vertical-align: top;\n    }\n\n    .dataframe thead th {\n        text-align: right;\n    }\n</style>\n<table border=\"1\" class=\"dataframe\">\n  <thead>\n    <tr style=\"text-align: right;\">\n      <th></th>\n      <th>sex</th>\n      <th>age_group</th>\n      <th>seasonality</th>\n      <th>unemployment</th>\n      <th>unemployment_rate</th>\n      <th>total_pop</th>\n    </tr>\n  </thead>\n  <tbody>\n    <tr>\n      <th>0</th>\n      <td>f</td>\n      <td>y25-74</td>\n      <td>nsa</td>\n      <td>244200.087758</td>\n      <td>7.539839</td>\n      <td>3.238797e+06</td>\n    </tr>\n    <tr>\n      <th>1</th>\n      <td>f</td>\n      <td>y25-74</td>\n      <td>sa</td>\n      <td>275348.154482</td>\n      <td>7.579982</td>\n      <td>3.632570e+06</td>\n    </tr>\n    <tr>\n      <th>2</th>\n      <td>f</td>\n      <td>y25-74</td>\n      <td>trend</td>\n      <td>270308.535179</td>\n      <td>7.579934</td>\n      <td>3.566107e+06</td>\n    </tr>\n    <tr>\n      <th>3</th>\n      <td>f</td>\n      <td>y_lt25</td>\n      <td>nsa</td>\n      <td>111623.665350</td>\n      <td>18.818593</td>\n      <td>5.931563e+05</td>\n    </tr>\n    <tr>\n      <th>4</th>\n      <td>f</td>\n      <td>y_lt25</td>\n      <td>sa</td>\n      <td>114021.946701</td>\n      <td>18.323837</td>\n      <td>6.222602e+05</td>\n    </tr>\n    <tr>\n      <th>5</th>\n      <td>f</td>\n      <td>y_lt25</td>\n      <td>trend</td>\n      <td>112878.171857</td>\n      <td>18.231025</td>\n      <td>6.191543e+05</td>\n    </tr>\n    <tr>\n      <th>6</th>\n      <td>m</td>\n      <td>y25-74</td>\n      <td>nsa</td>\n      <td>267525.815416</td>\n      <td>6.201653</td>\n      <td>4.313782e+06</td>\n    </tr>\n    <tr>\n      <th>7</th>\n      <td>m</td>\n      <td>y25-74</td>\n      <td>sa</td>\n      <td>302136.810603</td>\n      <td>6.256909</td>\n      <td>4.828851e+06</td>\n    </tr>\n    <tr>\n      <th>8</th>\n      <td>m</td>\n      <td>y25-74</td>\n      <td>trend</td>\n      <td>298051.182238</td>\n      <td>6.272703</td>\n      <td>4.751559e+06</td>\n    </tr>\n    <tr>\n      <th>9</th>\n      <td>m</td>\n      <td>y_lt25</td>\n      <td>nsa</td>\n      <td>121616.937253</td>\n      <td>17.215211</td>\n      <td>7.064505e+05</td>\n    </tr>\n    <tr>\n      <th>10</th>\n      <td>m</td>\n      <td>y_lt25</td>\n      <td>sa</td>\n      <td>125866.182129</td>\n      <td>17.067671</td>\n      <td>7.374538e+05</td>\n    </tr>\n    <tr>\n      <th>11</th>\n      <td>m</td>\n      <td>y_lt25</td>\n      <td>trend</td>\n      <td>124500.720877</td>\n      <td>17.013327</td>\n      <td>7.317835e+05</td>\n    </tr>\n  </tbody>\n</table>\n</div>"
     },
     "metadata": {},
     "execution_count": 336
    }
   ],
   "source": [
    "both['total_pop'] = (both['unemployment'] / both['unemployment_rate']) * 100\n",
    "both"
   ]
  },
  {
   "cell_type": "markdown",
   "metadata": {},
   "source": [
    "# 5.1 Tennis\n",
    "\n",
    "In `data/tennis.csv` you have games that Roger Federer played against various opponents. Questions:\n",
    "\n",
    "1. How many games did Federer win?\n",
    "\n",
    "2. What is Federer's win/loss ratio?\n",
    "\n",
    "3. Who were Federer's top 5 opponents?"
   ]
  },
  {
   "cell_type": "code",
   "execution_count": 41,
   "metadata": {},
   "outputs": [
    {
     "output_type": "execute_result",
     "data": {
      "text/plain": [
       "      year                  tournament  start date type        surface  \\\n",
       "0     1998          Basel, Switzerland  1998-10-05   WS   Indoor: Hard   \n",
       "1     1998            Toulouse, France  1998-09-28   WS   Indoor: Hard   \n",
       "2     1998            Toulouse, France  1998-09-28   WS   Indoor: Hard   \n",
       "3     1998            Toulouse, France  1998-09-28   WS   Indoor: Hard   \n",
       "4     1998         Geneva, Switzerland  1998-08-24   CH  Outdoor: Clay   \n",
       "...    ...                         ...         ...  ...            ...   \n",
       "1174  2012  Australian Open, Australia  2012-01-16   GS  Outdoor: Hard   \n",
       "1175  2012                 Doha, Qatar  2012-01-02  250  Outdoor: Hard   \n",
       "1176  2012                 Doha, Qatar  2012-01-02  250  Outdoor: Hard   \n",
       "1177  2012                 Doha, Qatar  2012-01-02  250  Outdoor: Hard   \n",
       "1178  2012                 Doha, Qatar  2012-01-02  250  Outdoor: Hard   \n",
       "\n",
       "           draw atp points  atp ranking tournament prize money round  ...  \\\n",
       "0      Draw: 32          1        396.0                 $9,800   R32  ...   \n",
       "1      Draw: 32         59        878.0                $10,800   R32  ...   \n",
       "2      Draw: 32         59        878.0                $10,800   R16  ...   \n",
       "3      Draw: 32         59        878.0                $10,800     Q  ...   \n",
       "4      Draw: 32          1        680.0                   $520   R32  ...   \n",
       "...         ...        ...          ...                    ...   ...  ...   \n",
       "1174  Draw: 128        720          3.0              A$437,000     S  ...   \n",
       "1175   Draw: 32         90          3.0                $50,030   R32  ...   \n",
       "1176   Draw: 32         90          3.0                $50,030   R16  ...   \n",
       "1177   Draw: 32         90          3.0                $50,030     Q  ...   \n",
       "1178   Draw: 32         90          3.0                $50,030     S  ...   \n",
       "\n",
       "     player2 break points converted won player2 break points converted total  \\\n",
       "0                                   4.0                                  8.0   \n",
       "1                                   0.0                                  1.0   \n",
       "2                                   0.0                                  4.0   \n",
       "3                                   3.0                                 10.0   \n",
       "4                                   NaN                                  NaN   \n",
       "...                                 ...                                  ...   \n",
       "1174                                6.0                                 16.0   \n",
       "1175                                0.0                                  0.0   \n",
       "1176                                0.0                                  2.0   \n",
       "1177                                4.0                                  9.0   \n",
       "1178                                NaN                                  NaN   \n",
       "\n",
       "     player2 return games played player2 total service points won  \\\n",
       "0                            8.0                             36.0   \n",
       "1                            8.0                             33.0   \n",
       "2                           10.0                             46.0   \n",
       "3                           10.0                             44.0   \n",
       "4                            NaN                              NaN   \n",
       "...                          ...                              ...   \n",
       "1174                        21.0                             95.0   \n",
       "1175                         8.0                             22.0   \n",
       "1176                         9.0                             28.0   \n",
       "1177                        16.0                             47.0   \n",
       "1178                         NaN                              NaN   \n",
       "\n",
       "     player2 total service points total player2 total return points won  \\\n",
       "0                                  50.0                            26.0   \n",
       "1                                  65.0                             8.0   \n",
       "2                                  75.0                            23.0   \n",
       "3                                  63.0                            26.0   \n",
       "4                                   NaN                             NaN   \n",
       "...                                 ...                             ...   \n",
       "1174                              141.0                            51.0   \n",
       "1175                               45.0                             9.0   \n",
       "1176                               50.0                            11.0   \n",
       "1177                               78.0                            34.0   \n",
       "1178                                NaN                             NaN   \n",
       "\n",
       "      player2 total return points total player2 total points won  \\\n",
       "0                                  53.0                     62.0   \n",
       "1                                  41.0                     41.0   \n",
       "2                                  73.0                     69.0   \n",
       "3                                  67.0                     70.0   \n",
       "4                                   NaN                      NaN   \n",
       "...                                 ...                      ...   \n",
       "1174                              135.0                    146.0   \n",
       "1175                               41.0                     31.0   \n",
       "1176                               49.0                     39.0   \n",
       "1177                               95.0                     81.0   \n",
       "1178                                NaN                      NaN   \n",
       "\n",
       "     player2 total points total    win  \n",
       "0                         103.0  False  \n",
       "1                         106.0   True  \n",
       "2                         148.0   True  \n",
       "3                         130.0  False  \n",
       "4                           NaN  False  \n",
       "...                         ...    ...  \n",
       "1174                      276.0  False  \n",
       "1175                       86.0   True  \n",
       "1176                       99.0   True  \n",
       "1177                      173.0   True  \n",
       "1178                        NaN  False  \n",
       "\n",
       "[1179 rows x 71 columns]"
      ],
      "text/html": "<div>\n<style scoped>\n    .dataframe tbody tr th:only-of-type {\n        vertical-align: middle;\n    }\n\n    .dataframe tbody tr th {\n        vertical-align: top;\n    }\n\n    .dataframe thead th {\n        text-align: right;\n    }\n</style>\n<table border=\"1\" class=\"dataframe\">\n  <thead>\n    <tr style=\"text-align: right;\">\n      <th></th>\n      <th>year</th>\n      <th>tournament</th>\n      <th>start date</th>\n      <th>type</th>\n      <th>surface</th>\n      <th>draw</th>\n      <th>atp points</th>\n      <th>atp ranking</th>\n      <th>tournament prize money</th>\n      <th>round</th>\n      <th>...</th>\n      <th>player2 break points converted won</th>\n      <th>player2 break points converted total</th>\n      <th>player2 return games played</th>\n      <th>player2 total service points won</th>\n      <th>player2 total service points total</th>\n      <th>player2 total return points won</th>\n      <th>player2 total return points total</th>\n      <th>player2 total points won</th>\n      <th>player2 total points total</th>\n      <th>win</th>\n    </tr>\n  </thead>\n  <tbody>\n    <tr>\n      <th>0</th>\n      <td>1998</td>\n      <td>Basel, Switzerland</td>\n      <td>1998-10-05</td>\n      <td>WS</td>\n      <td>Indoor: Hard</td>\n      <td>Draw: 32</td>\n      <td>1</td>\n      <td>396.0</td>\n      <td>$9,800</td>\n      <td>R32</td>\n      <td>...</td>\n      <td>4.0</td>\n      <td>8.0</td>\n      <td>8.0</td>\n      <td>36.0</td>\n      <td>50.0</td>\n      <td>26.0</td>\n      <td>53.0</td>\n      <td>62.0</td>\n      <td>103.0</td>\n      <td>False</td>\n    </tr>\n    <tr>\n      <th>1</th>\n      <td>1998</td>\n      <td>Toulouse, France</td>\n      <td>1998-09-28</td>\n      <td>WS</td>\n      <td>Indoor: Hard</td>\n      <td>Draw: 32</td>\n      <td>59</td>\n      <td>878.0</td>\n      <td>$10,800</td>\n      <td>R32</td>\n      <td>...</td>\n      <td>0.0</td>\n      <td>1.0</td>\n      <td>8.0</td>\n      <td>33.0</td>\n      <td>65.0</td>\n      <td>8.0</td>\n      <td>41.0</td>\n      <td>41.0</td>\n      <td>106.0</td>\n      <td>True</td>\n    </tr>\n    <tr>\n      <th>2</th>\n      <td>1998</td>\n      <td>Toulouse, France</td>\n      <td>1998-09-28</td>\n      <td>WS</td>\n      <td>Indoor: Hard</td>\n      <td>Draw: 32</td>\n      <td>59</td>\n      <td>878.0</td>\n      <td>$10,800</td>\n      <td>R16</td>\n      <td>...</td>\n      <td>0.0</td>\n      <td>4.0</td>\n      <td>10.0</td>\n      <td>46.0</td>\n      <td>75.0</td>\n      <td>23.0</td>\n      <td>73.0</td>\n      <td>69.0</td>\n      <td>148.0</td>\n      <td>True</td>\n    </tr>\n    <tr>\n      <th>3</th>\n      <td>1998</td>\n      <td>Toulouse, France</td>\n      <td>1998-09-28</td>\n      <td>WS</td>\n      <td>Indoor: Hard</td>\n      <td>Draw: 32</td>\n      <td>59</td>\n      <td>878.0</td>\n      <td>$10,800</td>\n      <td>Q</td>\n      <td>...</td>\n      <td>3.0</td>\n      <td>10.0</td>\n      <td>10.0</td>\n      <td>44.0</td>\n      <td>63.0</td>\n      <td>26.0</td>\n      <td>67.0</td>\n      <td>70.0</td>\n      <td>130.0</td>\n      <td>False</td>\n    </tr>\n    <tr>\n      <th>4</th>\n      <td>1998</td>\n      <td>Geneva, Switzerland</td>\n      <td>1998-08-24</td>\n      <td>CH</td>\n      <td>Outdoor: Clay</td>\n      <td>Draw: 32</td>\n      <td>1</td>\n      <td>680.0</td>\n      <td>$520</td>\n      <td>R32</td>\n      <td>...</td>\n      <td>NaN</td>\n      <td>NaN</td>\n      <td>NaN</td>\n      <td>NaN</td>\n      <td>NaN</td>\n      <td>NaN</td>\n      <td>NaN</td>\n      <td>NaN</td>\n      <td>NaN</td>\n      <td>False</td>\n    </tr>\n    <tr>\n      <th>...</th>\n      <td>...</td>\n      <td>...</td>\n      <td>...</td>\n      <td>...</td>\n      <td>...</td>\n      <td>...</td>\n      <td>...</td>\n      <td>...</td>\n      <td>...</td>\n      <td>...</td>\n      <td>...</td>\n      <td>...</td>\n      <td>...</td>\n      <td>...</td>\n      <td>...</td>\n      <td>...</td>\n      <td>...</td>\n      <td>...</td>\n      <td>...</td>\n      <td>...</td>\n      <td>...</td>\n    </tr>\n    <tr>\n      <th>1174</th>\n      <td>2012</td>\n      <td>Australian Open, Australia</td>\n      <td>2012-01-16</td>\n      <td>GS</td>\n      <td>Outdoor: Hard</td>\n      <td>Draw: 128</td>\n      <td>720</td>\n      <td>3.0</td>\n      <td>A$437,000</td>\n      <td>S</td>\n      <td>...</td>\n      <td>6.0</td>\n      <td>16.0</td>\n      <td>21.0</td>\n      <td>95.0</td>\n      <td>141.0</td>\n      <td>51.0</td>\n      <td>135.0</td>\n      <td>146.0</td>\n      <td>276.0</td>\n      <td>False</td>\n    </tr>\n    <tr>\n      <th>1175</th>\n      <td>2012</td>\n      <td>Doha, Qatar</td>\n      <td>2012-01-02</td>\n      <td>250</td>\n      <td>Outdoor: Hard</td>\n      <td>Draw: 32</td>\n      <td>90</td>\n      <td>3.0</td>\n      <td>$50,030</td>\n      <td>R32</td>\n      <td>...</td>\n      <td>0.0</td>\n      <td>0.0</td>\n      <td>8.0</td>\n      <td>22.0</td>\n      <td>45.0</td>\n      <td>9.0</td>\n      <td>41.0</td>\n      <td>31.0</td>\n      <td>86.0</td>\n      <td>True</td>\n    </tr>\n    <tr>\n      <th>1176</th>\n      <td>2012</td>\n      <td>Doha, Qatar</td>\n      <td>2012-01-02</td>\n      <td>250</td>\n      <td>Outdoor: Hard</td>\n      <td>Draw: 32</td>\n      <td>90</td>\n      <td>3.0</td>\n      <td>$50,030</td>\n      <td>R16</td>\n      <td>...</td>\n      <td>0.0</td>\n      <td>2.0</td>\n      <td>9.0</td>\n      <td>28.0</td>\n      <td>50.0</td>\n      <td>11.0</td>\n      <td>49.0</td>\n      <td>39.0</td>\n      <td>99.0</td>\n      <td>True</td>\n    </tr>\n    <tr>\n      <th>1177</th>\n      <td>2012</td>\n      <td>Doha, Qatar</td>\n      <td>2012-01-02</td>\n      <td>250</td>\n      <td>Outdoor: Hard</td>\n      <td>Draw: 32</td>\n      <td>90</td>\n      <td>3.0</td>\n      <td>$50,030</td>\n      <td>Q</td>\n      <td>...</td>\n      <td>4.0</td>\n      <td>9.0</td>\n      <td>16.0</td>\n      <td>47.0</td>\n      <td>78.0</td>\n      <td>34.0</td>\n      <td>95.0</td>\n      <td>81.0</td>\n      <td>173.0</td>\n      <td>True</td>\n    </tr>\n    <tr>\n      <th>1178</th>\n      <td>2012</td>\n      <td>Doha, Qatar</td>\n      <td>2012-01-02</td>\n      <td>250</td>\n      <td>Outdoor: Hard</td>\n      <td>Draw: 32</td>\n      <td>90</td>\n      <td>3.0</td>\n      <td>$50,030</td>\n      <td>S</td>\n      <td>...</td>\n      <td>NaN</td>\n      <td>NaN</td>\n      <td>NaN</td>\n      <td>NaN</td>\n      <td>NaN</td>\n      <td>NaN</td>\n      <td>NaN</td>\n      <td>NaN</td>\n      <td>NaN</td>\n      <td>False</td>\n    </tr>\n  </tbody>\n</table>\n<p>1179 rows × 71 columns</p>\n</div>"
     },
     "metadata": {},
     "execution_count": 41
    }
   ],
   "source": [
    "df = pd.read_csv('data/tennis.csv')\n",
    "df\n"
   ]
  },
  {
   "cell_type": "code",
   "execution_count": 42,
   "metadata": {},
   "outputs": [
    {
     "output_type": "stream",
     "name": "stdout",
     "text": [
      "True     972\nFalse    207\nName: win, dtype: int64\n972\n207\n4.695652173913044\n['Rafael Nadal (ESP)', 'Novak Djokovic (SRB)', 'Andy Murray (GBR)', 'Lleyton Hewitt (AUS)', 'David Nalbandian (ARG)']\n"
     ]
    }
   ],
   "source": [
    "\n",
    "#1\n",
    "print(df.win.value_counts())\n",
    "true_count = df.win.sum()\n",
    "print(true_count)\n",
    "#2 \n",
    "false_count = len(df) - df.win.sum()\n",
    "print(false_count)\n",
    "\n",
    "ratio = true_count / false_count\n",
    "print(ratio)\n",
    "\n",
    "#3 top 5 opponents\n",
    "\n",
    "top_5 = df[df.win==False].groupby('opponent').win.count().sort_values(ascending=False).head(5).index.tolist()\n",
    "print(top_5)\n"
   ]
  },
  {
   "cell_type": "markdown",
   "metadata": {},
   "source": [
    "# 5.2 Over time\n",
    "\n",
    "1. What was Federer's best year? In terms of money, and then in terms of number of wins\n",
    "\n",
    "2. Did Federer get better or worse over time?"
   ]
  },
  {
   "cell_type": "code",
   "execution_count": 60,
   "metadata": {},
   "outputs": [
    {
     "output_type": "stream",
     "name": "stdout",
     "text": [
      "The best year for money: 2010\n1998 was is best year in term of wins:\nFederer is getting better and better with year! The graphic can also show us that between 2006 and 2010 he wasn't improving.\n"
     ]
    },
    {
     "output_type": "display_data",
     "data": {
      "text/plain": "<Figure size 432x288 with 1 Axes>",
      "image/svg+xml": "<?xml version=\"1.0\" encoding=\"utf-8\" standalone=\"no\"?>\r\n<!DOCTYPE svg PUBLIC \"-//W3C//DTD SVG 1.1//EN\"\r\n  \"http://www.w3.org/Graphics/SVG/1.1/DTD/svg11.dtd\">\r\n<!-- Created with matplotlib (https://matplotlib.org/) -->\r\n<svg height=\"250.845313pt\" version=\"1.1\" viewBox=\"0 0 375.2875 250.845313\" width=\"375.2875pt\" xmlns=\"http://www.w3.org/2000/svg\" xmlns:xlink=\"http://www.w3.org/1999/xlink\">\r\n <metadata>\r\n  <rdf:RDF xmlns:cc=\"http://creativecommons.org/ns#\" xmlns:dc=\"http://purl.org/dc/elements/1.1/\" xmlns:rdf=\"http://www.w3.org/1999/02/22-rdf-syntax-ns#\">\r\n   <cc:Work>\r\n    <dc:type rdf:resource=\"http://purl.org/dc/dcmitype/StillImage\"/>\r\n    <dc:date>2020-12-07T07:49:32.067652</dc:date>\r\n    <dc:format>image/svg+xml</dc:format>\r\n    <dc:creator>\r\n     <cc:Agent>\r\n      <dc:title>Matplotlib v3.3.3, https://matplotlib.org/</dc:title>\r\n     </cc:Agent>\r\n    </dc:creator>\r\n   </cc:Work>\r\n  </rdf:RDF>\r\n </metadata>\r\n <defs>\r\n  <style type=\"text/css\">*{stroke-linecap:butt;stroke-linejoin:round;}</style>\r\n </defs>\r\n <g id=\"figure_1\">\r\n  <g id=\"patch_1\">\r\n   <path d=\"M 0 250.845313 \r\nL 375.2875 250.845313 \r\nL 375.2875 0 \r\nL 0 0 \r\nz\r\n\" style=\"fill:none;\"/>\r\n  </g>\r\n  <g id=\"axes_1\">\r\n   <g id=\"patch_2\">\r\n    <path d=\"M 33.2875 226.967188 \r\nL 368.0875 226.967188 \r\nL 368.0875 9.527188 \r\nL 33.2875 9.527188 \r\nz\r\n\" style=\"fill:#ffffff;\"/>\r\n   </g>\r\n   <g id=\"matplotlib.axis_1\">\r\n    <g id=\"xtick_1\">\r\n     <g id=\"line2d_1\">\r\n      <defs>\r\n       <path d=\"M 0 0 \r\nL 0 3.5 \r\n\" id=\"m21c1e3b1a4\" style=\"stroke:#000000;stroke-width:0.8;\"/>\r\n      </defs>\r\n      <g>\r\n       <use style=\"stroke:#000000;stroke-width:0.8;\" x=\"48.505682\" xlink:href=\"#m21c1e3b1a4\" y=\"226.967188\"/>\r\n      </g>\r\n     </g>\r\n     <g id=\"text_1\">\r\n      <!-- 1998 -->\r\n      <g transform=\"translate(35.780682 241.565625)scale(0.1 -0.1)\">\r\n       <defs>\r\n        <path d=\"M 12.40625 8.296875 \r\nL 28.515625 8.296875 \r\nL 28.515625 63.921875 \r\nL 10.984375 60.40625 \r\nL 10.984375 69.390625 \r\nL 28.421875 72.90625 \r\nL 38.28125 72.90625 \r\nL 38.28125 8.296875 \r\nL 54.390625 8.296875 \r\nL 54.390625 0 \r\nL 12.40625 0 \r\nz\r\n\" id=\"DejaVuSans-49\"/>\r\n        <path d=\"M 10.984375 1.515625 \r\nL 10.984375 10.5 \r\nQ 14.703125 8.734375 18.5 7.8125 \r\nQ 22.3125 6.890625 25.984375 6.890625 \r\nQ 35.75 6.890625 40.890625 13.453125 \r\nQ 46.046875 20.015625 46.78125 33.40625 \r\nQ 43.953125 29.203125 39.59375 26.953125 \r\nQ 35.25 24.703125 29.984375 24.703125 \r\nQ 19.046875 24.703125 12.671875 31.3125 \r\nQ 6.296875 37.9375 6.296875 49.421875 \r\nQ 6.296875 60.640625 12.9375 67.421875 \r\nQ 19.578125 74.21875 30.609375 74.21875 \r\nQ 43.265625 74.21875 49.921875 64.515625 \r\nQ 56.59375 54.828125 56.59375 36.375 \r\nQ 56.59375 19.140625 48.40625 8.859375 \r\nQ 40.234375 -1.421875 26.421875 -1.421875 \r\nQ 22.703125 -1.421875 18.890625 -0.6875 \r\nQ 15.09375 0.046875 10.984375 1.515625 \r\nz\r\nM 30.609375 32.421875 \r\nQ 37.25 32.421875 41.125 36.953125 \r\nQ 45.015625 41.5 45.015625 49.421875 \r\nQ 45.015625 57.28125 41.125 61.84375 \r\nQ 37.25 66.40625 30.609375 66.40625 \r\nQ 23.96875 66.40625 20.09375 61.84375 \r\nQ 16.21875 57.28125 16.21875 49.421875 \r\nQ 16.21875 41.5 20.09375 36.953125 \r\nQ 23.96875 32.421875 30.609375 32.421875 \r\nz\r\n\" id=\"DejaVuSans-57\"/>\r\n        <path d=\"M 31.78125 34.625 \r\nQ 24.75 34.625 20.71875 30.859375 \r\nQ 16.703125 27.09375 16.703125 20.515625 \r\nQ 16.703125 13.921875 20.71875 10.15625 \r\nQ 24.75 6.390625 31.78125 6.390625 \r\nQ 38.8125 6.390625 42.859375 10.171875 \r\nQ 46.921875 13.96875 46.921875 20.515625 \r\nQ 46.921875 27.09375 42.890625 30.859375 \r\nQ 38.875 34.625 31.78125 34.625 \r\nz\r\nM 21.921875 38.8125 \r\nQ 15.578125 40.375 12.03125 44.71875 \r\nQ 8.5 49.078125 8.5 55.328125 \r\nQ 8.5 64.0625 14.71875 69.140625 \r\nQ 20.953125 74.21875 31.78125 74.21875 \r\nQ 42.671875 74.21875 48.875 69.140625 \r\nQ 55.078125 64.0625 55.078125 55.328125 \r\nQ 55.078125 49.078125 51.53125 44.71875 \r\nQ 48 40.375 41.703125 38.8125 \r\nQ 48.828125 37.15625 52.796875 32.3125 \r\nQ 56.78125 27.484375 56.78125 20.515625 \r\nQ 56.78125 9.90625 50.3125 4.234375 \r\nQ 43.84375 -1.421875 31.78125 -1.421875 \r\nQ 19.734375 -1.421875 13.25 4.234375 \r\nQ 6.78125 9.90625 6.78125 20.515625 \r\nQ 6.78125 27.484375 10.78125 32.3125 \r\nQ 14.796875 37.15625 21.921875 38.8125 \r\nz\r\nM 18.3125 54.390625 \r\nQ 18.3125 48.734375 21.84375 45.5625 \r\nQ 25.390625 42.390625 31.78125 42.390625 \r\nQ 38.140625 42.390625 41.71875 45.5625 \r\nQ 45.3125 48.734375 45.3125 54.390625 \r\nQ 45.3125 60.0625 41.71875 63.234375 \r\nQ 38.140625 66.40625 31.78125 66.40625 \r\nQ 25.390625 66.40625 21.84375 63.234375 \r\nQ 18.3125 60.0625 18.3125 54.390625 \r\nz\r\n\" id=\"DejaVuSans-56\"/>\r\n       </defs>\r\n       <use xlink:href=\"#DejaVuSans-49\"/>\r\n       <use x=\"63.623047\" xlink:href=\"#DejaVuSans-57\"/>\r\n       <use x=\"127.246094\" xlink:href=\"#DejaVuSans-57\"/>\r\n       <use x=\"190.869141\" xlink:href=\"#DejaVuSans-56\"/>\r\n      </g>\r\n     </g>\r\n    </g>\r\n    <g id=\"xtick_2\">\r\n     <g id=\"line2d_2\">\r\n      <g>\r\n       <use style=\"stroke:#000000;stroke-width:0.8;\" x=\"91.986201\" xlink:href=\"#m21c1e3b1a4\" y=\"226.967188\"/>\r\n      </g>\r\n     </g>\r\n     <g id=\"text_2\">\r\n      <!-- 2000 -->\r\n      <g transform=\"translate(79.261201 241.565625)scale(0.1 -0.1)\">\r\n       <defs>\r\n        <path d=\"M 19.1875 8.296875 \r\nL 53.609375 8.296875 \r\nL 53.609375 0 \r\nL 7.328125 0 \r\nL 7.328125 8.296875 \r\nQ 12.9375 14.109375 22.625 23.890625 \r\nQ 32.328125 33.6875 34.8125 36.53125 \r\nQ 39.546875 41.84375 41.421875 45.53125 \r\nQ 43.3125 49.21875 43.3125 52.78125 \r\nQ 43.3125 58.59375 39.234375 62.25 \r\nQ 35.15625 65.921875 28.609375 65.921875 \r\nQ 23.96875 65.921875 18.8125 64.3125 \r\nQ 13.671875 62.703125 7.8125 59.421875 \r\nL 7.8125 69.390625 \r\nQ 13.765625 71.78125 18.9375 73 \r\nQ 24.125 74.21875 28.421875 74.21875 \r\nQ 39.75 74.21875 46.484375 68.546875 \r\nQ 53.21875 62.890625 53.21875 53.421875 \r\nQ 53.21875 48.921875 51.53125 44.890625 \r\nQ 49.859375 40.875 45.40625 35.40625 \r\nQ 44.1875 33.984375 37.640625 27.21875 \r\nQ 31.109375 20.453125 19.1875 8.296875 \r\nz\r\n\" id=\"DejaVuSans-50\"/>\r\n        <path d=\"M 31.78125 66.40625 \r\nQ 24.171875 66.40625 20.328125 58.90625 \r\nQ 16.5 51.421875 16.5 36.375 \r\nQ 16.5 21.390625 20.328125 13.890625 \r\nQ 24.171875 6.390625 31.78125 6.390625 \r\nQ 39.453125 6.390625 43.28125 13.890625 \r\nQ 47.125 21.390625 47.125 36.375 \r\nQ 47.125 51.421875 43.28125 58.90625 \r\nQ 39.453125 66.40625 31.78125 66.40625 \r\nz\r\nM 31.78125 74.21875 \r\nQ 44.046875 74.21875 50.515625 64.515625 \r\nQ 56.984375 54.828125 56.984375 36.375 \r\nQ 56.984375 17.96875 50.515625 8.265625 \r\nQ 44.046875 -1.421875 31.78125 -1.421875 \r\nQ 19.53125 -1.421875 13.0625 8.265625 \r\nQ 6.59375 17.96875 6.59375 36.375 \r\nQ 6.59375 54.828125 13.0625 64.515625 \r\nQ 19.53125 74.21875 31.78125 74.21875 \r\nz\r\n\" id=\"DejaVuSans-48\"/>\r\n       </defs>\r\n       <use xlink:href=\"#DejaVuSans-50\"/>\r\n       <use x=\"63.623047\" xlink:href=\"#DejaVuSans-48\"/>\r\n       <use x=\"127.246094\" xlink:href=\"#DejaVuSans-48\"/>\r\n       <use x=\"190.869141\" xlink:href=\"#DejaVuSans-48\"/>\r\n      </g>\r\n     </g>\r\n    </g>\r\n    <g id=\"xtick_3\">\r\n     <g id=\"line2d_3\">\r\n      <g>\r\n       <use style=\"stroke:#000000;stroke-width:0.8;\" x=\"135.466721\" xlink:href=\"#m21c1e3b1a4\" y=\"226.967188\"/>\r\n      </g>\r\n     </g>\r\n     <g id=\"text_3\">\r\n      <!-- 2002 -->\r\n      <g transform=\"translate(122.741721 241.565625)scale(0.1 -0.1)\">\r\n       <use xlink:href=\"#DejaVuSans-50\"/>\r\n       <use x=\"63.623047\" xlink:href=\"#DejaVuSans-48\"/>\r\n       <use x=\"127.246094\" xlink:href=\"#DejaVuSans-48\"/>\r\n       <use x=\"190.869141\" xlink:href=\"#DejaVuSans-50\"/>\r\n      </g>\r\n     </g>\r\n    </g>\r\n    <g id=\"xtick_4\">\r\n     <g id=\"line2d_4\">\r\n      <g>\r\n       <use style=\"stroke:#000000;stroke-width:0.8;\" x=\"178.94724\" xlink:href=\"#m21c1e3b1a4\" y=\"226.967188\"/>\r\n      </g>\r\n     </g>\r\n     <g id=\"text_4\">\r\n      <!-- 2004 -->\r\n      <g transform=\"translate(166.22224 241.565625)scale(0.1 -0.1)\">\r\n       <defs>\r\n        <path d=\"M 37.796875 64.3125 \r\nL 12.890625 25.390625 \r\nL 37.796875 25.390625 \r\nz\r\nM 35.203125 72.90625 \r\nL 47.609375 72.90625 \r\nL 47.609375 25.390625 \r\nL 58.015625 25.390625 \r\nL 58.015625 17.1875 \r\nL 47.609375 17.1875 \r\nL 47.609375 0 \r\nL 37.796875 0 \r\nL 37.796875 17.1875 \r\nL 4.890625 17.1875 \r\nL 4.890625 26.703125 \r\nz\r\n\" id=\"DejaVuSans-52\"/>\r\n       </defs>\r\n       <use xlink:href=\"#DejaVuSans-50\"/>\r\n       <use x=\"63.623047\" xlink:href=\"#DejaVuSans-48\"/>\r\n       <use x=\"127.246094\" xlink:href=\"#DejaVuSans-48\"/>\r\n       <use x=\"190.869141\" xlink:href=\"#DejaVuSans-52\"/>\r\n      </g>\r\n     </g>\r\n    </g>\r\n    <g id=\"xtick_5\">\r\n     <g id=\"line2d_5\">\r\n      <g>\r\n       <use style=\"stroke:#000000;stroke-width:0.8;\" x=\"222.42776\" xlink:href=\"#m21c1e3b1a4\" y=\"226.967188\"/>\r\n      </g>\r\n     </g>\r\n     <g id=\"text_5\">\r\n      <!-- 2006 -->\r\n      <g transform=\"translate(209.70276 241.565625)scale(0.1 -0.1)\">\r\n       <defs>\r\n        <path d=\"M 33.015625 40.375 \r\nQ 26.375 40.375 22.484375 35.828125 \r\nQ 18.609375 31.296875 18.609375 23.390625 \r\nQ 18.609375 15.53125 22.484375 10.953125 \r\nQ 26.375 6.390625 33.015625 6.390625 \r\nQ 39.65625 6.390625 43.53125 10.953125 \r\nQ 47.40625 15.53125 47.40625 23.390625 \r\nQ 47.40625 31.296875 43.53125 35.828125 \r\nQ 39.65625 40.375 33.015625 40.375 \r\nz\r\nM 52.59375 71.296875 \r\nL 52.59375 62.3125 \r\nQ 48.875 64.0625 45.09375 64.984375 \r\nQ 41.3125 65.921875 37.59375 65.921875 \r\nQ 27.828125 65.921875 22.671875 59.328125 \r\nQ 17.53125 52.734375 16.796875 39.40625 \r\nQ 19.671875 43.65625 24.015625 45.921875 \r\nQ 28.375 48.1875 33.59375 48.1875 \r\nQ 44.578125 48.1875 50.953125 41.515625 \r\nQ 57.328125 34.859375 57.328125 23.390625 \r\nQ 57.328125 12.15625 50.6875 5.359375 \r\nQ 44.046875 -1.421875 33.015625 -1.421875 \r\nQ 20.359375 -1.421875 13.671875 8.265625 \r\nQ 6.984375 17.96875 6.984375 36.375 \r\nQ 6.984375 53.65625 15.1875 63.9375 \r\nQ 23.390625 74.21875 37.203125 74.21875 \r\nQ 40.921875 74.21875 44.703125 73.484375 \r\nQ 48.484375 72.75 52.59375 71.296875 \r\nz\r\n\" id=\"DejaVuSans-54\"/>\r\n       </defs>\r\n       <use xlink:href=\"#DejaVuSans-50\"/>\r\n       <use x=\"63.623047\" xlink:href=\"#DejaVuSans-48\"/>\r\n       <use x=\"127.246094\" xlink:href=\"#DejaVuSans-48\"/>\r\n       <use x=\"190.869141\" xlink:href=\"#DejaVuSans-54\"/>\r\n      </g>\r\n     </g>\r\n    </g>\r\n    <g id=\"xtick_6\">\r\n     <g id=\"line2d_6\">\r\n      <g>\r\n       <use style=\"stroke:#000000;stroke-width:0.8;\" x=\"265.908279\" xlink:href=\"#m21c1e3b1a4\" y=\"226.967188\"/>\r\n      </g>\r\n     </g>\r\n     <g id=\"text_6\">\r\n      <!-- 2008 -->\r\n      <g transform=\"translate(253.183279 241.565625)scale(0.1 -0.1)\">\r\n       <use xlink:href=\"#DejaVuSans-50\"/>\r\n       <use x=\"63.623047\" xlink:href=\"#DejaVuSans-48\"/>\r\n       <use x=\"127.246094\" xlink:href=\"#DejaVuSans-48\"/>\r\n       <use x=\"190.869141\" xlink:href=\"#DejaVuSans-56\"/>\r\n      </g>\r\n     </g>\r\n    </g>\r\n    <g id=\"xtick_7\">\r\n     <g id=\"line2d_7\">\r\n      <g>\r\n       <use style=\"stroke:#000000;stroke-width:0.8;\" x=\"309.388799\" xlink:href=\"#m21c1e3b1a4\" y=\"226.967188\"/>\r\n      </g>\r\n     </g>\r\n     <g id=\"text_7\">\r\n      <!-- 2010 -->\r\n      <g transform=\"translate(296.663799 241.565625)scale(0.1 -0.1)\">\r\n       <use xlink:href=\"#DejaVuSans-50\"/>\r\n       <use x=\"63.623047\" xlink:href=\"#DejaVuSans-48\"/>\r\n       <use x=\"127.246094\" xlink:href=\"#DejaVuSans-49\"/>\r\n       <use x=\"190.869141\" xlink:href=\"#DejaVuSans-48\"/>\r\n      </g>\r\n     </g>\r\n    </g>\r\n    <g id=\"xtick_8\">\r\n     <g id=\"line2d_8\">\r\n      <g>\r\n       <use style=\"stroke:#000000;stroke-width:0.8;\" x=\"352.869318\" xlink:href=\"#m21c1e3b1a4\" y=\"226.967188\"/>\r\n      </g>\r\n     </g>\r\n     <g id=\"text_8\">\r\n      <!-- 2012 -->\r\n      <g transform=\"translate(340.144318 241.565625)scale(0.1 -0.1)\">\r\n       <use xlink:href=\"#DejaVuSans-50\"/>\r\n       <use x=\"63.623047\" xlink:href=\"#DejaVuSans-48\"/>\r\n       <use x=\"127.246094\" xlink:href=\"#DejaVuSans-49\"/>\r\n       <use x=\"190.869141\" xlink:href=\"#DejaVuSans-50\"/>\r\n      </g>\r\n     </g>\r\n    </g>\r\n   </g>\r\n   <g id=\"matplotlib.axis_2\">\r\n    <g id=\"ytick_1\">\r\n     <g id=\"line2d_9\">\r\n      <defs>\r\n       <path d=\"M 0 0 \r\nL -3.5 0 \r\n\" id=\"m58211a024d\" style=\"stroke:#000000;stroke-width:0.8;\"/>\r\n      </defs>\r\n      <g>\r\n       <use style=\"stroke:#000000;stroke-width:0.8;\" x=\"33.2875\" xlink:href=\"#m58211a024d\" y=\"221.289354\"/>\r\n      </g>\r\n     </g>\r\n     <g id=\"text_9\">\r\n      <!-- 0 -->\r\n      <g transform=\"translate(19.925 225.088573)scale(0.1 -0.1)\">\r\n       <use xlink:href=\"#DejaVuSans-48\"/>\r\n      </g>\r\n     </g>\r\n    </g>\r\n    <g id=\"ytick_2\">\r\n     <g id=\"line2d_10\">\r\n      <g>\r\n       <use style=\"stroke:#000000;stroke-width:0.8;\" x=\"33.2875\" xlink:href=\"#m58211a024d\" y=\"179.231327\"/>\r\n      </g>\r\n     </g>\r\n     <g id=\"text_10\">\r\n      <!-- 20 -->\r\n      <g transform=\"translate(13.5625 183.030546)scale(0.1 -0.1)\">\r\n       <use xlink:href=\"#DejaVuSans-50\"/>\r\n       <use x=\"63.623047\" xlink:href=\"#DejaVuSans-48\"/>\r\n      </g>\r\n     </g>\r\n    </g>\r\n    <g id=\"ytick_3\">\r\n     <g id=\"line2d_11\">\r\n      <g>\r\n       <use style=\"stroke:#000000;stroke-width:0.8;\" x=\"33.2875\" xlink:href=\"#m58211a024d\" y=\"137.1733\"/>\r\n      </g>\r\n     </g>\r\n     <g id=\"text_11\">\r\n      <!-- 40 -->\r\n      <g transform=\"translate(13.5625 140.972519)scale(0.1 -0.1)\">\r\n       <use xlink:href=\"#DejaVuSans-52\"/>\r\n       <use x=\"63.623047\" xlink:href=\"#DejaVuSans-48\"/>\r\n      </g>\r\n     </g>\r\n    </g>\r\n    <g id=\"ytick_4\">\r\n     <g id=\"line2d_12\">\r\n      <g>\r\n       <use style=\"stroke:#000000;stroke-width:0.8;\" x=\"33.2875\" xlink:href=\"#m58211a024d\" y=\"95.115273\"/>\r\n      </g>\r\n     </g>\r\n     <g id=\"text_12\">\r\n      <!-- 60 -->\r\n      <g transform=\"translate(13.5625 98.914492)scale(0.1 -0.1)\">\r\n       <use xlink:href=\"#DejaVuSans-54\"/>\r\n       <use x=\"63.623047\" xlink:href=\"#DejaVuSans-48\"/>\r\n      </g>\r\n     </g>\r\n    </g>\r\n    <g id=\"ytick_5\">\r\n     <g id=\"line2d_13\">\r\n      <g>\r\n       <use style=\"stroke:#000000;stroke-width:0.8;\" x=\"33.2875\" xlink:href=\"#m58211a024d\" y=\"53.057246\"/>\r\n      </g>\r\n     </g>\r\n     <g id=\"text_13\">\r\n      <!-- 80 -->\r\n      <g transform=\"translate(13.5625 56.856465)scale(0.1 -0.1)\">\r\n       <use xlink:href=\"#DejaVuSans-56\"/>\r\n       <use x=\"63.623047\" xlink:href=\"#DejaVuSans-48\"/>\r\n      </g>\r\n     </g>\r\n    </g>\r\n    <g id=\"ytick_6\">\r\n     <g id=\"line2d_14\">\r\n      <g>\r\n       <use style=\"stroke:#000000;stroke-width:0.8;\" x=\"33.2875\" xlink:href=\"#m58211a024d\" y=\"10.999219\"/>\r\n      </g>\r\n     </g>\r\n     <g id=\"text_14\">\r\n      <!-- 100 -->\r\n      <g transform=\"translate(7.2 14.798437)scale(0.1 -0.1)\">\r\n       <use xlink:href=\"#DejaVuSans-49\"/>\r\n       <use x=\"63.623047\" xlink:href=\"#DejaVuSans-48\"/>\r\n       <use x=\"127.246094\" xlink:href=\"#DejaVuSans-48\"/>\r\n      </g>\r\n     </g>\r\n    </g>\r\n   </g>\r\n   <g id=\"line2d_15\">\r\n    <path clip-path=\"url(#p32ba578b4a)\" d=\"M 48.505682 217.083551 \r\nL 70.245942 160.305215 \r\nL 91.986201 145.584905 \r\nL 113.726461 111.938484 \r\nL 135.466721 88.806569 \r\nL 157.206981 48.851443 \r\nL 178.94724 59.36595 \r\nL 200.6875 46.748542 \r\nL 222.42776 19.410824 \r\nL 244.168019 57.263049 \r\nL 265.908279 61.468851 \r\nL 287.648539 76.189161 \r\nL 309.388799 61.468851 \r\nL 331.129058 69.880457 \r\nL 352.869318 50.954344 \r\n\" style=\"fill:none;stroke:#1f77b4;stroke-linecap:square;stroke-width:1.5;\"/>\r\n   </g>\r\n   <g id=\"patch_3\">\r\n    <path d=\"M 33.2875 226.967188 \r\nL 33.2875 9.527188 \r\n\" style=\"fill:none;stroke:#000000;stroke-linecap:square;stroke-linejoin:miter;stroke-width:0.8;\"/>\r\n   </g>\r\n   <g id=\"patch_4\">\r\n    <path d=\"M 368.0875 226.967188 \r\nL 368.0875 9.527188 \r\n\" style=\"fill:none;stroke:#000000;stroke-linecap:square;stroke-linejoin:miter;stroke-width:0.8;\"/>\r\n   </g>\r\n   <g id=\"patch_5\">\r\n    <path d=\"M 33.2875 226.967188 \r\nL 368.0875 226.967188 \r\n\" style=\"fill:none;stroke:#000000;stroke-linecap:square;stroke-linejoin:miter;stroke-width:0.8;\"/>\r\n   </g>\r\n   <g id=\"patch_6\">\r\n    <path d=\"M 33.2875 9.527188 \r\nL 368.0875 9.527188 \r\n\" style=\"fill:none;stroke:#000000;stroke-linecap:square;stroke-linejoin:miter;stroke-width:0.8;\"/>\r\n   </g>\r\n  </g>\r\n </g>\r\n <defs>\r\n  <clipPath id=\"p32ba578b4a\">\r\n   <rect height=\"217.44\" width=\"334.8\" x=\"33.2875\" y=\"9.527188\"/>\r\n  </clipPath>\r\n </defs>\r\n</svg>\r\n",
      "image/png": "[encoded data removed]"
     },
     "metadata": {
      "needs_background": "light"
     }
    }
   ],
   "source": [
    "import matplotlib.pyplot as plt \n",
    "#1 \n",
    "fed_win = df.loc[(df['player1 name'] == 'Roger Federer') & (df.win == 1) | (df['player2 name'] == 'Roger Federer') & (df.win == 0)]\n",
    "cash_money = fed_win.loc[(fed_win['tournament round'] == 'F')]\n",
    "\n",
    "cash_money['tournament prize money'].str.replace('[ $ , [ < > ( ) ! A . \" ]', '').astype(int)\n",
    "\n",
    "cash_money.groupby(cash_money.year).sum()\n",
    "\n",
    "print('The best year for money:',cash_money.loc[cash_money['tournament prize money'] == max(cash_money['tournament prize money']), 'year'].iloc[0])\n",
    "\n",
    "#2 \n",
    "fed_win['count_me'] = 1\n",
    "\n",
    "fed_win.groupby(fed_win.year).sum()\n",
    "\n",
    "print(fed_win.loc[fed_win['count_me'] == max(fed_win['count_me']), 'year'].iloc[0], 'was is best year in term of wins:')\n",
    "\n",
    "annual = fed_win.groupby(fed_win.year).sum()\n",
    "annual.sort_values(by='count_me')\n",
    "\n",
    "plt.plot(annual['count_me'])\n",
    "\n",
    "print(\"Federer is getting better and better with year! The graphic can also show us that between 2006 and 2010 he wasn't improving.\")\n",
    "plt.show()"
   ]
  },
  {
   "cell_type": "markdown",
   "metadata": {},
   "source": [
    "# 5.3 Total money won\n",
    "\n",
    "In the data, you'll find the `tournament round`, one value of which, `F` indicates the final.\n",
    "\n",
    "Assuming Federer wins the money in the `tournament prize money` if he wins a final in a tournament, how much money has Federer made in tournaments in this dataset?"
   ]
  },
  {
   "cell_type": "code",
   "execution_count": 59,
   "metadata": {},
   "outputs": [
    {
     "output_type": "stream",
     "name": "stdout",
     "text": [
      "Roger Federer made 44934964 $$\n"
     ]
    }
   ],
   "source": [
    "tournament_win = fed_win.loc[(fed_win['tournament round'] == 'F')]\n",
    "money = tournament_win['tournament prize money'].str.replace('[ $ , [ < > ( ) ! A . \" ]', '').astype(int).sum()\n",
    "print('Roger Federer made', money,'$$')"
   ]
  }
 ],
 "metadata": {
  "kernelspec": {
   "display_name": "Python 3",
   "language": "python",
   "name": "python3"
  },
  "language_info": {
   "codemirror_mode": {
    "name": "ipython",
    "version": 3
   },
   "file_extension": ".py",
   "mimetype": "text/x-python",
   "name": "python",
   "nbconvert_exporter": "python",
   "pygments_lexer": "ipython3",
   "version": "3.8.3-final"
  }
 },
 "nbformat": 4,
 "nbformat_minor": 4
}