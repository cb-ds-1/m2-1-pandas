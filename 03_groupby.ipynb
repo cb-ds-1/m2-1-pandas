{
 "cells": [
  {
   "cell_type": "markdown",
   "metadata": {},
   "source": [
    "# Split-apply-combine\n",
    "\n",
    "[Resource here](https://pandas.pydata.org/pandas-docs/stable/user_guide/groupby.html)\n",
    "\n",
    "Let's start with a dataset:"
   ]
  },
  {
   "cell_type": "code",
   "execution_count": 1,
   "metadata": {},
   "outputs": [
    {
     "data": {
      "text/html": [
       "<div>\n",
       "<style scoped>\n",
       "    .dataframe tbody tr th:only-of-type {\n",
       "        vertical-align: middle;\n",
       "    }\n",
       "\n",
       "    .dataframe tbody tr th {\n",
       "        vertical-align: top;\n",
       "    }\n",
       "\n",
       "    .dataframe thead th {\n",
       "        text-align: right;\n",
       "    }\n",
       "</style>\n",
       "<table border=\"1\" class=\"dataframe\">\n",
       "  <thead>\n",
       "    <tr style=\"text-align: right;\">\n",
       "      <th></th>\n",
       "      <th>country</th>\n",
       "      <th>seasonality</th>\n",
       "      <th>sex</th>\n",
       "      <th>age_group</th>\n",
       "      <th>month</th>\n",
       "      <th>unemployment</th>\n",
       "      <th>unemployment_rate</th>\n",
       "    </tr>\n",
       "  </thead>\n",
       "  <tbody>\n",
       "    <tr>\n",
       "      <th>1004</th>\n",
       "      <td>at</td>\n",
       "      <td>sa</td>\n",
       "      <td>f</td>\n",
       "      <td>y25-74</td>\n",
       "      <td>2004.09</td>\n",
       "      <td>71000</td>\n",
       "      <td>4.7</td>\n",
       "    </tr>\n",
       "    <tr>\n",
       "      <th>75760</th>\n",
       "      <td>si</td>\n",
       "      <td>trend</td>\n",
       "      <td>m</td>\n",
       "      <td>y25-74</td>\n",
       "      <td>2006.05</td>\n",
       "      <td>20000</td>\n",
       "      <td>4.1</td>\n",
       "    </tr>\n",
       "    <tr>\n",
       "      <th>76689</th>\n",
       "      <td>sk</td>\n",
       "      <td>nsa</td>\n",
       "      <td>m</td>\n",
       "      <td>y_lt25</td>\n",
       "      <td>2003.10</td>\n",
       "      <td>65000</td>\n",
       "      <td>32.5</td>\n",
       "    </tr>\n",
       "    <tr>\n",
       "      <th>28820</th>\n",
       "      <td>fr</td>\n",
       "      <td>sa</td>\n",
       "      <td>f</td>\n",
       "      <td>y25-74</td>\n",
       "      <td>1995.09</td>\n",
       "      <td>1113000</td>\n",
       "      <td>10.8</td>\n",
       "    </tr>\n",
       "    <tr>\n",
       "      <th>4843</th>\n",
       "      <td>be</td>\n",
       "      <td>sa</td>\n",
       "      <td>m</td>\n",
       "      <td>y25-74</td>\n",
       "      <td>2002.08</td>\n",
       "      <td>124000</td>\n",
       "      <td>5.5</td>\n",
       "    </tr>\n",
       "  </tbody>\n",
       "</table>\n",
       "</div>"
      ],
      "text/plain": [
       "      country seasonality sex age_group    month  unemployment  \\\n",
       "1004       at          sa   f    y25-74  2004.09         71000   \n",
       "75760      si       trend   m    y25-74  2006.05         20000   \n",
       "76689      sk         nsa   m    y_lt25  2003.10         65000   \n",
       "28820      fr          sa   f    y25-74  1995.09       1113000   \n",
       "4843       be          sa   m    y25-74  2002.08        124000   \n",
       "\n",
       "       unemployment_rate  \n",
       "1004                 4.7  \n",
       "75760                4.1  \n",
       "76689               32.5  \n",
       "28820               10.8  \n",
       "4843                 5.5  "
      ]
     },
     "execution_count": 1,
     "metadata": {},
     "output_type": "execute_result"
    }
   ],
   "source": [
    "import numpy as np\n",
    "import pandas as pd\n",
    "\n",
    "df = pd.read_csv(\"data/country_sex_age.csv\")\n",
    "df.sample(5)"
   ]
  },
  {
   "cell_type": "markdown",
   "metadata": {},
   "source": [
    "Say we want the average unemployment rate by `sex`. If we were doing this with SQL we would do:\n",
    "\n",
    "```\n",
    "SELECT sex,\n",
    "   AVG(unemployment_rate)\n",
    "FROM df\n",
    "GROUP BY sex\n",
    "```\n",
    "\n",
    "In pandas, the syntax for it is similar:"
   ]
  },
  {
   "cell_type": "code",
   "execution_count": 2,
   "metadata": {},
   "outputs": [
    {
     "data": {
      "text/plain": [
       "sex\n",
       "f    12.982629\n",
       "m    11.671026\n",
       "Name: unemployment_rate, dtype: float64"
      ]
     },
     "execution_count": 2,
     "metadata": {},
     "output_type": "execute_result"
    }
   ],
   "source": [
    "df.groupby('sex')['unemployment_rate'].mean()"
   ]
  },
  {
   "cell_type": "markdown",
   "metadata": {},
   "source": [
    "Note the index of the resulting series is the \"groupby key\".\n",
    "\n",
    "If we wanted to group over two different categories, we'd pass a list to the groupby object:"
   ]
  },
  {
   "cell_type": "code",
   "execution_count": 3,
   "metadata": {},
   "outputs": [
    {
     "data": {
      "text/plain": [
       "sex  age_group\n",
       "f    y25-74        7.566771\n",
       "     y_lt25       18.457435\n",
       "m    y25-74        6.244016\n",
       "     y_lt25       17.098036\n",
       "Name: unemployment_rate, dtype: float64"
      ]
     },
     "execution_count": 3,
     "metadata": {},
     "output_type": "execute_result"
    }
   ],
   "source": [
    "grp = df.groupby(['sex', 'age_group'])\n",
    "\n",
    "grp.unemployment_rate.mean()"
   ]
  },
  {
   "cell_type": "markdown",
   "metadata": {},
   "source": [
    "The `grp` object is a \"in waiting\" object that holds the groupby, waiting for you to tell final results"
   ]
  },
  {
   "cell_type": "code",
   "execution_count": 4,
   "metadata": {},
   "outputs": [
    {
     "data": {
      "text/plain": [
       "<pandas.core.groupby.generic.DataFrameGroupBy object at 0x11caef250>"
      ]
     },
     "execution_count": 4,
     "metadata": {},
     "output_type": "execute_result"
    }
   ],
   "source": [
    "grp"
   ]
  },
  {
   "cell_type": "markdown",
   "metadata": {},
   "source": [
    "This is where the **split-apply-combine** framework comes in. \n",
    "\n",
    "We **split** into the groups we want (the groupby list)\n",
    "\n",
    "We **apply** the transformation to the statistical column\n",
    "\n",
    "We **combine** (or **aggregate**) the results for each group.\n",
    "\n",
    "We can do this for multiple columns with a dictionary:"
   ]
  },
  {
   "cell_type": "code",
   "execution_count": 5,
   "metadata": {},
   "outputs": [
    {
     "data": {
      "text/html": [
       "<div>\n",
       "<style scoped>\n",
       "    .dataframe tbody tr th:only-of-type {\n",
       "        vertical-align: middle;\n",
       "    }\n",
       "\n",
       "    .dataframe tbody tr th {\n",
       "        vertical-align: top;\n",
       "    }\n",
       "\n",
       "    .dataframe thead th {\n",
       "        text-align: right;\n",
       "    }\n",
       "</style>\n",
       "<table border=\"1\" class=\"dataframe\">\n",
       "  <thead>\n",
       "    <tr style=\"text-align: right;\">\n",
       "      <th></th>\n",
       "      <th></th>\n",
       "      <th>unemployment_rate</th>\n",
       "      <th>unemployment</th>\n",
       "    </tr>\n",
       "    <tr>\n",
       "      <th>sex</th>\n",
       "      <th>age_group</th>\n",
       "      <th></th>\n",
       "      <th></th>\n",
       "    </tr>\n",
       "  </thead>\n",
       "  <tbody>\n",
       "    <tr>\n",
       "      <th rowspan=\"2\" valign=\"top\">f</th>\n",
       "      <th>y25-74</th>\n",
       "      <td>7.566771</td>\n",
       "      <td>5476574000</td>\n",
       "    </tr>\n",
       "    <tr>\n",
       "      <th>y_lt25</th>\n",
       "      <td>18.457435</td>\n",
       "      <td>2346186000</td>\n",
       "    </tr>\n",
       "    <tr>\n",
       "      <th rowspan=\"2\" valign=\"top\">m</th>\n",
       "      <th>y25-74</th>\n",
       "      <td>6.244016</td>\n",
       "      <td>6016451000</td>\n",
       "    </tr>\n",
       "    <tr>\n",
       "      <th>y_lt25</th>\n",
       "      <td>17.098036</td>\n",
       "      <td>2578235000</td>\n",
       "    </tr>\n",
       "  </tbody>\n",
       "</table>\n",
       "</div>"
      ],
      "text/plain": [
       "               unemployment_rate  unemployment\n",
       "sex age_group                                 \n",
       "f   y25-74              7.566771    5476574000\n",
       "    y_lt25             18.457435    2346186000\n",
       "m   y25-74              6.244016    6016451000\n",
       "    y_lt25             17.098036    2578235000"
      ]
     },
     "execution_count": 5,
     "metadata": {},
     "output_type": "execute_result"
    }
   ],
   "source": [
    "agg_dict = {\n",
    "    # Strings for inbuilt aggregation methods\n",
    "    \"unemployment_rate\": 'mean',\n",
    "    # You can use numpy reduce functions\n",
    "    \"unemployment\": np.sum\n",
    "}\n",
    "\n",
    "# Aggregate each column in the dict \n",
    "# Using the apply function from \n",
    "grp.agg(agg_dict)"
   ]
  },
  {
   "cell_type": "markdown",
   "metadata": {},
   "source": [
    "Note that this dataframe has two layers of indices -- a `pd.MultiIndex` which is really bothersome to work with.\n",
    "\n",
    "This is why we often reset the index after doing groupbys, letting us access columns easily:"
   ]
  },
  {
   "cell_type": "code",
   "execution_count": 6,
   "metadata": {},
   "outputs": [
    {
     "data": {
      "text/html": [
       "<div>\n",
       "<style scoped>\n",
       "    .dataframe tbody tr th:only-of-type {\n",
       "        vertical-align: middle;\n",
       "    }\n",
       "\n",
       "    .dataframe tbody tr th {\n",
       "        vertical-align: top;\n",
       "    }\n",
       "\n",
       "    .dataframe thead th {\n",
       "        text-align: right;\n",
       "    }\n",
       "</style>\n",
       "<table border=\"1\" class=\"dataframe\">\n",
       "  <thead>\n",
       "    <tr style=\"text-align: right;\">\n",
       "      <th></th>\n",
       "      <th>sex</th>\n",
       "      <th>age_group</th>\n",
       "      <th>unemployment_rate</th>\n",
       "      <th>unemployment</th>\n",
       "    </tr>\n",
       "  </thead>\n",
       "  <tbody>\n",
       "    <tr>\n",
       "      <th>0</th>\n",
       "      <td>f</td>\n",
       "      <td>y25-74</td>\n",
       "      <td>7.566771</td>\n",
       "      <td>5476574000</td>\n",
       "    </tr>\n",
       "    <tr>\n",
       "      <th>1</th>\n",
       "      <td>f</td>\n",
       "      <td>y_lt25</td>\n",
       "      <td>18.457435</td>\n",
       "      <td>2346186000</td>\n",
       "    </tr>\n",
       "    <tr>\n",
       "      <th>2</th>\n",
       "      <td>m</td>\n",
       "      <td>y25-74</td>\n",
       "      <td>6.244016</td>\n",
       "      <td>6016451000</td>\n",
       "    </tr>\n",
       "    <tr>\n",
       "      <th>3</th>\n",
       "      <td>m</td>\n",
       "      <td>y_lt25</td>\n",
       "      <td>17.098036</td>\n",
       "      <td>2578235000</td>\n",
       "    </tr>\n",
       "  </tbody>\n",
       "</table>\n",
       "</div>"
      ],
      "text/plain": [
       "  sex age_group  unemployment_rate  unemployment\n",
       "0   f    y25-74           7.566771    5476574000\n",
       "1   f    y_lt25          18.457435    2346186000\n",
       "2   m    y25-74           6.244016    6016451000\n",
       "3   m    y_lt25          17.098036    2578235000"
      ]
     },
     "execution_count": 6,
     "metadata": {},
     "output_type": "execute_result"
    }
   ],
   "source": [
    "grp.agg(agg_dict).reset_index()"
   ]
  },
  {
   "cell_type": "code",
   "execution_count": null,
   "metadata": {},
   "outputs": [],
   "source": []
  }
 ],
 "metadata": {
  "kernelspec": {
   "display_name": "Python 3",
   "language": "python",
   "name": "python3"
  },
  "language_info": {
   "codemirror_mode": {
    "name": "ipython",
    "version": 3
   },
   "file_extension": ".py",
   "mimetype": "text/x-python",
   "name": "python",
   "nbconvert_exporter": "python",
   "pygments_lexer": "ipython3",
   "version": "3.8.3"
  }
 },
 "nbformat": 4,
 "nbformat_minor": 4
}
