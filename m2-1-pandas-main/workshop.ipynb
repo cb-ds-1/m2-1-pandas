{
 "cells": [
  {
   "cell_type": "code",
   "execution_count": null,
   "metadata": {},
   "outputs": [],
   "source": [
    "#STEVEN ZAJAC-DESCÔTEAUX"
   ]
  },
  {
   "cell_type": "code",
   "execution_count": 64,
   "metadata": {},
   "outputs": [],
   "source": [
    "import numpy as np\n",
    "import pandas as pd"
   ]
  },
  {
   "cell_type": "markdown",
   "metadata": {},
   "source": [
    "# Notes:\n",
    "\n",
    "You are banned from using loops (`for` or `while` or any other) for this entire workshop!\n",
    "\n",
    "You shouldn't be using loops almost ever with pandas in any case, so break out of the habit now.\n",
    "\n",
    "## 1. DataFrame basics\n",
    "\n",
    "\n",
    "Consider the following Python dictionary `data` and Python list `labels`:\n",
    "\n",
    "``` python\n",
    "data = {'animal': ['cat', 'cat', 'snake', 'dog', 'dog', 'cat', 'snake', 'cat', 'dog', 'dog'],\n",
    "        'age': [2.5, 3, 0.5, np.nan, 5, 2, 4.5, np.nan, 7, 3],\n",
    "        'visits': [1, 3, 2, 3, 2, 3, 1, 1, 2, 1],\n",
    "        'priority': ['yes', 'yes', 'no', 'yes', 'no', 'no', 'no', 'yes', 'no', 'no']}\n",
    "\n",
    "labels = ['a', 'b', 'c', 'd', 'e', 'f', 'g', 'h', 'i', 'j']\n",
    "```\n",
    "(This is just some meaningless data I made up with the theme of animals and trips to a vet.)\n",
    "\n",
    "**1.** Create a DataFrame `df` from this dictionary `data` which has the index `labels`.\n",
    "\n",
    "**2.** Select only the rows where visits are 3 or more. Which types of animals are these?\n",
    "\n",
    "**3.** Select the rows where visists are 3 and the animal is a cat\n",
    "\n",
    "**4.** Calculate the sum of all visits in `df` (i.e. the total number of visits).\n",
    "\n",
    "**5.** Calculate the mean age for each different animal in `df`.\n",
    "\n",
    "**6.** Append a new row 'k' to `df` with your choice of values for each column. Then delete that row to return the original DataFrame.\n",
    "\n"
   ]
  },
  {
   "cell_type": "code",
   "execution_count": 8,
   "metadata": {},
   "outputs": [
    {
     "data": {
      "text/html": [
       "<div>\n",
       "<style scoped>\n",
       "    .dataframe tbody tr th:only-of-type {\n",
       "        vertical-align: middle;\n",
       "    }\n",
       "\n",
       "    .dataframe tbody tr th {\n",
       "        vertical-align: top;\n",
       "    }\n",
       "\n",
       "    .dataframe thead th {\n",
       "        text-align: right;\n",
       "    }\n",
       "</style>\n",
       "<table border=\"1\" class=\"dataframe\">\n",
       "  <thead>\n",
       "    <tr style=\"text-align: right;\">\n",
       "      <th></th>\n",
       "      <th>animal</th>\n",
       "      <th>age</th>\n",
       "      <th>visits</th>\n",
       "      <th>priority</th>\n",
       "    </tr>\n",
       "  </thead>\n",
       "  <tbody>\n",
       "    <tr>\n",
       "      <th>a</th>\n",
       "      <td>cat</td>\n",
       "      <td>2.5</td>\n",
       "      <td>1</td>\n",
       "      <td>yes</td>\n",
       "    </tr>\n",
       "    <tr>\n",
       "      <th>b</th>\n",
       "      <td>cat</td>\n",
       "      <td>3.0</td>\n",
       "      <td>3</td>\n",
       "      <td>yes</td>\n",
       "    </tr>\n",
       "    <tr>\n",
       "      <th>c</th>\n",
       "      <td>snake</td>\n",
       "      <td>0.5</td>\n",
       "      <td>2</td>\n",
       "      <td>no</td>\n",
       "    </tr>\n",
       "    <tr>\n",
       "      <th>d</th>\n",
       "      <td>dog</td>\n",
       "      <td>NaN</td>\n",
       "      <td>3</td>\n",
       "      <td>yes</td>\n",
       "    </tr>\n",
       "    <tr>\n",
       "      <th>e</th>\n",
       "      <td>dog</td>\n",
       "      <td>5.0</td>\n",
       "      <td>2</td>\n",
       "      <td>no</td>\n",
       "    </tr>\n",
       "    <tr>\n",
       "      <th>f</th>\n",
       "      <td>cat</td>\n",
       "      <td>2.0</td>\n",
       "      <td>3</td>\n",
       "      <td>no</td>\n",
       "    </tr>\n",
       "    <tr>\n",
       "      <th>g</th>\n",
       "      <td>snake</td>\n",
       "      <td>4.5</td>\n",
       "      <td>1</td>\n",
       "      <td>no</td>\n",
       "    </tr>\n",
       "    <tr>\n",
       "      <th>h</th>\n",
       "      <td>cat</td>\n",
       "      <td>NaN</td>\n",
       "      <td>1</td>\n",
       "      <td>yes</td>\n",
       "    </tr>\n",
       "    <tr>\n",
       "      <th>i</th>\n",
       "      <td>dog</td>\n",
       "      <td>7.0</td>\n",
       "      <td>2</td>\n",
       "      <td>no</td>\n",
       "    </tr>\n",
       "    <tr>\n",
       "      <th>j</th>\n",
       "      <td>dog</td>\n",
       "      <td>3.0</td>\n",
       "      <td>1</td>\n",
       "      <td>no</td>\n",
       "    </tr>\n",
       "  </tbody>\n",
       "</table>\n",
       "</div>"
      ],
      "text/plain": [
       "  animal  age  visits priority\n",
       "a    cat  2.5       1      yes\n",
       "b    cat  3.0       3      yes\n",
       "c  snake  0.5       2       no\n",
       "d    dog  NaN       3      yes\n",
       "e    dog  5.0       2       no\n",
       "f    cat  2.0       3       no\n",
       "g  snake  4.5       1       no\n",
       "h    cat  NaN       1      yes\n",
       "i    dog  7.0       2       no\n",
       "j    dog  3.0       1       no"
      ]
     },
     "execution_count": 8,
     "metadata": {},
     "output_type": "execute_result"
    }
   ],
   "source": [
    "#1. Create a DataFrame df from this dictionary data which has the index labels.\n",
    "\n",
    "data = {'animal': ['cat', 'cat', 'snake', 'dog', 'dog', 'cat', 'snake', 'cat', 'dog', 'dog'],\n",
    "        'age': [2.5, 3, 0.5, np.nan, 5, 2, 4.5, np.nan, 7, 3],\n",
    "        'visits': [1, 3, 2, 3, 2, 3, 1, 1, 2, 1],\n",
    "        'priority': ['yes', 'yes', 'no', 'yes', 'no', 'no', 'no', 'yes', 'no', 'no']}\n",
    "\n",
    "labels = ['a', 'b', 'c', 'd', 'e', 'f', 'g', 'h', 'i', 'j']\n",
    "df = pd.DataFrame(data)\n",
    "df.index = labels\n",
    "df"
   ]
  },
  {
   "cell_type": "code",
   "execution_count": 30,
   "metadata": {},
   "outputs": [
    {
     "data": {
      "text/plain": [
       "['cat', 'dog', 'cat']"
      ]
     },
     "execution_count": 30,
     "metadata": {},
     "output_type": "execute_result"
    }
   ],
   "source": [
    "#2. Select only the rows where visits are 3 or more. Which types of animals are these?\n",
    "df_visits = df.loc[df.visits >= 3]\n",
    "animal = df_visits['animal']\n",
    "animal.tolist()\n"
   ]
  },
  {
   "cell_type": "code",
   "execution_count": 48,
   "metadata": {},
   "outputs": [
    {
     "data": {
      "text/html": [
       "<div>\n",
       "<style scoped>\n",
       "    .dataframe tbody tr th:only-of-type {\n",
       "        vertical-align: middle;\n",
       "    }\n",
       "\n",
       "    .dataframe tbody tr th {\n",
       "        vertical-align: top;\n",
       "    }\n",
       "\n",
       "    .dataframe thead th {\n",
       "        text-align: right;\n",
       "    }\n",
       "</style>\n",
       "<table border=\"1\" class=\"dataframe\">\n",
       "  <thead>\n",
       "    <tr style=\"text-align: right;\">\n",
       "      <th></th>\n",
       "      <th>animal</th>\n",
       "      <th>age</th>\n",
       "      <th>visits</th>\n",
       "      <th>priority</th>\n",
       "    </tr>\n",
       "  </thead>\n",
       "  <tbody>\n",
       "    <tr>\n",
       "      <th>b</th>\n",
       "      <td>cat</td>\n",
       "      <td>3.0</td>\n",
       "      <td>3</td>\n",
       "      <td>yes</td>\n",
       "    </tr>\n",
       "    <tr>\n",
       "      <th>f</th>\n",
       "      <td>cat</td>\n",
       "      <td>2.0</td>\n",
       "      <td>3</td>\n",
       "      <td>no</td>\n",
       "    </tr>\n",
       "  </tbody>\n",
       "</table>\n",
       "</div>"
      ],
      "text/plain": [
       "  animal  age  visits priority\n",
       "b    cat  3.0       3      yes\n",
       "f    cat  2.0       3       no"
      ]
     },
     "execution_count": 48,
     "metadata": {},
     "output_type": "execute_result"
    }
   ],
   "source": [
    "#3. Select the rows where visists are 3 and the animal is a cat\n",
    "df_visits.loc[df_visits.animal=='cat']"
   ]
  },
  {
   "cell_type": "code",
   "execution_count": 61,
   "metadata": {},
   "outputs": [
    {
     "data": {
      "text/plain": [
       "19"
      ]
     },
     "execution_count": 61,
     "metadata": {},
     "output_type": "execute_result"
    }
   ],
   "source": [
    "#4. Calculate the sum of all visits in df (i.e. the total number of visits)\n",
    "df['visits'].sum()"
   ]
  },
  {
   "cell_type": "code",
   "execution_count": 65,
   "metadata": {},
   "outputs": [
    {
     "data": {
      "text/plain": [
       "animal\n",
       "cat      2.5\n",
       "dog      5.0\n",
       "snake    2.5\n",
       "Name: age, dtype: float64"
      ]
     },
     "execution_count": 65,
     "metadata": {},
     "output_type": "execute_result"
    }
   ],
   "source": [
    "#5. Calculate the mean age for each different animal in df\n",
    "df.groupby('animal')['age'].mean()"
   ]
  },
  {
   "cell_type": "code",
   "execution_count": 69,
   "metadata": {
    "scrolled": false
   },
   "outputs": [
    {
     "data": {
      "text/html": [
       "<div>\n",
       "<style scoped>\n",
       "    .dataframe tbody tr th:only-of-type {\n",
       "        vertical-align: middle;\n",
       "    }\n",
       "\n",
       "    .dataframe tbody tr th {\n",
       "        vertical-align: top;\n",
       "    }\n",
       "\n",
       "    .dataframe thead th {\n",
       "        text-align: right;\n",
       "    }\n",
       "</style>\n",
       "<table border=\"1\" class=\"dataframe\">\n",
       "  <thead>\n",
       "    <tr style=\"text-align: right;\">\n",
       "      <th></th>\n",
       "      <th>animal</th>\n",
       "      <th>age</th>\n",
       "      <th>visits</th>\n",
       "      <th>priority</th>\n",
       "      <th>k</th>\n",
       "    </tr>\n",
       "  </thead>\n",
       "  <tbody>\n",
       "    <tr>\n",
       "      <th>a</th>\n",
       "      <td>cat</td>\n",
       "      <td>2.5</td>\n",
       "      <td>1</td>\n",
       "      <td>yes</td>\n",
       "      <td>0</td>\n",
       "    </tr>\n",
       "    <tr>\n",
       "      <th>b</th>\n",
       "      <td>cat</td>\n",
       "      <td>3.0</td>\n",
       "      <td>3</td>\n",
       "      <td>yes</td>\n",
       "      <td>1</td>\n",
       "    </tr>\n",
       "    <tr>\n",
       "      <th>c</th>\n",
       "      <td>snake</td>\n",
       "      <td>0.5</td>\n",
       "      <td>2</td>\n",
       "      <td>no</td>\n",
       "      <td>2</td>\n",
       "    </tr>\n",
       "    <tr>\n",
       "      <th>d</th>\n",
       "      <td>dog</td>\n",
       "      <td>NaN</td>\n",
       "      <td>3</td>\n",
       "      <td>yes</td>\n",
       "      <td>3</td>\n",
       "    </tr>\n",
       "    <tr>\n",
       "      <th>e</th>\n",
       "      <td>dog</td>\n",
       "      <td>5.0</td>\n",
       "      <td>2</td>\n",
       "      <td>no</td>\n",
       "      <td>4</td>\n",
       "    </tr>\n",
       "    <tr>\n",
       "      <th>f</th>\n",
       "      <td>cat</td>\n",
       "      <td>2.0</td>\n",
       "      <td>3</td>\n",
       "      <td>no</td>\n",
       "      <td>5</td>\n",
       "    </tr>\n",
       "    <tr>\n",
       "      <th>g</th>\n",
       "      <td>snake</td>\n",
       "      <td>4.5</td>\n",
       "      <td>1</td>\n",
       "      <td>no</td>\n",
       "      <td>6</td>\n",
       "    </tr>\n",
       "    <tr>\n",
       "      <th>h</th>\n",
       "      <td>cat</td>\n",
       "      <td>NaN</td>\n",
       "      <td>1</td>\n",
       "      <td>yes</td>\n",
       "      <td>7</td>\n",
       "    </tr>\n",
       "    <tr>\n",
       "      <th>i</th>\n",
       "      <td>dog</td>\n",
       "      <td>7.0</td>\n",
       "      <td>2</td>\n",
       "      <td>no</td>\n",
       "      <td>8</td>\n",
       "    </tr>\n",
       "    <tr>\n",
       "      <th>j</th>\n",
       "      <td>dog</td>\n",
       "      <td>3.0</td>\n",
       "      <td>1</td>\n",
       "      <td>no</td>\n",
       "      <td>9</td>\n",
       "    </tr>\n",
       "  </tbody>\n",
       "</table>\n",
       "</div>"
      ],
      "text/plain": [
       "  animal  age  visits priority  k\n",
       "a    cat  2.5       1      yes  0\n",
       "b    cat  3.0       3      yes  1\n",
       "c  snake  0.5       2       no  2\n",
       "d    dog  NaN       3      yes  3\n",
       "e    dog  5.0       2       no  4\n",
       "f    cat  2.0       3       no  5\n",
       "g  snake  4.5       1       no  6\n",
       "h    cat  NaN       1      yes  7\n",
       "i    dog  7.0       2       no  8\n",
       "j    dog  3.0       1       no  9"
      ]
     },
     "execution_count": 69,
     "metadata": {},
     "output_type": "execute_result"
    }
   ],
   "source": [
    "#6. Append a new row 'k' to df with your choice of values for each column.\n",
    "# Then delete that row to return the original DataFrame.\n",
    "df['k'] = range(len(df))\n",
    "df"
   ]
  },
  {
   "cell_type": "code",
   "execution_count": 71,
   "metadata": {},
   "outputs": [
    {
     "data": {
      "text/html": [
       "<div>\n",
       "<style scoped>\n",
       "    .dataframe tbody tr th:only-of-type {\n",
       "        vertical-align: middle;\n",
       "    }\n",
       "\n",
       "    .dataframe tbody tr th {\n",
       "        vertical-align: top;\n",
       "    }\n",
       "\n",
       "    .dataframe thead th {\n",
       "        text-align: right;\n",
       "    }\n",
       "</style>\n",
       "<table border=\"1\" class=\"dataframe\">\n",
       "  <thead>\n",
       "    <tr style=\"text-align: right;\">\n",
       "      <th></th>\n",
       "      <th>animal</th>\n",
       "      <th>age</th>\n",
       "      <th>visits</th>\n",
       "      <th>priority</th>\n",
       "    </tr>\n",
       "  </thead>\n",
       "  <tbody>\n",
       "    <tr>\n",
       "      <th>a</th>\n",
       "      <td>cat</td>\n",
       "      <td>2.5</td>\n",
       "      <td>1</td>\n",
       "      <td>yes</td>\n",
       "    </tr>\n",
       "    <tr>\n",
       "      <th>b</th>\n",
       "      <td>cat</td>\n",
       "      <td>3.0</td>\n",
       "      <td>3</td>\n",
       "      <td>yes</td>\n",
       "    </tr>\n",
       "    <tr>\n",
       "      <th>c</th>\n",
       "      <td>snake</td>\n",
       "      <td>0.5</td>\n",
       "      <td>2</td>\n",
       "      <td>no</td>\n",
       "    </tr>\n",
       "    <tr>\n",
       "      <th>d</th>\n",
       "      <td>dog</td>\n",
       "      <td>NaN</td>\n",
       "      <td>3</td>\n",
       "      <td>yes</td>\n",
       "    </tr>\n",
       "    <tr>\n",
       "      <th>e</th>\n",
       "      <td>dog</td>\n",
       "      <td>5.0</td>\n",
       "      <td>2</td>\n",
       "      <td>no</td>\n",
       "    </tr>\n",
       "    <tr>\n",
       "      <th>f</th>\n",
       "      <td>cat</td>\n",
       "      <td>2.0</td>\n",
       "      <td>3</td>\n",
       "      <td>no</td>\n",
       "    </tr>\n",
       "    <tr>\n",
       "      <th>g</th>\n",
       "      <td>snake</td>\n",
       "      <td>4.5</td>\n",
       "      <td>1</td>\n",
       "      <td>no</td>\n",
       "    </tr>\n",
       "    <tr>\n",
       "      <th>h</th>\n",
       "      <td>cat</td>\n",
       "      <td>NaN</td>\n",
       "      <td>1</td>\n",
       "      <td>yes</td>\n",
       "    </tr>\n",
       "    <tr>\n",
       "      <th>i</th>\n",
       "      <td>dog</td>\n",
       "      <td>7.0</td>\n",
       "      <td>2</td>\n",
       "      <td>no</td>\n",
       "    </tr>\n",
       "    <tr>\n",
       "      <th>j</th>\n",
       "      <td>dog</td>\n",
       "      <td>3.0</td>\n",
       "      <td>1</td>\n",
       "      <td>no</td>\n",
       "    </tr>\n",
       "  </tbody>\n",
       "</table>\n",
       "</div>"
      ],
      "text/plain": [
       "  animal  age  visits priority\n",
       "a    cat  2.5       1      yes\n",
       "b    cat  3.0       3      yes\n",
       "c  snake  0.5       2       no\n",
       "d    dog  NaN       3      yes\n",
       "e    dog  5.0       2       no\n",
       "f    cat  2.0       3       no\n",
       "g  snake  4.5       1       no\n",
       "h    cat  NaN       1      yes\n",
       "i    dog  7.0       2       no\n",
       "j    dog  3.0       1       no"
      ]
     },
     "execution_count": 71,
     "metadata": {},
     "output_type": "execute_result"
    }
   ],
   "source": [
    "df.drop('k', axis=1) #axis 1 because column, 0 is row\n",
    "#del df['k'] #also worked"
   ]
  },
  {
   "cell_type": "markdown",
   "metadata": {},
   "source": [
    "# 2.1 Shifty problem\n",
    "\n",
    "You have a DataFrame `df` with a column 'A' of integers. For example:\n",
    "```python\n",
    "df = pd.DataFrame({'A': [1, 2, 2, 3, 4, 5, 5, 5, 6, 7, 7]})\n",
    "```\n",
    "\n",
    "How do you filter out rows which contain the same integer as the row immediately above?\n",
    "\n",
    "You should be left with a column containing the following values:\n",
    "\n",
    "```python\n",
    "1, 2, 3, 4, 5, 6, 7\n",
    "```\n",
    "\n",
    "### Hint: use the `shift()` method"
   ]
  },
  {
   "cell_type": "code",
   "execution_count": 217,
   "metadata": {},
   "outputs": [
    {
     "data": {
      "text/html": [
       "<style  type=\"text/css\" >\n",
       "</style><table id=\"T_6ce1fb90_31a7_11eb_a686_acde48001122\" ><thead>    <tr>        <th class=\"col_heading level0 col0\" >A</th>    </tr></thead><tbody>\n",
       "                <tr>\n",
       "                                <td id=\"T_6ce1fb90_31a7_11eb_a686_acde48001122row0_col0\" class=\"data row0 col0\" >1</td>\n",
       "            </tr>\n",
       "            <tr>\n",
       "                                <td id=\"T_6ce1fb90_31a7_11eb_a686_acde48001122row1_col0\" class=\"data row1 col0\" >2</td>\n",
       "            </tr>\n",
       "            <tr>\n",
       "                                <td id=\"T_6ce1fb90_31a7_11eb_a686_acde48001122row2_col0\" class=\"data row2 col0\" >3</td>\n",
       "            </tr>\n",
       "            <tr>\n",
       "                                <td id=\"T_6ce1fb90_31a7_11eb_a686_acde48001122row3_col0\" class=\"data row3 col0\" >4</td>\n",
       "            </tr>\n",
       "            <tr>\n",
       "                                <td id=\"T_6ce1fb90_31a7_11eb_a686_acde48001122row4_col0\" class=\"data row4 col0\" >5</td>\n",
       "            </tr>\n",
       "            <tr>\n",
       "                                <td id=\"T_6ce1fb90_31a7_11eb_a686_acde48001122row5_col0\" class=\"data row5 col0\" >6</td>\n",
       "            </tr>\n",
       "            <tr>\n",
       "                                <td id=\"T_6ce1fb90_31a7_11eb_a686_acde48001122row6_col0\" class=\"data row6 col0\" >7</td>\n",
       "            </tr>\n",
       "    </tbody></table>"
      ],
      "text/plain": [
       "<pandas.io.formats.style.Styler at 0x7fa81e8ee910>"
      ]
     },
     "execution_count": 217,
     "metadata": {},
     "output_type": "execute_result"
    }
   ],
   "source": [
    "# Removes duplicates but only if they're in order. \n",
    "df = pd.DataFrame({'A': [1, 2, 2, 3, 4, 5, 5, 5, 6, 7, 7]})\n",
    "df.drop_duplicates().style.hide_index()"
   ]
  },
  {
   "cell_type": "code",
   "execution_count": 269,
   "metadata": {},
   "outputs": [
    {
     "data": {
      "text/html": [
       "<style  type=\"text/css\" >\n",
       "</style><table id=\"T_b0d98c9e_31a9_11eb_a686_acde48001122\" ><thead>    <tr>        <th class=\"col_heading level0 col0\" >A</th>    </tr></thead><tbody>\n",
       "                <tr>\n",
       "                                <td id=\"T_b0d98c9e_31a9_11eb_a686_acde48001122row0_col0\" class=\"data row0 col0\" >1</td>\n",
       "            </tr>\n",
       "            <tr>\n",
       "                                <td id=\"T_b0d98c9e_31a9_11eb_a686_acde48001122row1_col0\" class=\"data row1 col0\" >2</td>\n",
       "            </tr>\n",
       "            <tr>\n",
       "                                <td id=\"T_b0d98c9e_31a9_11eb_a686_acde48001122row2_col0\" class=\"data row2 col0\" >3</td>\n",
       "            </tr>\n",
       "            <tr>\n",
       "                                <td id=\"T_b0d98c9e_31a9_11eb_a686_acde48001122row3_col0\" class=\"data row3 col0\" >4</td>\n",
       "            </tr>\n",
       "            <tr>\n",
       "                                <td id=\"T_b0d98c9e_31a9_11eb_a686_acde48001122row4_col0\" class=\"data row4 col0\" >5</td>\n",
       "            </tr>\n",
       "            <tr>\n",
       "                                <td id=\"T_b0d98c9e_31a9_11eb_a686_acde48001122row5_col0\" class=\"data row5 col0\" >6</td>\n",
       "            </tr>\n",
       "            <tr>\n",
       "                                <td id=\"T_b0d98c9e_31a9_11eb_a686_acde48001122row6_col0\" class=\"data row6 col0\" >7</td>\n",
       "            </tr>\n",
       "    </tbody></table>"
      ],
      "text/plain": [
       "<pandas.io.formats.style.Styler at 0x7fa81fd8f730>"
      ]
     },
     "execution_count": 269,
     "metadata": {},
     "output_type": "execute_result"
    }
   ],
   "source": [
    "#Filters out rows which contain the same integer as row immediately above (order unimportant)\n",
    "df = pd.DataFrame({'A': [1, 2, 2, 3, 4, 5, 5, 5, 6, 7, 7]})\n",
    "df.loc[df['A'].shift() != df['A']].style.hide_index()\n"
   ]
  },
  {
   "cell_type": "markdown",
   "metadata": {},
   "source": [
    "# 2.2 columns sum min\n",
    "\n",
    "Suppose you have DataFrame with 10 columns of real numbers, for example:\n",
    "\n",
    "```python\n",
    "df = pd.DataFrame(np.random.random(size=(5, 10)), columns=list('abcdefghij'))\n",
    "```\n",
    "Which column of numbers has the smallest sum? Return that column's label."
   ]
  },
  {
   "cell_type": "code",
   "execution_count": 2,
   "metadata": {
    "scrolled": true
   },
   "outputs": [
    {
     "data": {
      "text/plain": [
       "'d'"
      ]
     },
     "execution_count": 2,
     "metadata": {},
     "output_type": "execute_result"
    }
   ],
   "source": [
    "df = pd.DataFrame(np.random.random(size=(5, 10)), columns=list('abcdefghij'))\n",
    "df.sum().idxmin()"
   ]
  },
  {
   "cell_type": "markdown",
   "metadata": {},
   "source": [
    "# 2.3 Duplicates\n",
    "\n",
    "How do you count how many unique rows a DataFrame has (i.e. ignore all rows that are duplicates)?\n",
    "\n",
    "**hint:** There's a method for to find duplicate rows for you"
   ]
  },
  {
   "cell_type": "code",
   "execution_count": 27,
   "metadata": {
    "scrolled": true
   },
   "outputs": [
    {
     "data": {
      "text/plain": [
       "A    7\n",
       "dtype: int64"
      ]
     },
     "execution_count": 27,
     "metadata": {},
     "output_type": "execute_result"
    }
   ],
   "source": [
    "df = pd.DataFrame({'A': [1, 2, 2, 3, 4, 5, 5, 5, 6, 7, 7]})\n",
    "df.nunique()"
   ]
  },
  {
   "cell_type": "code",
   "execution_count": 25,
   "metadata": {
    "scrolled": true
   },
   "outputs": [
    {
     "data": {
      "text/plain": [
       "A    7\n",
       "dtype: int64"
      ]
     },
     "execution_count": 25,
     "metadata": {},
     "output_type": "execute_result"
    }
   ],
   "source": [
    "#verification\n",
    "df.drop_duplicates().count()"
   ]
  },
  {
   "cell_type": "code",
   "execution_count": 26,
   "metadata": {},
   "outputs": [
    {
     "data": {
      "text/plain": [
       "False    7\n",
       "True     4\n",
       "dtype: int64"
      ]
     },
     "execution_count": 26,
     "metadata": {},
     "output_type": "execute_result"
    }
   ],
   "source": [
    "df.duplicated().value_counts()"
   ]
  },
  {
   "cell_type": "markdown",
   "metadata": {},
   "source": [
    "# 2.4 Group Values\n",
    "\n",
    "A DataFrame has a column of groups 'grps' and and column of integer values 'vals': \n",
    "\n",
    "```python\n",
    "df = pd.DataFrame({'grps': list('aaabbcaabcccbbc'), \n",
    "                   'vals': [12,345,3,1,45,14,4,52,54,23,235,21,57,3,87]})\n",
    "```\n",
    "For each *group*, find the sum of the three greatest values.  You should end up with the answer as follows:\n",
    "```\n",
    "grps\n",
    "a    409\n",
    "b    156\n",
    "c    345\n",
    "```"
   ]
  },
  {
   "cell_type": "code",
   "execution_count": 326,
   "metadata": {},
   "outputs": [
    {
     "data": {
      "text/plain": [
       "grps\n",
       "a    409\n",
       "b    156\n",
       "c    345\n",
       "Name: vals, dtype: int64"
      ]
     },
     "execution_count": 326,
     "metadata": {},
     "output_type": "execute_result"
    }
   ],
   "source": [
    "df = pd.DataFrame({'grps': list('aaabbcaabcccbbc'), \n",
    "                   'vals': [12,345,3,1,45,14,4,52,54,23,235,21,57,3,87]})\n",
    "\n",
    "\n",
    "df.groupby('grps')['vals'].nlargest(3).sum(level=0)\n",
    "\n",
    "#nlargest(3): looks at 3 greatest values\n",
    "#sum(level=0): to go down columns rather than across"
   ]
  },
  {
   "cell_type": "markdown",
   "metadata": {},
   "source": [
    "# 3. Cleaning Data\n",
    "\n",
    "### Making a DataFrame easier to work with\n",
    "\n",
    "It happens all the time: someone gives you data containing malformed strings, Python, lists and missing data. How do you tidy it up so you can get on with the analysis?\n",
    "\n",
    "Take this monstrosity as the DataFrame to use in the following puzzles:\n",
    "\n",
    "```python\n",
    "df = pd.DataFrame({'From_To': ['LoNDon_paris', 'MAdrid_miLAN', 'londON_StockhOlm', \n",
    "                               'Budapest_PaRis', 'Brussels_londOn'],\n",
    "              'FlightNumber': [10045, np.nan, 10065, np.nan, 10085],\n",
    "              'RecentDelays': [[23, 47], [], [24, 43, 87], [13], [67, 32]],\n",
    "                   'Airline': ['KLM(!)', '<Air France> (12)', '(British Airways. )', \n",
    "                               '12. Air France', '\"Swiss Air\"']})\n",
    "```\n",
    "\n",
    "Formatted, it looks like this:\n",
    "\n",
    "```\n",
    "            From_To  FlightNumber  RecentDelays              Airline\n",
    "0      LoNDon_paris       10045.0      [23, 47]               KLM(!)\n",
    "1      MAdrid_miLAN           NaN            []    <Air France> (12)\n",
    "2  londON_StockhOlm       10065.0  [24, 43, 87]  (British Airways. )\n",
    "3    Budapest_PaRis           NaN          [13]       12. Air France\n",
    "4   Brussels_londOn       10085.0      [67, 32]          \"Swiss Air\"\n",
    "```\n",
    "\n",
    "**1.** Some values in the the **FlightNumber** column are missing (they are `NaN`). These numbers are meant to increase by 10 with each row so 10055 and 10075 need to be put in place. Modify `df` to fill in these missing numbers and make the column an integer column (instead of a float column)."
   ]
  },
  {
   "cell_type": "code",
   "execution_count": 546,
   "metadata": {},
   "outputs": [],
   "source": [
    "df = pd.DataFrame({'From_To': ['LoNDon_paris', 'MAdrid_miLAN', 'londON_StockhOlm', \n",
    "                               'Budapest_PaRis', 'Brussels_londOn'],\n",
    "              'FlightNumber': [10045, np.nan, 10065, np.nan, 10085],\n",
    "              'RecentDelays': [[23, 47], [], [24, 43, 87], [13], [67, 32]],\n",
    "                   'Airline': ['KLM(!)', '<Air France> (12)', '(British Airways. )', \n",
    "                               '12. Air France', '\"Swiss Air\"']})"
   ]
  },
  {
   "cell_type": "code",
   "execution_count": 547,
   "metadata": {},
   "outputs": [
    {
     "data": {
      "text/html": [
       "<div>\n",
       "<style scoped>\n",
       "    .dataframe tbody tr th:only-of-type {\n",
       "        vertical-align: middle;\n",
       "    }\n",
       "\n",
       "    .dataframe tbody tr th {\n",
       "        vertical-align: top;\n",
       "    }\n",
       "\n",
       "    .dataframe thead th {\n",
       "        text-align: right;\n",
       "    }\n",
       "</style>\n",
       "<table border=\"1\" class=\"dataframe\">\n",
       "  <thead>\n",
       "    <tr style=\"text-align: right;\">\n",
       "      <th></th>\n",
       "      <th>From_To</th>\n",
       "      <th>FlightNumber</th>\n",
       "      <th>RecentDelays</th>\n",
       "      <th>Airline</th>\n",
       "    </tr>\n",
       "  </thead>\n",
       "  <tbody>\n",
       "    <tr>\n",
       "      <th>0</th>\n",
       "      <td>LoNDon_paris</td>\n",
       "      <td>10045.0</td>\n",
       "      <td>[23, 47]</td>\n",
       "      <td>KLM(!)</td>\n",
       "    </tr>\n",
       "    <tr>\n",
       "      <th>1</th>\n",
       "      <td>MAdrid_miLAN</td>\n",
       "      <td>10055.0</td>\n",
       "      <td>[]</td>\n",
       "      <td>&lt;Air France&gt; (12)</td>\n",
       "    </tr>\n",
       "    <tr>\n",
       "      <th>2</th>\n",
       "      <td>londON_StockhOlm</td>\n",
       "      <td>10065.0</td>\n",
       "      <td>[24, 43, 87]</td>\n",
       "      <td>(British Airways. )</td>\n",
       "    </tr>\n",
       "    <tr>\n",
       "      <th>3</th>\n",
       "      <td>Budapest_PaRis</td>\n",
       "      <td>10075.0</td>\n",
       "      <td>[13]</td>\n",
       "      <td>12. Air France</td>\n",
       "    </tr>\n",
       "    <tr>\n",
       "      <th>4</th>\n",
       "      <td>Brussels_londOn</td>\n",
       "      <td>10085.0</td>\n",
       "      <td>[67, 32]</td>\n",
       "      <td>\"Swiss Air\"</td>\n",
       "    </tr>\n",
       "  </tbody>\n",
       "</table>\n",
       "</div>"
      ],
      "text/plain": [
       "            From_To  FlightNumber  RecentDelays              Airline\n",
       "0      LoNDon_paris       10045.0      [23, 47]               KLM(!)\n",
       "1      MAdrid_miLAN       10055.0            []    <Air France> (12)\n",
       "2  londON_StockhOlm       10065.0  [24, 43, 87]  (British Airways. )\n",
       "3    Budapest_PaRis       10075.0          [13]       12. Air France\n",
       "4   Brussels_londOn       10085.0      [67, 32]          \"Swiss Air\""
      ]
     },
     "execution_count": 547,
     "metadata": {},
     "output_type": "execute_result"
    }
   ],
   "source": [
    "df = df.interpolate()\n",
    "df"
   ]
  },
  {
   "cell_type": "markdown",
   "metadata": {},
   "source": [
    "# 3.2 column splitting\n",
    "\n",
    "The **From\\_To** column would be better as two separate columns! Split each string on the underscore delimiter `_` to make two new columns `From` and `To` to your dataframe."
   ]
  },
  {
   "cell_type": "code",
   "execution_count": 548,
   "metadata": {},
   "outputs": [
    {
     "data": {
      "text/html": [
       "<div>\n",
       "<style scoped>\n",
       "    .dataframe tbody tr th:only-of-type {\n",
       "        vertical-align: middle;\n",
       "    }\n",
       "\n",
       "    .dataframe tbody tr th {\n",
       "        vertical-align: top;\n",
       "    }\n",
       "\n",
       "    .dataframe thead th {\n",
       "        text-align: right;\n",
       "    }\n",
       "</style>\n",
       "<table border=\"1\" class=\"dataframe\">\n",
       "  <thead>\n",
       "    <tr style=\"text-align: right;\">\n",
       "      <th></th>\n",
       "      <th>From</th>\n",
       "      <th>To</th>\n",
       "      <th>FlightNumber</th>\n",
       "      <th>RecentDelays</th>\n",
       "      <th>Airline</th>\n",
       "    </tr>\n",
       "  </thead>\n",
       "  <tbody>\n",
       "    <tr>\n",
       "      <th>0</th>\n",
       "      <td>LoNDon</td>\n",
       "      <td>paris</td>\n",
       "      <td>10045.0</td>\n",
       "      <td>[23, 47]</td>\n",
       "      <td>KLM(!)</td>\n",
       "    </tr>\n",
       "    <tr>\n",
       "      <th>1</th>\n",
       "      <td>MAdrid</td>\n",
       "      <td>miLAN</td>\n",
       "      <td>10055.0</td>\n",
       "      <td>[]</td>\n",
       "      <td>&lt;Air France&gt; (12)</td>\n",
       "    </tr>\n",
       "    <tr>\n",
       "      <th>2</th>\n",
       "      <td>londON</td>\n",
       "      <td>StockhOlm</td>\n",
       "      <td>10065.0</td>\n",
       "      <td>[24, 43, 87]</td>\n",
       "      <td>(British Airways. )</td>\n",
       "    </tr>\n",
       "    <tr>\n",
       "      <th>3</th>\n",
       "      <td>Budapest</td>\n",
       "      <td>PaRis</td>\n",
       "      <td>10075.0</td>\n",
       "      <td>[13]</td>\n",
       "      <td>12. Air France</td>\n",
       "    </tr>\n",
       "    <tr>\n",
       "      <th>4</th>\n",
       "      <td>Brussels</td>\n",
       "      <td>londOn</td>\n",
       "      <td>10085.0</td>\n",
       "      <td>[67, 32]</td>\n",
       "      <td>\"Swiss Air\"</td>\n",
       "    </tr>\n",
       "  </tbody>\n",
       "</table>\n",
       "</div>"
      ],
      "text/plain": [
       "       From         To  FlightNumber  RecentDelays              Airline\n",
       "0    LoNDon      paris       10045.0      [23, 47]               KLM(!)\n",
       "1    MAdrid      miLAN       10055.0            []    <Air France> (12)\n",
       "2    londON  StockhOlm       10065.0  [24, 43, 87]  (British Airways. )\n",
       "3  Budapest      PaRis       10075.0          [13]       12. Air France\n",
       "4  Brussels     londOn       10085.0      [67, 32]          \"Swiss Air\""
      ]
     },
     "execution_count": 548,
     "metadata": {},
     "output_type": "execute_result"
    }
   ],
   "source": [
    "df[['From','To']] = df.From_To.str.split(\"_\",expand=True,)\n",
    "df.drop('From_To', inplace=True, axis=1) #str.split() w/ expand=True results in a DataFrame. Else would get series\n",
    "cols = df.columns.tolist()\n",
    "cols.insert(0, cols.pop(cols.index('From'))) #insert and pop to move colums around\n",
    "cols.insert(1,cols.pop(cols.index('To')))\n",
    "df = df.reindex(columns=cols)\n",
    "df"
   ]
  },
  {
   "cell_type": "markdown",
   "metadata": {},
   "source": [
    "# 3.3 Clean Text\n",
    "\n",
    "Make the text in your dataframe:\n",
    "\n",
    "- From and To columns should be lowercase with only first letter capitalized\n",
    "\n",
    "- In the **Airline** column, you can see some extra puctuation and symbols have appeared around the airline names. Pull out just the airline name. E.g. `'(British Airways. )'` should become `'British Airways'`."
   ]
  },
  {
   "cell_type": "code",
   "execution_count": 550,
   "metadata": {
    "scrolled": true
   },
   "outputs": [
    {
     "data": {
      "text/html": [
       "<div>\n",
       "<style scoped>\n",
       "    .dataframe tbody tr th:only-of-type {\n",
       "        vertical-align: middle;\n",
       "    }\n",
       "\n",
       "    .dataframe tbody tr th {\n",
       "        vertical-align: top;\n",
       "    }\n",
       "\n",
       "    .dataframe thead th {\n",
       "        text-align: right;\n",
       "    }\n",
       "</style>\n",
       "<table border=\"1\" class=\"dataframe\">\n",
       "  <thead>\n",
       "    <tr style=\"text-align: right;\">\n",
       "      <th></th>\n",
       "      <th>From</th>\n",
       "      <th>To</th>\n",
       "      <th>FlightNumber</th>\n",
       "      <th>RecentDelays</th>\n",
       "      <th>Airline</th>\n",
       "    </tr>\n",
       "  </thead>\n",
       "  <tbody>\n",
       "    <tr>\n",
       "      <th>0</th>\n",
       "      <td>London</td>\n",
       "      <td>Paris</td>\n",
       "      <td>10045.0</td>\n",
       "      <td>[23, 47]</td>\n",
       "      <td>KLM</td>\n",
       "    </tr>\n",
       "    <tr>\n",
       "      <th>1</th>\n",
       "      <td>Madrid</td>\n",
       "      <td>Milan</td>\n",
       "      <td>10055.0</td>\n",
       "      <td>[]</td>\n",
       "      <td>Air France</td>\n",
       "    </tr>\n",
       "    <tr>\n",
       "      <th>2</th>\n",
       "      <td>London</td>\n",
       "      <td>Stockholm</td>\n",
       "      <td>10065.0</td>\n",
       "      <td>[24, 43, 87]</td>\n",
       "      <td>British Airways</td>\n",
       "    </tr>\n",
       "    <tr>\n",
       "      <th>3</th>\n",
       "      <td>Budapest</td>\n",
       "      <td>Paris</td>\n",
       "      <td>10075.0</td>\n",
       "      <td>[13]</td>\n",
       "      <td>Air France</td>\n",
       "    </tr>\n",
       "    <tr>\n",
       "      <th>4</th>\n",
       "      <td>Brussels</td>\n",
       "      <td>London</td>\n",
       "      <td>10085.0</td>\n",
       "      <td>[67, 32]</td>\n",
       "      <td>Swiss Air</td>\n",
       "    </tr>\n",
       "  </tbody>\n",
       "</table>\n",
       "</div>"
      ],
      "text/plain": [
       "       From         To  FlightNumber  RecentDelays              Airline\n",
       "0    London      Paris       10045.0      [23, 47]               KLM   \n",
       "1    Madrid      Milan       10055.0            []     Air France      \n",
       "2    London  Stockholm       10065.0  [24, 43, 87]   British Airways   \n",
       "3  Budapest      Paris       10075.0          [13]           Air France\n",
       "4  Brussels     London       10085.0      [67, 32]           Swiss Air "
      ]
     },
     "execution_count": 550,
     "metadata": {},
     "output_type": "execute_result"
    }
   ],
   "source": [
    "df['From'] = df['From'].str.title()\n",
    "df['To'] = df['To'].str.title()\n",
    "df['Airline'] = df['Airline'].str.replace('[\\d\\W]',' ')\n",
    "df\n"
   ]
  },
  {
   "cell_type": "markdown",
   "metadata": {},
   "source": [
    "# Exercise 4.1: Column Splitting\n",
    "\n",
    "Given the unemployment data in `data/country_total.csv`, split the `month` column into two new columns: a `year` column and a `month` column, both integers"
   ]
  },
  {
   "cell_type": "code",
   "execution_count": 934,
   "metadata": {},
   "outputs": [
    {
     "data": {
      "text/html": [
       "<div>\n",
       "<style scoped>\n",
       "    .dataframe tbody tr th:only-of-type {\n",
       "        vertical-align: middle;\n",
       "    }\n",
       "\n",
       "    .dataframe tbody tr th {\n",
       "        vertical-align: top;\n",
       "    }\n",
       "\n",
       "    .dataframe thead th {\n",
       "        text-align: right;\n",
       "    }\n",
       "</style>\n",
       "<table border=\"1\" class=\"dataframe\">\n",
       "  <thead>\n",
       "    <tr style=\"text-align: right;\">\n",
       "      <th></th>\n",
       "      <th>country</th>\n",
       "      <th>seasonality</th>\n",
       "      <th>month</th>\n",
       "      <th>unemployment</th>\n",
       "      <th>unemployment_rate</th>\n",
       "      <th>year</th>\n",
       "    </tr>\n",
       "  </thead>\n",
       "  <tbody>\n",
       "    <tr>\n",
       "      <th>0</th>\n",
       "      <td>at</td>\n",
       "      <td>nsa</td>\n",
       "      <td>1</td>\n",
       "      <td>171000</td>\n",
       "      <td>4.5</td>\n",
       "      <td>1993</td>\n",
       "    </tr>\n",
       "    <tr>\n",
       "      <th>1</th>\n",
       "      <td>at</td>\n",
       "      <td>nsa</td>\n",
       "      <td>2</td>\n",
       "      <td>175000</td>\n",
       "      <td>4.6</td>\n",
       "      <td>1993</td>\n",
       "    </tr>\n",
       "    <tr>\n",
       "      <th>2</th>\n",
       "      <td>at</td>\n",
       "      <td>nsa</td>\n",
       "      <td>3</td>\n",
       "      <td>166000</td>\n",
       "      <td>4.4</td>\n",
       "      <td>1993</td>\n",
       "    </tr>\n",
       "    <tr>\n",
       "      <th>3</th>\n",
       "      <td>at</td>\n",
       "      <td>nsa</td>\n",
       "      <td>4</td>\n",
       "      <td>157000</td>\n",
       "      <td>4.1</td>\n",
       "      <td>1993</td>\n",
       "    </tr>\n",
       "    <tr>\n",
       "      <th>4</th>\n",
       "      <td>at</td>\n",
       "      <td>nsa</td>\n",
       "      <td>5</td>\n",
       "      <td>147000</td>\n",
       "      <td>3.9</td>\n",
       "      <td>1993</td>\n",
       "    </tr>\n",
       "    <tr>\n",
       "      <th>...</th>\n",
       "      <td>...</td>\n",
       "      <td>...</td>\n",
       "      <td>...</td>\n",
       "      <td>...</td>\n",
       "      <td>...</td>\n",
       "      <td>...</td>\n",
       "    </tr>\n",
       "    <tr>\n",
       "      <th>20791</th>\n",
       "      <td>uk</td>\n",
       "      <td>trend</td>\n",
       "      <td>6</td>\n",
       "      <td>2429000</td>\n",
       "      <td>7.7</td>\n",
       "      <td>2010</td>\n",
       "    </tr>\n",
       "    <tr>\n",
       "      <th>20792</th>\n",
       "      <td>uk</td>\n",
       "      <td>trend</td>\n",
       "      <td>7</td>\n",
       "      <td>2422000</td>\n",
       "      <td>7.7</td>\n",
       "      <td>2010</td>\n",
       "    </tr>\n",
       "    <tr>\n",
       "      <th>20793</th>\n",
       "      <td>uk</td>\n",
       "      <td>trend</td>\n",
       "      <td>8</td>\n",
       "      <td>2429000</td>\n",
       "      <td>7.7</td>\n",
       "      <td>2010</td>\n",
       "    </tr>\n",
       "    <tr>\n",
       "      <th>20794</th>\n",
       "      <td>uk</td>\n",
       "      <td>trend</td>\n",
       "      <td>9</td>\n",
       "      <td>2447000</td>\n",
       "      <td>7.8</td>\n",
       "      <td>2010</td>\n",
       "    </tr>\n",
       "    <tr>\n",
       "      <th>20795</th>\n",
       "      <td>uk</td>\n",
       "      <td>trend</td>\n",
       "      <td>1</td>\n",
       "      <td>2455000</td>\n",
       "      <td>7.8</td>\n",
       "      <td>2010</td>\n",
       "    </tr>\n",
       "  </tbody>\n",
       "</table>\n",
       "<p>20796 rows × 6 columns</p>\n",
       "</div>"
      ],
      "text/plain": [
       "      country seasonality  month  unemployment  unemployment_rate  year\n",
       "0          at         nsa      1        171000                4.5  1993\n",
       "1          at         nsa      2        175000                4.6  1993\n",
       "2          at         nsa      3        166000                4.4  1993\n",
       "3          at         nsa      4        157000                4.1  1993\n",
       "4          at         nsa      5        147000                3.9  1993\n",
       "...       ...         ...    ...           ...                ...   ...\n",
       "20791      uk       trend      6       2429000                7.7  2010\n",
       "20792      uk       trend      7       2422000                7.7  2010\n",
       "20793      uk       trend      8       2429000                7.7  2010\n",
       "20794      uk       trend      9       2447000                7.8  2010\n",
       "20795      uk       trend      1       2455000                7.8  2010\n",
       "\n",
       "[20796 rows x 6 columns]"
      ]
     },
     "execution_count": 934,
     "metadata": {},
     "output_type": "execute_result"
    }
   ],
   "source": [
    "df = pd.read_csv('data/country_total.csv')\n",
    "df['month'] = df['month'].astype(str)\n",
    "df[['year','month']] = df.month.str.split(\".\",expand=True).astype(int)\n",
    "df"
   ]
  },
  {
   "cell_type": "code",
   "execution_count": 936,
   "metadata": {},
   "outputs": [
    {
     "data": {
      "text/plain": [
       "country               object\n",
       "seasonality           object\n",
       "month                  int64\n",
       "unemployment           int64\n",
       "unemployment_rate    float64\n",
       "year                   int64\n",
       "dtype: object"
      ]
     },
     "execution_count": 936,
     "metadata": {},
     "output_type": "execute_result"
    }
   ],
   "source": [
    "df.dtypes #Check that it is int or not"
   ]
  },
  {
   "cell_type": "markdown",
   "metadata": {},
   "source": [
    "# 4.2 Group Statistics\n",
    "\n",
    "Given the unemployment data in `data/country_sex_age.csv`, give the average unemployment rate for:\n",
    "\n",
    "- Each gender\n",
    "- Each Age Group\n",
    "- Both Together\n",
    "\n",
    "**HINT:** The `seasonality` column makes it such that the data is repeated for each method of calculating unemployment (`nsa`, `trend`, etc.). Can you ignore this and group over it? Or should you take the average for each?"
   ]
  },
  {
   "cell_type": "code",
   "execution_count": 1050,
   "metadata": {},
   "outputs": [
    {
     "data": {
      "text/plain": [
       "sex\n",
       "f    12.982629\n",
       "m    11.671026\n",
       "Name: unemployment_rate, dtype: float64"
      ]
     },
     "execution_count": 1050,
     "metadata": {},
     "output_type": "execute_result"
    }
   ],
   "source": [
    "#By sex\n",
    "df = pd.read_csv('data/country_sex_age.csv')\n",
    "df.groupby('sex')['unemployment_rate'].mean() #Need to check if this is right\n",
    "#Might need to take an average of the 3"
   ]
  },
  {
   "cell_type": "code",
   "execution_count": 1051,
   "metadata": {},
   "outputs": [
    {
     "data": {
      "text/plain": [
       "age_group\n",
       "y25-74     6.905394\n",
       "y_lt25    17.774057\n",
       "Name: unemployment_rate, dtype: float64"
      ]
     },
     "execution_count": 1051,
     "metadata": {},
     "output_type": "execute_result"
    }
   ],
   "source": [
    "#By age group\n",
    "df.groupby('age_group')['unemployment_rate'].mean()"
   ]
  },
  {
   "cell_type": "code",
   "execution_count": 1052,
   "metadata": {},
   "outputs": [
    {
     "data": {
      "text/plain": [
       "sex  age_group\n",
       "f    y25-74        7.566771\n",
       "     y_lt25       18.457435\n",
       "m    y25-74        6.244016\n",
       "     y_lt25       17.098036\n",
       "Name: unemployment_rate, dtype: float64"
      ]
     },
     "execution_count": 1052,
     "metadata": {},
     "output_type": "execute_result"
    }
   ],
   "source": [
    "#By sex & age\n",
    "df.groupby(['sex', 'age_group'])['unemployment_rate'].mean()"
   ]
  },
  {
   "cell_type": "code",
   "execution_count": 1053,
   "metadata": {},
   "outputs": [
    {
     "data": {
      "text/plain": [
       "sex  age_group  seasonality\n",
       "f    y25-74     nsa             7.539839\n",
       "                sa              7.579982\n",
       "                trend           7.579934\n",
       "     y_lt25     nsa            18.818593\n",
       "                sa             18.323837\n",
       "                trend          18.231025\n",
       "m    y25-74     nsa             6.201653\n",
       "                sa              6.256909\n",
       "                trend           6.272703\n",
       "     y_lt25     nsa            17.215211\n",
       "                sa             17.067671\n",
       "                trend          17.013327\n",
       "Name: unemployment_rate, dtype: float64"
      ]
     },
     "execution_count": 1053,
     "metadata": {},
     "output_type": "execute_result"
    }
   ],
   "source": [
    "#By sex, age & seasonality\n",
    "df.groupby(['sex', 'age_group', 'seasonality'])['unemployment_rate'].mean()\n",
    "#seasonality does have an impact on results and we should consider it's impact"
   ]
  },
  {
   "cell_type": "markdown",
   "metadata": {},
   "source": [
    "# 4.3 Estimating group size\n",
    "\n",
    "Given that we have the unemployment **rate** as a % of total population, and the number of total unemployed, we can estimate the total population.\n",
    "\n",
    "Give an estimate of the total population for men and women in each age group.\n",
    "\n",
    "Does this change depending on the unemployment seasonality calculation method?"
   ]
  },
  {
   "cell_type": "code",
   "execution_count": 1054,
   "metadata": {
    "scrolled": true
   },
   "outputs": [
    {
     "data": {
      "text/plain": [
       "sex  age_group\n",
       "f    y25-74       3.220602e+06\n",
       "     y_lt25       5.665826e+05\n",
       "m    y25-74       4.357668e+06\n",
       "     y_lt25       6.679826e+05\n",
       "Name: total_population, dtype: float64"
      ]
     },
     "execution_count": 1054,
     "metadata": {},
     "output_type": "execute_result"
    }
   ],
   "source": [
    "df['total_population'] = (df['unemployment'] * 100)/(df['unemployment_rate'])\n",
    "df.groupby(['sex', 'age_group'])['total_population'].mean()"
   ]
  },
  {
   "cell_type": "code",
   "execution_count": 1055,
   "metadata": {},
   "outputs": [
    {
     "data": {
      "text/plain": [
       "seasonality\n",
       "nsa      2.069865e+06\n",
       "sa       2.298884e+06\n",
       "trend    2.251533e+06\n",
       "Name: total_population, dtype: float64"
      ]
     },
     "execution_count": 1055,
     "metadata": {},
     "output_type": "execute_result"
    }
   ],
   "source": [
    "df.groupby('seasonality')['total_population'].mean()\n",
    "#Seasonality impacts unemployment level calculations and will impact our population estimates"
   ]
  },
  {
   "cell_type": "markdown",
   "metadata": {},
   "source": [
    "# 5.1 Tennis\n",
    "\n",
    "In `data/tennis.csv` you have games that Roger Federer played against various opponents. Questions:\n",
    "\n",
    "1. How many games did Federer win?\n",
    "\n",
    "2. What is Federer's win/loss ratio?\n",
    "\n",
    "3. Who were Federer's top 5 opponents?"
   ]
  },
  {
   "cell_type": "code",
   "execution_count": 86,
   "metadata": {},
   "outputs": [
    {
     "data": {
      "text/html": [
       "<div>\n",
       "<style scoped>\n",
       "    .dataframe tbody tr th:only-of-type {\n",
       "        vertical-align: middle;\n",
       "    }\n",
       "\n",
       "    .dataframe tbody tr th {\n",
       "        vertical-align: top;\n",
       "    }\n",
       "\n",
       "    .dataframe thead th {\n",
       "        text-align: right;\n",
       "    }\n",
       "</style>\n",
       "<table border=\"1\" class=\"dataframe\">\n",
       "  <thead>\n",
       "    <tr style=\"text-align: right;\">\n",
       "      <th></th>\n",
       "      <th>year</th>\n",
       "      <th>tournament</th>\n",
       "      <th>start date</th>\n",
       "      <th>type</th>\n",
       "      <th>surface</th>\n",
       "      <th>draw</th>\n",
       "      <th>atp points</th>\n",
       "      <th>atp ranking</th>\n",
       "      <th>tournament prize money</th>\n",
       "      <th>round</th>\n",
       "      <th>opponent</th>\n",
       "      <th>ranking</th>\n",
       "      <th>score</th>\n",
       "      <th>stats link</th>\n",
       "      <th>tournament.1</th>\n",
       "      <th>tournament round</th>\n",
       "      <th>time</th>\n",
       "      <th>winner</th>\n",
       "      <th>player1 name</th>\n",
       "      <th>player1 nationality</th>\n",
       "      <th>player1 aces</th>\n",
       "      <th>player1 double faults</th>\n",
       "      <th>player1 1st serves in</th>\n",
       "      <th>player1 1st serves total</th>\n",
       "      <th>player1 1st serve points won</th>\n",
       "      <th>player1 1st serve points total</th>\n",
       "      <th>player1 2nd serve points won</th>\n",
       "      <th>player1 2nd serve points total</th>\n",
       "      <th>player1 break points won</th>\n",
       "      <th>player1 break points total</th>\n",
       "      <th>player1 service games played</th>\n",
       "      <th>player1 1st serve return points won</th>\n",
       "      <th>player1 1st serve return points total</th>\n",
       "      <th>player1 2nd serve return points won</th>\n",
       "      <th>player1 2nd serve return points total</th>\n",
       "      <th>player1 break points converted won</th>\n",
       "      <th>player1 break points converted total</th>\n",
       "      <th>player1 return games played</th>\n",
       "      <th>player1 total service points won</th>\n",
       "      <th>player1 total service points total</th>\n",
       "      <th>player1 total return points won</th>\n",
       "      <th>player1 total return points total</th>\n",
       "      <th>player1 total points won</th>\n",
       "      <th>player1 total points total</th>\n",
       "      <th>player2 name</th>\n",
       "      <th>player2 nationality</th>\n",
       "      <th>player2 aces</th>\n",
       "      <th>player2 double faults</th>\n",
       "      <th>player2 1st serves in</th>\n",
       "      <th>player2 1st serves total</th>\n",
       "      <th>player2 1st serve points won</th>\n",
       "      <th>player2 1st serve points total</th>\n",
       "      <th>player2 2nd serve points won</th>\n",
       "      <th>player2 2nd serve points total</th>\n",
       "      <th>player2 break points won</th>\n",
       "      <th>player2 break points total</th>\n",
       "      <th>player2 service games played</th>\n",
       "      <th>player2 1st serve return points won</th>\n",
       "      <th>player2 1st serve return points total</th>\n",
       "      <th>player2 2nd serve return points won</th>\n",
       "      <th>player2 2nd serve return points total</th>\n",
       "      <th>player2 break points converted won</th>\n",
       "      <th>player2 break points converted total</th>\n",
       "      <th>player2 return games played</th>\n",
       "      <th>player2 total service points won</th>\n",
       "      <th>player2 total service points total</th>\n",
       "      <th>player2 total return points won</th>\n",
       "      <th>player2 total return points total</th>\n",
       "      <th>player2 total points won</th>\n",
       "      <th>player2 total points total</th>\n",
       "      <th>win</th>\n",
       "    </tr>\n",
       "  </thead>\n",
       "  <tbody>\n",
       "    <tr>\n",
       "      <th>637</th>\n",
       "      <td>2006</td>\n",
       "      <td>Dubai, U.A.E.</td>\n",
       "      <td>2006-02-27</td>\n",
       "      <td>CS</td>\n",
       "      <td>Outdoor: Hard</td>\n",
       "      <td>Draw: 32</td>\n",
       "      <td>210</td>\n",
       "      <td>1.0</td>\n",
       "      <td>$98,600</td>\n",
       "      <td>Q</td>\n",
       "      <td>Robin Vik (CZE)</td>\n",
       "      <td>75</td>\n",
       "      <td>W 6-3, 6-2</td>\n",
       "      <td>http://www.atpworldtour.com/Share/Match-Facts-...</td>\n",
       "      <td>Dubai</td>\n",
       "      <td>Q</td>\n",
       "      <td>58</td>\n",
       "      <td>Roger Federer</td>\n",
       "      <td>Roger Federer</td>\n",
       "      <td>Switzerland</td>\n",
       "      <td>8.0</td>\n",
       "      <td>1.0</td>\n",
       "      <td>40.0</td>\n",
       "      <td>56.0</td>\n",
       "      <td>31.0</td>\n",
       "      <td>40.0</td>\n",
       "      <td>8.0</td>\n",
       "      <td>16.0</td>\n",
       "      <td>5.0</td>\n",
       "      <td>6.0</td>\n",
       "      <td>9.0</td>\n",
       "      <td>9.0</td>\n",
       "      <td>27.0</td>\n",
       "      <td>11.0</td>\n",
       "      <td>17.0</td>\n",
       "      <td>4.0</td>\n",
       "      <td>6.0</td>\n",
       "      <td>8.0</td>\n",
       "      <td>39.0</td>\n",
       "      <td>56.0</td>\n",
       "      <td>20.0</td>\n",
       "      <td>44.0</td>\n",
       "      <td>59.0</td>\n",
       "      <td>100.0</td>\n",
       "      <td>Robin Vik</td>\n",
       "      <td>Czech Republic</td>\n",
       "      <td>2.0</td>\n",
       "      <td>2.0</td>\n",
       "      <td>27.0</td>\n",
       "      <td>44.0</td>\n",
       "      <td>18.0</td>\n",
       "      <td>27.0</td>\n",
       "      <td>6.0</td>\n",
       "      <td>17.0</td>\n",
       "      <td>2.0</td>\n",
       "      <td>6.0</td>\n",
       "      <td>8.0</td>\n",
       "      <td>9.0</td>\n",
       "      <td>40.0</td>\n",
       "      <td>8.0</td>\n",
       "      <td>16.0</td>\n",
       "      <td>1.0</td>\n",
       "      <td>6.0</td>\n",
       "      <td>9.0</td>\n",
       "      <td>24.0</td>\n",
       "      <td>44.0</td>\n",
       "      <td>17.0</td>\n",
       "      <td>56.0</td>\n",
       "      <td>41.0</td>\n",
       "      <td>100.0</td>\n",
       "      <td>True</td>\n",
       "    </tr>\n",
       "    <tr>\n",
       "      <th>1032</th>\n",
       "      <td>2011</td>\n",
       "      <td>SUI vs. POR EAG 1 2nd RD, Switzerland</td>\n",
       "      <td>2011-07-08</td>\n",
       "      <td>DC</td>\n",
       "      <td>Indoor: Hard</td>\n",
       "      <td>Draw: 4</td>\n",
       "      <td>NaN</td>\n",
       "      <td>3.0</td>\n",
       "      <td>$</td>\n",
       "      <td>RR</td>\n",
       "      <td>Rui Machado (POR)</td>\n",
       "      <td>93</td>\n",
       "      <td>W 5-7, 6-3, 6-4, 6-2</td>\n",
       "      <td>http://www.atpworldtour.com/Share/Match-Facts-...</td>\n",
       "      <td>SUI vs. POR EAG 1 2nd RD</td>\n",
       "      <td>RR</td>\n",
       "      <td>0</td>\n",
       "      <td>Roger Federer</td>\n",
       "      <td>Roger Federer</td>\n",
       "      <td>Switzerland</td>\n",
       "      <td>NaN</td>\n",
       "      <td>NaN</td>\n",
       "      <td>NaN</td>\n",
       "      <td>NaN</td>\n",
       "      <td>NaN</td>\n",
       "      <td>NaN</td>\n",
       "      <td>NaN</td>\n",
       "      <td>NaN</td>\n",
       "      <td>NaN</td>\n",
       "      <td>NaN</td>\n",
       "      <td>NaN</td>\n",
       "      <td>NaN</td>\n",
       "      <td>NaN</td>\n",
       "      <td>NaN</td>\n",
       "      <td>NaN</td>\n",
       "      <td>NaN</td>\n",
       "      <td>NaN</td>\n",
       "      <td>NaN</td>\n",
       "      <td>NaN</td>\n",
       "      <td>NaN</td>\n",
       "      <td>NaN</td>\n",
       "      <td>NaN</td>\n",
       "      <td>NaN</td>\n",
       "      <td>NaN</td>\n",
       "      <td>Rui Machado</td>\n",
       "      <td>Portugal</td>\n",
       "      <td>NaN</td>\n",
       "      <td>NaN</td>\n",
       "      <td>NaN</td>\n",
       "      <td>NaN</td>\n",
       "      <td>NaN</td>\n",
       "      <td>NaN</td>\n",
       "      <td>NaN</td>\n",
       "      <td>NaN</td>\n",
       "      <td>NaN</td>\n",
       "      <td>NaN</td>\n",
       "      <td>NaN</td>\n",
       "      <td>NaN</td>\n",
       "      <td>NaN</td>\n",
       "      <td>NaN</td>\n",
       "      <td>NaN</td>\n",
       "      <td>NaN</td>\n",
       "      <td>NaN</td>\n",
       "      <td>NaN</td>\n",
       "      <td>NaN</td>\n",
       "      <td>NaN</td>\n",
       "      <td>NaN</td>\n",
       "      <td>NaN</td>\n",
       "      <td>NaN</td>\n",
       "      <td>NaN</td>\n",
       "      <td>True</td>\n",
       "    </tr>\n",
       "    <tr>\n",
       "      <th>1051</th>\n",
       "      <td>2011</td>\n",
       "      <td>ATP World Tour Masters 1000 Madrid, Spain</td>\n",
       "      <td>2011-05-01</td>\n",
       "      <td>1000</td>\n",
       "      <td>Outdoor: Clay</td>\n",
       "      <td>Draw: 56</td>\n",
       "      <td>360</td>\n",
       "      <td>3.0</td>\n",
       "      <td>133,000</td>\n",
       "      <td>Q</td>\n",
       "      <td>Robin Soderling (SWE)</td>\n",
       "      <td>5</td>\n",
       "      <td>W 7-6(2), 6-4</td>\n",
       "      <td>http://www.atpworldtour.com/Share/Match-Facts-...</td>\n",
       "      <td>ATP World Tour Masters 1000 Madrid</td>\n",
       "      <td>Q</td>\n",
       "      <td>103</td>\n",
       "      <td>Roger Federer</td>\n",
       "      <td>Roger Federer</td>\n",
       "      <td>Switzerland</td>\n",
       "      <td>8.0</td>\n",
       "      <td>2.0</td>\n",
       "      <td>44.0</td>\n",
       "      <td>73.0</td>\n",
       "      <td>34.0</td>\n",
       "      <td>44.0</td>\n",
       "      <td>19.0</td>\n",
       "      <td>29.0</td>\n",
       "      <td>2.0</td>\n",
       "      <td>2.0</td>\n",
       "      <td>11.0</td>\n",
       "      <td>9.0</td>\n",
       "      <td>41.0</td>\n",
       "      <td>18.0</td>\n",
       "      <td>36.0</td>\n",
       "      <td>1.0</td>\n",
       "      <td>6.0</td>\n",
       "      <td>11.0</td>\n",
       "      <td>53.0</td>\n",
       "      <td>73.0</td>\n",
       "      <td>27.0</td>\n",
       "      <td>77.0</td>\n",
       "      <td>80.0</td>\n",
       "      <td>150.0</td>\n",
       "      <td>Robin Soderling</td>\n",
       "      <td>Sweden</td>\n",
       "      <td>8.0</td>\n",
       "      <td>5.0</td>\n",
       "      <td>41.0</td>\n",
       "      <td>77.0</td>\n",
       "      <td>32.0</td>\n",
       "      <td>41.0</td>\n",
       "      <td>18.0</td>\n",
       "      <td>36.0</td>\n",
       "      <td>5.0</td>\n",
       "      <td>6.0</td>\n",
       "      <td>11.0</td>\n",
       "      <td>10.0</td>\n",
       "      <td>44.0</td>\n",
       "      <td>10.0</td>\n",
       "      <td>29.0</td>\n",
       "      <td>0.0</td>\n",
       "      <td>2.0</td>\n",
       "      <td>11.0</td>\n",
       "      <td>50.0</td>\n",
       "      <td>77.0</td>\n",
       "      <td>20.0</td>\n",
       "      <td>73.0</td>\n",
       "      <td>70.0</td>\n",
       "      <td>150.0</td>\n",
       "      <td>True</td>\n",
       "    </tr>\n",
       "    <tr>\n",
       "      <th>983</th>\n",
       "      <td>2010</td>\n",
       "      <td>ATP World Tour Masters 1000 Miami, FL, U.S.A.</td>\n",
       "      <td>2010-03-24</td>\n",
       "      <td>1000</td>\n",
       "      <td>Outdoor: Hard</td>\n",
       "      <td>Draw: 96</td>\n",
       "      <td>90</td>\n",
       "      <td>1.0</td>\n",
       "      <td>$39,800</td>\n",
       "      <td>R128</td>\n",
       "      <td>Bye</td>\n",
       "      <td>NaN</td>\n",
       "      <td>W</td>\n",
       "      <td>http://www.atpworldtour.com/Share/Match-Facts-...</td>\n",
       "      <td>ATP World Tour Masters 1000 Miami</td>\n",
       "      <td>R128</td>\n",
       "      <td>0</td>\n",
       "      <td>Roger Federer</td>\n",
       "      <td>Roger Federer</td>\n",
       "      <td>Switzerland</td>\n",
       "      <td>NaN</td>\n",
       "      <td>NaN</td>\n",
       "      <td>NaN</td>\n",
       "      <td>NaN</td>\n",
       "      <td>NaN</td>\n",
       "      <td>NaN</td>\n",
       "      <td>NaN</td>\n",
       "      <td>NaN</td>\n",
       "      <td>NaN</td>\n",
       "      <td>NaN</td>\n",
       "      <td>NaN</td>\n",
       "      <td>NaN</td>\n",
       "      <td>NaN</td>\n",
       "      <td>NaN</td>\n",
       "      <td>NaN</td>\n",
       "      <td>NaN</td>\n",
       "      <td>NaN</td>\n",
       "      <td>NaN</td>\n",
       "      <td>NaN</td>\n",
       "      <td>NaN</td>\n",
       "      <td>NaN</td>\n",
       "      <td>NaN</td>\n",
       "      <td>NaN</td>\n",
       "      <td>NaN</td>\n",
       "      <td>N/A Bye</td>\n",
       "      <td>NaN</td>\n",
       "      <td>NaN</td>\n",
       "      <td>NaN</td>\n",
       "      <td>NaN</td>\n",
       "      <td>NaN</td>\n",
       "      <td>NaN</td>\n",
       "      <td>NaN</td>\n",
       "      <td>NaN</td>\n",
       "      <td>NaN</td>\n",
       "      <td>NaN</td>\n",
       "      <td>NaN</td>\n",
       "      <td>NaN</td>\n",
       "      <td>NaN</td>\n",
       "      <td>NaN</td>\n",
       "      <td>NaN</td>\n",
       "      <td>NaN</td>\n",
       "      <td>NaN</td>\n",
       "      <td>NaN</td>\n",
       "      <td>NaN</td>\n",
       "      <td>NaN</td>\n",
       "      <td>NaN</td>\n",
       "      <td>NaN</td>\n",
       "      <td>NaN</td>\n",
       "      <td>NaN</td>\n",
       "      <td>NaN</td>\n",
       "      <td>True</td>\n",
       "    </tr>\n",
       "  </tbody>\n",
       "</table>\n",
       "</div>"
      ],
      "text/plain": [
       "      year                                     tournament  start date  type  \\\n",
       "637   2006                                  Dubai, U.A.E.  2006-02-27    CS   \n",
       "1032  2011          SUI vs. POR EAG 1 2nd RD, Switzerland  2011-07-08    DC   \n",
       "1051  2011      ATP World Tour Masters 1000 Madrid, Spain  2011-05-01  1000   \n",
       "983   2010  ATP World Tour Masters 1000 Miami, FL, U.S.A.  2010-03-24  1000   \n",
       "\n",
       "            surface      draw atp points  atp ranking tournament prize money  \\\n",
       "637   Outdoor: Hard  Draw: 32        210          1.0                $98,600   \n",
       "1032   Indoor: Hard   Draw: 4        NaN          3.0                      $   \n",
       "1051  Outdoor: Clay  Draw: 56        360          3.0                133,000   \n",
       "983   Outdoor: Hard  Draw: 96         90          1.0                $39,800   \n",
       "\n",
       "     round               opponent ranking                 score  \\\n",
       "637      Q        Robin Vik (CZE)      75            W 6-3, 6-2   \n",
       "1032    RR      Rui Machado (POR)      93  W 5-7, 6-3, 6-4, 6-2   \n",
       "1051     Q  Robin Soderling (SWE)       5         W 7-6(2), 6-4   \n",
       "983   R128                    Bye     NaN                    W    \n",
       "\n",
       "                                             stats link  \\\n",
       "637   http://www.atpworldtour.com/Share/Match-Facts-...   \n",
       "1032  http://www.atpworldtour.com/Share/Match-Facts-...   \n",
       "1051  http://www.atpworldtour.com/Share/Match-Facts-...   \n",
       "983   http://www.atpworldtour.com/Share/Match-Facts-...   \n",
       "\n",
       "                            tournament.1 tournament round  time  \\\n",
       "637                                Dubai                Q    58   \n",
       "1032            SUI vs. POR EAG 1 2nd RD               RR     0   \n",
       "1051  ATP World Tour Masters 1000 Madrid                Q   103   \n",
       "983    ATP World Tour Masters 1000 Miami             R128     0   \n",
       "\n",
       "             winner   player1 name player1 nationality  player1 aces  \\\n",
       "637   Roger Federer  Roger Federer         Switzerland           8.0   \n",
       "1032  Roger Federer  Roger Federer         Switzerland           NaN   \n",
       "1051  Roger Federer  Roger Federer         Switzerland           8.0   \n",
       "983   Roger Federer  Roger Federer         Switzerland           NaN   \n",
       "\n",
       "      player1 double faults  player1 1st serves in  player1 1st serves total  \\\n",
       "637                     1.0                   40.0                      56.0   \n",
       "1032                    NaN                    NaN                       NaN   \n",
       "1051                    2.0                   44.0                      73.0   \n",
       "983                     NaN                    NaN                       NaN   \n",
       "\n",
       "      player1 1st serve points won  player1 1st serve points total  \\\n",
       "637                           31.0                            40.0   \n",
       "1032                           NaN                             NaN   \n",
       "1051                          34.0                            44.0   \n",
       "983                            NaN                             NaN   \n",
       "\n",
       "      player1 2nd serve points won  player1 2nd serve points total  \\\n",
       "637                            8.0                            16.0   \n",
       "1032                           NaN                             NaN   \n",
       "1051                          19.0                            29.0   \n",
       "983                            NaN                             NaN   \n",
       "\n",
       "      player1 break points won  player1 break points total  \\\n",
       "637                        5.0                         6.0   \n",
       "1032                       NaN                         NaN   \n",
       "1051                       2.0                         2.0   \n",
       "983                        NaN                         NaN   \n",
       "\n",
       "      player1 service games played  player1 1st serve return points won  \\\n",
       "637                            9.0                                  9.0   \n",
       "1032                           NaN                                  NaN   \n",
       "1051                          11.0                                  9.0   \n",
       "983                            NaN                                  NaN   \n",
       "\n",
       "      player1 1st serve return points total  \\\n",
       "637                                    27.0   \n",
       "1032                                    NaN   \n",
       "1051                                   41.0   \n",
       "983                                     NaN   \n",
       "\n",
       "      player1 2nd serve return points won  \\\n",
       "637                                  11.0   \n",
       "1032                                  NaN   \n",
       "1051                                 18.0   \n",
       "983                                   NaN   \n",
       "\n",
       "      player1 2nd serve return points total  \\\n",
       "637                                    17.0   \n",
       "1032                                    NaN   \n",
       "1051                                   36.0   \n",
       "983                                     NaN   \n",
       "\n",
       "      player1 break points converted won  \\\n",
       "637                                  4.0   \n",
       "1032                                 NaN   \n",
       "1051                                 1.0   \n",
       "983                                  NaN   \n",
       "\n",
       "      player1 break points converted total  player1 return games played  \\\n",
       "637                                    6.0                          8.0   \n",
       "1032                                   NaN                          NaN   \n",
       "1051                                   6.0                         11.0   \n",
       "983                                    NaN                          NaN   \n",
       "\n",
       "      player1 total service points won  player1 total service points total  \\\n",
       "637                               39.0                                56.0   \n",
       "1032                               NaN                                 NaN   \n",
       "1051                              53.0                                73.0   \n",
       "983                                NaN                                 NaN   \n",
       "\n",
       "      player1 total return points won  player1 total return points total  \\\n",
       "637                              20.0                               44.0   \n",
       "1032                              NaN                                NaN   \n",
       "1051                             27.0                               77.0   \n",
       "983                               NaN                                NaN   \n",
       "\n",
       "      player1 total points won  player1 total points total     player2 name  \\\n",
       "637                       59.0                       100.0        Robin Vik   \n",
       "1032                       NaN                         NaN      Rui Machado   \n",
       "1051                      80.0                       150.0  Robin Soderling   \n",
       "983                        NaN                         NaN          N/A Bye   \n",
       "\n",
       "     player2 nationality  player2 aces  player2 double faults  \\\n",
       "637       Czech Republic           2.0                    2.0   \n",
       "1032            Portugal           NaN                    NaN   \n",
       "1051              Sweden           8.0                    5.0   \n",
       "983                  NaN           NaN                    NaN   \n",
       "\n",
       "      player2 1st serves in  player2 1st serves total  \\\n",
       "637                    27.0                      44.0   \n",
       "1032                    NaN                       NaN   \n",
       "1051                   41.0                      77.0   \n",
       "983                     NaN                       NaN   \n",
       "\n",
       "      player2 1st serve points won  player2 1st serve points total  \\\n",
       "637                           18.0                            27.0   \n",
       "1032                           NaN                             NaN   \n",
       "1051                          32.0                            41.0   \n",
       "983                            NaN                             NaN   \n",
       "\n",
       "      player2 2nd serve points won  player2 2nd serve points total  \\\n",
       "637                            6.0                            17.0   \n",
       "1032                           NaN                             NaN   \n",
       "1051                          18.0                            36.0   \n",
       "983                            NaN                             NaN   \n",
       "\n",
       "      player2 break points won  player2 break points total  \\\n",
       "637                        2.0                         6.0   \n",
       "1032                       NaN                         NaN   \n",
       "1051                       5.0                         6.0   \n",
       "983                        NaN                         NaN   \n",
       "\n",
       "      player2 service games played  player2 1st serve return points won  \\\n",
       "637                            8.0                                  9.0   \n",
       "1032                           NaN                                  NaN   \n",
       "1051                          11.0                                 10.0   \n",
       "983                            NaN                                  NaN   \n",
       "\n",
       "      player2 1st serve return points total  \\\n",
       "637                                    40.0   \n",
       "1032                                    NaN   \n",
       "1051                                   44.0   \n",
       "983                                     NaN   \n",
       "\n",
       "      player2 2nd serve return points won  \\\n",
       "637                                   8.0   \n",
       "1032                                  NaN   \n",
       "1051                                 10.0   \n",
       "983                                   NaN   \n",
       "\n",
       "      player2 2nd serve return points total  \\\n",
       "637                                    16.0   \n",
       "1032                                    NaN   \n",
       "1051                                   29.0   \n",
       "983                                     NaN   \n",
       "\n",
       "      player2 break points converted won  \\\n",
       "637                                  1.0   \n",
       "1032                                 NaN   \n",
       "1051                                 0.0   \n",
       "983                                  NaN   \n",
       "\n",
       "      player2 break points converted total  player2 return games played  \\\n",
       "637                                    6.0                          9.0   \n",
       "1032                                   NaN                          NaN   \n",
       "1051                                   2.0                         11.0   \n",
       "983                                    NaN                          NaN   \n",
       "\n",
       "      player2 total service points won  player2 total service points total  \\\n",
       "637                               24.0                                44.0   \n",
       "1032                               NaN                                 NaN   \n",
       "1051                              50.0                                77.0   \n",
       "983                                NaN                                 NaN   \n",
       "\n",
       "      player2 total return points won  player2 total return points total  \\\n",
       "637                              17.0                               56.0   \n",
       "1032                              NaN                                NaN   \n",
       "1051                             20.0                               73.0   \n",
       "983                               NaN                                NaN   \n",
       "\n",
       "      player2 total points won  player2 total points total   win  \n",
       "637                       41.0                       100.0  True  \n",
       "1032                       NaN                         NaN  True  \n",
       "1051                      70.0                       150.0  True  \n",
       "983                        NaN                         NaN  True  "
      ]
     },
     "execution_count": 86,
     "metadata": {},
     "output_type": "execute_result"
    }
   ],
   "source": [
    "df = pd.read_csv('data/tennis.csv')\n",
    "pd.set_option('display.max_columns', None)\n",
    "df.sample(4)"
   ]
  },
  {
   "cell_type": "code",
   "execution_count": 87,
   "metadata": {},
   "outputs": [
    {
     "data": {
      "text/plain": [
       "2"
      ]
     },
     "execution_count": 87,
     "metadata": {},
     "output_type": "execute_result"
    }
   ],
   "source": [
    "True + True"
   ]
  },
  {
   "cell_type": "code",
   "execution_count": 88,
   "metadata": {},
   "outputs": [],
   "source": [
    "#df.win returns series of bools.\n",
    "#since True + True = 2, can .sum() to get sum of Roger's wins"
   ]
  },
  {
   "cell_type": "code",
   "execution_count": 89,
   "metadata": {},
   "outputs": [
    {
     "name": "stdout",
     "output_type": "stream",
     "text": [
      "Roger Federer had 972 wins\n"
     ]
    }
   ],
   "source": [
    "#1.How many games did Federer win?\n",
    "roger_win = df.win.sum()\n",
    "print(f\"Roger Federer had {roger_win} wins\")"
   ]
  },
  {
   "cell_type": "code",
   "execution_count": 90,
   "metadata": {},
   "outputs": [
    {
     "name": "stdout",
     "output_type": "stream",
     "text": [
      "Roger Federer has a win-loss ratio of: 4.696\n"
     ]
    }
   ],
   "source": [
    "#2.What is Federer's win/loss ratio?\n",
    "win_loss_ratio = np.round(len(df[df['win'] == True]) / len(df[df['win'] != True]),3)\n",
    "print(f\"Roger Federer has a win-loss ratio of: {win_loss_ratio}\")"
   ]
  },
  {
   "cell_type": "code",
   "execution_count": 91,
   "metadata": {},
   "outputs": [
    {
     "data": {
      "text/plain": [
       "4.6957"
      ]
     },
     "execution_count": 91,
     "metadata": {},
     "output_type": "execute_result"
    }
   ],
   "source": [
    "#2.1 (alternative way since the whold df is about Roger Federer)\n",
    "np.round(df.win.sum() / sum(df.win==False), 4)"
   ]
  },
  {
   "cell_type": "code",
   "execution_count": 92,
   "metadata": {
    "scrolled": true
   },
   "outputs": [
    {
     "name": "stdout",
     "output_type": "stream",
     "text": [
      "The top 5 opponents are: Rafael Nadal (ESP), Novak Djokovic (SRB), Andy Murray (GBR), Lleyton Hewitt (AUS), David Nalbandian (ARG)\n"
     ]
    }
   ],
   "source": [
    "#3. Who were Federer's top 5 opponents?\n",
    "top_5 = df[df.win==False].groupby('opponent').win.count().sort_values(ascending=False).head(5).index.tolist()\n",
    "print(f\"The top 5 opponents are: {', '.join(top_5)}\")\n",
    "\n",
    "#Filter out Roger's wins, groupby opponents, count each of their wins and look at the ones that \n",
    "# won the most games against him by sorting in decreasing order and pulling out the 5 top ones"
   ]
  },
  {
   "cell_type": "code",
   "execution_count": 93,
   "metadata": {},
   "outputs": [
    {
     "data": {
      "text/plain": [
       "opponent\n",
       "Rafael Nadal (ESP)        18\n",
       "Novak Djokovic (SRB)      13\n",
       "Andy Murray (GBR)         10\n",
       "Lleyton Hewitt (AUS)       8\n",
       "David Nalbandian (ARG)     8\n",
       "Name: win, dtype: int64"
      ]
     },
     "execution_count": 93,
     "metadata": {},
     "output_type": "execute_result"
    }
   ],
   "source": [
    "df[df.win==False].groupby('opponent').win.count().sort_values(ascending=False).head(5)\n"
   ]
  },
  {
   "cell_type": "markdown",
   "metadata": {},
   "source": [
    "# 5.2 Over time\n",
    "\n",
    "1. What was Federer's best year? In terms of money, and then in terms of number of wins\n",
    "\n",
    "2. Did Federer get better or worse over time?"
   ]
  },
  {
   "cell_type": "markdown",
   "metadata": {},
   "source": [
    "# Answers:\n",
    "\n",
    "1.What was Federer's best year? In terms of money, and then in terms of number of wins\n",
    "\n",
    "2.Did Federer get better or worse over time?\n",
    "\n",
    "1. In terms of money, his best year was 2007, in terms of win it was 2006. \n",
    "2. Money-wise, he peaked in 2007 then money went down. In terms of wins, he peaked in 2006 then got a bit worse and slightly gained more wins after that but not near his peak. \n"
   ]
  },
  {
   "cell_type": "code",
   "execution_count": 100,
   "metadata": {},
   "outputs": [
    {
     "data": {
      "text/plain": [
       "str"
      ]
     },
     "execution_count": 100,
     "metadata": {},
     "output_type": "execute_result"
    }
   ],
   "source": [
    "type(df['tournament prize money'][0])"
   ]
  },
  {
   "cell_type": "code",
   "execution_count": 108,
   "metadata": {},
   "outputs": [
    {
     "name": "stdout",
     "output_type": "stream",
     "text": [
      "Federer's best year in terms of money is 2007\n"
     ]
    }
   ],
   "source": [
    "#In terms of money: 2007\n",
    "\n",
    "#Remove any other symboles than number-need to comment out because once done, raises error\n",
    "#df['tournament prize money'] = df['tournament prize money'].str.replace('[^0-9]','')\n",
    "\n",
    "#convert the string number into a float\n",
    "df['tournament prize money'] = df['tournament prize money'].replace('[a-zA-Z\\$,]', '',\n",
    "                                                                    regex=True).replace('',0).astype(float)\n",
    "\n",
    "#need to make sure he won the tournament and got the money\n",
    "yearly_money = df[df['win']==True].groupby('year')['tournament prize money'].sum().idxmax()\n",
    "\n",
    "print(f\"Federer's best year in terms of money is {yearly_money}\")"
   ]
  },
  {
   "cell_type": "code",
   "execution_count": 109,
   "metadata": {},
   "outputs": [
    {
     "name": "stdout",
     "output_type": "stream",
     "text": [
      "Federer's best year in terms of money is 2006\n"
     ]
    }
   ],
   "source": [
    "#Best year in terms of win: 2006\n",
    "win_series = df[df['win'] == True].groupby('year')['win'].count().idxmax()\n",
    "print(f\"Federer's best year in terms of money is {win_series}\")\n"
   ]
  },
  {
   "cell_type": "markdown",
   "metadata": {},
   "source": [
    "# 5.3 Total money won\n",
    "\n",
    "In the data, you'll find the `tournament round`, one value of which, `F` indicates the final.\n",
    "\n",
    "Assuming Federer wins the money in the `tournament prize money` if he wins a final in a tournament, how much money has Federer made in tournaments in this dataset?"
   ]
  },
  {
   "cell_type": "code",
   "execution_count": 110,
   "metadata": {},
   "outputs": [
    {
     "data": {
      "text/plain": [
       "array(['R32', 'R16', 'Q', 'S', 'F', 'R64', 'RR', 'R128', 'OB'],\n",
       "      dtype=object)"
      ]
     },
     "execution_count": 110,
     "metadata": {},
     "output_type": "execute_result"
    }
   ],
   "source": [
    "df['tournament round'].unique()"
   ]
  },
  {
   "cell_type": "code",
   "execution_count": 111,
   "metadata": {},
   "outputs": [
    {
     "name": "stdout",
     "output_type": "stream",
     "text": [
      "Federer would have made a total of 44934964.00$ in tournament gains\n"
     ]
    }
   ],
   "source": [
    "tournament_cash = float(df[(df['win']==True) & (df['tournament round']=='F')]['tournament prize money'].sum())\n",
    "### Wrap each condition in tuple-form ### + ### Use the | or & operator ###\n",
    "print(f'Federer would have made a total of {tournament_cash}0$ in tournament gains')"
   ]
  }
 ],
 "metadata": {
  "kernelspec": {
   "display_name": "Python 3",
   "language": "python",
   "name": "python3"
  },
  "language_info": {
   "codemirror_mode": {
    "name": "ipython",
    "version": 3
   },
   "file_extension": ".py",
   "mimetype": "text/x-python",
   "name": "python",
   "nbconvert_exporter": "python",
   "pygments_lexer": "ipython3",
   "version": "3.8.3"
  }
 },
 "nbformat": 4,
 "nbformat_minor": 4
}
