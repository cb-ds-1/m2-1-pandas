{
 "cells": [
  {
   "cell_type": "code",
   "execution_count": 1,
   "metadata": {},
   "outputs": [
    {
     "data": {
      "text/html": [
       "<div>\n",
       "<style scoped>\n",
       "    .dataframe tbody tr th:only-of-type {\n",
       "        vertical-align: middle;\n",
       "    }\n",
       "\n",
       "    .dataframe tbody tr th {\n",
       "        vertical-align: top;\n",
       "    }\n",
       "\n",
       "    .dataframe thead th {\n",
       "        text-align: right;\n",
       "    }\n",
       "</style>\n",
       "<table border=\"1\" class=\"dataframe\">\n",
       "  <thead>\n",
       "    <tr style=\"text-align: right;\">\n",
       "      <th></th>\n",
       "      <th>country</th>\n",
       "      <th>seasonality</th>\n",
       "      <th>sex</th>\n",
       "      <th>age_group</th>\n",
       "      <th>month</th>\n",
       "      <th>unemployment</th>\n",
       "      <th>unemployment_rate</th>\n",
       "    </tr>\n",
       "  </thead>\n",
       "  <tbody>\n",
       "    <tr>\n",
       "      <th>0</th>\n",
       "      <td>at</td>\n",
       "      <td>nsa</td>\n",
       "      <td>f</td>\n",
       "      <td>y25-74</td>\n",
       "      <td>1993.01</td>\n",
       "      <td>61000</td>\n",
       "      <td>4.5</td>\n",
       "    </tr>\n",
       "    <tr>\n",
       "      <th>1</th>\n",
       "      <td>at</td>\n",
       "      <td>nsa</td>\n",
       "      <td>f</td>\n",
       "      <td>y25-74</td>\n",
       "      <td>1993.02</td>\n",
       "      <td>62000</td>\n",
       "      <td>4.5</td>\n",
       "    </tr>\n",
       "    <tr>\n",
       "      <th>2</th>\n",
       "      <td>at</td>\n",
       "      <td>nsa</td>\n",
       "      <td>f</td>\n",
       "      <td>y25-74</td>\n",
       "      <td>1993.03</td>\n",
       "      <td>62000</td>\n",
       "      <td>4.5</td>\n",
       "    </tr>\n",
       "    <tr>\n",
       "      <th>3</th>\n",
       "      <td>at</td>\n",
       "      <td>nsa</td>\n",
       "      <td>f</td>\n",
       "      <td>y25-74</td>\n",
       "      <td>1993.04</td>\n",
       "      <td>63000</td>\n",
       "      <td>4.6</td>\n",
       "    </tr>\n",
       "    <tr>\n",
       "      <th>4</th>\n",
       "      <td>at</td>\n",
       "      <td>nsa</td>\n",
       "      <td>f</td>\n",
       "      <td>y25-74</td>\n",
       "      <td>1993.05</td>\n",
       "      <td>63000</td>\n",
       "      <td>4.6</td>\n",
       "    </tr>\n",
       "    <tr>\n",
       "      <th>...</th>\n",
       "      <td>...</td>\n",
       "      <td>...</td>\n",
       "      <td>...</td>\n",
       "      <td>...</td>\n",
       "      <td>...</td>\n",
       "      <td>...</td>\n",
       "      <td>...</td>\n",
       "    </tr>\n",
       "    <tr>\n",
       "      <th>83155</th>\n",
       "      <td>uk</td>\n",
       "      <td>trend</td>\n",
       "      <td>m</td>\n",
       "      <td>y_lt25</td>\n",
       "      <td>2010.06</td>\n",
       "      <td>518000</td>\n",
       "      <td>21.1</td>\n",
       "    </tr>\n",
       "    <tr>\n",
       "      <th>83156</th>\n",
       "      <td>uk</td>\n",
       "      <td>trend</td>\n",
       "      <td>m</td>\n",
       "      <td>y_lt25</td>\n",
       "      <td>2010.07</td>\n",
       "      <td>513000</td>\n",
       "      <td>20.8</td>\n",
       "    </tr>\n",
       "    <tr>\n",
       "      <th>83157</th>\n",
       "      <td>uk</td>\n",
       "      <td>trend</td>\n",
       "      <td>m</td>\n",
       "      <td>y_lt25</td>\n",
       "      <td>2010.08</td>\n",
       "      <td>509000</td>\n",
       "      <td>20.5</td>\n",
       "    </tr>\n",
       "    <tr>\n",
       "      <th>83158</th>\n",
       "      <td>uk</td>\n",
       "      <td>trend</td>\n",
       "      <td>m</td>\n",
       "      <td>y_lt25</td>\n",
       "      <td>2010.09</td>\n",
       "      <td>513000</td>\n",
       "      <td>20.7</td>\n",
       "    </tr>\n",
       "    <tr>\n",
       "      <th>83159</th>\n",
       "      <td>uk</td>\n",
       "      <td>trend</td>\n",
       "      <td>m</td>\n",
       "      <td>y_lt25</td>\n",
       "      <td>2010.10</td>\n",
       "      <td>520000</td>\n",
       "      <td>21.1</td>\n",
       "    </tr>\n",
       "  </tbody>\n",
       "</table>\n",
       "<p>83160 rows × 7 columns</p>\n",
       "</div>"
      ],
      "text/plain": [
       "      country seasonality sex age_group    month  unemployment  \\\n",
       "0          at         nsa   f    y25-74  1993.01         61000   \n",
       "1          at         nsa   f    y25-74  1993.02         62000   \n",
       "2          at         nsa   f    y25-74  1993.03         62000   \n",
       "3          at         nsa   f    y25-74  1993.04         63000   \n",
       "4          at         nsa   f    y25-74  1993.05         63000   \n",
       "...       ...         ...  ..       ...      ...           ...   \n",
       "83155      uk       trend   m    y_lt25  2010.06        518000   \n",
       "83156      uk       trend   m    y_lt25  2010.07        513000   \n",
       "83157      uk       trend   m    y_lt25  2010.08        509000   \n",
       "83158      uk       trend   m    y_lt25  2010.09        513000   \n",
       "83159      uk       trend   m    y_lt25  2010.10        520000   \n",
       "\n",
       "       unemployment_rate  \n",
       "0                    4.5  \n",
       "1                    4.5  \n",
       "2                    4.5  \n",
       "3                    4.6  \n",
       "4                    4.6  \n",
       "...                  ...  \n",
       "83155               21.1  \n",
       "83156               20.8  \n",
       "83157               20.5  \n",
       "83158               20.7  \n",
       "83159               21.1  \n",
       "\n",
       "[83160 rows x 7 columns]"
      ]
     },
     "execution_count": 1,
     "metadata": {},
     "output_type": "execute_result"
    }
   ],
   "source": [
    "import pandas as pd\n",
    "import numpy as np\n",
    "\n",
    "df = pd.read_csv('data/country_sex_age.csv')\n",
    "\n",
    "df"
   ]
  },
  {
   "cell_type": "code",
   "execution_count": 2,
   "metadata": {},
   "outputs": [
    {
     "data": {
      "text/plain": [
       "sex  age_group  seasonality\n",
       "f    y25-74     nsa             7.539839\n",
       "                sa              7.579982\n",
       "                trend           7.579934\n",
       "     y_lt25     nsa            18.818593\n",
       "                sa             18.323837\n",
       "                trend          18.231025\n",
       "m    y25-74     nsa             6.201653\n",
       "                sa              6.256909\n",
       "                trend           6.272703\n",
       "     y_lt25     nsa            17.215211\n",
       "                sa             17.067671\n",
       "                trend          17.013327\n",
       "Name: unemployment_rate, dtype: float64"
      ]
     },
     "execution_count": 2,
     "metadata": {},
     "output_type": "execute_result"
    }
   ],
   "source": [
    "df4 = df.groupby(['sex', 'age_group', 'seasonality'])\n",
    "df4.unemployment_rate.mean()"
   ]
  },
  {
   "cell_type": "code",
   "execution_count": 3,
   "metadata": {},
   "outputs": [
    {
     "data": {
      "text/plain": [
       "sex  seasonality\n",
       "f    nsa            13.179216\n",
       "     sa             12.908743\n",
       "     trend          12.862163\n",
       "m    nsa            11.708432\n",
       "     sa             11.662290\n",
       "     trend          11.643015\n",
       "Name: unemployment_rate, dtype: float64"
      ]
     },
     "execution_count": 3,
     "metadata": {},
     "output_type": "execute_result"
    }
   ],
   "source": [
    "df2 = df.groupby(['sex', 'seasonality'])\n",
    "df2.unemployment_rate.mean()"
   ]
  },
  {
   "cell_type": "code",
   "execution_count": 5,
   "metadata": {},
   "outputs": [
    {
     "data": {
      "text/plain": [
       "age_group  seasonality\n",
       "y25-74     nsa             6.870746\n",
       "           sa              6.918446\n",
       "           trend           6.926319\n",
       "y_lt25     nsa            18.016902\n",
       "           sa             17.690707\n",
       "           trend          17.617224\n",
       "Name: unemployment_rate, dtype: float64"
      ]
     },
     "execution_count": 5,
     "metadata": {},
     "output_type": "execute_result"
    }
   ],
   "source": [
    "df3 = df.groupby(['age_group', 'seasonality'])\n",
    "df3.unemployment_rate.mean()"
   ]
  },
  {
   "cell_type": "code",
   "execution_count": null,
   "metadata": {},
   "outputs": [],
   "source": []
  }
 ],
 "metadata": {
  "kernelspec": {
   "display_name": "Python 3",
   "language": "python",
   "name": "python3"
  },
  "language_info": {
   "codemirror_mode": {
    "name": "ipython",
    "version": 3
   },
   "file_extension": ".py",
   "mimetype": "text/x-python",
   "name": "python",
   "nbconvert_exporter": "python",
   "pygments_lexer": "ipython3",
   "version": "3.8.3"
  }
 },
 "nbformat": 4,
 "nbformat_minor": 4
}
